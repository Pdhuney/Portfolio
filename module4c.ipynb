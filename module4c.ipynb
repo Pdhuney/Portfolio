{
 "cells": [
  {
   "cell_type": "markdown",
   "metadata": {
    "deletable": false,
    "editable": false,
    "nbgrader": {
     "cell_type": "markdown",
     "checksum": "d0960bfec007be69e99ac177866e0089",
     "grade": false,
     "grade_id": "cell-e28bbfd5fd9194f1",
     "locked": true,
     "schema_version": 3,
     "solution": false,
     "task": false
    }
   },
   "source": [
    "# Deel 3: vectorisatie met spaCy (word2vec)\n",
    "\n",
    "SpaCy is een zeer uitgebreide library en kan een hoop complexe problemen voor je oplossen. Je kan spaCy bijvoorbeeld gebruiken om een mate van 'similarity' tussen documenten te bepalen. Je zou bijvoorbeeld kunnen kijken in welke mate de ondertiteling van twee verschillende films op elkaar lijken. \n",
    "\n",
    "Doorloop het tweede hoofdstuk van de spaCy-cursus (in ieder geval t/m 10: Comparing similairties): [Large scale data analysis with spaCy](https://course.spacy.io/chapter2)\n",
    "\n",
    "Laten we eens kijken hoe je de ingebouwde similarity zou kunnen gebruiken voor het maken van een recommender system. We gaan niet het hele systeem bouwen, maar we kijken alleen naar hoe je een similarity matrix kan maken gebaseerd op de ingebouwde similarity functie van spaCy.\n",
    "\n",
    "We beginnen met het laden van het benodigde model. We hebben de medium versie van de engelse taal nodig, omdat in de small versie (die je hierboven hebt gebruikt) geen woord-vectoren ingebouwd zitten."
   ]
  },
  {
   "cell_type": "code",
   "execution_count": null,
   "metadata": {
    "deletable": false,
    "editable": false,
    "nbgrader": {
     "cell_type": "code",
     "checksum": "4181b9b1b7a774fc9b3232ee4639d594",
     "grade": false,
     "grade_id": "cell-a1d6c4f781ee9259",
     "locked": true,
     "schema_version": 3,
     "solution": false,
     "task": false
    }
   },
   "outputs": [],
   "source": [
    "import spacy\n",
    "import pandas as pd\n",
    "import numpy as np\n",
    "import answers\n",
    "\n",
    "nlp = spacy.load('en_core_web_md')"
   ]
  },
  {
   "cell_type": "markdown",
   "metadata": {
    "deletable": false,
    "editable": false,
    "nbgrader": {
     "cell_type": "markdown",
     "checksum": "f437c91519fa6b68b378e0b3a7c6acb8",
     "grade": false,
     "grade_id": "cell-cef53f150c25b28a",
     "locked": true,
     "schema_version": 3,
     "solution": false,
     "task": false
    }
   },
   "source": [
    "### Het inspecteren van woord-vectoren\n",
    "Zoals we hebben gezien in de tutorial, bereken je op de volgende manier de similarity tussen twee korte zinnen."
   ]
  },
  {
   "cell_type": "code",
   "execution_count": null,
   "metadata": {
    "deletable": false,
    "editable": false,
    "nbgrader": {
     "cell_type": "code",
     "checksum": "da25cb85212f6d9e6cd9c710057d32cb",
     "grade": false,
     "grade_id": "cell-ac1267921e1e4008",
     "locked": true,
     "schema_version": 3,
     "solution": false,
     "task": false
    }
   },
   "outputs": [],
   "source": [
    "doc1 = nlp(\"It's a warm summer day\")\n",
    "doc2 = nlp(\"It's sunny outside\")\n",
    "\n",
    "# Get the similarity of doc1 and doc2\n",
    "similarity = doc1.similarity(doc2)\n",
    "print(similarity)"
   ]
  },
  {
   "cell_type": "markdown",
   "metadata": {
    "deletable": false,
    "editable": false,
    "nbgrader": {
     "cell_type": "markdown",
     "checksum": "00b3f66fc3973be23e27726db8c10bb7",
     "grade": false,
     "grade_id": "cell-c2054f4868522d24",
     "locked": true,
     "schema_version": 3,
     "solution": false,
     "task": false
    }
   },
   "source": [
    "Deze twee zinnen lijken natuurlijk inderdaad nogal veel op elkaar: ze gaan allebei over mooi weer. Hoe werkt de similarity als twee zinnen niet op elkaar lijken? Je kunt dit testen door een derde zin toe te voegen, bijvoorbeeld over slecht weer."
   ]
  },
  {
   "cell_type": "code",
   "execution_count": null,
   "metadata": {
    "deletable": false,
    "editable": false,
    "nbgrader": {
     "cell_type": "code",
     "checksum": "2b49cebc7adb72e8116986b66d0983f4",
     "grade": false,
     "grade_id": "cell-bbdd3e487a67a6d4",
     "locked": true,
     "schema_version": 3,
     "solution": false,
     "task": false
    }
   },
   "outputs": [],
   "source": [
    "doc3 = nlp(\"It's raining cats and dogs\")\n",
    "print(doc1.similarity(doc3))"
   ]
  },
  {
   "cell_type": "markdown",
   "metadata": {
    "deletable": false,
    "editable": false,
    "nbgrader": {
     "cell_type": "markdown",
     "checksum": "bb94db2ae212412374f57a11f2dc1be7",
     "grade": false,
     "grade_id": "cell-68ce8d9a857aa1aa",
     "locked": true,
     "schema_version": 3,
     "solution": false,
     "task": false
    }
   },
   "source": [
    "De manier waarop spaCy similary berekent is totaal anders dan de tf-idf manier die wie hiervoor gezien hebben. Een opvallend verschil is dat similarity ook rekening houdt met _semantiek_. Dat wil zeggen dat er niet simpelweg woorden worden geteld, maar dat de betekenis van een woord ook invloed heeft op het resultaat.\n",
    "\n",
    "### Vraag 1\n",
    "\n",
    "\\[1 pt.\\]\n",
    "\n",
    "Gebruik de spaCy similarity hieronder om de woorden \"dog\" en \"cat\" met elkaar te vergelijken. Doe hetzelfde met de woorden \"dog\" en \"car\". Sla de resultaten op in de variablen `dog_cat_similarity` en `dog_car_similarity`."
   ]
  },
  {
   "cell_type": "code",
   "execution_count": null,
   "metadata": {
    "deletable": false,
    "nbgrader": {
     "cell_type": "code",
     "checksum": "ca802beee61de4a22f7ce23ac3ad992c",
     "grade": false,
     "grade_id": "cell-da1833f818318b97",
     "locked": false,
     "schema_version": 3,
     "solution": true,
     "task": false
    }
   },
   "outputs": [],
   "source": [
    "dog_cat_similarity = 0\n",
    "dog_car_similarity = 0\n",
    "\n",
    "# TODO\n",
    "\n",
    "\n",
    "print(dog_cat_similarity)\n",
    "print(dog_car_similarity)"
   ]
  },
  {
   "cell_type": "markdown",
   "metadata": {
    "deletable": false,
    "editable": false,
    "nbgrader": {
     "cell_type": "markdown",
     "checksum": "2d74babd2f4ba1efd45fdf88ae1eb483",
     "grade": false,
     "grade_id": "cell-23c183a3c7c0f09a",
     "locked": true,
     "schema_version": 3,
     "solution": false,
     "task": false
    }
   },
   "source": [
    "Test je uitwerking:"
   ]
  },
  {
   "cell_type": "code",
   "execution_count": null,
   "metadata": {
    "deletable": false,
    "editable": false,
    "nbgrader": {
     "cell_type": "code",
     "checksum": "9434fd1615951c654f1de0e6828bbf7d",
     "grade": true,
     "grade_id": "cell-b64bcd53ef6d6f95",
     "locked": true,
     "points": 1,
     "schema_version": 3,
     "solution": false,
     "task": false
    }
   },
   "outputs": [],
   "source": [
    "answers.test_15(dog_cat_similarity, dog_car_similarity)"
   ]
  },
  {
   "cell_type": "markdown",
   "metadata": {
    "deletable": false,
    "editable": false,
    "nbgrader": {
     "cell_type": "markdown",
     "checksum": "60c1e744cf419f0a585c3b71889e4d0b",
     "grade": false,
     "grade_id": "cell-5b02c40370ca0837",
     "locked": true,
     "schema_version": 3,
     "solution": false,
     "task": false
    }
   },
   "source": [
    "Als het goed is zie je dat \"dog\" en \"cat\" veel meer op elkaar lijken dan \"dog\" en \"car\". SpaCy heeft de informatie dat de concepten \"cat\" en \"dog\" met elkaar te maken hebben. "
   ]
  },
  {
   "cell_type": "markdown",
   "metadata": {
    "deletable": false,
    "editable": false,
    "nbgrader": {
     "cell_type": "markdown",
     "checksum": "93afd7c133b0aef7a5f53e0beb14a029",
     "grade": false,
     "grade_id": "cell-4654cc69bec3bea9",
     "locked": true,
     "schema_version": 3,
     "solution": false,
     "task": false
    }
   },
   "source": [
    "### Headlines\n",
    "Om nog wat meer met de similarity te spelen, laden we hieronder een kleine dictionary. In deze dictionary zitten vijf \"headlines\" van krantenkoppen en van wetenschappelijke artikelen.\n",
    "\n",
    "De wetenschappelijke artikelen zijn er twee: eentje over recommender systems, en eentje over machine learning. Dan hebben we drie krantenkoppen: eentje over de brexit, en twee over de presidentsverkiezingen in Amerika."
   ]
  },
  {
   "cell_type": "code",
   "execution_count": null,
   "metadata": {
    "deletable": false,
    "editable": false,
    "nbgrader": {
     "cell_type": "code",
     "checksum": "ecd6c2074272c82f8d0ef8120251dd25",
     "grade": false,
     "grade_id": "cell-117a6d80a6e5fd2d",
     "locked": true,
     "schema_version": 3,
     "solution": false,
     "task": false
    }
   },
   "outputs": [],
   "source": [
    "headlines = pd.read_pickle('./data/headlines.pkl')\n",
    "display(headlines)"
   ]
  },
  {
   "cell_type": "markdown",
   "metadata": {
    "deletable": false,
    "editable": false,
    "nbgrader": {
     "cell_type": "markdown",
     "checksum": "eb211d54671139e6be95b1766c17bbd1",
     "grade": false,
     "grade_id": "cell-fabe8a1b5a4d8081",
     "locked": true,
     "schema_version": 3,
     "solution": false,
     "task": false
    }
   },
   "source": [
    "### Vraag 2\n",
    "\n",
    "\\[1 pt.\\]\n",
    "\n",
    "Maak hieronder een similarity matrix (in een pandas dataframe) van alle similarities tussen deze headlines."
   ]
  },
  {
   "cell_type": "code",
   "execution_count": null,
   "metadata": {
    "deletable": false,
    "nbgrader": {
     "cell_type": "code",
     "checksum": "3ea1105e55c0cf255520dc92d9e5999f",
     "grade": false,
     "grade_id": "cell-9ab7436ab456adaa",
     "locked": false,
     "schema_version": 3,
     "solution": true,
     "task": false
    }
   },
   "outputs": [],
   "source": [
    "df_nlp_similarity = pd.DataFrame(index=headlines.index, columns=headlines.index)\n",
    "\n",
    "# TODO\n",
    "\n",
    "\n",
    "display(df_nlp_similarity)"
   ]
  },
  {
   "cell_type": "code",
   "execution_count": null,
   "metadata": {
    "deletable": false,
    "editable": false,
    "nbgrader": {
     "cell_type": "code",
     "checksum": "f61853cb541ebb2c7cb5c8b05c941ddc",
     "grade": true,
     "grade_id": "test_16",
     "locked": true,
     "points": 1,
     "schema_version": 3,
     "solution": false,
     "task": false
    }
   },
   "outputs": [],
   "source": [
    "answers.test_16(df_nlp_similarity)"
   ]
  },
  {
   "cell_type": "markdown",
   "metadata": {
    "deletable": false,
    "editable": false,
    "nbgrader": {
     "cell_type": "markdown",
     "checksum": "5159f23f426c45bed328c4aa46b338f0",
     "grade": false,
     "grade_id": "cell-ed0c6db8f4a0cb54",
     "locked": true,
     "schema_version": 3,
     "solution": false,
     "task": false
    }
   },
   "source": [
    "### Vraag 3\n",
    "\n",
    "\\[2 pt.\\]\n",
    "\n",
    "Lijken de zinnen op elkaar waarvan je verwacht had dat ze op elkaar leken? Hoezo wel/niet?"
   ]
  },
  {
   "cell_type": "markdown",
   "metadata": {
    "deletable": false,
    "nbgrader": {
     "cell_type": "markdown",
     "checksum": "8e0025d08224e7af5836bb5bd8737732",
     "grade": true,
     "grade_id": "cell-ebe1baf6ac2c11ce",
     "locked": false,
     "points": 2,
     "schema_version": 3,
     "solution": true,
     "task": false
    }
   },
   "source": [
    "YOUR ANSWER HERE"
   ]
  },
  {
   "cell_type": "markdown",
   "metadata": {
    "deletable": false,
    "editable": false,
    "nbgrader": {
     "cell_type": "markdown",
     "checksum": "3308102feadf8ec235db84f2c4a1f12c",
     "grade": false,
     "grade_id": "cell-cc93ecb4802e3a5a",
     "locked": true,
     "schema_version": 3,
     "solution": false,
     "task": false
    }
   },
   "source": [
    "### Langere teksten\n",
    "We gebruikten tf-idf om ondertitelingen met elkaar te verglijken. In principe zou je dit ook met de spaCy similarity kunnen doen. Alleen de similarity van spaCy is bedoeld voor zinnen en niet voor hele documenten. In de praktijk blijkt het niet goed te werken voor hele ondertitelingsbestanden. Dit neemt natuurlijk niet weg dat je kunt kijken naar (korte) delen van de ondertiteling.\n",
    "\n",
    "### Hoge similarities\n",
    "Soms kan het voorkomen dat de similarities erg hoog uit komen. Dit komt doordat de manier waarop spaCy de similarity berekent geen rekening houd met stopwoorden. Normaal gesproken is het verwijderen van stopwoorden een van de eerste stappen zodat je betere input hebt voor elk mogelijk model. "
   ]
  },
  {
   "cell_type": "markdown",
   "metadata": {
    "deletable": false,
    "editable": false,
    "nbgrader": {
     "cell_type": "markdown",
     "checksum": "6c0a2279ef70cbb066f207d3dbfcbe4e",
     "grade": false,
     "grade_id": "cell-301568b5e920efbf",
     "locked": true,
     "schema_version": 3,
     "solution": false,
     "task": false
    }
   },
   "source": [
    "### Word embeddings met *word2vec*\n",
    "\n",
    "Voor het berekenen van similarities maakt spaCy gebruik van *word2vec*. Dit is een algoritme voor het vectoriseren van woorden. Met tf-idf kon je alleen hele teksten vectoriseren. Met word2vec kan je vecotriseer je individuele woorden. Je kan vervolgens ook hele teksten vecotriseren door de vectoren van alle woorden in een tekst te combineren.\n",
    "\n",
    "Have a look at the follwoing video explaining the basics of word2vec:\n",
    "\n",
    "[What is word2vec?](https://youtu.be/LSS_bos_TPI?t=134)\n",
    "\n",
    "Of met iets meer lineare algebra (optioneel):\n",
    "\n",
    "[Understanding word2vec model](https://www.youtube.com/watch?v=J0ZRCPPL4vQ)\n",
    "\n",
    "Je kan de vector van een woord in spaCy opvragen met de `.vector` methode. Deze code geeft de vector voor het woord \"cat\". Elke word2vec vector is een reeks van 300 getallen. "
   ]
  },
  {
   "cell_type": "code",
   "execution_count": null,
   "metadata": {
    "deletable": false,
    "editable": false,
    "nbgrader": {
     "cell_type": "code",
     "checksum": "93c6cbe0743cef023f743826f7342abc",
     "grade": false,
     "grade_id": "cell-7d2f50497ca813ae",
     "locked": true,
     "schema_version": 3,
     "solution": false,
     "task": false
    }
   },
   "outputs": [],
   "source": [
    "cat = nlp(\"cat\")\n",
    "print(cat.vector)"
   ]
  },
  {
   "cell_type": "markdown",
   "metadata": {
    "deletable": false,
    "editable": false,
    "nbgrader": {
     "cell_type": "markdown",
     "checksum": "b6d0a110f808b85fdea84f2203a6ecae",
     "grade": false,
     "grade_id": "cell-fddd77c0391f0347",
     "locked": true,
     "schema_version": 3,
     "solution": false,
     "task": false
    }
   },
   "source": [
    "### Vectoren voor teksten\n",
    "\n",
    "Een manier om een langere tekst te vectoriseren is het gemiddelde van de vectoren van elk woord te nemen. Je hebt nog niet leren rekenen met vectoren. Dit is iets dat je leert bij lineaire algebra. Voor nu is het genoeg om te weten dat je het gemiddelde van twee vectoren op dezelfde manier kan berkenen als het gemiddelde van twee getallen. Bijvorbeeld:"
   ]
  },
  {
   "cell_type": "code",
   "execution_count": null,
   "metadata": {
    "deletable": false,
    "editable": false,
    "nbgrader": {
     "cell_type": "code",
     "checksum": "ccdd72e066236f60edd192732065b005",
     "grade": false,
     "grade_id": "cell-ed2d285b99c25d11",
     "locked": true,
     "schema_version": 3,
     "solution": false,
     "task": false
    }
   },
   "outputs": [],
   "source": [
    "cat = nlp(\"cat\")\n",
    "dog = nlp(\"dog\")\n",
    "\n",
    "average_vector = (cat.vector + dog.vector) / 2\n",
    "print(average_vector)"
   ]
  },
  {
   "cell_type": "markdown",
   "metadata": {
    "deletable": false,
    "editable": false,
    "nbgrader": {
     "cell_type": "markdown",
     "checksum": "71a5b6834aa126c54839c31f90c53b2c",
     "grade": false,
     "grade_id": "cell-38efc227ba9cdb43",
     "locked": true,
     "schema_version": 3,
     "solution": false,
     "task": false
    }
   },
   "source": [
    "### Vraag 5\n",
    "\n",
    "\\[2 pt.\\]\n",
    "\n",
    "Maak hieronder de functie `compute_vector` af. Deze functie berkent het gemiddelde van alle vectoren uit een tekst. Zorg ervoor dat stop words niet mee worden geteld.\n",
    "\n",
    "Gebruik deze vectoren voor het maken van een similarity matrix, vergelijkbaar met de matrix uit vraag 2 (alleen de waardes zullen iets verschillen)."
   ]
  },
  {
   "cell_type": "code",
   "execution_count": null,
   "metadata": {
    "deletable": false,
    "nbgrader": {
     "cell_type": "code",
     "checksum": "9b3cef86d191894f92819c3cab5e706f",
     "grade": false,
     "grade_id": "cell-5fba52a2b93f5ffb",
     "locked": false,
     "schema_version": 3,
     "solution": true,
     "task": false
    }
   },
   "outputs": [],
   "source": [
    "from spacy.lang.en import STOP_WORDS\n",
    "\n",
    "def compute_vector(doc, stopwords):\n",
    "    vector = np.zeros(300)\n",
    "    len_v = 0\n",
    "    for token in doc:\n",
    "        # add the vector of each word to `vector`\n",
    "        # TODO\n",
    "        \n",
    "    \n",
    "    # return average\n",
    "    average = np.divide(vector, len_v)\n",
    "    return average\n",
    "    \n",
    "\n",
    "# TODO\n",
    "\n",
    "\n",
    "display(similarity)"
   ]
  },
  {
   "cell_type": "code",
   "execution_count": null,
   "metadata": {
    "deletable": false,
    "editable": false,
    "nbgrader": {
     "cell_type": "code",
     "checksum": "7cdf1eb18a8020fb86a1775376dd8e95",
     "grade": true,
     "grade_id": "test_18",
     "locked": true,
     "points": 2,
     "schema_version": 3,
     "solution": false,
     "task": false
    }
   },
   "outputs": [],
   "source": [
    "answers.test_18(compute_vector, nlp_headlines, similarity, STOP_WORDS)"
   ]
  },
  {
   "cell_type": "markdown",
   "metadata": {
    "deletable": false,
    "editable": false,
    "nbgrader": {
     "cell_type": "markdown",
     "checksum": "3f980c32fe4c1d2fb4651ad4268b6a14",
     "grade": false,
     "grade_id": "cell-18ea0f02e6ba5755",
     "locked": true,
     "schema_version": 3,
     "solution": false,
     "task": false
    }
   },
   "source": [
    "Klaar! Je hebt een aantal verschillende technieken voor content based filtering gezien. Je hebt gezien hoe je categorische informatie zoals filmgenres kan gebruiken en je hebt twee verschillende technieken voor de vectorisatie van teksten gezien. Dit is slechts een greep uit de vele technieken die je kan gebruiken. Voor veel veelgebruikte technieken heb je een basis in machine learning nodig. Daar gaan we in deze cursus niet heel diep induiken. Maar in de volgende submodule ga je wel kijken hoe je een specifieke techniek uit de machine learning (decision trees) kan inzetten om nieuwe features te genereren."
   ]
  }
 ],
 "metadata": {
  "hide_input": false,
  "kernelspec": {
   "display_name": "Python 3 (ipykernel)",
   "language": "python",
   "name": "python3"
  },
  "language_info": {
   "codemirror_mode": {
    "name": "ipython",
    "version": 3
   },
   "file_extension": ".py",
   "mimetype": "text/x-python",
   "name": "python",
   "nbconvert_exporter": "python",
   "pygments_lexer": "ipython3",
   "version": "3.9.12"
  }
 },
 "nbformat": 4,
 "nbformat_minor": 2
}
