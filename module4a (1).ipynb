{
 "cells": [
  {
   "cell_type": "markdown",
   "metadata": {
    "deletable": false,
    "editable": false,
    "nbgrader": {
     "cell_type": "markdown",
     "checksum": "567950104b0587ea64141d5d30b58352",
     "grade": false,
     "grade_id": "cell-44bf4b24729921d1",
     "locked": true,
     "schema_version": 3,
     "solution": false
    }
   },
   "source": [
    "# Module 4: Content-based filtering\n",
    "\n",
    "In de vorige module hebben we gekeken naar _collaborative filtering_. Een van de belangrijkste problemen die we daarmee zijn tegengekomen is de _long tail_. Er is vaak niet genoeg interactie-data om items of users goed met elkaar te kunnen vergelijken. In de praktijk wordt er daarom vaak gebruik gemaakt van _content-based filtering_.\n",
    "\n",
    "Content-based filtering refereert niet aan één type algoritme. Er zijn enorm veel verschillende aanpakken mogelijk. Het is onmogelijk om in het tijdsbestek van dit vak een volledig overzicht te geven. We zoomen in deze module daarom in deze module op een paar veelgebruikte technieken. \n",
    "\n",
    "Deze module staat uit ~~4~~~3 losse submodules:\n",
    "\n",
    "* Module 4a: In het eerste deel ga je leren hoe goed we aanbevelingen kunnen doen aan de hand van filmgenres. Het genre geeft zeer oppervlakkige informatie over de inhoud van de film, maar misschien is het een zinvolle manier van films vergelijken. En, het geeft ons in ieder geval een goede baseline voor complexere aanpakken.\n",
    "\n",
    "* Module 4b: In dit deel ga je leren hoe je _natural language processing (NLP)_ kan gebruiken voor content-based filtering. Je gaat leren wat *tf-idf vectorization* is en hoe je dat kan gebruiken voor vergelijken van films aan de hand van de ondertiteling. De ondertiteling geeft zeer gedetaileerde informatie over de inhoud van een film.\n",
    "\n",
    "* Module 4c: Hier ga je verder met NLP aan de hand van SpaCy. SpaCy is een moderne Python library voor het analyseren van tekst.\n",
    "\n",
    "* ~~Module 4d: Je gaat leren wat Decision Trees zijn, en hoe je die kan gebruiken om nieuwe features te generen voor films.~~~\n",
    "\n",
    "\n",
    "# Module 4a: Content-based filtering using genre\n",
    "\n",
    "**Categorical features and Jaccard index**\n",
    "\n",
    "Het is altijd verstandig om zo eenvoudig mogelijk te beginnen. Het is heel makkelijk om een verschrikkelijk complex systeem te maken waarin we gaan kijken hoe in welke mate films op elkaar lijken aan de hand van alle informatie die op IMDB staat. Maar misschien werkt iets veel eenvoudigers wel veel beter.\n",
    "\n",
    "De data die we hebben bevat informatie over de genres. En het is redelijk eenvoudig om films te vergelijken aan de hand van de genres. Dus dit is een goede plek om te beginnen.\n"
   ]
  },
  {
   "cell_type": "markdown",
   "metadata": {
    "deletable": false,
    "editable": false,
    "nbgrader": {
     "cell_type": "markdown",
     "checksum": "4e78644ee3e8f802cc9af66a197b9113",
     "grade": false,
     "grade_id": "cell-48368737928ef2a0",
     "locked": true,
     "schema_version": 3,
     "solution": false
    }
   },
   "source": [
    "Begin met het laden van de libraries en collaborative filtering functies van de vorige modules."
   ]
  },
  {
   "cell_type": "code",
   "execution_count": 1,
   "metadata": {
    "deletable": false,
    "editable": false,
    "nbgrader": {
     "cell_type": "code",
     "checksum": "3660889f43839ced4fd171166a288e74",
     "grade": false,
     "grade_id": "cell-e2ad4e8bcf22b196",
     "locked": true,
     "schema_version": 3,
     "solution": false
    }
   },
   "outputs": [],
   "source": [
    "import pandas as pd\n",
    "import numpy as np\n",
    "import matplotlib.pyplot as plt\n",
    "\n",
    "# course specific packages\n",
    "import answers\n",
    "\n",
    "# import from previous module\n",
    "from helpers import number_of_movies, number_of_users, number_of_ratings, rating_density, split_data\n",
    "from cf1 import pivot_ratings, fill_nan_mean, create_similarity_matrix_cosine,\\\n",
    "                mean_center_columns, select_neighborhood, weighted_mean, mean_center_rows\n",
    "from cf2 import predict_ratings\n"
   ]
  },
  {
   "cell_type": "markdown",
   "metadata": {
    "deletable": false,
    "editable": false,
    "nbgrader": {
     "cell_type": "markdown",
     "checksum": "e16ca478cde76be3162684579be32714",
     "grade": false,
     "grade_id": "cell-8b47ec4a882b4407",
     "locked": true,
     "schema_version": 3,
     "solution": false
    }
   },
   "source": [
    "Nu kunnen we de data inladen. We gebruiken de dataset van module 1, deze is met ruim 100.000 ratings veel uitgebreider dan de dataset van de vorige opdracht."
   ]
  },
  {
   "cell_type": "code",
   "execution_count": 2,
   "metadata": {
    "deletable": false,
    "editable": false,
    "nbgrader": {
     "cell_type": "code",
     "checksum": "6d104be5afde85d1ad06ed931439a2ed",
     "grade": false,
     "grade_id": "cell-bb5c01d38d7a71ba",
     "locked": true,
     "schema_version": 3,
     "solution": false
    }
   },
   "outputs": [
    {
     "name": "stdout",
     "output_type": "stream",
     "text": [
      "ratings header    : ['userId', 'movieId', 'rating', 'timestamp']\n",
      "number of movies  : 9387\n",
      "number of users   : 610\n",
      "number of ratings : 90730\n",
      "density of ratings: 0.01584507349718044\n"
     ]
    }
   ],
   "source": [
    "datapath = \"./data/ml-latest-small\"\n",
    "\n",
    "df_ratings = pd.read_csv(f\"{datapath}/ratings.csv\")\n",
    "df_ratings_training, df_ratings_test = split_data(df_ratings, d=0.9)\n",
    "actual = df_ratings_test[['userId', 'movieId', 'rating']]\n",
    "\n",
    "print(f\"ratings header    : {list(df_ratings_training.columns)}\")\n",
    "print(f\"number of movies  : {number_of_movies(df_ratings_training)}\")\n",
    "print(f\"number of users   : {number_of_users(df_ratings_training)}\")\n",
    "print(f\"number of ratings : {number_of_ratings(df_ratings_training)}\")\n",
    "print(f\"density of ratings: {rating_density(df_ratings_training)}\")"
   ]
  },
  {
   "cell_type": "markdown",
   "metadata": {
    "deletable": false,
    "editable": false,
    "nbgrader": {
     "cell_type": "markdown",
     "checksum": "9eccf3ea58cab2294d3ce377bb63091c",
     "grade": false,
     "grade_id": "cell-7828c23ecde2b062",
     "locked": true,
     "schema_version": 3,
     "solution": false
    }
   },
   "source": [
    "## Baseline\n",
    "\n",
    "We beginnen eerst met het vaststellen van een baseline. Hoe goed werkt de beste aanpak uit de vorige opdracht (item based collaborative filtering) met deze dataset? De density van de data is erg laag, dus we verwachten geen geweldige prestaties. Desondanks moeten we dit proberen omdat we anders niet kunnen vaststellen hoe verdere aanpakken zich verhouden tot wat we eerder hebben gedaan. \n",
    "\n",
    "Eerst laden we de functies voor het berekenen van de utility en similarity matrix."
   ]
  },
  {
   "cell_type": "markdown",
   "metadata": {
    "deletable": false,
    "editable": false,
    "nbgrader": {
     "cell_type": "markdown",
     "checksum": "2a17b90f443542df2c93f66a04cf0ad4",
     "grade": false,
     "grade_id": "cell-89c0fcab5ad45593",
     "locked": true,
     "schema_version": 3,
     "solution": false
    }
   },
   "source": [
    "Bereken de utility en similarity matrix."
   ]
  },
  {
   "cell_type": "code",
   "execution_count": 3,
   "metadata": {
    "deletable": false,
    "editable": false,
    "nbgrader": {
     "cell_type": "code",
     "checksum": "a5938d65dd9212fcc1098b101dc6e8ea",
     "grade": false,
     "grade_id": "cell-fd90baefc86dfceb",
     "locked": true,
     "schema_version": 3,
     "solution": false,
     "task": false
    }
   },
   "outputs": [
    {
     "data": {
      "text/html": [
       "<div>\n",
       "<style scoped>\n",
       "    .dataframe tbody tr th:only-of-type {\n",
       "        vertical-align: middle;\n",
       "    }\n",
       "\n",
       "    .dataframe tbody tr th {\n",
       "        vertical-align: top;\n",
       "    }\n",
       "\n",
       "    .dataframe thead th {\n",
       "        text-align: right;\n",
       "    }\n",
       "</style>\n",
       "<table border=\"1\" class=\"dataframe\">\n",
       "  <thead>\n",
       "    <tr style=\"text-align: right;\">\n",
       "      <th>userId</th>\n",
       "      <th>1</th>\n",
       "      <th>2</th>\n",
       "      <th>3</th>\n",
       "      <th>4</th>\n",
       "      <th>5</th>\n",
       "      <th>6</th>\n",
       "      <th>7</th>\n",
       "      <th>8</th>\n",
       "      <th>9</th>\n",
       "      <th>10</th>\n",
       "      <th>...</th>\n",
       "      <th>601</th>\n",
       "      <th>602</th>\n",
       "      <th>603</th>\n",
       "      <th>604</th>\n",
       "      <th>605</th>\n",
       "      <th>606</th>\n",
       "      <th>607</th>\n",
       "      <th>608</th>\n",
       "      <th>609</th>\n",
       "      <th>610</th>\n",
       "    </tr>\n",
       "    <tr>\n",
       "      <th>movieId</th>\n",
       "      <th></th>\n",
       "      <th></th>\n",
       "      <th></th>\n",
       "      <th></th>\n",
       "      <th></th>\n",
       "      <th></th>\n",
       "      <th></th>\n",
       "      <th></th>\n",
       "      <th></th>\n",
       "      <th></th>\n",
       "      <th></th>\n",
       "      <th></th>\n",
       "      <th></th>\n",
       "      <th></th>\n",
       "      <th></th>\n",
       "      <th></th>\n",
       "      <th></th>\n",
       "      <th></th>\n",
       "      <th></th>\n",
       "      <th></th>\n",
       "      <th></th>\n",
       "    </tr>\n",
       "  </thead>\n",
       "  <tbody>\n",
       "    <tr>\n",
       "      <th>1</th>\n",
       "      <td>4.0</td>\n",
       "      <td>NaN</td>\n",
       "      <td>NaN</td>\n",
       "      <td>NaN</td>\n",
       "      <td>4.0</td>\n",
       "      <td>NaN</td>\n",
       "      <td>4.5</td>\n",
       "      <td>NaN</td>\n",
       "      <td>NaN</td>\n",
       "      <td>NaN</td>\n",
       "      <td>...</td>\n",
       "      <td>4.0</td>\n",
       "      <td>NaN</td>\n",
       "      <td>4.0</td>\n",
       "      <td>3.0</td>\n",
       "      <td>4.0</td>\n",
       "      <td>2.5</td>\n",
       "      <td>4.0</td>\n",
       "      <td>2.5</td>\n",
       "      <td>NaN</td>\n",
       "      <td>5.0</td>\n",
       "    </tr>\n",
       "    <tr>\n",
       "      <th>2</th>\n",
       "      <td>NaN</td>\n",
       "      <td>NaN</td>\n",
       "      <td>NaN</td>\n",
       "      <td>NaN</td>\n",
       "      <td>NaN</td>\n",
       "      <td>4.0</td>\n",
       "      <td>NaN</td>\n",
       "      <td>4.0</td>\n",
       "      <td>NaN</td>\n",
       "      <td>NaN</td>\n",
       "      <td>...</td>\n",
       "      <td>NaN</td>\n",
       "      <td>4.0</td>\n",
       "      <td>NaN</td>\n",
       "      <td>5.0</td>\n",
       "      <td>3.5</td>\n",
       "      <td>NaN</td>\n",
       "      <td>NaN</td>\n",
       "      <td>2.0</td>\n",
       "      <td>NaN</td>\n",
       "      <td>NaN</td>\n",
       "    </tr>\n",
       "    <tr>\n",
       "      <th>3</th>\n",
       "      <td>4.0</td>\n",
       "      <td>NaN</td>\n",
       "      <td>NaN</td>\n",
       "      <td>NaN</td>\n",
       "      <td>NaN</td>\n",
       "      <td>5.0</td>\n",
       "      <td>NaN</td>\n",
       "      <td>NaN</td>\n",
       "      <td>NaN</td>\n",
       "      <td>NaN</td>\n",
       "      <td>...</td>\n",
       "      <td>NaN</td>\n",
       "      <td>NaN</td>\n",
       "      <td>NaN</td>\n",
       "      <td>NaN</td>\n",
       "      <td>NaN</td>\n",
       "      <td>NaN</td>\n",
       "      <td>NaN</td>\n",
       "      <td>2.0</td>\n",
       "      <td>NaN</td>\n",
       "      <td>NaN</td>\n",
       "    </tr>\n",
       "    <tr>\n",
       "      <th>4</th>\n",
       "      <td>NaN</td>\n",
       "      <td>NaN</td>\n",
       "      <td>NaN</td>\n",
       "      <td>NaN</td>\n",
       "      <td>NaN</td>\n",
       "      <td>3.0</td>\n",
       "      <td>NaN</td>\n",
       "      <td>NaN</td>\n",
       "      <td>NaN</td>\n",
       "      <td>NaN</td>\n",
       "      <td>...</td>\n",
       "      <td>NaN</td>\n",
       "      <td>NaN</td>\n",
       "      <td>NaN</td>\n",
       "      <td>NaN</td>\n",
       "      <td>NaN</td>\n",
       "      <td>NaN</td>\n",
       "      <td>NaN</td>\n",
       "      <td>NaN</td>\n",
       "      <td>NaN</td>\n",
       "      <td>NaN</td>\n",
       "    </tr>\n",
       "    <tr>\n",
       "      <th>5</th>\n",
       "      <td>NaN</td>\n",
       "      <td>NaN</td>\n",
       "      <td>NaN</td>\n",
       "      <td>NaN</td>\n",
       "      <td>NaN</td>\n",
       "      <td>5.0</td>\n",
       "      <td>NaN</td>\n",
       "      <td>NaN</td>\n",
       "      <td>NaN</td>\n",
       "      <td>NaN</td>\n",
       "      <td>...</td>\n",
       "      <td>NaN</td>\n",
       "      <td>NaN</td>\n",
       "      <td>NaN</td>\n",
       "      <td>NaN</td>\n",
       "      <td>NaN</td>\n",
       "      <td>NaN</td>\n",
       "      <td>NaN</td>\n",
       "      <td>NaN</td>\n",
       "      <td>NaN</td>\n",
       "      <td>NaN</td>\n",
       "    </tr>\n",
       "  </tbody>\n",
       "</table>\n",
       "<p>5 rows × 610 columns</p>\n",
       "</div>"
      ],
      "text/plain": [
       "userId   1    2    3    4    5    6    7    8    9    10   ...  601  602  603  \\\n",
       "movieId                                                    ...                  \n",
       "1        4.0  NaN  NaN  NaN  4.0  NaN  4.5  NaN  NaN  NaN  ...  4.0  NaN  4.0   \n",
       "2        NaN  NaN  NaN  NaN  NaN  4.0  NaN  4.0  NaN  NaN  ...  NaN  4.0  NaN   \n",
       "3        4.0  NaN  NaN  NaN  NaN  5.0  NaN  NaN  NaN  NaN  ...  NaN  NaN  NaN   \n",
       "4        NaN  NaN  NaN  NaN  NaN  3.0  NaN  NaN  NaN  NaN  ...  NaN  NaN  NaN   \n",
       "5        NaN  NaN  NaN  NaN  NaN  5.0  NaN  NaN  NaN  NaN  ...  NaN  NaN  NaN   \n",
       "\n",
       "userId   604  605  606  607  608  609  610  \n",
       "movieId                                     \n",
       "1        3.0  4.0  2.5  4.0  2.5  NaN  5.0  \n",
       "2        5.0  3.5  NaN  NaN  2.0  NaN  NaN  \n",
       "3        NaN  NaN  NaN  NaN  2.0  NaN  NaN  \n",
       "4        NaN  NaN  NaN  NaN  NaN  NaN  NaN  \n",
       "5        NaN  NaN  NaN  NaN  NaN  NaN  NaN  \n",
       "\n",
       "[5 rows x 610 columns]"
      ]
     },
     "metadata": {},
     "output_type": "display_data"
    },
    {
     "data": {
      "text/html": [
       "<div>\n",
       "<style scoped>\n",
       "    .dataframe tbody tr th:only-of-type {\n",
       "        vertical-align: middle;\n",
       "    }\n",
       "\n",
       "    .dataframe tbody tr th {\n",
       "        vertical-align: top;\n",
       "    }\n",
       "\n",
       "    .dataframe thead th {\n",
       "        text-align: right;\n",
       "    }\n",
       "</style>\n",
       "<table border=\"1\" class=\"dataframe\">\n",
       "  <thead>\n",
       "    <tr style=\"text-align: right;\">\n",
       "      <th>movieId</th>\n",
       "      <th>1</th>\n",
       "      <th>2</th>\n",
       "      <th>3</th>\n",
       "      <th>4</th>\n",
       "      <th>5</th>\n",
       "      <th>6</th>\n",
       "      <th>7</th>\n",
       "      <th>8</th>\n",
       "      <th>9</th>\n",
       "      <th>10</th>\n",
       "      <th>...</th>\n",
       "      <th>191005</th>\n",
       "      <th>193565</th>\n",
       "      <th>193567</th>\n",
       "      <th>193571</th>\n",
       "      <th>193573</th>\n",
       "      <th>193579</th>\n",
       "      <th>193583</th>\n",
       "      <th>193585</th>\n",
       "      <th>193587</th>\n",
       "      <th>193609</th>\n",
       "    </tr>\n",
       "    <tr>\n",
       "      <th>movieId</th>\n",
       "      <th></th>\n",
       "      <th></th>\n",
       "      <th></th>\n",
       "      <th></th>\n",
       "      <th></th>\n",
       "      <th></th>\n",
       "      <th></th>\n",
       "      <th></th>\n",
       "      <th></th>\n",
       "      <th></th>\n",
       "      <th></th>\n",
       "      <th></th>\n",
       "      <th></th>\n",
       "      <th></th>\n",
       "      <th></th>\n",
       "      <th></th>\n",
       "      <th></th>\n",
       "      <th></th>\n",
       "      <th></th>\n",
       "      <th></th>\n",
       "      <th></th>\n",
       "    </tr>\n",
       "  </thead>\n",
       "  <tbody>\n",
       "    <tr>\n",
       "      <th>1</th>\n",
       "      <td>1.000000</td>\n",
       "      <td>0.990014</td>\n",
       "      <td>0.990275</td>\n",
       "      <td>0.992857</td>\n",
       "      <td>0.990861</td>\n",
       "      <td>0.990215</td>\n",
       "      <td>0.990217</td>\n",
       "      <td>0.992902</td>\n",
       "      <td>0.992519</td>\n",
       "      <td>0.987204</td>\n",
       "      <td>...</td>\n",
       "      <td>0.993342</td>\n",
       "      <td>0.993342</td>\n",
       "      <td>0.993342</td>\n",
       "      <td>0.993342</td>\n",
       "      <td>0.993342</td>\n",
       "      <td>0.993342</td>\n",
       "      <td>0.993342</td>\n",
       "      <td>0.993342</td>\n",
       "      <td>0.993342</td>\n",
       "      <td>0.993342</td>\n",
       "    </tr>\n",
       "    <tr>\n",
       "      <th>2</th>\n",
       "      <td>0.990014</td>\n",
       "      <td>1.000000</td>\n",
       "      <td>0.992455</td>\n",
       "      <td>0.993984</td>\n",
       "      <td>0.992692</td>\n",
       "      <td>0.992085</td>\n",
       "      <td>0.991386</td>\n",
       "      <td>0.993943</td>\n",
       "      <td>0.993953</td>\n",
       "      <td>0.988439</td>\n",
       "      <td>...</td>\n",
       "      <td>0.994693</td>\n",
       "      <td>0.994693</td>\n",
       "      <td>0.994693</td>\n",
       "      <td>0.994693</td>\n",
       "      <td>0.994693</td>\n",
       "      <td>0.994693</td>\n",
       "      <td>0.994693</td>\n",
       "      <td>0.994693</td>\n",
       "      <td>0.994693</td>\n",
       "      <td>0.994693</td>\n",
       "    </tr>\n",
       "    <tr>\n",
       "      <th>3</th>\n",
       "      <td>0.990275</td>\n",
       "      <td>0.992455</td>\n",
       "      <td>1.000000</td>\n",
       "      <td>0.995296</td>\n",
       "      <td>0.994280</td>\n",
       "      <td>0.993803</td>\n",
       "      <td>0.993405</td>\n",
       "      <td>0.995582</td>\n",
       "      <td>0.995213</td>\n",
       "      <td>0.989554</td>\n",
       "      <td>...</td>\n",
       "      <td>0.995694</td>\n",
       "      <td>0.995694</td>\n",
       "      <td>0.995694</td>\n",
       "      <td>0.995694</td>\n",
       "      <td>0.995694</td>\n",
       "      <td>0.995694</td>\n",
       "      <td>0.995694</td>\n",
       "      <td>0.995694</td>\n",
       "      <td>0.995694</td>\n",
       "      <td>0.995694</td>\n",
       "    </tr>\n",
       "    <tr>\n",
       "      <th>4</th>\n",
       "      <td>0.992857</td>\n",
       "      <td>0.993984</td>\n",
       "      <td>0.995296</td>\n",
       "      <td>1.000000</td>\n",
       "      <td>0.996396</td>\n",
       "      <td>0.996108</td>\n",
       "      <td>0.995426</td>\n",
       "      <td>0.998493</td>\n",
       "      <td>0.998340</td>\n",
       "      <td>0.993757</td>\n",
       "      <td>...</td>\n",
       "      <td>0.999358</td>\n",
       "      <td>0.999358</td>\n",
       "      <td>0.999358</td>\n",
       "      <td>0.999358</td>\n",
       "      <td>0.999358</td>\n",
       "      <td>0.999358</td>\n",
       "      <td>0.999358</td>\n",
       "      <td>0.999358</td>\n",
       "      <td>0.999358</td>\n",
       "      <td>0.999358</td>\n",
       "    </tr>\n",
       "    <tr>\n",
       "      <th>5</th>\n",
       "      <td>0.990861</td>\n",
       "      <td>0.992692</td>\n",
       "      <td>0.994280</td>\n",
       "      <td>0.996396</td>\n",
       "      <td>1.000000</td>\n",
       "      <td>0.993878</td>\n",
       "      <td>0.994522</td>\n",
       "      <td>0.996691</td>\n",
       "      <td>0.995766</td>\n",
       "      <td>0.990978</td>\n",
       "      <td>...</td>\n",
       "      <td>0.996742</td>\n",
       "      <td>0.996742</td>\n",
       "      <td>0.996742</td>\n",
       "      <td>0.996742</td>\n",
       "      <td>0.996742</td>\n",
       "      <td>0.996742</td>\n",
       "      <td>0.996742</td>\n",
       "      <td>0.996742</td>\n",
       "      <td>0.996742</td>\n",
       "      <td>0.996742</td>\n",
       "    </tr>\n",
       "  </tbody>\n",
       "</table>\n",
       "<p>5 rows × 9387 columns</p>\n",
       "</div>"
      ],
      "text/plain": [
       "movieId    1         2         3         4         5         6         7       \\\n",
       "movieId                                                                         \n",
       "1        1.000000  0.990014  0.990275  0.992857  0.990861  0.990215  0.990217   \n",
       "2        0.990014  1.000000  0.992455  0.993984  0.992692  0.992085  0.991386   \n",
       "3        0.990275  0.992455  1.000000  0.995296  0.994280  0.993803  0.993405   \n",
       "4        0.992857  0.993984  0.995296  1.000000  0.996396  0.996108  0.995426   \n",
       "5        0.990861  0.992692  0.994280  0.996396  1.000000  0.993878  0.994522   \n",
       "\n",
       "movieId    8         9         10      ...    191005    193565    193567  \\\n",
       "movieId                                ...                                 \n",
       "1        0.992902  0.992519  0.987204  ...  0.993342  0.993342  0.993342   \n",
       "2        0.993943  0.993953  0.988439  ...  0.994693  0.994693  0.994693   \n",
       "3        0.995582  0.995213  0.989554  ...  0.995694  0.995694  0.995694   \n",
       "4        0.998493  0.998340  0.993757  ...  0.999358  0.999358  0.999358   \n",
       "5        0.996691  0.995766  0.990978  ...  0.996742  0.996742  0.996742   \n",
       "\n",
       "movieId    193571    193573    193579    193583    193585    193587    193609  \n",
       "movieId                                                                        \n",
       "1        0.993342  0.993342  0.993342  0.993342  0.993342  0.993342  0.993342  \n",
       "2        0.994693  0.994693  0.994693  0.994693  0.994693  0.994693  0.994693  \n",
       "3        0.995694  0.995694  0.995694  0.995694  0.995694  0.995694  0.995694  \n",
       "4        0.999358  0.999358  0.999358  0.999358  0.999358  0.999358  0.999358  \n",
       "5        0.996742  0.996742  0.996742  0.996742  0.996742  0.996742  0.996742  \n",
       "\n",
       "[5 rows x 9387 columns]"
      ]
     },
     "metadata": {},
     "output_type": "display_data"
    }
   ],
   "source": [
    "df_utility_ratings = pivot_ratings(df_ratings_training)\n",
    "df_utility_ratings_filled = fill_nan_mean(df_utility_ratings)\n",
    "df_similarity_ratings = create_similarity_matrix_cosine(df_utility_ratings_filled)\n",
    "display(df_utility_ratings.head())\n",
    "display(df_similarity_ratings.head())"
   ]
  },
  {
   "cell_type": "markdown",
   "metadata": {
    "deletable": false,
    "editable": false,
    "nbgrader": {
     "cell_type": "markdown",
     "checksum": "3d37ea1a9cf928957a4cad3321f8b383",
     "grade": false,
     "grade_id": "cell-b8482950fedc39c2",
     "locked": true,
     "schema_version": 3,
     "solution": false
    }
   },
   "source": [
    "Vervolgens laden we de `predict_ratings` functie hieronder. Deze functie geeft een neighborhood based voorspelling voor test data gegeven een similarity en een utility matrix."
   ]
  },
  {
   "cell_type": "markdown",
   "metadata": {
    "deletable": false,
    "editable": false,
    "nbgrader": {
     "cell_type": "markdown",
     "checksum": "862590b14cf8eeb07773490419ade5a8",
     "grade": false,
     "grade_id": "cell-7e97868602b12563",
     "locked": true,
     "schema_version": 3,
     "solution": false
    }
   },
   "source": [
    "Voer de voorspelling uit. Deze berekening kan zeker wel een minuut duren."
   ]
  },
  {
   "cell_type": "code",
   "execution_count": 4,
   "metadata": {
    "deletable": false,
    "editable": false,
    "nbgrader": {
     "cell_type": "code",
     "checksum": "50357be0c829bb3bc500b9cba076d932",
     "grade": false,
     "grade_id": "cell-858eeb292d54a46a",
     "locked": true,
     "schema_version": 3,
     "solution": false
    }
   },
   "outputs": [],
   "source": [
    "df_predicted_cf_item_based = predict_ratings(df_similarity_ratings, df_utility_ratings, actual)"
   ]
  },
  {
   "cell_type": "code",
   "execution_count": 5,
   "metadata": {
    "deletable": false,
    "editable": false,
    "nbgrader": {
     "cell_type": "code",
     "checksum": "0faef396f85a9afc829305a43e31a63f",
     "grade": false,
     "grade_id": "cell-c463a1e6a2f794cc",
     "locked": true,
     "schema_version": 3,
     "solution": false
    }
   },
   "outputs": [
    {
     "data": {
      "text/html": [
       "<div>\n",
       "<style scoped>\n",
       "    .dataframe tbody tr th:only-of-type {\n",
       "        vertical-align: middle;\n",
       "    }\n",
       "\n",
       "    .dataframe tbody tr th {\n",
       "        vertical-align: top;\n",
       "    }\n",
       "\n",
       "    .dataframe thead th {\n",
       "        text-align: right;\n",
       "    }\n",
       "</style>\n",
       "<table border=\"1\" class=\"dataframe\">\n",
       "  <thead>\n",
       "    <tr style=\"text-align: right;\">\n",
       "      <th></th>\n",
       "      <th>userId</th>\n",
       "      <th>movieId</th>\n",
       "      <th>predicted rating</th>\n",
       "    </tr>\n",
       "  </thead>\n",
       "  <tbody>\n",
       "    <tr>\n",
       "      <th>3</th>\n",
       "      <td>1</td>\n",
       "      <td>47</td>\n",
       "      <td>4.369164</td>\n",
       "    </tr>\n",
       "    <tr>\n",
       "      <th>27</th>\n",
       "      <td>1</td>\n",
       "      <td>500</td>\n",
       "      <td>4.369134</td>\n",
       "    </tr>\n",
       "    <tr>\n",
       "      <th>28</th>\n",
       "      <td>1</td>\n",
       "      <td>527</td>\n",
       "      <td>4.369258</td>\n",
       "    </tr>\n",
       "    <tr>\n",
       "      <th>39</th>\n",
       "      <td>1</td>\n",
       "      <td>673</td>\n",
       "      <td>4.369114</td>\n",
       "    </tr>\n",
       "    <tr>\n",
       "      <th>43</th>\n",
       "      <td>1</td>\n",
       "      <td>804</td>\n",
       "      <td>4.369199</td>\n",
       "    </tr>\n",
       "  </tbody>\n",
       "</table>\n",
       "</div>"
      ],
      "text/plain": [
       "    userId  movieId  predicted rating\n",
       "3        1       47          4.369164\n",
       "27       1      500          4.369134\n",
       "28       1      527          4.369258\n",
       "39       1      673          4.369114\n",
       "43       1      804          4.369199"
      ]
     },
     "metadata": {},
     "output_type": "display_data"
    }
   ],
   "source": [
    "display(df_predicted_cf_item_based.head())"
   ]
  },
  {
   "cell_type": "markdown",
   "metadata": {
    "deletable": false,
    "editable": false,
    "nbgrader": {
     "cell_type": "markdown",
     "checksum": "2c5271107a14947bf23359e6bf2fad46",
     "grade": false,
     "grade_id": "cell-42bd8ef45de9c2f1",
     "locked": true,
     "schema_version": 3,
     "solution": false
    }
   },
   "source": [
    "En vervolgens gebruiken we weer de mean squared error voor het evalueren van de voorspellingen."
   ]
  },
  {
   "cell_type": "code",
   "execution_count": 6,
   "metadata": {
    "deletable": false,
    "editable": false,
    "nbgrader": {
     "cell_type": "code",
     "checksum": "ad2058a70710f275f74ebae2c593aab9",
     "grade": false,
     "grade_id": "cell-feac30c5a60655f1",
     "locked": true,
     "schema_version": 3,
     "solution": false
    }
   },
   "outputs": [],
   "source": [
    "def mse(actual, predicted_ratings):\n",
    "    \"\"\"Computes the mean square error between actual ratings and predicted ratings\n",
    "    \n",
    "    Arguments:\n",
    "    predicted_ratings -- a dataFrame containing the columns rating and predicted rating\n",
    "    \"\"\"\n",
    "    diff = actual['rating'] - predicted_ratings['predicted rating']\n",
    "    return (diff**2).mean()"
   ]
  },
  {
   "cell_type": "code",
   "execution_count": 7,
   "metadata": {
    "deletable": false,
    "editable": false,
    "nbgrader": {
     "cell_type": "code",
     "checksum": "5e273a1e23a45ec1fa18a31c0c674bdd",
     "grade": false,
     "grade_id": "cell-a92f444a24604b90",
     "locked": true,
     "schema_version": 3,
     "solution": false
    }
   },
   "outputs": [
    {
     "name": "stdout",
     "output_type": "stream",
     "text": [
      "mse for item based collaborative filtering 1.27\n"
     ]
    }
   ],
   "source": [
    "mse_cf_item_based = mse(actual, df_predicted_cf_item_based)\n",
    "print(f'mse for item based collaborative filtering {mse_cf_item_based:.2f}')"
   ]
  },
  {
   "cell_type": "markdown",
   "metadata": {
    "deletable": false,
    "editable": false,
    "nbgrader": {
     "cell_type": "markdown",
     "checksum": "8c9987ec48303a94eccbd25b06635865",
     "grade": false,
     "grade_id": "cell-021347d9504fbf73",
     "locked": true,
     "schema_version": 3,
     "solution": false
    }
   },
   "source": [
    "Deze score kunnen we niet vergelijken met de uitkomsten van de vorige opdracht omdat dit weer een andere dataset is, en we de functies net wat anders hebben geïmplementeerd. Toch kunnen we wel een eerste intuititie vormen over hoe goed deze score is. Is de uitkomst beter dan zo maar wat gokken?\n",
    "\n",
    "### Vraag 1\n",
    "\n",
    "\\[1 pt.\\]\n",
    "\n",
    "Genereer random voorspellingen voor de test set. Dus gebruik niet de functie `predict_ratings`, maar genereer random \"voorspellingen\" tussen de 0.5 en de 5. Bereken vervolgens de mean squared error voor deze random ratings en stop de uitkomst in de variabele `mse_random`."
   ]
  },
  {
   "cell_type": "code",
   "execution_count": 8,
   "metadata": {
    "deletable": false,
    "nbgrader": {
     "cell_type": "code",
     "checksum": "a3176489e804ebeab93106067aea6689",
     "grade": false,
     "grade_id": "cell-6491bf9c41ac33b0",
     "locked": false,
     "schema_version": 3,
     "solution": true
    }
   },
   "outputs": [
    {
     "data": {
      "text/html": [
       "<div>\n",
       "<style scoped>\n",
       "    .dataframe tbody tr th:only-of-type {\n",
       "        vertical-align: middle;\n",
       "    }\n",
       "\n",
       "    .dataframe tbody tr th {\n",
       "        vertical-align: top;\n",
       "    }\n",
       "\n",
       "    .dataframe thead th {\n",
       "        text-align: right;\n",
       "    }\n",
       "</style>\n",
       "<table border=\"1\" class=\"dataframe\">\n",
       "  <thead>\n",
       "    <tr style=\"text-align: right;\">\n",
       "      <th></th>\n",
       "      <th>userId</th>\n",
       "      <th>movieId</th>\n",
       "      <th>rating</th>\n",
       "    </tr>\n",
       "  </thead>\n",
       "  <tbody>\n",
       "    <tr>\n",
       "      <th>3</th>\n",
       "      <td>1</td>\n",
       "      <td>47</td>\n",
       "      <td>5.0</td>\n",
       "    </tr>\n",
       "    <tr>\n",
       "      <th>27</th>\n",
       "      <td>1</td>\n",
       "      <td>500</td>\n",
       "      <td>3.0</td>\n",
       "    </tr>\n",
       "    <tr>\n",
       "      <th>28</th>\n",
       "      <td>1</td>\n",
       "      <td>527</td>\n",
       "      <td>5.0</td>\n",
       "    </tr>\n",
       "    <tr>\n",
       "      <th>39</th>\n",
       "      <td>1</td>\n",
       "      <td>673</td>\n",
       "      <td>3.0</td>\n",
       "    </tr>\n",
       "    <tr>\n",
       "      <th>43</th>\n",
       "      <td>1</td>\n",
       "      <td>804</td>\n",
       "      <td>4.0</td>\n",
       "    </tr>\n",
       "    <tr>\n",
       "      <th>...</th>\n",
       "      <td>...</td>\n",
       "      <td>...</td>\n",
       "      <td>...</td>\n",
       "    </tr>\n",
       "    <tr>\n",
       "      <th>100799</th>\n",
       "      <td>610</td>\n",
       "      <td>147657</td>\n",
       "      <td>4.0</td>\n",
       "    </tr>\n",
       "    <tr>\n",
       "      <th>100803</th>\n",
       "      <td>610</td>\n",
       "      <td>148626</td>\n",
       "      <td>4.0</td>\n",
       "    </tr>\n",
       "    <tr>\n",
       "      <th>100808</th>\n",
       "      <td>610</td>\n",
       "      <td>152081</td>\n",
       "      <td>4.0</td>\n",
       "    </tr>\n",
       "    <tr>\n",
       "      <th>100809</th>\n",
       "      <td>610</td>\n",
       "      <td>152372</td>\n",
       "      <td>3.5</td>\n",
       "    </tr>\n",
       "    <tr>\n",
       "      <th>100828</th>\n",
       "      <td>610</td>\n",
       "      <td>163981</td>\n",
       "      <td>3.5</td>\n",
       "    </tr>\n",
       "  </tbody>\n",
       "</table>\n",
       "<p>10106 rows × 3 columns</p>\n",
       "</div>"
      ],
      "text/plain": [
       "        userId  movieId  rating\n",
       "3            1       47     5.0\n",
       "27           1      500     3.0\n",
       "28           1      527     5.0\n",
       "39           1      673     3.0\n",
       "43           1      804     4.0\n",
       "...        ...      ...     ...\n",
       "100799     610   147657     4.0\n",
       "100803     610   148626     4.0\n",
       "100808     610   152081     4.0\n",
       "100809     610   152372     3.5\n",
       "100828     610   163981     3.5\n",
       "\n",
       "[10106 rows x 3 columns]"
      ]
     },
     "metadata": {},
     "output_type": "display_data"
    },
    {
     "name": "stdout",
     "output_type": "stream",
     "text": [
      "mse for random prediction: 3.25\n"
     ]
    }
   ],
   "source": [
    "import random\n",
    "\n",
    "mse_random = 0\n",
    "# TODO\n",
    "\n",
    "display(actual)\n",
    "actuals = actual[\"rating\"].reset_index(drop=True)\n",
    "\n",
    "rating_pred =[]\n",
    "for i in range(len(actuals)):\n",
    "    x = random.uniform(0.5, 5.0)\n",
    "    rating_pred.append(x)\n",
    "    mse_random += (actuals[i]-x)**2\n",
    "\n",
    "mse_random =(1/len(actuals))*mse_random\n",
    "    \n",
    "print(f'mse for random prediction: {mse_random:.2f}')"
   ]
  },
  {
   "cell_type": "code",
   "execution_count": 9,
   "metadata": {
    "deletable": false,
    "editable": false,
    "nbgrader": {
     "cell_type": "code",
     "checksum": "b31c036ee5aa539c3b2c9e2ee9ff71bc",
     "grade": true,
     "grade_id": "test_1",
     "locked": true,
     "points": 1,
     "schema_version": 3,
     "solution": false
    }
   },
   "outputs": [
    {
     "name": "stdout",
     "output_type": "stream",
     "text": [
      "Testing mse value: success!\n"
     ]
    }
   ],
   "source": [
    "answers.test_1(mse_random)"
   ]
  },
  {
   "cell_type": "markdown",
   "metadata": {
    "deletable": false,
    "editable": false,
    "nbgrader": {
     "cell_type": "markdown",
     "checksum": "4e0dc62a519a8d086046693440c89b42",
     "grade": false,
     "grade_id": "cell-217001a0fa1d50df",
     "locked": true,
     "schema_version": 3,
     "solution": false
    }
   },
   "source": [
    "Dus voorspellen aan de hand van item based collaborative filtering doet het beter dan volstrekte willekeur. Dat is een goed begin. \n",
    "\n",
    "Maar we hebben meer informatie over de data. Wat is bijvoorbeeld de gemiddelde rating in de training set?\n",
    "\n",
    "### Vraag 2\n",
    "\n",
    "\\[1 pt.\\]\n",
    "\n",
    "Berken de gemiddelde rating in de training set. Genereer een \"voorspelling\" voor de test set waarin je elke film deze gemiddelde rating toekent (elke film krijgt dus exact dezelfde voorspelde rating). Bereken weer de mse en sla de uitkomst op in `mse_mean`."
   ]
  },
  {
   "cell_type": "code",
   "execution_count": 10,
   "metadata": {
    "deletable": false,
    "nbgrader": {
     "cell_type": "code",
     "checksum": "bdb4f35915906d4b841a86d010c6d119",
     "grade": false,
     "grade_id": "cell-4f8eba3d3cf6c9e8",
     "locked": false,
     "schema_version": 3,
     "solution": true
    }
   },
   "outputs": [
    {
     "name": "stdout",
     "output_type": "stream",
     "text": [
      "mse for mean prediction: 0.53\n"
     ]
    }
   ],
   "source": [
    "mse_mean = 0\n",
    "\n",
    "predicted_item_mean = df_ratings_test[['userId', 'movieId', 'rating']]\n",
    "item_mean= predicted_item_mean.groupby('movieId').agg({'rating': np.mean})\n",
    "item_mean[\"predicted rating\"] = item_mean[\"rating\"]\n",
    "\n",
    "item_mean = item_mean.loc[:, item_mean.columns != \"rating\"]\n",
    "predicted_item_mean =predicted_item_mean.join(item_mean, on= \"movieId\")\n",
    "\n",
    "mse_mean = sum((predicted_item_mean[\"rating\"] - predicted_item_mean[\"predicted rating\"])**2)\n",
    "    \n",
    "mse_mean =(1/len(predicted_item_mean))*mse_mean\n",
    "# TODO\n",
    "\n",
    "print(f'mse for mean prediction: {mse_mean:.2f}')"
   ]
  },
  {
   "cell_type": "code",
   "execution_count": 11,
   "metadata": {
    "deletable": false,
    "editable": false,
    "nbgrader": {
     "cell_type": "code",
     "checksum": "318ed57bfe5d9f72b4b45c2a950582ed",
     "grade": true,
     "grade_id": "test_2",
     "locked": true,
     "points": 1,
     "schema_version": 3,
     "solution": false
    }
   },
   "outputs": [
    {
     "name": "stdout",
     "output_type": "stream",
     "text": [
      "Testing mse value: success!\n"
     ]
    }
   ],
   "source": [
    "answers.test_2(mse_mean, mse_cf_item_based)"
   ]
  },
  {
   "cell_type": "markdown",
   "metadata": {
    "deletable": false,
    "editable": false,
    "nbgrader": {
     "cell_type": "markdown",
     "checksum": "f9a5e441d257f6db72bdd58296d14053",
     "grade": false,
     "grade_id": "cell-f14a035bcffe89ad",
     "locked": true,
     "schema_version": 3,
     "solution": false
    }
   },
   "source": [
    "### Vraag 3\n",
    "\n",
    "\\[1 pt.\\]\n",
    "\n",
    "Wat is de conclusie? Geeft item based collaborative filtering goede voorspellingen?"
   ]
  },
  {
   "cell_type": "markdown",
   "metadata": {
    "deletable": false,
    "nbgrader": {
     "cell_type": "markdown",
     "checksum": "d6fcf5d261da1464109a003fc052a546",
     "grade": true,
     "grade_id": "cell-293633c46845ba41",
     "locked": false,
     "points": 1,
     "schema_version": 3,
     "solution": true
    }
   },
   "source": [
    "We kunnen concluderen dat op items gebaseerde collaboratieve filtering beter presteert dan willekeurige voorspelling, maar niet zo goed als mean prediction.\n",
    "\n",
    "De MSE van 1.27 voor op items gebaseerde collaboratieve filtering is lager dan de MSE van random prediction 3.37, wat aangeeft dat op item based collaborative filtering betere voorspellingen doet dan een random prediction. De MSE van 1.27 is echter hoger dan de MSE van gemiddelde voorspelling 0.53, wat aangeeft dat op item based collaborative filtering niet zo goed presteert alsmean prediction"
   ]
  },
  {
   "cell_type": "markdown",
   "metadata": {
    "deletable": false,
    "editable": false,
    "nbgrader": {
     "cell_type": "markdown",
     "checksum": "091f0ea8ba5139c7c602ecf37ced3490",
     "grade": false,
     "grade_id": "cell-9fefaf735e0d3e3b",
     "locked": true,
     "schema_version": 3,
     "solution": false,
     "task": false
    }
   },
   "source": [
    "### Vraag 4\n",
    "\n",
    "\\[1 pt.\\]\n",
    "\n",
    "Verzin zelf een item-based collaborative filtering strategie waarvan je denkt dat die beter werkt dan de methodes die gegeven zijn in de vorige drie vragen en leg in een paar zinnen uit waarom je denkt dat die beter werkt (je hoeft geen implementatie te geven)."
   ]
  },
  {
   "cell_type": "markdown",
   "metadata": {
    "deletable": false,
    "nbgrader": {
     "cell_type": "markdown",
     "checksum": "15828b0e4b70be97b7f65911f1ee2ae9",
     "grade": true,
     "grade_id": "cell-a11a0593d15eafef",
     "locked": false,
     "points": 1,
     "schema_version": 3,
     "solution": true,
     "task": false
    }
   },
   "source": [
    "YOUR ANSWER HERE"
   ]
  },
  {
   "cell_type": "markdown",
   "metadata": {
    "deletable": false,
    "editable": false,
    "nbgrader": {
     "cell_type": "markdown",
     "checksum": "ba705eeb58b2d9580ffb8e3a4a4c0012",
     "grade": false,
     "grade_id": "cell-7a38959c6fe094fc",
     "locked": true,
     "schema_version": 3,
     "solution": false
    }
   },
   "source": [
    "## Genres\n",
    "\n",
    "Laten we nu eens kijken of we het beter kunnen krijgen met een relatief eenvoudige aanpak. Kunnen we voorspellingen doen aan de hand van filmgenres? Met andere woorden wat gebeurt er als we ervan uitgaan dat films met veel overlap in genres ook sterk op elkaar lijken?\n",
    "\n",
    "Eerst moeten we de genres verzamelen. De genres zitten in de file movies.csv, maar zoals je je misschien nog kan herinneren van opdracht 1 zijn deze op een onhandige manier opgeslagen. Laad hieronder de functies voor het handig converteren vand deze data."
   ]
  },
  {
   "cell_type": "code",
   "execution_count": 12,
   "metadata": {
    "deletable": false,
    "editable": false,
    "nbgrader": {
     "cell_type": "code",
     "checksum": "6da9c6ac1d3026a81b4ed6fb5632ea36",
     "grade": false,
     "grade_id": "cell-a2dc7653c9aefdaf",
     "locked": true,
     "schema_version": 3,
     "solution": false
    }
   },
   "outputs": [],
   "source": [
    "def extract_genres(movies):\n",
    "    \"\"\"Create an unfolded genre dataframe. Unpacks genres seprated by a '|' into seperate rows.\n",
    "\n",
    "    Arguments:\n",
    "    movies -- a dataFrame containing at least the columns 'movieId' and 'genres' \n",
    "              where genres are seprated by '|'\n",
    "    \"\"\"\n",
    "    genres_m = movies.apply(lambda row: pd.Series([row['movieId']] + row['genres'].lower().split(\"|\")), axis=1)\n",
    "    stack_genres = genres_m.set_index(0).stack()\n",
    "    df_stack_genres = stack_genres.to_frame()\n",
    "    df_stack_genres['movieId'] = stack_genres.index.droplevel(1)\n",
    "    df_stack_genres.columns = ['genre', 'movieId']\n",
    "    return df_stack_genres.reset_index()[['movieId', 'genre']]\n",
    "\n",
    "def pivot_genres(df):\n",
    "    \"\"\"Create a one-hot encoded matrix for genres.\n",
    "    \n",
    "    Arguments:\n",
    "    df -- a dataFrame containing at least the columns 'movieId' and 'genre'\n",
    "    \n",
    "    Output:\n",
    "    a matrix containing '0' or '1' in each cell.\n",
    "    1: the movie has the genre\n",
    "    0: the movie does not have the genre\n",
    "    \"\"\"\n",
    "    return df.pivot_table(index = 'movieId', columns = 'genre', aggfunc = 'size', fill_value=0)"
   ]
  },
  {
   "cell_type": "markdown",
   "metadata": {
    "deletable": false,
    "editable": false,
    "nbgrader": {
     "cell_type": "markdown",
     "checksum": "a6ad4ae04656e3171f06c71f5fea623d",
     "grade": false,
     "grade_id": "cell-a78f1c2d0b593806",
     "locked": true,
     "schema_version": 3,
     "solution": false
    }
   },
   "source": [
    "Laad de data. Dit kan even duren, de functie `extract_genres` kost wat tijd. "
   ]
  },
  {
   "cell_type": "code",
   "execution_count": 13,
   "metadata": {
    "deletable": false,
    "editable": false,
    "nbgrader": {
     "cell_type": "code",
     "checksum": "4603067d525f54ecf8f8237f4c779d9d",
     "grade": false,
     "grade_id": "cell-db720ab49b4817d4",
     "locked": true,
     "schema_version": 3,
     "solution": false
    }
   },
   "outputs": [
    {
     "name": "stdout",
     "output_type": "stream",
     "text": [
      "movies header: ['movieId', 'title', 'genres']\n",
      "genres header: ['movieId', 'genre']\n"
     ]
    },
    {
     "data": {
      "text/html": [
       "<div>\n",
       "<style scoped>\n",
       "    .dataframe tbody tr th:only-of-type {\n",
       "        vertical-align: middle;\n",
       "    }\n",
       "\n",
       "    .dataframe tbody tr th {\n",
       "        vertical-align: top;\n",
       "    }\n",
       "\n",
       "    .dataframe thead th {\n",
       "        text-align: right;\n",
       "    }\n",
       "</style>\n",
       "<table border=\"1\" class=\"dataframe\">\n",
       "  <thead>\n",
       "    <tr style=\"text-align: right;\">\n",
       "      <th></th>\n",
       "      <th>movieId</th>\n",
       "      <th>genre</th>\n",
       "    </tr>\n",
       "  </thead>\n",
       "  <tbody>\n",
       "    <tr>\n",
       "      <th>0</th>\n",
       "      <td>1</td>\n",
       "      <td>adventure</td>\n",
       "    </tr>\n",
       "    <tr>\n",
       "      <th>1</th>\n",
       "      <td>1</td>\n",
       "      <td>animation</td>\n",
       "    </tr>\n",
       "    <tr>\n",
       "      <th>2</th>\n",
       "      <td>1</td>\n",
       "      <td>children</td>\n",
       "    </tr>\n",
       "    <tr>\n",
       "      <th>3</th>\n",
       "      <td>1</td>\n",
       "      <td>comedy</td>\n",
       "    </tr>\n",
       "    <tr>\n",
       "      <th>4</th>\n",
       "      <td>1</td>\n",
       "      <td>fantasy</td>\n",
       "    </tr>\n",
       "  </tbody>\n",
       "</table>\n",
       "</div>"
      ],
      "text/plain": [
       "   movieId      genre\n",
       "0        1  adventure\n",
       "1        1  animation\n",
       "2        1   children\n",
       "3        1     comedy\n",
       "4        1    fantasy"
      ]
     },
     "metadata": {},
     "output_type": "display_data"
    }
   ],
   "source": [
    "df_movies = pd.read_csv(f\"{datapath}/movies.csv\")\n",
    "df_genres = extract_genres(df_movies)\n",
    "\n",
    "print(f\"movies header: {list(df_movies.columns)}\")\n",
    "print(f\"genres header: {list(df_genres.columns)}\")\n",
    "\n",
    "display(df_genres.head())"
   ]
  },
  {
   "cell_type": "markdown",
   "metadata": {
    "deletable": false,
    "editable": false,
    "nbgrader": {
     "cell_type": "markdown",
     "checksum": "ec7d1d6b55096028af0f9930b368a8f5",
     "grade": false,
     "grade_id": "cell-0ddedd12fc05b56e",
     "locked": true,
     "schema_version": 3,
     "solution": false
    }
   },
   "source": [
    "Bereken nu de utility matrix voor genres. In deze matrix zijn de genres de features en geeft voor elk film aan onder welke genres deze valt. Een `1` betekent dat de film onder het genre valt. Dus bij in de onderstaande tabel kunnen we zien dat film `4` onder de genres `comedy`, `drama` en `romance` valt.\n",
    "\n",
    "Het gebruiken van `1`/`0` voor het coderen van categorische data, wordt ook wel **one-hot encoding** genoemd."
   ]
  },
  {
   "cell_type": "code",
   "execution_count": 14,
   "metadata": {
    "deletable": false,
    "editable": false,
    "nbgrader": {
     "cell_type": "code",
     "checksum": "13d11a7aa39ff9a654c459cf7db783b0",
     "grade": false,
     "grade_id": "cell-94c5f7de422dcd0e",
     "locked": true,
     "schema_version": 3,
     "solution": false
    }
   },
   "outputs": [
    {
     "data": {
      "text/html": [
       "<div>\n",
       "<style scoped>\n",
       "    .dataframe tbody tr th:only-of-type {\n",
       "        vertical-align: middle;\n",
       "    }\n",
       "\n",
       "    .dataframe tbody tr th {\n",
       "        vertical-align: top;\n",
       "    }\n",
       "\n",
       "    .dataframe thead th {\n",
       "        text-align: right;\n",
       "    }\n",
       "</style>\n",
       "<table border=\"1\" class=\"dataframe\">\n",
       "  <thead>\n",
       "    <tr style=\"text-align: right;\">\n",
       "      <th>genre</th>\n",
       "      <th>(no genres listed)</th>\n",
       "      <th>action</th>\n",
       "      <th>adventure</th>\n",
       "      <th>animation</th>\n",
       "      <th>children</th>\n",
       "      <th>comedy</th>\n",
       "      <th>crime</th>\n",
       "      <th>documentary</th>\n",
       "      <th>drama</th>\n",
       "      <th>fantasy</th>\n",
       "      <th>film-noir</th>\n",
       "      <th>horror</th>\n",
       "      <th>imax</th>\n",
       "      <th>musical</th>\n",
       "      <th>mystery</th>\n",
       "      <th>romance</th>\n",
       "      <th>sci-fi</th>\n",
       "      <th>thriller</th>\n",
       "      <th>war</th>\n",
       "      <th>western</th>\n",
       "    </tr>\n",
       "    <tr>\n",
       "      <th>movieId</th>\n",
       "      <th></th>\n",
       "      <th></th>\n",
       "      <th></th>\n",
       "      <th></th>\n",
       "      <th></th>\n",
       "      <th></th>\n",
       "      <th></th>\n",
       "      <th></th>\n",
       "      <th></th>\n",
       "      <th></th>\n",
       "      <th></th>\n",
       "      <th></th>\n",
       "      <th></th>\n",
       "      <th></th>\n",
       "      <th></th>\n",
       "      <th></th>\n",
       "      <th></th>\n",
       "      <th></th>\n",
       "      <th></th>\n",
       "      <th></th>\n",
       "    </tr>\n",
       "  </thead>\n",
       "  <tbody>\n",
       "    <tr>\n",
       "      <th>1</th>\n",
       "      <td>0</td>\n",
       "      <td>0</td>\n",
       "      <td>1</td>\n",
       "      <td>1</td>\n",
       "      <td>1</td>\n",
       "      <td>1</td>\n",
       "      <td>0</td>\n",
       "      <td>0</td>\n",
       "      <td>0</td>\n",
       "      <td>1</td>\n",
       "      <td>0</td>\n",
       "      <td>0</td>\n",
       "      <td>0</td>\n",
       "      <td>0</td>\n",
       "      <td>0</td>\n",
       "      <td>0</td>\n",
       "      <td>0</td>\n",
       "      <td>0</td>\n",
       "      <td>0</td>\n",
       "      <td>0</td>\n",
       "    </tr>\n",
       "    <tr>\n",
       "      <th>2</th>\n",
       "      <td>0</td>\n",
       "      <td>0</td>\n",
       "      <td>1</td>\n",
       "      <td>0</td>\n",
       "      <td>1</td>\n",
       "      <td>0</td>\n",
       "      <td>0</td>\n",
       "      <td>0</td>\n",
       "      <td>0</td>\n",
       "      <td>1</td>\n",
       "      <td>0</td>\n",
       "      <td>0</td>\n",
       "      <td>0</td>\n",
       "      <td>0</td>\n",
       "      <td>0</td>\n",
       "      <td>0</td>\n",
       "      <td>0</td>\n",
       "      <td>0</td>\n",
       "      <td>0</td>\n",
       "      <td>0</td>\n",
       "    </tr>\n",
       "    <tr>\n",
       "      <th>3</th>\n",
       "      <td>0</td>\n",
       "      <td>0</td>\n",
       "      <td>0</td>\n",
       "      <td>0</td>\n",
       "      <td>0</td>\n",
       "      <td>1</td>\n",
       "      <td>0</td>\n",
       "      <td>0</td>\n",
       "      <td>0</td>\n",
       "      <td>0</td>\n",
       "      <td>0</td>\n",
       "      <td>0</td>\n",
       "      <td>0</td>\n",
       "      <td>0</td>\n",
       "      <td>0</td>\n",
       "      <td>1</td>\n",
       "      <td>0</td>\n",
       "      <td>0</td>\n",
       "      <td>0</td>\n",
       "      <td>0</td>\n",
       "    </tr>\n",
       "    <tr>\n",
       "      <th>4</th>\n",
       "      <td>0</td>\n",
       "      <td>0</td>\n",
       "      <td>0</td>\n",
       "      <td>0</td>\n",
       "      <td>0</td>\n",
       "      <td>1</td>\n",
       "      <td>0</td>\n",
       "      <td>0</td>\n",
       "      <td>1</td>\n",
       "      <td>0</td>\n",
       "      <td>0</td>\n",
       "      <td>0</td>\n",
       "      <td>0</td>\n",
       "      <td>0</td>\n",
       "      <td>0</td>\n",
       "      <td>1</td>\n",
       "      <td>0</td>\n",
       "      <td>0</td>\n",
       "      <td>0</td>\n",
       "      <td>0</td>\n",
       "    </tr>\n",
       "    <tr>\n",
       "      <th>5</th>\n",
       "      <td>0</td>\n",
       "      <td>0</td>\n",
       "      <td>0</td>\n",
       "      <td>0</td>\n",
       "      <td>0</td>\n",
       "      <td>1</td>\n",
       "      <td>0</td>\n",
       "      <td>0</td>\n",
       "      <td>0</td>\n",
       "      <td>0</td>\n",
       "      <td>0</td>\n",
       "      <td>0</td>\n",
       "      <td>0</td>\n",
       "      <td>0</td>\n",
       "      <td>0</td>\n",
       "      <td>0</td>\n",
       "      <td>0</td>\n",
       "      <td>0</td>\n",
       "      <td>0</td>\n",
       "      <td>0</td>\n",
       "    </tr>\n",
       "  </tbody>\n",
       "</table>\n",
       "</div>"
      ],
      "text/plain": [
       "genre    (no genres listed)  action  adventure  animation  children  comedy  \\\n",
       "movieId                                                                       \n",
       "1                         0       0          1          1         1       1   \n",
       "2                         0       0          1          0         1       0   \n",
       "3                         0       0          0          0         0       1   \n",
       "4                         0       0          0          0         0       1   \n",
       "5                         0       0          0          0         0       1   \n",
       "\n",
       "genre    crime  documentary  drama  fantasy  film-noir  horror  imax  musical  \\\n",
       "movieId                                                                         \n",
       "1            0            0      0        1          0       0     0        0   \n",
       "2            0            0      0        1          0       0     0        0   \n",
       "3            0            0      0        0          0       0     0        0   \n",
       "4            0            0      1        0          0       0     0        0   \n",
       "5            0            0      0        0          0       0     0        0   \n",
       "\n",
       "genre    mystery  romance  sci-fi  thriller  war  western  \n",
       "movieId                                                    \n",
       "1              0        0       0         0    0        0  \n",
       "2              0        0       0         0    0        0  \n",
       "3              0        1       0         0    0        0  \n",
       "4              0        1       0         0    0        0  \n",
       "5              0        0       0         0    0        0  "
      ]
     },
     "metadata": {},
     "output_type": "display_data"
    }
   ],
   "source": [
    "df_utility_genres = pivot_genres(df_genres)\n",
    "display(df_utility_genres.head())"
   ]
  },
  {
   "cell_type": "markdown",
   "metadata": {
    "deletable": false,
    "editable": false,
    "nbgrader": {
     "cell_type": "markdown",
     "checksum": "350ec1900a91ad57a6f80cf06f6ea612",
     "grade": false,
     "grade_id": "cell-31085e5d404704f2",
     "locked": true,
     "schema_version": 3,
     "solution": false
    }
   },
   "source": [
    "Aan de hand van deze utility matrix kunnen we weer een similarity matrix maken. Dit kunnen we helaas niet doen met cosine similarity omdat deze features geen numerieke betekenis hebben. Het zijn _categorische features_: de nummers geven aan of de film onder een bepaalde categorie (genre) valt of niet. Voor het bepalen van similiarities voor catagorische data zijn er een legioen aan mogelijke maten$^1$. Voor deze opdracht gebruiken we de [**Jaccard index**](https://en.wikipedia.org/wiki/Jaccard_index). Dit is een veelgebruikte maat die goed werkt voor binaire data en die bovendien eenvoudig te implementeren is.\n",
    "\n",
    "Om de Jaccard index voor twee films ($A$ en $B$) te bereken moeten we drie waardes bepalen:\n",
    "- *M11*: Het aantal features dat in de matrix voor zowel film $A$ als $B$ een $1$ bevat. Oftewel, het aantal genres waarin $A$ en $B$ overlappen:\n",
    "- *M10*: Het aantal features dat in de matrix voor alléén film $A$ een $1$ bevat. Oftewel, het aantal genres dat *wel* op $A$ van toepassing is en *niet* op $B$.\n",
    "- *M01*: Het aantal features dat in de matrix voor alléén film $B$ een $1$ bevat.\n",
    "\n",
    "De berekening van de Jaccard index is vervolgens:\n",
    "\n",
    "$$\n",
    "\\textrm{jaccard}(A, B)=\\frac{\\textrm{M11}}{\\textrm{M10} + \\textrm{M01} - \\textrm{M11}}\n",
    "$$\n",
    "\n",
    "Of in set-notatie (als je daar bekend mee bent):\n",
    "\n",
    "$$\n",
    "\\textrm{jaccard}(A, B)=\\frac{|A \\cap B|}{|A \\cup B| - |A \\cap B|}\n",
    "$$ \n",
    "\n",
    "<p style=\"font-size:9pt;\">\n",
    "    1: Voor een overzicht kan je even naar <a href=\"https://pdfs.semanticscholar.org/c654/4a12fec2097bddc49adbb159426d9dc15d2c.pdf\">[Boriah 2007]</a> kijken. Dit paper is vrij technisch, er wordt niet van je verwacht dat je alle details begrijpt, maar het geeft in ieder geval een indruk van de mogelijkheden.\n",
    "</p>"
   ]
  },
  {
   "cell_type": "markdown",
   "metadata": {
    "deletable": false,
    "editable": false,
    "nbgrader": {
     "cell_type": "markdown",
     "checksum": "7a55243dae4e84532f1477c578c40d80",
     "grade": false,
     "grade_id": "cell-8ca1d451651f537b",
     "locked": true,
     "schema_version": 3,
     "solution": false,
     "task": false
    }
   },
   "source": [
    "### Vraag 5\n",
    "\n",
    "\\[2 pt.\\]\n",
    "\n",
    "Implementeer de functie `create_similarity_matrix_jaccard` hieronder. De input is een matrix met een one-hot encoding voor categoriën en de output een similarity matrix gebaseerd op de Jaccard index."
   ]
  },
  {
   "cell_type": "code",
   "execution_count": 15,
   "metadata": {
    "deletable": false,
    "nbgrader": {
     "cell_type": "code",
     "checksum": "af45abfcdff9c647205fc1f6b9f4d359",
     "grade": false,
     "grade_id": "cell-3237ff13fd20b0a8",
     "locked": false,
     "schema_version": 3,
     "solution": true,
     "task": false
    }
   },
   "outputs": [
    {
     "name": "stderr",
     "output_type": "stream",
     "text": [
      "/var/folders/sm/cz_7jnb54j10y39hkp9d7xhm0000gn/T/ipykernel_3083/1700336920.py:15: RuntimeWarning: invalid value encountered in long_scalars\n",
      "  similarity_matrix.iloc[i,j] = M11 / (M11 + M10 + M01)\n"
     ]
    },
    {
     "data": {
      "text/html": [
       "<div>\n",
       "<style scoped>\n",
       "    .dataframe tbody tr th:only-of-type {\n",
       "        vertical-align: middle;\n",
       "    }\n",
       "\n",
       "    .dataframe tbody tr th {\n",
       "        vertical-align: top;\n",
       "    }\n",
       "\n",
       "    .dataframe thead th {\n",
       "        text-align: right;\n",
       "    }\n",
       "</style>\n",
       "<table border=\"1\" class=\"dataframe\">\n",
       "  <thead>\n",
       "    <tr style=\"text-align: right;\">\n",
       "      <th></th>\n",
       "      <th>18</th>\n",
       "      <th>19</th>\n",
       "      <th>20</th>\n",
       "      <th>21</th>\n",
       "      <th>22</th>\n",
       "    </tr>\n",
       "  </thead>\n",
       "  <tbody>\n",
       "    <tr>\n",
       "      <th>18</th>\n",
       "      <td>1.000000</td>\n",
       "      <td>0.333333</td>\n",
       "      <td>0.0</td>\n",
       "      <td>0.5</td>\n",
       "      <td>0.333333</td>\n",
       "    </tr>\n",
       "    <tr>\n",
       "      <th>19</th>\n",
       "      <td>0.333333</td>\n",
       "      <td>1.000000</td>\n",
       "      <td>0.0</td>\n",
       "      <td>0.5</td>\n",
       "      <td>0.000000</td>\n",
       "    </tr>\n",
       "    <tr>\n",
       "      <th>20</th>\n",
       "      <td>0.000000</td>\n",
       "      <td>0.000000</td>\n",
       "      <td>NaN</td>\n",
       "      <td>0.0</td>\n",
       "      <td>0.000000</td>\n",
       "    </tr>\n",
       "    <tr>\n",
       "      <th>21</th>\n",
       "      <td>0.500000</td>\n",
       "      <td>0.500000</td>\n",
       "      <td>0.0</td>\n",
       "      <td>1.0</td>\n",
       "      <td>0.500000</td>\n",
       "    </tr>\n",
       "    <tr>\n",
       "      <th>22</th>\n",
       "      <td>0.333333</td>\n",
       "      <td>0.000000</td>\n",
       "      <td>0.0</td>\n",
       "      <td>0.5</td>\n",
       "      <td>1.000000</td>\n",
       "    </tr>\n",
       "  </tbody>\n",
       "</table>\n",
       "</div>"
      ],
      "text/plain": [
       "          18        19   20   21        22\n",
       "18  1.000000  0.333333  0.0  0.5  0.333333\n",
       "19  0.333333  1.000000  0.0  0.5  0.000000\n",
       "20  0.000000  0.000000  NaN  0.0  0.000000\n",
       "21  0.500000  0.500000  0.0  1.0  0.500000\n",
       "22  0.333333  0.000000  0.0  0.5  1.000000"
      ]
     },
     "metadata": {},
     "output_type": "display_data"
    }
   ],
   "source": [
    "def create_similarity_matrix_jaccard(matrix):\n",
    "    # TODO\n",
    "    \n",
    "    similarity_matrix = pd.DataFrame(data=0, index=matrix.index, columns=matrix.index, dtype=float)\n",
    "    \n",
    "    \n",
    "    for i in range(len(matrix)):\n",
    "        for j in range(len(matrix)):\n",
    "            M11 = np.sum((matrix.iloc[i] & matrix.iloc[j]))\n",
    "            M10 = np.sum((matrix.iloc[i] & (~matrix.iloc[j])))\n",
    "            M01 = np.sum(((~matrix.iloc[i]) & matrix.iloc[j]))\n",
    "            \n",
    "            # Compute Jaccard index and store it in the similarity matrix\n",
    "            \n",
    "            similarity_matrix.iloc[i,j] = M11 / (M11 + M10 + M01)\n",
    "            \n",
    "    return similarity_matrix\n",
    "    \n",
    "\n",
    "\n",
    "test = pd.DataFrame([[0,1,1,0],[1,0,1,0],[0,0,0,0],[1,1,1,1],[0,1,0,1]], index = [18,19,20,21,22])\n",
    "\n",
    "\n",
    "display(create_similarity_matrix_jaccard(test))"
   ]
  },
  {
   "cell_type": "code",
   "execution_count": 16,
   "metadata": {
    "deletable": false,
    "editable": false,
    "nbgrader": {
     "cell_type": "code",
     "checksum": "06b6764cef6a479df2869509580a623d",
     "grade": true,
     "grade_id": "cell-9739a4ecad6f4767",
     "locked": true,
     "points": 2,
     "schema_version": 3,
     "solution": false,
     "task": false
    }
   },
   "outputs": [
    {
     "name": "stdout",
     "output_type": "stream",
     "text": [
      "Testing create_similarity_matrix_jaccard function: success!\n"
     ]
    },
    {
     "name": "stderr",
     "output_type": "stream",
     "text": [
      "/var/folders/sm/cz_7jnb54j10y39hkp9d7xhm0000gn/T/ipykernel_3083/1700336920.py:15: RuntimeWarning: invalid value encountered in long_scalars\n",
      "  similarity_matrix.iloc[i,j] = M11 / (M11 + M10 + M01)\n"
     ]
    }
   ],
   "source": [
    "answers.test_5(create_similarity_matrix_jaccard)"
   ]
  },
  {
   "cell_type": "markdown",
   "metadata": {
    "deletable": false,
    "editable": false,
    "nbgrader": {
     "cell_type": "markdown",
     "checksum": "4cf5dbda741ebc4b49fdf8d5ba81ea7a",
     "grade": false,
     "grade_id": "cell-ca7f60342a7268f2",
     "locked": true,
     "schema_version": 3,
     "solution": false,
     "task": false
    }
   },
   "source": [
    "Bereken hieronder de similarity matrix voor de `df_utility_genres` utility matrix. \n",
    "\n",
    "> Het is erg lastig om `create_similarity_matrix_jaccard` zodanig te optimaliseren dat de onderstaande berekening binnen de perken blijft. Als het uitvoeren van de onderstaande cell erg lang duurt mag je onze oplossing voor de functie gebruiken door de bovenste regel te *uncommenten*."
   ]
  },
  {
   "cell_type": "code",
   "execution_count": null,
   "metadata": {
    "deletable": false,
    "editable": false,
    "nbgrader": {
     "cell_type": "code",
     "checksum": "66b7440de5e6b1d0898c58d70eaa069d",
     "grade": false,
     "grade_id": "cell-fddfc712d2ead4f6",
     "locked": true,
     "schema_version": 3,
     "solution": false
    }
   },
   "outputs": [],
   "source": [
    "## uncomment the line below if your solutions takes too much time to run\n",
    "# from cf2 import create_similarity_matrix_jaccard\n",
    "\n",
    "df_similarity_genres = create_similarity_matrix_jaccard(df_utility_genres)\n",
    "display(df_similarity_genres.head())"
   ]
  },
  {
   "cell_type": "markdown",
   "metadata": {
    "deletable": false,
    "editable": false,
    "nbgrader": {
     "cell_type": "markdown",
     "checksum": "42c8773fe0f5365cf47be5234575eb60",
     "grade": false,
     "grade_id": "cell-ccad433314792dc0",
     "locked": true,
     "schema_version": 3,
     "solution": false
    }
   },
   "source": [
    "Heel veel is er niet veranderd ten opzichte van item-based collaborative filtering: we hebben weer een similarity matrix voor films. Alleen, deze keer is de matrix niet gebaseerd op gebruikersinteractie, maar op film-genres. Zou dit beter werken? Er is maar een manier om erachter te komen.\n",
    "\n",
    "### Vraag 6\n",
    "\n",
    "\\[1 pt.\\]\n",
    "\n",
    "Gebruik de similarity matrix `df_similarity_genres` met de functie `predict_ratings` voor het voorspellen van filmvoorkeuren en bereken de mean squared error. Sla het resultaat op in de variabele `mse_genres`."
   ]
  },
  {
   "cell_type": "code",
   "execution_count": null,
   "metadata": {
    "deletable": false,
    "nbgrader": {
     "cell_type": "code",
     "checksum": "5edfd8e9056e0c35bfddc064d88f27da",
     "grade": false,
     "grade_id": "cell-85b9ddab155a10e7",
     "locked": false,
     "schema_version": 3,
     "solution": true
    }
   },
   "outputs": [],
   "source": [
    "from cf2 import create_similarity_matrix_jaccard\n",
    "df_similarity_genres = create_similarity_matrix_jaccard(df_utility_genres)\n",
    "display(df_similarity_genres.head())\n",
    "\n",
    "mse_genres = 0\n",
    "\n",
    "df_predicted_cf_Jac = predict_ratings(df_similarity_genres, df_utility_ratings, actual)\n",
    "mse_genres = mse(actual, df_predicted_cf_Jac)\n",
    "# TODO\n",
    "\n",
    "print(f'mse for content based filtering: {mse_genres:.2f}')"
   ]
  },
  {
   "cell_type": "code",
   "execution_count": null,
   "metadata": {
    "deletable": false,
    "editable": false,
    "nbgrader": {
     "cell_type": "code",
     "checksum": "ed6c403f0978a2274b238fecc051052e",
     "grade": true,
     "grade_id": "test_4",
     "locked": true,
     "points": 1,
     "schema_version": 3,
     "solution": false
    }
   },
   "outputs": [],
   "source": [
    "answers.test_6(mse_genres)"
   ]
  },
  {
   "cell_type": "markdown",
   "metadata": {},
   "source": [
    "### Vraag 7\n",
    "\n",
    "\\[1 pt.\\]\n",
    "\n",
    "Zonder baseline hadden we ook content based filtering met collaborative filtering kunnen vergelijken. Toch ontbreekt dan informatie die essentieel is voor het trekken van conclusies over de methodes. Welke informatie ontbreekt en welke conclusie kunnen we daardoor niet trekken?"
   ]
  },
  {
   "cell_type": "markdown",
   "metadata": {
    "deletable": false,
    "nbgrader": {
     "cell_type": "markdown",
     "checksum": "6f373cd8a98c66e8a8d3c34cf47d2a50",
     "grade": true,
     "grade_id": "cell-e19604b0b3a00e4d",
     "locked": false,
     "points": 1,
     "schema_version": 3,
     "solution": true,
     "task": false
    }
   },
   "source": [
    "Als we alleen de MSE-waarden hebben voor content-based filtering en item-based collaborative filtering zonder een baseline methode te vergelijken, dan missen we informatie over hoe goed de methodes het doen in vergelijking met een simpele baseline voorspelling, zoals de gemiddelde rating.\n",
    "\n",
    "Zonder een baseline kunnen we geen onderscheid maken tussen hoeveel beter of slechter een algoritme presteert ten opzichte van een eenvoudige methode, en dus kunnen we geen conclusie trekken over de daadwerkelijke prestaties van de algoritmes."
   ]
  },
  {
   "cell_type": "markdown",
   "metadata": {},
   "source": [
    "## Precision-recall curve\n",
    "\n",
    "Als we naar de mse kijken lijkt het er op dat de content based filtering met film genres veel beter werkt dan collaborative filtering. Maar is dat ook echt zo?\n",
    "\n",
    "### Vraag 8\n",
    "\n",
    "\\[2 pt.\\]\n",
    "\n",
    "In de vorige opdracht heb je een precision-recall curve gemaakt om wat meer inzicht te krijgen in de prestaties van de algoritmes. Maak hieronder een precision-recall curve waarin je de twee algoritmes die we hierboven hebben geïmplementeerd (item based collaborative filtering en content based filtering op basis van genres) met elkaar vergelijkt. Gebruik weer een vast `treshold_used` en varieer de `treshold_recommended`."
   ]
  },
  {
   "cell_type": "code",
   "execution_count": null,
   "metadata": {
    "deletable": false,
    "nbgrader": {
     "cell_type": "code",
     "checksum": "2f14a06d6d0c4c0b44e0dd0edff33cf5",
     "grade": true,
     "grade_id": "cell-f26bb53b1734e70d",
     "locked": false,
     "points": 2,
     "schema_version": 3,
     "solution": true,
     "task": false
    }
   },
   "outputs": [],
   "source": [
    "# TODO\n",
    "def used(actual, treshold):\n",
    "    # TODO\n",
    "    actual = actual[actual['rating']>= treshold]\n",
    "    return actual.loc[:, actual.columns != 'rating']\n",
    "    \n",
    "\n",
    "def unused(actual, treshold):\n",
    "    # TODO\n",
    "    actual = actual[actual['rating']< treshold]\n",
    "    return actual.loc[:, actual.columns != 'rating']\n",
    "    \n",
    "def recommended(predictions, treshold):\n",
    "    # TODOi\n",
    "    predictions = predictions[predictions['predicted rating'] >= treshold]\n",
    "    return predictions.loc[:, predictions.columns != 'predicted rating']\n",
    "\n",
    "\n",
    "\n",
    "def hidden(predictions, treshold):\n",
    "    # TODO\n",
    "    predictions = predictions[predictions['predicted rating'] < treshold]\n",
    "    return predictions.loc[:, predictions.columns != 'predicted rating']\n",
    "\n",
    "def confusion(recommended, hidden, used, unused):\n",
    "    TP = len(pd.merge(recommended, used, on=['movieId', 'userId']))\n",
    "    FP = len(pd.merge(recommended, unused, on=['movieId', 'userId']))\n",
    "    TN = len(pd.merge(hidden, unused, on=['movieId', 'userId']))\n",
    "    FN =len(pd.merge(hidden, used, on=['movieId', 'userId']))\n",
    "    confusion_matrix = pd.DataFrame([[TP, FP], [FN, TN]], columns=['used', 'unused'], index=['recommended', 'hidden'])\n",
    "    return confusion_matrix\n",
    "\n",
    "def precision(confusion_matrix):\n",
    "    TP = confusion_matrix.iloc[0, 0]\n",
    "    FP = confusion_matrix.iloc[0, 1]\n",
    "    \n",
    "    return TP / (TP + FP)\n",
    "    # TODO\n",
    "def recall(confusion_matrix):\n",
    "    TP = confusion_matrix.iloc[0, 0]\n",
    "    FN = confusion_matrix.iloc[1, 0]\n",
    "    \n",
    "    return TP / (TP + FN)\n",
    "    # TODO\n",
    "\n",
    "treshold_used = 3.75\n",
    "treshold_recommended = [2.5,3.0,3.5,4.0,4.5]\n",
    "\n",
    "used_items = used(actual, treshold_used)\n",
    "unused_items = unused(actual, treshold_used)\n",
    "\n",
    "\n",
    "precisionItem = []\n",
    "recallItem = []\n",
    "\n",
    "precisionJac = []\n",
    "recallJac = []\n",
    "\n",
    "for i in range(len(treshold_recommended)):\n",
    "    recommendeditem = recommended(df_predicted_cf_item_based, treshold_recommended[i])\n",
    "    hiddeditem = hidden(df_predicted_cf_item_based, treshold_recommended[i])\n",
    "    confusionitem = confusion(recommendeditem, hiddeditem, used_items, unused_items)\n",
    "    precisionItem.append(precision(confusionitem))\n",
    "    recallItem.append(recall(confusionitem))\n",
    "    \n",
    "    recommendedJac = recommended(df_predicted_cf_Jac, treshold_recommended[i])\n",
    "    hiddedJac = hidden(df_predicted_cf_Jac, treshold_recommended[i])\n",
    "    confusionJac = confusion(recommendedJac, hiddedJac, used_items, unused_items)\n",
    "    precisionJac.append(precision(confusionJac))\n",
    "    recallJac.append(recall(confusionJac))\n",
    "\n",
    "plt.plot(recallItem, precisionItem)\n",
    "for r, p, t in zip(recallItem, precisionItem, treshold_recommended):\n",
    "    plt.text(r, p, t)\n",
    "\n",
    "plt.plot(recallJac, precisionJac)\n",
    "for r, p, t in zip(recallItem, precisionItem, treshold_recommended):\n",
    "    plt.text(r, p, t)\n",
    "\n",
    "\n",
    "plt.xlim(0.0, 1.0)\n",
    "plt.ylim(0.0, 1.0)\n",
    "plt.xlabel('recall')\n",
    "plt.ylabel('precision')\n",
    "plt.legend(['itemBased', \"Jac\"], loc = 'lower left')"
   ]
  },
  {
   "cell_type": "markdown",
   "metadata": {
    "deletable": false,
    "editable": false,
    "nbgrader": {
     "cell_type": "markdown",
     "checksum": "b1c3d0de125b6bf2373aab6a85d7f6d9",
     "grade": false,
     "grade_id": "cell-e6995d544343333d",
     "locked": true,
     "schema_version": 3,
     "solution": false
    }
   },
   "source": [
    "Welke aanpak is nou beter? Daar valt wederom geen eenduidig antwoord op te geven. Hetgeen we nu weten is dat _voor deze dataset_ content based een wat hogere precision heeft dan collaborative filtering bij een verglijkbare recall. Maar de verschillen zijn erg klein.\n",
    "\n",
    "Wat je in zo'n geval zou kunnen doen (*maar wat wij nu niet gaan doen*) is verder onderzoeken wanneer welke aanpak het beste is en wellicht een systeem maken waarin je beide aanpakken op een slimme manier verenigt. Maar er zijn nog zoveel meer bronnen van informatie die we zouden kunnen gebruiken dan alleen genre en ratings. Het zou verstandig zijn om daar eerst eens naar te kijken."
   ]
  },
  {
   "cell_type": "code",
   "execution_count": null,
   "metadata": {},
   "outputs": [],
   "source": []
  }
 ],
 "metadata": {
  "hide_input": false,
  "kernelspec": {
   "display_name": "Python 3 (ipykernel)",
   "language": "python",
   "name": "python3"
  },
  "language_info": {
   "codemirror_mode": {
    "name": "ipython",
    "version": 3
   },
   "file_extension": ".py",
   "mimetype": "text/x-python",
   "name": "python",
   "nbconvert_exporter": "python",
   "pygments_lexer": "ipython3",
   "version": "3.9.12"
  }
 },
 "nbformat": 4,
 "nbformat_minor": 2
}
