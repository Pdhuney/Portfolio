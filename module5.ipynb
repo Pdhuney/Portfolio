{
 "cells": [
  {
   "cell_type": "markdown",
   "id": "bec53f55",
   "metadata": {
    "deletable": false,
    "editable": false,
    "nbgrader": {
     "cell_type": "markdown",
     "checksum": "93af8a6be7accc01b6d80ed8343e4749",
     "grade": false,
     "grade_id": "cell-7ce301d7c8715a37",
     "locked": true,
     "schema_version": 3,
     "solution": false,
     "task": false
    }
   },
   "source": [
    "# Module 5: Matrices\n",
    "\n",
    "In de komende twee modules ga je _matrixfactorisatie_ implementeren. Dit is een veelgebruikte techniek voor _collaborative filtering_. \n",
    "\n",
    "Je mening over de film Pulp Fiction en je mening over de film Resevoir Dogs zijn niet twee totaal verschillende meningen. De films bevatten zoveel overeenkomsten (regisseur, acteurs, filmstijl, genres, etc...) dat de meeste mensen die de ene film goed vinden ook de ander film goed zullen vinden. Met matrixfactorisatie proberen we deze meningen op een slimme manier samen te vatten: In plaats van het onthouden van een rating voor Pulp Fiction en een rating voor Resevoir Dogs, gebruiken we een wiskundige truc die de filmsmaak van gebruikers op een efficiëntere manier codeert.\n",
    "\n",
    "Het elegante van matrixfactorisatie is dat het een zeer algemene techniek is die veel meer toepassingen heeft dan alleen recommender systems. Je zal deze techniek (of tenminste aspecten/varianten ervan) in de toekomst waarschijnlijk nog wel vaker tegenkomen.\n",
    "\n",
    "Om matrixfactorisatie te kunnen implementeren moeten we een aantal fundamentele aspecten van machine learning en lineaire algebra behandelen. Deze module gaat vooral over de lineaire algebra, en de volgende module gaat vooral over de benodigde machine learning.\n",
    "\n",
    "Deze module bestaat uit vijf delen:\n",
    "- Deel 1: matrix transponeren (_transpose_) \n",
    "- Deel 2: vector inproduct (vector _dot product_)\n",
    "- Deel 3: matrix inproduct (matrix _dot product_)\n",
    "- Deel 4: _mean square error_\n",
    "- Deel 5: andere matrixoperaties\n",
    "\n"
   ]
  },
  {
   "cell_type": "markdown",
   "id": "5357632c",
   "metadata": {
    "deletable": false,
    "editable": false,
    "nbgrader": {
     "cell_type": "markdown",
     "checksum": "fe400076b7460a6287e2d199e881708d",
     "grade": false,
     "grade_id": "cell-24219fa81fc8d790",
     "locked": true,
     "schema_version": 3,
     "solution": false,
     "task": false
    }
   },
   "source": [
    "# Packages en data\n",
    "Begin met het laden van de benodigde packages hieronder."
   ]
  },
  {
   "cell_type": "code",
   "execution_count": null,
   "id": "1a7e3799",
   "metadata": {
    "deletable": false,
    "editable": false,
    "nbgrader": {
     "cell_type": "code",
     "checksum": "94fbd5ddf7d9d92df5d700d1dea961cd",
     "grade": false,
     "grade_id": "cell-6d570344526f00e6",
     "locked": true,
     "schema_version": 3,
     "solution": false,
     "task": false
    }
   },
   "outputs": [],
   "source": [
    "import pandas as pd\n",
    "import numpy as np\n",
    "import matplotlib.pyplot as plt\n",
    "from tqdm import tqdm\n",
    "\n",
    "from helpers import nice, random_df, display_side_by_side\n",
    "import answers\n",
    "\n",
    "data_folder = './data/'"
   ]
  },
  {
   "cell_type": "markdown",
   "id": "8d431745",
   "metadata": {
    "deletable": false,
    "editable": false,
    "nbgrader": {
     "cell_type": "markdown",
     "checksum": "c29a7262cbbfbb82a3841aacdb25c79d",
     "grade": false,
     "grade_id": "cell-6a769e517ee94ab3",
     "locked": true,
     "schema_version": 3,
     "solution": false,
     "task": false
    }
   },
   "source": [
    "Laad de onderstaande tabel:"
   ]
  },
  {
   "cell_type": "code",
   "execution_count": null,
   "id": "db59449d",
   "metadata": {
    "deletable": false,
    "editable": false,
    "nbgrader": {
     "cell_type": "code",
     "checksum": "c004f2c0bb1a2179b0bc8eb5390a3574",
     "grade": false,
     "grade_id": "cell-78520cbbe608382c",
     "locked": true,
     "schema_version": 3,
     "solution": false,
     "task": false
    }
   },
   "outputs": [],
   "source": [
    "pre_defined_items = pd.read_csv(f'{data_folder}three_genres_movies.csv', index_col = 'movieName')\n",
    "display(nice(pre_defined_items))"
   ]
  },
  {
   "cell_type": "markdown",
   "id": "7f720c52",
   "metadata": {
    "deletable": false,
    "editable": false,
    "nbgrader": {
     "cell_type": "markdown",
     "checksum": "a51d2c6bee33b5f3cc0bd6ad154cd600",
     "grade": false,
     "grade_id": "cell-1e925fca69df3e20",
     "locked": true,
     "schema_version": 3,
     "solution": false,
     "task": false
    }
   },
   "source": [
    "Deze tabel bevat 19 films. Voor elke film is aangegeven in welke mate deze tot een bepaald genre behoort. Mat als maximum een 1 en als minimum een 0. Zoals je kan zien scoort _Pocahontas_ hoog voor het genre _drama_, scoort _Inception_ hoog voor zowel _drama_ als thriller en is _South Park: Bigger, Longer and Uncut_ vooral een _comedy_ film.\n",
    "\n",
    "In dit geval zijn genres dus niet gemodelleerd als categorische data, maar numerieke data. Met andere woorden, een film kan in meer (1) of mindere (0) mate behoren tot een bepaald genre.\n",
    "\n",
    "We focussen ons voor deze opdracht maar op drie genres (_drama_, _thriller_ en _comedy_). Zo houden we het een beetje overzichtelijk. In werkelijkheid zal je over het algemeen veel meer genres gebruiken. \n",
    "\n",
    "<table style= \"width:100%\"><tr><td style=\"border:1px solid black\">\n",
    "    \n",
    "Je ziet trouwens dat we voor het tonen van de data de functie `nice` gebruiken. Deze geeft de kleurcodering die je in de tabel ziet. Dit is vooral later in deze module handig om het overzicht te houden. \n",
    "    \n",
    "</td></tr></table>\n",
    "\n",
    "We hebben een vergelijkbare tabel voor de gebruikers gemaakt. De onderstaande tabel bevat voor elke gebruiker informatie over welke genres hij/zij over het algemeen leuk vindt.\n",
    "\n",
    "Ook voor deze tabel is per gebruiker, per genre een score toegekend. In dit geval zitten de scores tussen de -1 en de 1. Als de waarde voor een bepaald genre voor een bepaalde gebruiker negatief is, betekent dat dat de gebruiker bij voorkeur geen films van dat genre ziet."
   ]
  },
  {
   "cell_type": "code",
   "execution_count": null,
   "id": "5653b3a3",
   "metadata": {
    "deletable": false,
    "editable": false,
    "nbgrader": {
     "cell_type": "code",
     "checksum": "59bf7590d4ebf4b59c506dcedde74271",
     "grade": false,
     "grade_id": "cell-b689683db976d035",
     "locked": true,
     "schema_version": 3,
     "solution": false,
     "task": false
    }
   },
   "outputs": [],
   "source": [
    "pre_defined_users = pd.read_csv(f'{data_folder}three_genres_users.csv', index_col = 'userId')\n",
    "\n",
    "\n",
    "display(nice(pre_defined_users))"
   ]
  },
  {
   "cell_type": "markdown",
   "id": "7a137a4c",
   "metadata": {
    "deletable": false,
    "editable": false,
    "nbgrader": {
     "cell_type": "markdown",
     "checksum": "4fb39353da307e51861abfe0c6e136c9",
     "grade": false,
     "grade_id": "cell-15e534e9eaa5463d",
     "locked": true,
     "schema_version": 3,
     "solution": false,
     "task": false
    }
   },
   "source": [
    "## Matrices\n",
    "\n",
    "We kunnen deze tabellen beschouwen als **matrices**. Matrices die de genres van films en de voorkeuren van gebruikers karakteriseren. De formele definitie in de lineaire algebra van matrices heeft een stuk meer voeten in de aarde, maar voor deze opdracht kunnen we een matrix simpelweg beschouwen als een tabel met getallen. Alle `DataFrame`s die we in deze opdracht gebruiken zijn matrices. \n",
    "\n",
    "In de lineaire algebra is het gebruikelijk om matrices met een hoofdletter aan te duiden. Voor alle vergelijkingen die we geven in de rest van deze module zullen we de matrix met films hierboven aanduiden met $M$ (movie matrix) en de matrix met gebruikers hierboven aanduiden met $U$ (user matrix).\n",
    "\n",
    "\n",
    "## Dimensies\n",
    "\n",
    "Het is vaak belangrijk om goed in de gaten te houden wat de dimensies van matrices zijn als je er mee gaat werken. De matrix $M$ hierboven bevat 19 rijen (19 films) en 3 kolommen (3 genres). Ofwel, $M$ heeft de dimensies $19 \\times 3$. De matrix $U$ heeft dus de dimensies $30 \\times 3$. \n",
    "\n",
    "\n",
    "# Deel 1: Transponeren\n",
    "\n",
    "De eerste operatie die we moeten leren is het transponeren van de matrix. Het zal later duidelijk worden waarvoor dit nodig is.\n",
    "\n",
    "Het transponeren van de matrix is simpelweg het verwisselen van de kolommen en rijen. Voor, bijvoorbeeld, de gebruikersmatrix $U$ ziet de getransponeerde versie $U^T$ er zo uit:\n",
    "\n",
    "\n",
    "![title](src/users_transposed.png)\n",
    "\n",
    "Ook voor deze tabel is er per gebruiker een score toegekend per genre, maar de dimensies van de getransponeerde matrix zijn omgewisseld: $U$ is een $30\\times 3$ matrix (30 rijen en 3 kolommen), en $U^T$ is een $3\\times 30$ matrix (3 rijen en 30 kolommen).\n",
    "\n",
    "We schrijven de transpose van een matrix $X$ als $X^T$\n",
    "\n",
    "In het algemeen, als we een matrix $X$ hebben:\n",
    "\n",
    "$$\n",
    "X =\n",
    "\\begin{pmatrix}\n",
    "a_1    & b_1    & \\cdots \\\\\n",
    "a_2    & b_2    & \\cdots \\\\\n",
    "a_3    & b_3    & \\cdots \\\\\n",
    "\\vdots & \\vdots & \\ddots\n",
    "\\end{pmatrix}\n",
    "$$\n",
    "\n",
    "ziet de de transpose van die matrix $X^T$ er zo uit:\n",
    "\n",
    "$$\n",
    "X^T = \n",
    "\\begin{pmatrix}\n",
    "a_1    & a_2    & a_3    & \\cdots \\\\\n",
    "b_1    & b_2    & b_3    & \\cdots \\\\\n",
    "\\vdots & \\vdots & \\vdots & \\ddots\n",
    "\\end{pmatrix}\n",
    "$$\n",
    "\n",
    "Dus de rijen van $X$ zijn de kolommen $X^T$.\n"
   ]
  },
  {
   "cell_type": "markdown",
   "id": "e9038057",
   "metadata": {
    "deletable": false,
    "editable": false,
    "nbgrader": {
     "cell_type": "markdown",
     "checksum": "cd3f5bef212091c39a62897eaa8f88ff",
     "grade": false,
     "grade_id": "cell-ef21ee6577e9b351",
     "locked": true,
     "schema_version": 3,
     "solution": false,
     "task": false
    }
   },
   "source": [
    "### Vraag 1 \n",
    "\n",
    "\\[2 pt.\\]\n",
    "\n",
    "Schrijf hieronder de functie `tranpose` die als input een matrix (in dit geval dus een Pandas `DataFrame`) krijgt en als output de getransponeerde variant geeft. Het is de bedoeling dat je zelf deze functie schrijft met een `for`-loop. Je mag dus (nog) geen gebruik maken van de in Pandas ingebouwde transpose (`df.T`). Zorg er ook voor dat de labels van de kolommen en rijen ook wisselen: de labels van de rijen van de input zijn de labels van de kolommen van de output en vise versa. "
   ]
  },
  {
   "cell_type": "code",
   "execution_count": null,
   "id": "4304d0c1",
   "metadata": {
    "deletable": false,
    "nbgrader": {
     "cell_type": "code",
     "checksum": "6ec7b55c2839dd975f90ca33f8d98d70",
     "grade": false,
     "grade_id": "cell-6f2a141337a25ece",
     "locked": false,
     "schema_version": 3,
     "solution": true,
     "task": false
    }
   },
   "outputs": [],
   "source": [
    "def transpose(matrix):\n",
    "    # TODO\n",
    "    "
   ]
  },
  {
   "cell_type": "markdown",
   "id": "4c3fd3ef",
   "metadata": {
    "deletable": false,
    "editable": false,
    "nbgrader": {
     "cell_type": "markdown",
     "checksum": "df3ea720bf1b64d51e9fd81826b1d113",
     "grade": false,
     "grade_id": "cell-51c5622fc62e736f",
     "locked": true,
     "schema_version": 3,
     "solution": false,
     "task": false
    }
   },
   "source": [
    "Probeer hieronder wat voorbeelden uit om te zien of je code naar verwachting werkt."
   ]
  },
  {
   "cell_type": "code",
   "execution_count": null,
   "id": "16e4b649",
   "metadata": {
    "deletable": false,
    "nbgrader": {
     "cell_type": "code",
     "checksum": "d2125ff907c927cf90ce5e67d613fa8f",
     "grade": true,
     "grade_id": "cell-2314e5f3f144b921",
     "locked": false,
     "points": 0,
     "schema_version": 3,
     "solution": true,
     "task": false
    }
   },
   "outputs": [],
   "source": [
    "# example 1: the user matrix\n",
    "\n",
    "pre_defined_users_transposed = transpose(pre_defined_users)\n",
    "display(nice(pre_defined_users_transposed))\n",
    "\n",
    "\n",
    "# try some more examples\n",
    "\n",
    "# TODO\n"
   ]
  },
  {
   "cell_type": "markdown",
   "id": "d68ff325",
   "metadata": {
    "deletable": false,
    "editable": false,
    "nbgrader": {
     "cell_type": "markdown",
     "checksum": "64912239690cff38fe09f3c212d1c9b8",
     "grade": false,
     "grade_id": "cell-674b34bf8807c298",
     "locked": true,
     "schema_version": 3,
     "solution": false,
     "task": false
    }
   },
   "source": [
    "Gebruik de onderstaande test om te kijken of het correct is:"
   ]
  },
  {
   "cell_type": "code",
   "execution_count": null,
   "id": "515b6804",
   "metadata": {
    "deletable": false,
    "editable": false,
    "nbgrader": {
     "cell_type": "code",
     "checksum": "dafb7fede1df8ff05512235ab652503d",
     "grade": true,
     "grade_id": "cell-d21d02a29213be43",
     "locked": true,
     "points": 2,
     "schema_version": 3,
     "solution": false,
     "task": false
    }
   },
   "outputs": [],
   "source": [
    "answers.test_1(pre_defined_users_transposed, pre_defined_users)"
   ]
  },
  {
   "cell_type": "markdown",
   "id": "f6bfdc40",
   "metadata": {
    "deletable": false,
    "editable": false,
    "nbgrader": {
     "cell_type": "markdown",
     "checksum": "e2d5e3bd670f1ca014cb65f46b9d3d1c",
     "grade": false,
     "grade_id": "cell-d91bd53176bd5e79",
     "locked": true,
     "schema_version": 3,
     "solution": false,
     "task": false
    }
   },
   "source": [
    "### checkpoint\n",
    "\n",
    "Veel van de operaties uit de lineaire algebra zitten al in Pandas ingebouwd. Voor het berekenen transpose van de matrix `my_df` kan je simpelweg: \n",
    "\n",
    "`my_df_transposed = my_df.T` \n",
    "\n",
    "schrijven. Vanaf nu mag je dit gebruiken in plaats van je eigen transpose functie."
   ]
  },
  {
   "cell_type": "markdown",
   "id": "3cb3e506",
   "metadata": {
    "deletable": false,
    "editable": false,
    "nbgrader": {
     "cell_type": "markdown",
     "checksum": "3eae4a79d4e1cc2f6ad3cd23fd72d49e",
     "grade": false,
     "grade_id": "cell-7dd66779df5e428e",
     "locked": true,
     "schema_version": 3,
     "solution": false,
     "task": false
    }
   },
   "source": [
    "# Deel 2: Vector inproduct\n",
    "\n",
    "Het volgende concept uit de lineaire algebra dat we nodig hebben is het **vector inproduct** (vector _dot product_). \n",
    "\n",
    "Uiteindelijk willen we weten hoe goed een bepaalde gebruiker een bepaalde film gaat vinden. We willen dus weer een rating voorspellen voor de combinatie van gebruiker en film.\n",
    "\n",
    "### Voorbeeld 1\n",
    "\n",
    "Stel dat we de rating van gebruiker 13 voor de film Inception willen voorspellen dan kunnen we daar het _inproduct_ voor gebruiken.\n",
    "\n",
    "De rij van Inception in de user matrix bevat de scores voor die film. \n",
    "\n",
    "<img src = \"src/movies_select_inception.PNG\" width = 30%>\n",
    "\n",
    "Deze rij kunnen we als een vector beschouwen:\n",
    "\n",
    "$$\n",
    "m_{\\textrm{inception}} = (0.63, 0.92, 0.44)\n",
    "$$\n",
    "\n",
    "Waarbij het eerste element aangeeft dat de film 0.63 scoort voor het genre _drama_, het tweede element geeft aan dat de film 0.92 scoort voor het genre _thriller_ en het derde element geeft aan dat de film 0.44 scoort voor _comedy_.\n",
    "\n",
    "\n",
    "<table style= \"width:100%\"><tr><td style=\"border:1px solid black\">\n",
    "    \n",
    "Een vector is niet hetzelfde als een matrix. Een vector heeft net als een matrix een exacte definitie in lineaire algebra, maar voor nu volstaan we met een vector simpelweg te definiëren als een lijst van getallen. In dit notebook implemeneteren we een vector als een Pandas `Series`.\n",
    "    \n",
    "</td></tr></table>\n",
    "\n",
    "We kunnen op dezelfde manier de scores van de gebruiker 13 uit de kolom van de getransponeerde gebruikersmatrix halen:\n",
    "\n",
    "<img src = \"src/users_select_13.PNG\" width = 40%>\n",
    "\n",
    "En ook deze kolom kunnen we interpreteren als een vector:\n",
    "\n",
    "$$\n",
    "u_{13} = (0.75, 0.75, 0.29)\n",
    "$$\n",
    "\n",
    "Deze gebruiker heeft dus een score van 0.75 voor zowel _drama_ als _thriller_ en een score van 0.29 voor _comedy_.\n",
    "\n",
    "\n",
    "\n",
    "We kunnen nu de voorspelde rating berekenen door per genre de score van Inception te vermenigvuldigen met de score van gebruiker. We doen dit voor elk genre en tellen de uitkomsten bij elkaar op:\n",
    "\n",
    "$$\n",
    "m_{\\textrm{inception, drama}} \\cdot u_{13,\\textrm{ drama}} + m_{\\textrm{inception, thriller}} \\cdot u_{13,\\textrm{ thriller}} + m_{\\textrm{inception, comedy}} \\cdot u_{13,\\textrm{ comedy}} = 0.63 \\cdot 0.75 + 0.92 \\cdot 0.75 + 0.44 \\cdot 0.29 = 1.2901\n",
    "$$\n",
    "\n",
    "Dus, de voorspelde rating voor gebruiker 13 voor Inception is $1.2901$. We schrijven dit inproduct als volgt:\n",
    "\n",
    "$$ \n",
    "m_{\\textrm{inception}} \\cdot u_{13} = 1.2901\n",
    "$$\n",
    "\n",
    "<table style= \"width:100%\"><tr><td style=\"border:1px solid black\">\n",
    "    \n",
    "Dit is overigens geen rating op een schaal van 0 en 5 zoals in eerdere opdrachten. De score is op een schaal van 0 tot 1, waarbij alles boven de 1 wordt gezien als een 1 en alles onder de 0 wordt gezien als een 0. Een score van 1.29 is ruim de maximale rating.\n",
    "\n",
    "</td></tr></table>\n",
    "\n",
    "### Definitie\n",
    "\n",
    "In het algemeen als we twee vectoren hebben $a = (a_1, a_2, \\ldots, a_n)$ en $b = (b_1, b_2, \\ldots, b_n)$ is het **inproduct** (_dot product_) gedefinieerd als volgt:\n",
    "\n",
    "$$\n",
    "a \\cdot b = a_1\\cdot b_1 + a_2\\cdot b_2 + \\ldots + a_n\\cdot b_n\n",
    "$$\n",
    "\n",
    "\n",
    "### Voorbeeld 2\n",
    "\n",
    "Als we in plaats van de film Inception de film Dumb & Dumber gebruiken krijgen we de volgende vector $m_{\\textrm{dumb&dumber}} = (0.00, 0.17, 1.00)$. Als we de rating van gebruiker 13 voor Dumb & Dumber willen weten kunnen we weer het inproduct gebruiken:\n",
    "\n",
    "$$\n",
    "m_{\\textrm{dumb&dumber}} \\cdot u_{13} = 0.00 \\cdot 0.75 + 0.17 \\cdot 0.75 + 1.00 \\cdot 0.29 = 0.4175\n",
    "$$\n",
    "\n",
    "De voorspelde rating voor Dumb & Dumber is veel lager dan die voor Inception. Dat is niet zo gek aangezien Dumb & Dumber vooral hoog scoort voor het genre _comedy_ (1.00) terwijl de gebruiker juist een relatief lage score heeft voor dat genre (0.29). Met andere woorden, Dumb & Dumber is vooral een _comedy_ film terwijl de gebruiker duidelijk niet veel van _comedy_ houdt.\n",
    "\n",
    "### Beperking\n",
    "\n",
    "Het is belangrijk om je te realiseren dat de bovenstaande aanpak alleen maar werkt omdat het aantal genres voor de gebruikers overeenkomen met het aantal genres voor de films. Als we bijvoorbeeld voor de films 4 genres weten en voor de gebruikers 2, dan werkt de bovenstaande logica niet, omdat we geen inproduct tussen een vector met 2 elementen en een vector met 4 elementen kunnen bepalen. Stel \n",
    "\n",
    "$$\n",
    "m_{\\textrm{inception}} = (0.63, 0.92, 0.44, 0.18)\n",
    "$$\n",
    "\n",
    "en\n",
    "\n",
    "$$\n",
    "u_{13} = (0.75, 0.75)\n",
    "$$\n",
    "\n",
    "Dan is het inproduct, $m_{\\textrm{inception}} \\cdot u_{13} = 0.63 \\cdot 0.75 + 0.92 \\cdot 0.75 + 0.44 \\cdot \\mathbf{??} + 0.18 \\cdot \\mathbf{??} = \\mathbf{????}$, niet gedefinieerd.\n",
    "\n",
    "Met andere woorden, het inproduct tussen twee vectoren is alleen gedefnieerd als beide vectoren dezelfde lengte hebben."
   ]
  },
  {
   "cell_type": "markdown",
   "id": "960cb6be",
   "metadata": {
    "deletable": false,
    "editable": false,
    "nbgrader": {
     "cell_type": "markdown",
     "checksum": "714d36c20c6418837a713d06bd15233d",
     "grade": false,
     "grade_id": "cell-322ef925e7992ee0",
     "locked": true,
     "schema_version": 3,
     "solution": false,
     "task": false
    }
   },
   "source": [
    "### Vraag 2\n",
    "\n",
    "\\[2 pt.\\]\n",
    "\n",
    "Schrijf hieronder de functie `dot_v`. Deze functie berekent het inproduct van twee vectoren (Pandas `Series`). Dit moet voor twee `Series` van arbitraire (maar gelijke) lengte werken.\n",
    "\n",
    "Je mag hier niet de `@`-operator gebruiker, mocht je deze al kennen. Je moet het product echt zelf met een loop uitwerken."
   ]
  },
  {
   "cell_type": "code",
   "execution_count": null,
   "id": "b2797b8b",
   "metadata": {
    "deletable": false,
    "nbgrader": {
     "cell_type": "code",
     "checksum": "c7bbc154b0f58f56f736e0e715f40c47",
     "grade": false,
     "grade_id": "cell-aa393d6fc8fadc87",
     "locked": false,
     "schema_version": 3,
     "solution": true,
     "task": false
    }
   },
   "outputs": [],
   "source": [
    "def dot_v(v1, v2):\n",
    "    # TODO\n",
    "    \n",
    "\n",
    "# get row for 'Inception' from film matrix\n",
    "m_inception = pre_defined_items.loc['Inception']\n",
    "\n",
    "# get column for 13 from the transposed user matrix \n",
    "u_13 = pre_defined_users_transposed.loc[:,13]\n",
    "\n",
    "# show vectors (pd.Series)\n",
    "print(m_inception)\n",
    "print(u_13)\n",
    "print()\n",
    "\n",
    "# compute dot product between the two vectors\n",
    "print(f'Predicted rating: {dot_v(m_inception, u_13)}')"
   ]
  },
  {
   "cell_type": "markdown",
   "id": "2c7be7d5",
   "metadata": {
    "deletable": false,
    "editable": false,
    "nbgrader": {
     "cell_type": "markdown",
     "checksum": "f507bf6c34b46dbad120d18539686744",
     "grade": false,
     "grade_id": "cell-639ea81b79c766ba",
     "locked": true,
     "schema_version": 3,
     "solution": false,
     "task": false
    }
   },
   "source": [
    "Check hieronder je antwoord:"
   ]
  },
  {
   "cell_type": "code",
   "execution_count": null,
   "id": "f85be79e",
   "metadata": {
    "deletable": false,
    "editable": false,
    "nbgrader": {
     "cell_type": "code",
     "checksum": "a8851255afb8d07a016d626b909f58a0",
     "grade": true,
     "grade_id": "cell-44afbde9ec616755",
     "locked": true,
     "points": 2,
     "schema_version": 3,
     "solution": false,
     "task": false
    }
   },
   "outputs": [],
   "source": [
    "answers.test_2(dot_v)"
   ]
  },
  {
   "cell_type": "markdown",
   "id": "c304572f",
   "metadata": {
    "deletable": false,
    "editable": false,
    "nbgrader": {
     "cell_type": "markdown",
     "checksum": "4330d3635788a65053dcc56995a730e5",
     "grade": false,
     "grade_id": "cell-40842212656ffec1",
     "locked": true,
     "schema_version": 3,
     "solution": false,
     "task": false
    }
   },
   "source": [
    "# Deel 3: Matrix inproduct\n",
    "\n",
    "We hebben hierboven gezien hoe je het _vector_ inproduct kan gebruiken voor het berekenen van een voorspelde rating voor een combinatie van film en gebruiker.\n",
    "\n",
    "Uiteindelijk willen we, net als bij andere algoritmes die je hebt geschreven, een utility matrix maken. In dit geval bevat de matrix de _voorspelde ratings_ van _alle_ combinaties van films en gebruikers. De rijen van matrix bevatten de films en de kolommen de gebruikers. \n",
    "\n",
    "Als we alleen naar de eerste 10 bij 10 elementen kijken, ziet de matrix ziet er ongeveer zo uit:\n",
    "\n",
    "<img src = \"src/utility.PNG\" width = 50%>\n",
    "\n",
    "Hier zie je bijvoorbeeld dat de voorspelde rating van gebruiker 13 voor Inception ongeveer 1.29 is, zoals we hierboven al hadden berekend.\n",
    "\n",
    "We noemen deze matrix van voorspelde ratings $\\hat{R}$. Hierboven is een klein deel van de matrix getoond. In werkelijkheid heeft $\\hat{R}$ de dimensies $19 \\times 30$: 19 rijen (19 films) en 30 kolommen (30 gebruikers). \n",
    "\n",
    "Om deze matrix te bereken kunnen we simpelweg het _vector_ inproduct (de `dot_v` functie) gebruiken op elke combinatie van gebruiker en film. Als we even inzoomen op de eerste drie gebruikers en eerste twee films, dan berekenen we de utility matrix als volgt:\n",
    "\n",
    "$$\n",
    "\\begin{array}\n",
    ".                  & 6                               & 7                               & 8                               & \\cdots\\\\ \n",
    "\\textrm{Babe}      & m_\\textrm{babe}\\cdot u_{6}      & m_\\textrm{babe}\\cdot u_{7}      & m_\\textrm{babe}\\cdot u_{8}      & \\cdots\\\\\n",
    "\\textrm{Inception} & m_\\textrm{inception}\\cdot u_{6} & m_\\textrm{inception}\\cdot u_{7} & m_\\textrm{inception}\\cdot u_{8} & \\cdots\\\\\n",
    "\\hspace{1.5em}\\vdots & \\hspace{1.5em}\\vdots & \\hspace{1.5em}\\vdots & \\hspace{1.5em}\\vdots & \\ddots\n",
    "\\end{array}\n",
    "$$\n",
    "\n",
    "Laten we als voorbeeld even kijken naar het eerste element in de matrix: de voorspelde rating voor gebruiker 6 voor de film Babe. Deze wordt gegeven door het vector inproduct: $m_\\textrm{babe}\\cdot u_{6}$.\n",
    "\n",
    "<table style= \"width:100%\"><tr><td style=\"border:1px solid black\">\n",
    "    \n",
    "Concreet, geeft dit de volgende uitkomst:\n",
    "\n",
    "De waarde voor de vector $m_\\textrm{babe}$ kunnen we uit de matrix met films halen. Deze is $m_\\textrm{babe} = (0.74, 0.22, 0.43)$ (dus, de film Babe heeft de score $0,74$ voor het genre _drama_, $0.22$ voor _thriller_ en $0.43$ voor _comedy_). \n",
    "\n",
    "De waarde voor de vector $u_{6}$ halen we uit de matrix met gebruikers.\n",
    "  Dit geeft $u_{6} = (0.71, -0.65, 0.56)$ (dus, gebruiker 6 heeft de score $0,71$ voor het genre _drama_, $-0.65$ voor _thriller_ en $0.56$ voor _comedy_). \n",
    "\n",
    "Met deze waardes kunnen we het vector inproduct berekenen: $m_\\textrm{babe}\\cdot u_{6} = 0.74 \\cdot 0.71 + 0.22 \\cdot -0.65 + 0.43 \\cdot 0.56 = 0.62$\n",
    "</td></tr></table>\n",
    "\n",
    "Als we dit voor alle velden van de utility matrix doen, dus alle combinaties van films en gebruikers, dan hebben we het **matrix inproduct** tussen de gebruikersmatrix en de filmmatrix berekend. \n",
    "\n",
    "Iets formeler: als $M$ de matrix is met de films en $U^T$ de transponeerde gebruikersmatrix, dan is de utility matrix met de voorspelde ratings ($\\hat{R}$) het inproduct van $M$ en $U^T$. We schrijven dit als volgt:\n",
    "\n",
    "$$\n",
    "\\hat{R} = M \\cdot U^T\n",
    "$$\n",
    "\n",
    "Let erop dat we voor deze definitie voor de gebruikersmatrix de getransponeerde variant nemen ($U^T$). In lineaire algebra is het matrix inproduct zo gedefinieerd dat de *rijen* van de uitkomst (dus de films in matrix $\\hat{R}$) overeen moet komen met de *rijen* in de linker component van de vermenigvuldiging ($M$). En de *kolommen* van uitkomst (dus de gebruikers in matrix $\\hat{R}$) overeen moeten komen met de *kolommen* van de rechter component van de vermenigvuldiging ($U^T$).\n",
    "\n",
    "Ter herinnering, de dimensies van $M$ zijn $19 \\times 3$ (19 rijen/films en 3 kolommen/genres) en de dimensies van $U^T$ zijn $3 \\times 30$ (3 rijen/genres en 30 kolommen/gebruikers). Het resultaat van de matrixvermenigvuldiging, $\\hat{R}$, heeft de dimensies $19 \\times 30$.\n",
    "\n",
    "In het algemeen is het zo dat, met een $k \\times l$ matrix $A$ en een $m \\times n$ matrix $B$, het inproduct $A \\cdot B$ de dimensies $k \\times n$ heeft. \n",
    "\n",
    "Het is ook belangrijk om je te realiseren dat de bovenstaande berekening van $\\hat{R}$ alleen maar werkte omdat het aantal genres voor de gebruikers overeenkwamen met het aantal genres voor de films. Als we bijvoorbeeld voor de films 4 genres weten en voor de gebruikers 2, dan werkt de bovenstaande logica niet, omdat we, zoals we boven hebben gezien alleen een inproduct kunnen bepalen tussen vectoren van gelijke lengte.\n",
    "\n",
    "Dit betekent dat het inproduct van twee de $k \\times l$ matrix $A$ en de $m \\times n$ matrix $B$ alleen is gedefiniëerd als $l = m$.\n",
    "\n",
    "Dus voor de berekening van $\\hat{R}$ gaat het goed, want $l=m={\\rm het\\ aantal\\ genres} = 3$."
   ]
  },
  {
   "cell_type": "markdown",
   "id": "e3c503ed",
   "metadata": {
    "deletable": false,
    "editable": false,
    "nbgrader": {
     "cell_type": "markdown",
     "checksum": "6495d9d880d0b6d6b02036c97d6ccc32",
     "grade": false,
     "grade_id": "cell-627d242437450ac5",
     "locked": true,
     "schema_version": 3,
     "solution": false,
     "task": false
    }
   },
   "source": [
    "### Vraag 3\n",
    "\n",
    "\\[3 pt.\\]\n",
    "\n",
    "Implementeer hieronder de functie `dot`. Deze functie implementeert het matrix inproduct. De DataFrame `output` is al gedefinieerd met de juiste dimensies, maar is nu nog gevuld met 0'en. Schrijf een stuk code dat `output` vult met de juiste waardes. \n",
    "\n",
    "Je mag weer geen gebruik maken van de `@`-operator voor deze opdracht, mocht je deze al kennen.\n",
    "\n",
    "<table style= \"width:100%\"><tr><td style=\"border:1px solid black\">\n",
    "    \n",
    "Tip 1: Je zal een dubbele loop moeten schrijven die over de rijen van matrix 1 en over de kolommen van matrix 2 itereert. \n",
    "\n",
    "Tip 2: In de dubbele loop kan je de `dot_v` van vraag 2 aanroepen voor het berekenen van de voorspelde rating. \n",
    "</td></tr></table>\n"
   ]
  },
  {
   "cell_type": "code",
   "execution_count": null,
   "id": "8d5426d5",
   "metadata": {
    "deletable": false,
    "nbgrader": {
     "cell_type": "code",
     "checksum": "78626d1fd802d6304ac91bf75b28d7bd",
     "grade": false,
     "grade_id": "cell-62e0002cebc1a078",
     "locked": false,
     "schema_version": 3,
     "solution": true,
     "task": false
    }
   },
   "outputs": [],
   "source": [
    "def dot(matrix1, matrix2):\n",
    "    if not matrix1.shape[1] == matrix2.shape[0]:\n",
    "        raise Exception(f'Cannot multiply matrices of dimensions {matrix1.shape} and {matrix2.shape}')\n",
    "    output = pd.DataFrame(0, index = matrix1.index, columns = matrix2.columns)\n",
    "    \n",
    "    # TODO\n",
    "    \n",
    "    \n",
    "    return output\n",
    "\n",
    "\n",
    "predicted = dot(pre_defined_items, pre_defined_users_transposed)\n",
    "\n",
    "# laat de eerste 10x10 waardes zien:\n",
    "display(nice(predicted.iloc[:10,:10]))"
   ]
  },
  {
   "cell_type": "markdown",
   "id": "8d514145",
   "metadata": {
    "deletable": false,
    "editable": false,
    "nbgrader": {
     "cell_type": "markdown",
     "checksum": "7b7668fc53b77fc5e7f0b1ebc8f6dc46",
     "grade": false,
     "grade_id": "cell-5eb46fa73056f764",
     "locked": true,
     "schema_version": 3,
     "solution": false,
     "task": false
    }
   },
   "source": [
    "Test de uitwerking:"
   ]
  },
  {
   "cell_type": "code",
   "execution_count": null,
   "id": "24896fc6",
   "metadata": {
    "deletable": false,
    "editable": false,
    "nbgrader": {
     "cell_type": "code",
     "checksum": "d280e7797269ed97ea0106d8b9581864",
     "grade": true,
     "grade_id": "cell-66c424a247b5ba24",
     "locked": true,
     "points": 3,
     "schema_version": 3,
     "solution": false,
     "task": false
    }
   },
   "outputs": [],
   "source": [
    "answers.test_3(predicted)"
   ]
  },
  {
   "cell_type": "markdown",
   "id": "cf7a6fc8",
   "metadata": {
    "deletable": false,
    "editable": false,
    "nbgrader": {
     "cell_type": "markdown",
     "checksum": "d1f9dc0bffc0ff07441140de2d7b6e0f",
     "grade": false,
     "grade_id": "cell-7643eb78c07bf6c9",
     "locked": true,
     "schema_version": 3,
     "solution": false,
     "task": false
    }
   },
   "source": [
    "Pandas heeft ook het matrix inproduct al ingebouwd. Niet in de vorm van een functie maar in de voor van een operator: `@`. Het matrix inproduct $X = A \\cdot B$ ziet er met Pandas zo uit:\n",
    "\n",
    "    X = A @ B\n",
    "    \n",
    "Je kan vanaf nu de `@` operator gebruiken voor het berekenen van het matrix inproduct. We kunnen de `predicted` matrix dus ook zo berekenen:"
   ]
  },
  {
   "cell_type": "code",
   "execution_count": null,
   "id": "d50a6705",
   "metadata": {
    "deletable": false,
    "editable": false,
    "nbgrader": {
     "cell_type": "code",
     "checksum": "865767f920c0db8045a1c44303f1a7c7",
     "grade": false,
     "grade_id": "cell-89937166f97a494b",
     "locked": true,
     "schema_version": 3,
     "solution": false,
     "task": false
    }
   },
   "outputs": [],
   "source": [
    "predicted = pre_defined_items @ pre_defined_users_transposed\n",
    "display(nice(predicted.iloc[:10,:10]))"
   ]
  },
  {
   "cell_type": "markdown",
   "id": "196371ad",
   "metadata": {
    "deletable": false,
    "editable": false,
    "nbgrader": {
     "cell_type": "markdown",
     "checksum": "a7783d50eda4359f3d253635e3c12189",
     "grade": false,
     "grade_id": "cell-d9123792b95c03e7",
     "locked": true,
     "schema_version": 3,
     "solution": false,
     "task": false
    }
   },
   "source": [
    "# Deel 4: Error\n",
    "\n",
    "We hebben nu gezien hoe we een utility matrix met voorspellingen kunnen genereren. Hiervoor maakten we gebruik van voorgedefinieerde matrices met scores voor genres per gebruiker en per film. Je hebt deze voorgedefinieerde matrices alleen lang niet altijd ter beschikking. Wat we uiteindelijk willen doen is de matrices voor de gebruiker en voor de films genereren (leren) aan de hand van de beschikbare data. Hiervoor hebben we een beetje _machine learning_ nodig.\n",
    "\n",
    "Maar, voordat we daar induiken, willen we eerst weten hoe goed onze huidig voorspellingen zijn. We gaan hier weer de _MSE_ (_mean squared error_) voor gebruiken.\n",
    "\n",
    "Eerst laden we wat review data:"
   ]
  },
  {
   "cell_type": "code",
   "execution_count": null,
   "id": "86156678",
   "metadata": {
    "deletable": false,
    "editable": false,
    "nbgrader": {
     "cell_type": "code",
     "checksum": "f0a61e1a7d036ac937a3d111ddbc0e5e",
     "grade": false,
     "grade_id": "cell-6d781f4bb1f3d99e",
     "locked": true,
     "schema_version": 3,
     "solution": false,
     "task": false
    }
   },
   "outputs": [],
   "source": [
    "ratings = pd.read_csv(f'{data_folder}three_genres_ratings.csv', index_col = 'movieName', dtype={'userId': np.int64})\n",
    "display(ratings)"
   ]
  },
  {
   "cell_type": "markdown",
   "id": "be06edef",
   "metadata": {
    "deletable": false,
    "editable": false,
    "nbgrader": {
     "cell_type": "markdown",
     "checksum": "6167f5d8d5139bad4c4ca5222f999f32",
     "grade": false,
     "grade_id": "cell-94da48877ab880c2",
     "locked": true,
     "schema_version": 3,
     "solution": false,
     "task": false
    }
   },
   "source": [
    "Deze data bevat ratings die gebruikers hebben gegeven voor films. De data is genormaliseerd: de hoogste rating is $1$ en de laagste rating is $0$.\n",
    "\n",
    "We kunnen nu weer de _MSE_ gebruiken om te bepalen hoe goed de voorspellingen waren ten opzichte van deze data. We gaan het nu iets anders aanpakken dan voorheen. Om de _MSE_ te brekenen zetten we de data eerst om in matrixvorm:"
   ]
  },
  {
   "cell_type": "code",
   "execution_count": null,
   "id": "f83088b4",
   "metadata": {
    "deletable": false,
    "editable": false,
    "nbgrader": {
     "cell_type": "code",
     "checksum": "7e07461172c5a581d91baafed6171e9b",
     "grade": false,
     "grade_id": "cell-b6de8638f2a9c1dc",
     "locked": true,
     "schema_version": 3,
     "solution": false,
     "task": false
    }
   },
   "outputs": [],
   "source": [
    "target = ratings.pivot(columns = 'userId', values = 'value').loc[predicted.index, predicted.columns]\n",
    "\n",
    "display(nice(target.iloc[:15,:15], nan = '&middot;'))"
   ]
  },
  {
   "cell_type": "markdown",
   "id": "96a984e9",
   "metadata": {
    "deletable": false,
    "editable": false,
    "nbgrader": {
     "cell_type": "markdown",
     "checksum": "dd0cdd4160876748f11871d4752cef35",
     "grade": false,
     "grade_id": "cell-a7a1655c9ba2cab6",
     "locked": true,
     "schema_version": 3,
     "solution": false,
     "task": false
    }
   },
   "source": [
    "Lang niet alle combinaties van film en user hebben een rating. De combinaties waarvoor geen waarde bekend is zijn ingevuld met `nan`-waardes. Om het printen een beetje overzichtelijk te houden zijn alle `nan`-waardes weergegeven als een puntje ($\\cdot$). \n",
    "\n",
    "Hieronder berekenen we de _mse_ voor de door onze voorspelde matrix `predicted`, gegeven de data `target`. De functie `MSE` hieronder negeert alle `nan` waardes. Dus voor het bereken van de mse wordt alleen gekeken naar de combinaties van films en gebruikers waarover we informatie hebben in onze data.\n",
    "\n",
    "\n",
    "<table style= \"width:100%\"><tr><td style=\"border:1px solid black\">\n",
    "    \n",
    "De onderstaande functie trekt twee matrices van elkaar af (`m2 - m1`). We bespreken in het laatste deel van deze module hoe dat precies werkt.\n",
    "</td></tr></table>"
   ]
  },
  {
   "cell_type": "code",
   "execution_count": null,
   "id": "35b54872",
   "metadata": {
    "deletable": false,
    "editable": false,
    "nbgrader": {
     "cell_type": "code",
     "checksum": "678eaee94bca909f54aae2e93e8bec8c",
     "grade": false,
     "grade_id": "cell-7ce3ce227c439192",
     "locked": true,
     "schema_version": 3,
     "solution": false,
     "task": false
    }
   },
   "outputs": [],
   "source": [
    "def MSE(m1, m2):\n",
    "    se = (m2 - m1)**2\n",
    "    return se.mean().mean()\n",
    "\n",
    "print(MSE(target,predicted))"
   ]
  },
  {
   "cell_type": "markdown",
   "id": "fdd10c25",
   "metadata": {
    "deletable": false,
    "editable": false,
    "nbgrader": {
     "cell_type": "markdown",
     "checksum": "14e968c7d5a88991b56403f2d30db284",
     "grade": false,
     "grade_id": "cell-a57d278f1a2ab06e",
     "locked": true,
     "schema_version": 3,
     "solution": false,
     "task": false
    }
   },
   "source": [
    "Is dit een goede score? Laten we eerst eens kijken hoe goed dit is ten opzichte van willekeurig gokken:"
   ]
  },
  {
   "cell_type": "code",
   "execution_count": null,
   "id": "601b536b",
   "metadata": {
    "deletable": false,
    "editable": false,
    "nbgrader": {
     "cell_type": "code",
     "checksum": "4943c7f5a6fc0e609f57839975f64c3f",
     "grade": false,
     "grade_id": "cell-41fb814cd6cc7d6e",
     "locked": true,
     "schema_version": 3,
     "solution": false,
     "task": false
    }
   },
   "outputs": [],
   "source": [
    "random_prediction = random_df(target.index, target.columns)\n",
    "\n",
    "print(MSE(target,random_prediction))"
   ]
  },
  {
   "cell_type": "markdown",
   "id": "952dde01",
   "metadata": {
    "deletable": false,
    "editable": false,
    "nbgrader": {
     "cell_type": "markdown",
     "checksum": "3810ba47dd6ace474cd7a68b774f5bd6",
     "grade": false,
     "grade_id": "cell-4dc4697484d52ec7",
     "locked": true,
     "schema_version": 3,
     "solution": false,
     "task": false
    }
   },
   "source": [
    "De `random_prediction` geeft een stuk hogere mse dan onze voorspelling. Dat is niet zo gek, want de gebruikers- en filmmatrices die we hebben gebruikt voor onze voorspellingen waren al redelijk geoptimaliseerd."
   ]
  },
  {
   "cell_type": "markdown",
   "id": "cae99b74",
   "metadata": {
    "deletable": false,
    "editable": false,
    "nbgrader": {
     "cell_type": "markdown",
     "checksum": "f4f1bb8fa25633f7446b5cc3e61dcd7c",
     "grade": false,
     "grade_id": "cell-80b7ea48cfe7b2ca",
     "locked": true,
     "schema_version": 3,
     "solution": false,
     "task": false
    }
   },
   "source": [
    "# Deel 5: Andere matrixoperaties\n",
    "\n",
    "## Scalaire vermenigvuldiging\n",
    "\n",
    "Zoals gezegd, willen we uiteindelijk de matrices voor de gebruiker en voor de films genereren (leren) aan de hand van de beschikbare data. Hier gaan we in de volgende module naar kijken. Maar, voor we dat kunnen doen hebben we nog een aantal andere matrixoperaties nodig.\n",
    "\n",
    "Deze opraties hebben geen directe betrekking op de ratings van films (zoals de operaties hierboven wel hebben). Dit zijn operaties waarvan het nut pas echt duidelijk wordt in de volgende module. Hier kijken we alleen kort naar hoe ze werken.\n",
    "\n",
    "Je kan matrices ook met een enkel getal ($\\alpha$) vermenigvuldigen. In dat geval vermenigvuldig je elk getal in de matrix met $\\alpha$:\n",
    "\n",
    "$$\n",
    "2 \\cdot \n",
    "\\begin{pmatrix}\n",
    "3    & 4      \\\\\n",
    "1    & 2      \\\\\n",
    "0    & 4      \\\\\n",
    "\\end{pmatrix}\n",
    "= \n",
    "\\begin{pmatrix}\n",
    "2\\cdot3    & 2\\cdot4      \\\\\n",
    "2\\cdot1    & 2\\cdot2      \\\\\n",
    "2\\cdot0    & 2\\cdot4      \\\\\n",
    "\\end{pmatrix}\n",
    "=\n",
    "\\begin{pmatrix}\n",
    "6    & 8      \\\\\n",
    "2    & 4      \\\\\n",
    "0    & 8      \\\\\n",
    "\\end{pmatrix}\n",
    "$$\n",
    "\n",
    "In het algemeen, gegeven getal $\\alpha$ en matrix $X$:\n",
    "\n",
    "$$\n",
    "X =\n",
    "\\begin{pmatrix}\n",
    "a_1    & b_1    & \\cdots \\\\\n",
    "a_2    & b_2    & \\cdots \\\\\n",
    "a_3    & b_3    & \\cdots \\\\\n",
    "\\vdots & \\vdots & \\ddots\n",
    "\\end{pmatrix}\n",
    "$$\n",
    "\n",
    "is de scalaire vermigvuldiging (een vermenigvuldiging van een getal met een matrix) $\\alpha \\cdot X$ als volgt gedfiniëerd:\n",
    "\n",
    "$$\n",
    "\\alpha \\cdot X =\n",
    "\\begin{pmatrix}\n",
    "\\alpha \\cdot a_1    & \\alpha \\cdot b_1    & \\cdots \\\\\n",
    "\\alpha \\cdot a_2    & \\alpha \\cdot b_2    & \\cdots \\\\\n",
    "\\alpha \\cdot a_3    & \\alpha \\cdot b_3    & \\cdots \\\\\n",
    "\\vdots & \\vdots & \\ddots\n",
    "\\end{pmatrix}\n",
    "$$\n",
    "\n",
    "In Pandas kan je scalaire vermenigvulding met de `*` operator doen:"
   ]
  },
  {
   "cell_type": "code",
   "execution_count": null,
   "id": "3608ecd3",
   "metadata": {
    "deletable": false,
    "editable": false,
    "nbgrader": {
     "cell_type": "code",
     "checksum": "c8dcc8a70084a8e116adeecd739016db",
     "grade": false,
     "grade_id": "cell-12f24acdc10c2274",
     "locked": true,
     "schema_version": 3,
     "solution": false,
     "task": false
    }
   },
   "outputs": [],
   "source": [
    "a = 2\n",
    "X = pd.DataFrame([[3,4],[1,2],[0,4]])\n",
    "M = a * X\n",
    "display(M)"
   ]
  },
  {
   "cell_type": "markdown",
   "id": "f654dc47",
   "metadata": {
    "deletable": false,
    "editable": false,
    "nbgrader": {
     "cell_type": "markdown",
     "checksum": "91112d67abe96025b7b1904073212757",
     "grade": false,
     "grade_id": "cell-b29b626fbe373d17",
     "locked": true,
     "schema_version": 3,
     "solution": false,
     "task": false
    }
   },
   "source": [
    "## Matrices optellen\n",
    "\n",
    "Je kan ook twee matrices bij elkaar optellen:\n",
    "\n",
    "$$\n",
    "\\begin{pmatrix}\n",
    "3    & 4      \\\\\n",
    "1    & 2      \\\\\n",
    "0    & 4      \\\\\n",
    "\\end{pmatrix}\n",
    "+\n",
    "\\begin{pmatrix}\n",
    "0    & 0.5      \\\\\n",
    "1    & 2      \\\\\n",
    "1    & 1      \\\\\n",
    "\\end{pmatrix}\n",
    "=\n",
    "\\begin{pmatrix}\n",
    "3+0    & 4+0.5      \\\\\n",
    "1+1    & 2+2      \\\\\n",
    "0+1    & 4+1      \\\\\n",
    "\\end{pmatrix}\n",
    "=\n",
    "\\begin{pmatrix}\n",
    "3    & 4.5     \\\\\n",
    "2    & 4      \\\\\n",
    "1    & 5      \\\\\n",
    "\\end{pmatrix}\n",
    "$$\n",
    "\n",
    "In het algemeen als we twee matrices $X$ en $Y$ hebben:\n",
    "\n",
    "$$\n",
    "X =\n",
    "\\begin{pmatrix}\n",
    "a_1    & b_1    & \\cdots \\\\\n",
    "a_2    & b_2    & \\cdots \\\\\n",
    "a_3    & b_3    & \\cdots \\\\\n",
    "\\vdots & \\vdots & \\ddots\n",
    "\\end{pmatrix}\n",
    ",\n",
    "Y =\n",
    "\\begin{pmatrix}\n",
    "i_1    & j_1    & \\cdots \\\\\n",
    "i_2    & j_2    & \\cdots \\\\\n",
    "i_3    & j_3    & \\cdots \\\\\n",
    "\\vdots & \\vdots & \\ddots\n",
    "\\end{pmatrix}\n",
    "$$\n",
    "\n",
    "Dan is $X+Y$:\n",
    "\n",
    "$$\n",
    "X + Y =\n",
    "\\begin{pmatrix}\n",
    "a_1    & b_1    & \\cdots \\\\\n",
    "a_2    & b_2    & \\cdots \\\\\n",
    "a_3    & b_3    & \\cdots \\\\\n",
    "\\vdots & \\vdots & \\ddots\n",
    "\\end{pmatrix}\n",
    "+\n",
    "\\begin{pmatrix}\n",
    "i_1    & j_1    & \\cdots \\\\\n",
    "i_2    & j_2    & \\cdots \\\\\n",
    "i_3    & j_3    & \\cdots \\\\\n",
    "\\vdots & \\vdots & \\ddots\n",
    "\\end{pmatrix}\n",
    "=\n",
    "\\begin{pmatrix}\n",
    "a_1+i_1    & b_1+j_1    & \\cdots \\\\\n",
    "a_2+i_2    & b_2+j_2    & \\cdots \\\\\n",
    "a_3+i_3    & b_3+j_3    & \\cdots \\\\\n",
    "\\vdots & \\vdots & \\ddots\n",
    "\\end{pmatrix}\n",
    "$$\n",
    "\n",
    "Dit werk alleen als $X$ en $Y$ dezelfde dimensies hebben (hetzelfde aantal kolommen en rijen). Ja kan op precies dezelfde manier twee matrices van elkaar aftrekken.\n",
    "\n",
    "Je kan in Pandas gewoon de `+` en de `-` operatoren gebruiken voor het optellen en aftrekken van Matrices:"
   ]
  },
  {
   "cell_type": "code",
   "execution_count": null,
   "id": "c9af66dd",
   "metadata": {
    "deletable": false,
    "editable": false,
    "nbgrader": {
     "cell_type": "code",
     "checksum": "ec174a7787fc18bb5096497062a31386",
     "grade": false,
     "grade_id": "cell-70b63c0135107788",
     "locked": true,
     "schema_version": 3,
     "solution": false,
     "task": false
    }
   },
   "outputs": [],
   "source": [
    "a = 2\n",
    "X = pd.DataFrame([[3,4],[1,2],[0,4]])\n",
    "Y = pd.DataFrame([[0,0.5],[1,2],[1,1]])\n",
    "M = X + Y\n",
    "display(M)"
   ]
  },
  {
   "cell_type": "markdown",
   "id": "cd990f59",
   "metadata": {
    "deletable": false,
    "editable": false,
    "nbgrader": {
     "cell_type": "markdown",
     "checksum": "f278a5319856e391426b819aa3948eba",
     "grade": false,
     "grade_id": "cell-0676186d04c80aa0",
     "locked": true,
     "schema_version": 3,
     "solution": false,
     "task": false
    }
   },
   "source": [
    "### Vraag 4\n",
    "\n",
    "\\[1 pt.\\]\n",
    "\n",
    "Gebruik de matrix operatoren `+`, `-`, `*` en `@` om de volgende vergelijkingen uit te werken in Pandas:\n",
    "\n",
    "$$\n",
    "M = a \\cdot (X \\cdot Y^T) - 2 \\cdot X\n",
    "$$\n",
    "\n",
    "Met de waardes voor $X$, $Y$ en $a$ zoals hieronder gegeven."
   ]
  },
  {
   "cell_type": "code",
   "execution_count": null,
   "id": "0b9a5a50",
   "metadata": {
    "deletable": false,
    "nbgrader": {
     "cell_type": "code",
     "checksum": "ac46277f074e2d87a3d715f423fcd168",
     "grade": false,
     "grade_id": "cell-2eca35f67e5b3953",
     "locked": false,
     "schema_version": 3,
     "solution": true,
     "task": false
    }
   },
   "outputs": [],
   "source": [
    "a = 2\n",
    "X = pd.DataFrame([[3,4],[1,2],[0,4]])\n",
    "Y = pd.DataFrame([[0,1],[1,2]])\n",
    "\n",
    "# TODO\n",
    "\n",
    "display(M)"
   ]
  },
  {
   "cell_type": "markdown",
   "id": "c1649f7f",
   "metadata": {
    "deletable": false,
    "editable": false,
    "nbgrader": {
     "cell_type": "markdown",
     "checksum": "eed527d9cc20079050e888a48f8e807b",
     "grade": false,
     "grade_id": "cell-ac2e0c8058ffb7c4",
     "locked": true,
     "schema_version": 3,
     "solution": false,
     "task": false
    }
   },
   "source": [
    "Test je uitwerking:"
   ]
  },
  {
   "cell_type": "code",
   "execution_count": null,
   "id": "a8b3f160",
   "metadata": {
    "deletable": false,
    "editable": false,
    "nbgrader": {
     "cell_type": "code",
     "checksum": "d469cde55ff3b8bc1b341100a2eb94d6",
     "grade": true,
     "grade_id": "cell-8b4c14bd7f3c07e4",
     "locked": true,
     "points": 1,
     "schema_version": 3,
     "solution": false,
     "task": false
    }
   },
   "outputs": [],
   "source": [
    "answers.test_4(M)"
   ]
  },
  {
   "cell_type": "markdown",
   "id": "e81d3737",
   "metadata": {
    "deletable": false,
    "editable": false,
    "nbgrader": {
     "cell_type": "markdown",
     "checksum": "13ecf3c96913aa9b6cb13d28988deb77",
     "grade": false,
     "grade_id": "cell-bebfbe9bc34c9b55",
     "locked": true,
     "schema_version": 3,
     "solution": false,
     "task": false
    }
   },
   "source": [
    "### Vraag 5\n",
    "\n",
    "\\[2 pt.\\]\n",
    "\n",
    "De verminigvuldigen $3 \\times 6$ is hetzelfde als $6 \\times 3$. In het algemeen is het voor getallen zo dat vermenigvuldigen commutatief is. Dat wil zeggen dat $a \\times b$ hetzelfde is als $b \\times a$. \n",
    "\n",
    "Is het inproduct van matrices ook commutatief? Dus, is het zo dat voor twee matrices $A$ en $B$ het inproduct $A \\cdot B$ hetzlefde is als $B \\cdot A$? Waarom wel/niet?"
   ]
  },
  {
   "cell_type": "markdown",
   "id": "b00f0dd3",
   "metadata": {
    "deletable": false,
    "nbgrader": {
     "cell_type": "markdown",
     "checksum": "356187261ca95b9b9b8a4024427fa28d",
     "grade": true,
     "grade_id": "cell-839d65e540ce83b6",
     "locked": false,
     "points": 2,
     "schema_version": 3,
     "solution": true,
     "task": false
    }
   },
   "source": [
    "YOUR ANSWER HERE"
   ]
  },
  {
   "cell_type": "markdown",
   "id": "15b5dda3",
   "metadata": {
    "deletable": false,
    "editable": false,
    "nbgrader": {
     "cell_type": "markdown",
     "checksum": "eb4ee25876254099674bd04f991d4d10",
     "grade": false,
     "grade_id": "cell-6a3191cf2cb5251f",
     "locked": true,
     "schema_version": 3,
     "solution": false,
     "task": false
    }
   },
   "source": [
    "### Klaar\n",
    "\n",
    "Je hebt gezien hoe je matrices kan vermenigvuldigen en hoe je dat kan inzetten om ratings te voorspellen aan de hand van genres. Je hebt gezien hoe je de MSE kan gebruiken om te zien hoe goed die voorspelling is. En je hebt gezien hoe scalaire vermenigvuldiging en optellen en aftrekken voor matrices werken. Hiermee heb je genoeg lineaire algebra gezien voor de volgende module.\n",
    "\n",
    "In de volgende module ga je zien hoe je de matrices met genres kan leren aan de hand van gegeven data. Hiervoor ga je een zeer belangrijke machine learning techniek leren: _gradient descent_ (en een variatie daarop genaamd _alternating least squares_)."
   ]
  }
 ],
 "metadata": {
  "hide_input": false,
  "kernelspec": {
   "display_name": "Python 3 (ipykernel)",
   "language": "python",
   "name": "python3"
  },
  "language_info": {
   "codemirror_mode": {
    "name": "ipython",
    "version": 3
   },
   "file_extension": ".py",
   "mimetype": "text/x-python",
   "name": "python",
   "nbconvert_exporter": "python",
   "pygments_lexer": "ipython3",
   "version": "3.8.12"
  }
 },
 "nbformat": 4,
 "nbformat_minor": 5
}
