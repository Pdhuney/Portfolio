{
 "cells": [
  {
   "cell_type": "markdown",
   "metadata": {
    "deletable": false,
    "editable": false,
    "nbgrader": {
     "cell_type": "markdown",
     "checksum": "0f4a2fad9d60d70e2b5898b34dc2debb",
     "grade": false,
     "grade_id": "cell-0f095c5ac4a4b0cb",
     "locked": true,
     "schema_version": 3,
     "solution": false
    }
   },
   "source": [
    "# Module 2: Feature Spaces en Collaborative Filtering\n",
    "\n",
    "## Doel\n",
    "\n",
    "Services als Bol.com, Amazon, YouTube, Netflix willen allemaal voorspellen welke producten (boeken, films, etc.) jij interessant vindt. In deze opdracht ga je zelf een systeem maken dat zulke voorspellingen kan doen. \n",
    "\n",
    "Vaak gebeurt dit door goed te kijken naar je gedrag op een website. Gebruikers bekijken producten, kopen producten en geven waarderingen (ratings). Deze informatie geeft een beeld van de producten die je leuk vindt. Vervolgens is de kunst om producten te vinden die daar op lijken. De kans is groot dat je die dan ook wel leuk vindt. \n",
    "\n",
    "Een manier om te achterhalen of bijvoorbeeld twee films op elkaar lijken is door de inhoud te vergelijken. (Bijvoorbeeld: Gaan ze bijvoorbeeld over hetzelfde onderwerp? Zijn ze gemaakt door dezelfde regiseur?) Film aanbevelen aan de hand van dit soort vergelijkingen heet _content based filtering_. Daar gaan we in een latere opdracht naar kijken.\n",
    "\n",
    "De opdracht deze week is gericht op _collaborative filtering_. Hierbij is het idee dat het collectieve gedrag van de gebruikers informatie geeft over de producten.\n",
    "\n",
    "In collaborative filtering kan je weer twee strategieën onderscheiden: _user based filtering_ en _item based filtering_. Met user based filtering probeer je er achter te komen in welke mate gebruikers in gedrag op elkaar lijken en daarop gebaseerd een film aan te raden. Met item based filtering probeer je juist vast te stellen in welke mate twee films op elkaar lijken.\n",
    "\n",
    "Welke aanpak is het best? Content based filtering? User based collaborative filtering? Item based collaborative filtering? Daar valt geen eenduidig antwoord op te geven. Dat blijkt enorm af te hangen van de specifieke toepassing.\n",
    "\n",
    "Bij elke aanpak zijn boevendien een hoop subtiele keuzes te maken zijn die de prestaties kunnen beïnvloeden. Je kan bijvoorbeeld verschillende keuzes maken in hoe je meet of twee producten (of gebruikers) op elkaar lijken. Hieronder kom je twee veelgebruikte maten daarvoor tegen: _euclidean similarity_ en _cosine similarity_. En in de praktijk zijn het er nog veel meer dan dat.  \n",
    "\n",
    "## Opbouw\n",
    "\n",
    "In deze module ga je _user based filtering_ en _item based filtering_ uitwerken. In de volgende module ga je de prestaties van deze aanpakken met elkaar vergelijken.\n",
    "\n",
    "## Studiemateriaal\n",
    "\n",
    "- [Collaborative filtering, Harvard CS50](https://www.youtube.com/watch?v=Eeg1DEeWUjA)\n",
    "- [Recommender systems handbook, Springerlink](https://link.springer.com/book/10.1007%2F978-0-387-85820-3) Hoofdstuk 1. Gratis te downloaden vanaf het UvA netwerk.\n",
    "\n",
    "Voor het maken van een collaborative filtering systeem maken we gebruik van de movieLens dataset die je ook in de vorige opdracht hebt gezien. We willen deze data gebruiken om gebruikers een film aan te raden die ze nog niet hebben gezien. Dit willen we doen gebaseerd op de ratings die de gebruiker voor _andere_ films heeft gegeven. \n",
    "\n",
    "We willen dus voor een gebruiker weten hoe goed hij of zij een bepaalde film _waarschijnlijk_ gaat vinden. Als we het probleem herformuleren in termen van ratings: **Gegeven een gebruiker die een bepaalde film nog niet heeft gezien, _voorspel de rating_ die de gebruiker aan de film zou gegeven na het zien van de film.**"
   ]
  },
  {
   "cell_type": "markdown",
   "metadata": {
    "deletable": false,
    "editable": false,
    "nbgrader": {
     "cell_type": "markdown",
     "checksum": "b88aa87d3f2f3816b897b49fb2580792",
     "grade": false,
     "grade_id": "cell-ebfded3b11fcf372",
     "locked": true,
     "schema_version": 3,
     "solution": false
    }
   },
   "source": [
    "## Aan de slag\n",
    "\n",
    "We beginnen met het laden van de libraries die we nodig hebben:"
   ]
  },
  {
   "cell_type": "code",
   "execution_count": 1,
   "metadata": {
    "deletable": false,
    "editable": false,
    "nbgrader": {
     "cell_type": "code",
     "checksum": "6d1f35d4940413f69152c5a5e74723b4",
     "grade": false,
     "grade_id": "cell-57c753859d984f64",
     "locked": true,
     "schema_version": 3,
     "solution": false
    }
   },
   "outputs": [],
   "source": [
    "%load_ext autoreload\n",
    "%autoreload 2\n",
    "\n",
    "import pandas as pd\n",
    "from pandas import Series, DataFrame\n",
    "import numpy as np\n",
    "np.seterr(divide='raise', over='raise', under='raise', invalid='raise')\n",
    "import matplotlib.pyplot as plt\n",
    "import matplotlib.patches as mpatches\n",
    "from mpl_toolkits.mplot3d import Axes3D\n",
    "\n",
    "import answers"
   ]
  },
  {
   "cell_type": "markdown",
   "metadata": {
    "deletable": false,
    "editable": false,
    "nbgrader": {
     "cell_type": "markdown",
     "checksum": "1546b961cb8ac90850546d81bd13d131",
     "grade": false,
     "grade_id": "cell-090834481ac51d09",
     "locked": true,
     "schema_version": 3,
     "solution": false
    }
   },
   "source": [
    "# Deel 1: Item based filtering\n",
    "\n",
    "Uiteindelijk ga je een film aanbevelen aan een gebruiker. Er zijn verschillende manieren om dat te doen. In deze opdracht ga je allereerst collaborative filtering toepassen. Het idee van collaborative filtering is dat we gebruik maken van de interactie van gebruikers om gebruikers items aan te raden. In de MovieLens dataset bestaat die interactie uit de ratings. \n",
    "\n",
    "Eerst kijken naar _item based filtering_. De intuïtie is eenvoudig: als een gebruiker twee verschillende films dezelfde rating geeft, dan is dat een indicatie dat de films op elkaar lijken. Door alle ratings van alle gebruikers te beschouwen kunnen we een redelijk compleet beeld krijgen van de _similarity_ tussen twee films.\n",
    "\n",
    "Dit deel bestaat uit de volgende stappen:\n",
    "1. het lezen van de data\n",
    "2. het transformeren van de data naar een bruikbaar formaat (utility matrix)\n",
    "3. het bepalen van similarities\n",
    "4. het doen van een aanbeveling"
   ]
  },
  {
   "cell_type": "markdown",
   "metadata": {
    "deletable": false,
    "editable": false,
    "nbgrader": {
     "cell_type": "markdown",
     "checksum": "3a327f6fb74bea3d87d0c1029ab2daf3",
     "grade": false,
     "grade_id": "cell-88b845472fcaea59",
     "locked": true,
     "schema_version": 3,
     "solution": false
    }
   },
   "source": [
    "### Data lezen\n",
    "\n",
    "We beginnen met een micro-dataset. Deze kleine set bevat 3 films en 5 gebruikers. Dit is een subset van de [movielens](https://grouplens.org/datasets/movielens/) dataset. Zo kan je straks makkelijk jouw code testen, want je hebt een overzicht over alle data. Ter vergelijking, de originele set bevat 27,000 films en 138,000 gebruikers. De algoritmes die we gaan toepassen werken in principe ook op de volledige dataset, hoewel we in deel drie zullen zien dat daar wel wat haken en ogen aan zitten.\n",
    "\n",
    "De dataset bevat 3 tabellen (dataframes):\n",
    "- **movies**, een tabel met de id van een film, de naam en het genre.\n",
    "- **users**, een table met de id van de gebruiker en de naam.\n",
    "- **ratings**, een tabel met de id van de user, de id van de film, de bijbehorende rating en de timestamp. \n",
    "\n",
    "We zullen in de onderstaande opdrachten alleen gebruik maken van de ratings tabel. De andere twee tabellen zijn er alleen voor onze eigen intuïtie. Het is makkelijker praten over Shrek, dan film 4306.\n",
    "\n",
    "Laad de data: "
   ]
  },
  {
   "cell_type": "code",
   "execution_count": 2,
   "metadata": {
    "deletable": false,
    "editable": false,
    "nbgrader": {
     "cell_type": "code",
     "checksum": "1300e69a9f6612b32b2dfa5a1e960563",
     "grade": false,
     "grade_id": "cell-7f3f311387022d66",
     "locked": true,
     "schema_version": 3,
     "solution": false
    }
   },
   "outputs": [
    {
     "data": {
      "text/html": [
       "<div>\n",
       "<style scoped>\n",
       "    .dataframe tbody tr th:only-of-type {\n",
       "        vertical-align: middle;\n",
       "    }\n",
       "\n",
       "    .dataframe tbody tr th {\n",
       "        vertical-align: top;\n",
       "    }\n",
       "\n",
       "    .dataframe thead th {\n",
       "        text-align: right;\n",
       "    }\n",
       "</style>\n",
       "<table border=\"1\" class=\"dataframe\">\n",
       "  <thead>\n",
       "    <tr style=\"text-align: right;\">\n",
       "      <th></th>\n",
       "      <th>title</th>\n",
       "      <th>genres</th>\n",
       "    </tr>\n",
       "    <tr>\n",
       "      <th>movieId</th>\n",
       "      <th></th>\n",
       "      <th></th>\n",
       "    </tr>\n",
       "  </thead>\n",
       "  <tbody>\n",
       "    <tr>\n",
       "      <th>2571</th>\n",
       "      <td>Matrix, The (1999)</td>\n",
       "      <td>Action|Sci-Fi|Thriller</td>\n",
       "    </tr>\n",
       "    <tr>\n",
       "      <th>2710</th>\n",
       "      <td>Blair Witch Project, The (1999)</td>\n",
       "      <td>Drama|Horror|Thriller</td>\n",
       "    </tr>\n",
       "    <tr>\n",
       "      <th>4306</th>\n",
       "      <td>Shrek (2001)</td>\n",
       "      <td>Adventure|Animation|Children|Comedy|Fantasy|Ro...</td>\n",
       "    </tr>\n",
       "  </tbody>\n",
       "</table>\n",
       "</div>"
      ],
      "text/plain": [
       "                                   title  \\\n",
       "movieId                                    \n",
       "2571                  Matrix, The (1999)   \n",
       "2710     Blair Witch Project, The (1999)   \n",
       "4306                        Shrek (2001)   \n",
       "\n",
       "                                                    genres  \n",
       "movieId                                                     \n",
       "2571                                Action|Sci-Fi|Thriller  \n",
       "2710                                 Drama|Horror|Thriller  \n",
       "4306     Adventure|Animation|Children|Comedy|Fantasy|Ro...  "
      ]
     },
     "metadata": {},
     "output_type": "display_data"
    },
    {
     "data": {
      "text/html": [
       "<div>\n",
       "<style scoped>\n",
       "    .dataframe tbody tr th:only-of-type {\n",
       "        vertical-align: middle;\n",
       "    }\n",
       "\n",
       "    .dataframe tbody tr th {\n",
       "        vertical-align: top;\n",
       "    }\n",
       "\n",
       "    .dataframe thead th {\n",
       "        text-align: right;\n",
       "    }\n",
       "</style>\n",
       "<table border=\"1\" class=\"dataframe\">\n",
       "  <thead>\n",
       "    <tr style=\"text-align: right;\">\n",
       "      <th></th>\n",
       "      <th>movieId</th>\n",
       "    </tr>\n",
       "    <tr>\n",
       "      <th>userId</th>\n",
       "      <th></th>\n",
       "    </tr>\n",
       "  </thead>\n",
       "  <tbody>\n",
       "    <tr>\n",
       "      <th>195</th>\n",
       "      <td>Ada</td>\n",
       "    </tr>\n",
       "    <tr>\n",
       "      <th>542</th>\n",
       "      <td>Nicolai</td>\n",
       "    </tr>\n",
       "    <tr>\n",
       "      <th>204</th>\n",
       "      <td>Isaac</td>\n",
       "    </tr>\n",
       "    <tr>\n",
       "      <th>182</th>\n",
       "      <td>Gotlob</td>\n",
       "    </tr>\n",
       "    <tr>\n",
       "      <th>376</th>\n",
       "      <td>Carl</td>\n",
       "    </tr>\n",
       "  </tbody>\n",
       "</table>\n",
       "</div>"
      ],
      "text/plain": [
       "        movieId\n",
       "userId         \n",
       "195         Ada\n",
       "542     Nicolai\n",
       "204       Isaac\n",
       "182      Gotlob\n",
       "376        Carl"
      ]
     },
     "metadata": {},
     "output_type": "display_data"
    },
    {
     "data": {
      "text/html": [
       "<div>\n",
       "<style scoped>\n",
       "    .dataframe tbody tr th:only-of-type {\n",
       "        vertical-align: middle;\n",
       "    }\n",
       "\n",
       "    .dataframe tbody tr th {\n",
       "        vertical-align: top;\n",
       "    }\n",
       "\n",
       "    .dataframe thead th {\n",
       "        text-align: right;\n",
       "    }\n",
       "</style>\n",
       "<table border=\"1\" class=\"dataframe\">\n",
       "  <thead>\n",
       "    <tr style=\"text-align: right;\">\n",
       "      <th></th>\n",
       "      <th>userId</th>\n",
       "      <th>movieId</th>\n",
       "      <th>rating</th>\n",
       "      <th>timestamp</th>\n",
       "    </tr>\n",
       "  </thead>\n",
       "  <tbody>\n",
       "    <tr>\n",
       "      <th>0</th>\n",
       "      <td>182</td>\n",
       "      <td>2571</td>\n",
       "      <td>5.0</td>\n",
       "      <td>1054779786</td>\n",
       "    </tr>\n",
       "    <tr>\n",
       "      <th>1</th>\n",
       "      <td>182</td>\n",
       "      <td>2710</td>\n",
       "      <td>4.5</td>\n",
       "      <td>1063284735</td>\n",
       "    </tr>\n",
       "    <tr>\n",
       "      <th>2</th>\n",
       "      <td>182</td>\n",
       "      <td>4306</td>\n",
       "      <td>4.0</td>\n",
       "      <td>1054780155</td>\n",
       "    </tr>\n",
       "    <tr>\n",
       "      <th>3</th>\n",
       "      <td>195</td>\n",
       "      <td>2571</td>\n",
       "      <td>3.0</td>\n",
       "      <td>974705726</td>\n",
       "    </tr>\n",
       "    <tr>\n",
       "      <th>4</th>\n",
       "      <td>195</td>\n",
       "      <td>2710</td>\n",
       "      <td>1.0</td>\n",
       "      <td>974706758</td>\n",
       "    </tr>\n",
       "    <tr>\n",
       "      <th>5</th>\n",
       "      <td>195</td>\n",
       "      <td>4306</td>\n",
       "      <td>3.0</td>\n",
       "      <td>994032742</td>\n",
       "    </tr>\n",
       "    <tr>\n",
       "      <th>6</th>\n",
       "      <td>204</td>\n",
       "      <td>2571</td>\n",
       "      <td>4.5</td>\n",
       "      <td>1327183462</td>\n",
       "    </tr>\n",
       "    <tr>\n",
       "      <th>7</th>\n",
       "      <td>204</td>\n",
       "      <td>2710</td>\n",
       "      <td>5.0</td>\n",
       "      <td>1327185697</td>\n",
       "    </tr>\n",
       "    <tr>\n",
       "      <th>8</th>\n",
       "      <td>376</td>\n",
       "      <td>2571</td>\n",
       "      <td>3.5</td>\n",
       "      <td>1364994024</td>\n",
       "    </tr>\n",
       "    <tr>\n",
       "      <th>9</th>\n",
       "      <td>376</td>\n",
       "      <td>2710</td>\n",
       "      <td>1.5</td>\n",
       "      <td>1364994544</td>\n",
       "    </tr>\n",
       "    <tr>\n",
       "      <th>10</th>\n",
       "      <td>376</td>\n",
       "      <td>4306</td>\n",
       "      <td>4.0</td>\n",
       "      <td>1364994164</td>\n",
       "    </tr>\n",
       "    <tr>\n",
       "      <th>11</th>\n",
       "      <td>542</td>\n",
       "      <td>2571</td>\n",
       "      <td>5.0</td>\n",
       "      <td>1163386800</td>\n",
       "    </tr>\n",
       "    <tr>\n",
       "      <th>12</th>\n",
       "      <td>542</td>\n",
       "      <td>2710</td>\n",
       "      <td>0.5</td>\n",
       "      <td>1163387159</td>\n",
       "    </tr>\n",
       "    <tr>\n",
       "      <th>13</th>\n",
       "      <td>542</td>\n",
       "      <td>4306</td>\n",
       "      <td>5.0</td>\n",
       "      <td>1163387194</td>\n",
       "    </tr>\n",
       "  </tbody>\n",
       "</table>\n",
       "</div>"
      ],
      "text/plain": [
       "    userId  movieId  rating   timestamp\n",
       "0      182     2571     5.0  1054779786\n",
       "1      182     2710     4.5  1063284735\n",
       "2      182     4306     4.0  1054780155\n",
       "3      195     2571     3.0   974705726\n",
       "4      195     2710     1.0   974706758\n",
       "5      195     4306     3.0   994032742\n",
       "6      204     2571     4.5  1327183462\n",
       "7      204     2710     5.0  1327185697\n",
       "8      376     2571     3.5  1364994024\n",
       "9      376     2710     1.5  1364994544\n",
       "10     376     4306     4.0  1364994164\n",
       "11     542     2571     5.0  1163386800\n",
       "12     542     2710     0.5  1163387159\n",
       "13     542     4306     5.0  1163387194"
      ]
     },
     "metadata": {},
     "output_type": "display_data"
    }
   ],
   "source": [
    "# Load the micro movielens set. This set contains 5 users and 3 movies\n",
    "\n",
    "movies = pd.read_csv('./micro-movielens/movies.csv', index_col='movieId')\n",
    "users = pd.read_csv('./micro-movielens/users.csv', index_col='userId')\n",
    "ratings = pd.read_csv('./micro-movielens/ratings.csv')\n",
    "\n",
    "display(movies)\n",
    "display(users)\n",
    "display(ratings)"
   ]
  },
  {
   "cell_type": "markdown",
   "metadata": {
    "deletable": false,
    "editable": false,
    "nbgrader": {
     "cell_type": "markdown",
     "checksum": "a9704fa86078299285055a33f5bfbfbd",
     "grade": false,
     "grade_id": "cell-3557105b7778757a",
     "locked": true,
     "schema_version": 3,
     "solution": false
    }
   },
   "source": [
    "### Vraag 1\n",
    "\n",
    "In het algoritme dat we gaan maken hebben we vaak de rating voor een film en gebruiker nodig. Dus het is handig om een functie te maken die dit voor ons opzoekt. Hieronder staat de functie `get_rating()` gedefinieerd. Deze is nog niet helemaal af. Het is de bedoeling dat het de rating van een gebruiker voor een bepaalde film uit de tabel haalt. Bijvoorbeeld, `get_rating(ratings, 182, 2571)` zou `5.0` moeten geven. Randgeval: als er geen rating te vinden is voor de combinatie van film en gebruiker moet `get_rating()` de waarde `NaN` geven. Gebruik `np.nan` hiervoor. \n",
    "\n",
    "Implementeer `get_rating()` hieronder: "
   ]
  },
  {
   "cell_type": "code",
   "execution_count": 3,
   "metadata": {
    "deletable": false,
    "nbgrader": {
     "cell_type": "code",
     "checksum": "283d768e98c9dd1c802da64a15de708b",
     "grade": false,
     "grade_id": "cell-da7d0223a2543f1a",
     "locked": false,
     "schema_version": 3,
     "solution": true
    }
   },
   "outputs": [
    {
     "name": "stdout",
     "output_type": "stream",
     "text": [
      "The rating for user 182 and movie 2710 is 4.5\n",
      "The rating for user 204 and movie 4306 is nan\n"
     ]
    }
   ],
   "source": [
    "# define a helper function for accessing data\n",
    "def get_rating(ratings, userId, movieId):\n",
    "    \"\"\"Given a userId and movieId, this function returns the corresponding rating.\n",
    "       Should return NaN if no rating exists.\"\"\"\n",
    "    rating = ratings[(ratings['userId'] == userId) & (ratings['movieId'] == movieId)]\n",
    "    \n",
    "    \n",
    "    if rating.empty:\n",
    "        return np.nan\n",
    "    \n",
    "    return rating['rating'].values[0]\n",
    "        \n",
    "    \n",
    "# test. This should print:\n",
    "# The rating for user 182 and movie 2710 is 4.5\n",
    "# The rating for user 204 and movie 4306 is nan\n",
    "\n",
    "rating1 = get_rating(ratings, 182, 2710)\n",
    "print(f'The rating for user 182 and movie 2710 is {rating1}')\n",
    "rating2 = get_rating(ratings, 204, 4306)\n",
    "print(f'The rating for user 204 and movie 4306 is {rating2}')"
   ]
  },
  {
   "cell_type": "markdown",
   "metadata": {
    "deletable": false,
    "editable": false,
    "nbgrader": {
     "cell_type": "markdown",
     "checksum": "25d531eb28a1198b2e0597c3926265e4",
     "grade": false,
     "grade_id": "cell-6a58119e4b1f48cd",
     "locked": true,
     "schema_version": 3,
     "solution": false
    }
   },
   "source": [
    "### Check"
   ]
  },
  {
   "cell_type": "code",
   "execution_count": 4,
   "metadata": {
    "deletable": false,
    "editable": false,
    "nbgrader": {
     "cell_type": "code",
     "checksum": "7666057972e34d59b55b9b7dce39b9b0",
     "grade": true,
     "grade_id": "test_1",
     "locked": true,
     "points": 1,
     "schema_version": 3,
     "solution": false
    }
   },
   "outputs": [
    {
     "name": "stdout",
     "output_type": "stream",
     "text": [
      "Check output type: success!\n",
      "Check get_rating(): Success!\n"
     ]
    }
   ],
   "source": [
    "answers.test_1(get_rating, ratings)"
   ]
  },
  {
   "cell_type": "markdown",
   "metadata": {
    "deletable": false,
    "editable": false,
    "nbgrader": {
     "cell_type": "markdown",
     "checksum": "9ce7d28c546dda0e44eb56c7a67106b6",
     "grade": false,
     "grade_id": "cell-a4f0b0b251aba8f3",
     "locked": true,
     "schema_version": 3,
     "solution": false
    }
   },
   "source": [
    "### Feature spaces\n",
    "\n",
    "Voor het analyseren van de data hebben we een tabel nodig waarin we makkelijk kunnen opzoeken wat de gebruikers van de films vonden. Zoals deze tabel:\n",
    "\n",
    "<table border=\"1\" class=\"dataframe\"><thead><tr style=\"text-align: right;\"><th></th><th>182</th><th>195</th><th>204</th><th>376</th><th>542</th></tr></thead><tbody><tr><th>2571</th><td>5.0</td><td>3.0</td><td>4.5</td><td>3.5</td><td>5.0</td></tr><tr><th>2710</th><td>4.5</td><td>1.0</td><td>5.0</td><td>1.5</td><td>0.5</td></tr><tr><th>4306</th><td>4.0</td><td>3.0</td><td>NaN</td><td>4.0</td><td>5.0</td></tr></tbody></table>\n",
    "\n",
    "Zo'n tabel wordt de **utility matrix** genoemd. Hierin is het bijvoorbeeld makkelijk te zien dat gebruiker `542` (Nicolai) de film `2710` (The Blair Witch Project) knap waardeloos vond, met een rating van `0.5`.\n",
    "\n",
    "We zijn bezig met item-based filtering, dus we willen films met elkaar kunnen vergelijken. Het is conventie om die dan op de verticale as te zetten. De rijen zijn dus de _items_ die we met elkaar willen vergelijken, en de kolommonen zijn de _eigenschappen_ van de items (in dit geval de ratings van de gebruikers). Deze eigenschappen worden meestal **features** genoemd. Elke film in deze tabel heeft dus vijf features: de rating van elke gebruiker."
   ]
  },
  {
   "cell_type": "markdown",
   "metadata": {
    "deletable": false,
    "editable": false,
    "nbgrader": {
     "cell_type": "markdown",
     "checksum": "e0d43eaabd70f59fd4f3fe20377b5965",
     "grade": false,
     "grade_id": "cell-52a135baa5de5436",
     "locked": true,
     "schema_version": 3,
     "solution": false
    }
   },
   "source": [
    "### Vraag 2\n",
    "\n",
    "De functie `pivot_ratings()` hieronder is nog niet af en moet de bovenstaande tabel gaan genereren. Het is de bedoeling dat je de functie zelf schrijft; dit betekent dat je de ingebouwde `pivot()` functie van pandas (nog) niet mag gebruiken. Randgeval: als er geen rating te vinden is voor de combinatie van film en gebruiker moet er `NaN` op die plek in de tabel komen. Gebruik ook hier `np.nan`.\n",
    "\n",
    "Tip: je kan eventueel gebruik maken van `get_rating()` die je in de bovenstaande opgaven hebt gedefinieerd."
   ]
  },
  {
   "cell_type": "code",
   "execution_count": 5,
   "metadata": {
    "deletable": false,
    "nbgrader": {
     "cell_type": "code",
     "checksum": "628dee2c6099700ef406547204bee5a2",
     "grade": false,
     "grade_id": "cell-6883873209b41ca7",
     "locked": false,
     "schema_version": 3,
     "solution": true
    }
   },
   "outputs": [
    {
     "data": {
      "text/html": [
       "<div>\n",
       "<style scoped>\n",
       "    .dataframe tbody tr th:only-of-type {\n",
       "        vertical-align: middle;\n",
       "    }\n",
       "\n",
       "    .dataframe tbody tr th {\n",
       "        vertical-align: top;\n",
       "    }\n",
       "\n",
       "    .dataframe thead th {\n",
       "        text-align: right;\n",
       "    }\n",
       "</style>\n",
       "<table border=\"1\" class=\"dataframe\">\n",
       "  <thead>\n",
       "    <tr style=\"text-align: right;\">\n",
       "      <th></th>\n",
       "      <th>182</th>\n",
       "      <th>195</th>\n",
       "      <th>204</th>\n",
       "      <th>376</th>\n",
       "      <th>542</th>\n",
       "    </tr>\n",
       "  </thead>\n",
       "  <tbody>\n",
       "    <tr>\n",
       "      <th>2571</th>\n",
       "      <td>5.0</td>\n",
       "      <td>3.0</td>\n",
       "      <td>4.5</td>\n",
       "      <td>3.5</td>\n",
       "      <td>5.0</td>\n",
       "    </tr>\n",
       "    <tr>\n",
       "      <th>2710</th>\n",
       "      <td>4.5</td>\n",
       "      <td>1.0</td>\n",
       "      <td>5.0</td>\n",
       "      <td>1.5</td>\n",
       "      <td>0.5</td>\n",
       "    </tr>\n",
       "    <tr>\n",
       "      <th>4306</th>\n",
       "      <td>4.0</td>\n",
       "      <td>3.0</td>\n",
       "      <td>NaN</td>\n",
       "      <td>4.0</td>\n",
       "      <td>5.0</td>\n",
       "    </tr>\n",
       "  </tbody>\n",
       "</table>\n",
       "</div>"
      ],
      "text/plain": [
       "      182  195  204  376  542\n",
       "2571  5.0  3.0  4.5  3.5  5.0\n",
       "2710  4.5  1.0  5.0  1.5  0.5\n",
       "4306  4.0  3.0  NaN  4.0  5.0"
      ]
     },
     "metadata": {},
     "output_type": "display_data"
    }
   ],
   "source": [
    "def pivot_ratings(ratings):\n",
    "    \"\"\" takes a rating table as input and computes the utility matrix \"\"\"\n",
    "    user = sorted(list(set(ratings['userId'])))\n",
    "    movies = sorted(list(set(ratings['movieId'])))\n",
    "# Create empty pivot table\n",
    "    pivot = np.empty((len(movies), len(user)))\n",
    "    pivot[:] = np.nan\n",
    "    ratings = ratings.reset_index(drop=True)\n",
    "# Fill in pivot table with ratings\n",
    "    for i in range(len(ratings)):\n",
    "        user_index = user.index(ratings['userId'][i])\n",
    "        movie_index = movies.index(ratings['movieId'][i])\n",
    "        pivot[movie_index, user_index] = ratings['rating'][i]\n",
    "        \n",
    "   \n",
    "# Convert pivot table to a DataFrame\n",
    "    pivot_df = pd.DataFrame(pivot, index=movies, columns=user)\n",
    "    \n",
    "    return pivot_df\n",
    "\n",
    "# test\n",
    "utility_matrix = pivot_ratings(ratings)\n",
    "display(utility_matrix)"
   ]
  },
  {
   "cell_type": "markdown",
   "metadata": {
    "deletable": false,
    "editable": false,
    "nbgrader": {
     "cell_type": "markdown",
     "checksum": "488e91ed78393904f9323bb936342ee2",
     "grade": false,
     "grade_id": "cell-c04ec78f518de423",
     "locked": true,
     "schema_version": 3,
     "solution": false
    }
   },
   "source": [
    "### Check"
   ]
  },
  {
   "cell_type": "code",
   "execution_count": 6,
   "metadata": {
    "deletable": false,
    "editable": false,
    "nbgrader": {
     "cell_type": "code",
     "checksum": "9c32bba1b1a9e9237e5101376b7ce23d",
     "grade": true,
     "grade_id": "test_2",
     "locked": true,
     "points": 1,
     "schema_version": 3,
     "solution": false
    }
   },
   "outputs": [
    {
     "name": "stdout",
     "output_type": "stream",
     "text": [
      "Check output type: success!\n",
      "Testing pivot on complete data set: success!\n",
      "Testing pivot on incomplete data set: success!\n"
     ]
    }
   ],
   "source": [
    "answers.test_2(pivot_ratings, ratings)"
   ]
  },
  {
   "cell_type": "code",
   "execution_count": 7,
   "metadata": {
    "deletable": false,
    "editable": false,
    "nbgrader": {
     "cell_type": "code",
     "checksum": "b5c64aeb9db1caf476629f7dbff155b5",
     "grade": false,
     "grade_id": "cell-eba1c9449a2036d0",
     "locked": true,
     "schema_version": 3,
     "solution": false,
     "task": false
    }
   },
   "outputs": [
    {
     "data": {
      "text/html": [
       "<div>\n",
       "<style scoped>\n",
       "    .dataframe tbody tr th:only-of-type {\n",
       "        vertical-align: middle;\n",
       "    }\n",
       "\n",
       "    .dataframe tbody tr th {\n",
       "        vertical-align: top;\n",
       "    }\n",
       "\n",
       "    .dataframe thead th {\n",
       "        text-align: right;\n",
       "    }\n",
       "</style>\n",
       "<table border=\"1\" class=\"dataframe\">\n",
       "  <thead>\n",
       "    <tr style=\"text-align: right;\">\n",
       "      <th>userId</th>\n",
       "      <th>182</th>\n",
       "      <th>195</th>\n",
       "      <th>204</th>\n",
       "      <th>376</th>\n",
       "      <th>542</th>\n",
       "    </tr>\n",
       "    <tr>\n",
       "      <th>movieId</th>\n",
       "      <th></th>\n",
       "      <th></th>\n",
       "      <th></th>\n",
       "      <th></th>\n",
       "      <th></th>\n",
       "    </tr>\n",
       "  </thead>\n",
       "  <tbody>\n",
       "    <tr>\n",
       "      <th>2571</th>\n",
       "      <td>5.0</td>\n",
       "      <td>3.0</td>\n",
       "      <td>4.5</td>\n",
       "      <td>3.5</td>\n",
       "      <td>5.0</td>\n",
       "    </tr>\n",
       "    <tr>\n",
       "      <th>2710</th>\n",
       "      <td>4.5</td>\n",
       "      <td>1.0</td>\n",
       "      <td>5.0</td>\n",
       "      <td>1.5</td>\n",
       "      <td>0.5</td>\n",
       "    </tr>\n",
       "    <tr>\n",
       "      <th>4306</th>\n",
       "      <td>4.0</td>\n",
       "      <td>3.0</td>\n",
       "      <td>NaN</td>\n",
       "      <td>4.0</td>\n",
       "      <td>5.0</td>\n",
       "    </tr>\n",
       "  </tbody>\n",
       "</table>\n",
       "</div>"
      ],
      "text/plain": [
       "userId   182  195  204  376  542\n",
       "movieId                         \n",
       "2571     5.0  3.0  4.5  3.5  5.0\n",
       "2710     4.5  1.0  5.0  1.5  0.5\n",
       "4306     4.0  3.0  NaN  4.0  5.0"
      ]
     },
     "metadata": {},
     "output_type": "display_data"
    }
   ],
   "source": [
    "def pivot_ratings(ratings):\n",
    "    \"\"\" Takes a rating table as input and computes the utility matrix using pandas pivot function.\n",
    "        Overwrites the pivot function from the previous exercise. \"\"\"\n",
    "    \n",
    "    return ratings.pivot(index = 'movieId', columns = 'userId', values = 'rating') \n",
    "\n",
    "utility_matrix = pivot_ratings(ratings)\n",
    "display(utility_matrix)"
   ]
  },
  {
   "cell_type": "markdown",
   "metadata": {
    "deletable": false,
    "editable": false,
    "nbgrader": {
     "cell_type": "markdown",
     "checksum": "fd2dba1e02271c77f93ed02fcf1bf4b1",
     "grade": false,
     "grade_id": "cell-845866c31592a145",
     "locked": true,
     "schema_version": 3,
     "solution": false
    }
   },
   "source": [
    "De utility matrix geeft ons een hoop informatie over de relatie tussen films en de gebruikers. Dit kunnen we inzichtelijk maken door de data te visualiseren. Laten we eerst wat histogrammen maken:"
   ]
  },
  {
   "cell_type": "code",
   "execution_count": 8,
   "metadata": {
    "deletable": false,
    "editable": false,
    "nbgrader": {
     "cell_type": "code",
     "checksum": "eedc093d377ea1d95b3e2a30a7f9c82c",
     "grade": false,
     "grade_id": "cell-47d52521fb02df1f",
     "locked": true,
     "schema_version": 3,
     "solution": false
    }
   },
   "outputs": [
    {
     "data": {
      "image/png": "[encoded data removed]",
      "text/plain": [
       "<Figure size 1008x144 with 5 Axes>"
      ]
     },
     "metadata": {
      "needs_background": "light"
     },
     "output_type": "display_data"
    }
   ],
   "source": [
    "# create histograms for movie ratings\n",
    "hist = utility_matrix.T.hist(bins=[0,1,2,3,4,5], layout=(1,5), figsize=(14,2));\n",
    "\n",
    "# set axes\n",
    "for ax in hist[0]:\n",
    "    ax.set_ylim(0, 3.1)\n",
    "    ax.set_xlim(-0.1, 5.1)"
   ]
  },
  {
   "cell_type": "markdown",
   "metadata": {
    "deletable": false,
    "editable": false,
    "nbgrader": {
     "cell_type": "markdown",
     "checksum": "5277bac49a6d30541236d6db2b0edc61",
     "grade": false,
     "grade_id": "cell-985cdcc3d46c0be4",
     "locked": true,
     "schema_version": 3,
     "solution": false,
     "task": false
    }
   },
   "source": [
    "### Checkpoint - Pivot functie pandas\n",
    "Vanaf dit punt zullen we gebruik maken van de ingebouwde pivot functie van pandas. Deze is geschreven in C en hoogstwaarschijnlijk dus sneller dan alles wat je zelf zou kunnen bedenken. Dit betekent ook dat, mocht bovenstaande niet gelukt zijn, je nu toch verder kunt werken aan de opdracht."
   ]
  },
  {
   "cell_type": "markdown",
   "metadata": {
    "deletable": false,
    "editable": false,
    "nbgrader": {
     "cell_type": "markdown",
     "checksum": "11d12b3ea0cd85a461be9f638d62b853",
     "grade": false,
     "grade_id": "cell-4fc98da0b7ce42ea",
     "locked": true,
     "schema_version": 3,
     "solution": false
    }
   },
   "source": [
    "### Vraag 3 \n",
    "\n",
    "Gegeven de bovenstaande histogrammen wat is de _naam_ van de film met de gemiddelde hoogste rating? \n",
    "En wat is de _naam_ van de film waarover de meningen het meest verdeeld zijn?"
   ]
  },
  {
   "cell_type": "markdown",
   "metadata": {
    "deletable": false,
    "nbgrader": {
     "cell_type": "markdown",
     "checksum": "8d2db37dbcb662455d8f1491c2ec1730",
     "grade": true,
     "grade_id": "cell-5852535f8ef82f69",
     "locked": false,
     "points": 2,
     "schema_version": 3,
     "solution": true
    }
   },
   "source": [
    "The matrix, The Blair Witch project"
   ]
  },
  {
   "cell_type": "markdown",
   "metadata": {
    "deletable": false,
    "editable": false,
    "nbgrader": {
     "cell_type": "markdown",
     "checksum": "d3391aec3ce664d1d91e5ff2b2466f32",
     "grade": false,
     "grade_id": "cell-6afb0876d188f57e",
     "locked": true,
     "schema_version": 3,
     "solution": false
    }
   },
   "source": [
    "De histogrammen geven nog niet zo heel veel informatie over de films. Door scatterplots te gebruiken kunnen we de data inzichtelijker maken."
   ]
  },
  {
   "cell_type": "code",
   "execution_count": 9,
   "metadata": {
    "deletable": false,
    "editable": false,
    "nbgrader": {
     "cell_type": "code",
     "checksum": "3d6671b708fed6a9e64eaea860483230",
     "grade": false,
     "grade_id": "cell-55ae7620734c603a",
     "locked": true,
     "schema_version": 3,
     "solution": false
    }
   },
   "outputs": [
    {
     "data": {
      "image/png": "[encoded data removed]",
      "text/plain": [
       "<Figure size 432x288 with 1 Axes>"
      ]
     },
     "metadata": {
      "needs_background": "light"
     },
     "output_type": "display_data"
    }
   ],
   "source": [
    "def plot_scatter(matrix, feature1, feature2, colors = ['#e41a1c', '#377eb8', '#4eae4b', '#994fa1', '#ff8101']):\n",
    "    # setup plot\n",
    "    elements = matrix.shape[0]\n",
    "    scatter = matrix.plot.scatter(feature1, feature2, color = colors[:elements])\n",
    "    scatter.set_title('movie rating plot')\n",
    "    \n",
    "    # plot settings\n",
    "    scatter.set_xlim(-0.1, 5.1)\n",
    "    scatter.set_ylim(-0.1, 5.1)\n",
    "    scatter.set_xlabel('rating for userId {}'.format(feature1))\n",
    "    scatter.set_ylabel('rating for userId {}'.format(feature2))\n",
    "    scatter.legend([mpatches.Circle((0,0), 1, fc=c) for c in colors], matrix.index, loc = 'lower right', title = 'movieId')\n",
    "    \n",
    "# scatter plot    \n",
    "plot_scatter(utility_matrix, 542, 182)"
   ]
  },
  {
   "cell_type": "markdown",
   "metadata": {
    "deletable": false,
    "editable": false,
    "nbgrader": {
     "cell_type": "markdown",
     "checksum": "c1153dbfb898db1966767378d56ed190",
     "grade": false,
     "grade_id": "cell-16c954e122239a25",
     "locked": true,
     "schema_version": 3,
     "solution": false
    }
   },
   "source": [
    "In de bovenstaande plot staan de punten voor de drie films. De x-as geeft de rating van Nocolai (542) en de y-as geeft de rating Gotlob (182). We kunnen ons dus de films als punten in een abstracte ruimte voorstellen. Zo'n ruimte wordt een **feature space** genoemt.\n",
    "\n",
    "### Vraag 4\n",
    "\n",
    "Als je naar deze ruimte kijkt, welke films denk je dan dat het meest op elkaar lijken? Waarom?"
   ]
  },
  {
   "cell_type": "markdown",
   "metadata": {
    "deletable": false,
    "nbgrader": {
     "cell_type": "markdown",
     "checksum": "e7aed0b8fcc7f168a6cf52aa5d439140",
     "grade": true,
     "grade_id": "cell-28272fb318652c13",
     "locked": false,
     "points": 2,
     "schema_version": 3,
     "solution": true
    }
   },
   "source": [
    "Shrek en The Matrix, de afstand tussen Shrek en The Matrix is het kleinst."
   ]
  },
  {
   "cell_type": "markdown",
   "metadata": {
    "deletable": false,
    "editable": false,
    "nbgrader": {
     "cell_type": "markdown",
     "checksum": "7f92f31dbdc22cda9717a7547c8d5be4",
     "grade": false,
     "grade_id": "cell-704a2dacec70be6b",
     "locked": true,
     "schema_version": 3,
     "solution": false
    }
   },
   "source": [
    "### Vraag 5\n",
    "\n",
    "Plot de feature space zoals boven, maar dan voor Isaac en Gotlob.\n",
    "\n",
    "Tip: Als je even snel wil kijken welke userId overeenkomt met welke naam kan je het commando `display(users)` gebruiken."
   ]
  },
  {
   "cell_type": "code",
   "execution_count": 10,
   "metadata": {
    "deletable": false,
    "nbgrader": {
     "cell_type": "code",
     "checksum": "257fc90132ad0a2a523b92ad6e985315",
     "grade": true,
     "grade_id": "cell-5e261dd1df2c6788",
     "locked": false,
     "points": 1,
     "schema_version": 3,
     "solution": true
    }
   },
   "outputs": [
    {
     "data": {
      "image/png": "[encoded data removed]",
      "text/plain": [
       "<Figure size 432x288 with 1 Axes>"
      ]
     },
     "metadata": {
      "needs_background": "light"
     },
     "output_type": "display_data"
    }
   ],
   "source": [
    "def plot_scatter(matrix, feature1, feature2, colors = ['#e41a1c', '#377eb8', '#4eae4b', '#994fa1', '#ff8101']):\n",
    "    # setup plot\n",
    "    elements = matrix.shape[0]\n",
    "    scatter = matrix.plot.scatter(feature1, feature2, color = colors[:elements])\n",
    "    scatter.set_title('movie rating plot')\n",
    "    \n",
    "    # plot settings\n",
    "    scatter.set_xlim(-0.1, 5.1)\n",
    "    scatter.set_ylim(-0.1, 5.1)\n",
    "    scatter.set_xlabel('rating for userId {}'.format(feature1))\n",
    "    scatter.set_ylabel('rating for userId {}'.format(feature2))\n",
    "    scatter.legend([mpatches.Circle((0,0), 1, fc=c) for c in colors], matrix.index, loc = 'lower right', title = 'movieId')\n",
    "    \n",
    "# scatter plot    \n",
    "plot_scatter(utility_matrix, 204, 182)\n"
   ]
  },
  {
   "cell_type": "markdown",
   "metadata": {
    "deletable": false,
    "editable": false,
    "nbgrader": {
     "cell_type": "markdown",
     "checksum": "ae375e8efd24208c46427530be7a24cc",
     "grade": false,
     "grade_id": "cell-0c947797a18705a6",
     "locked": true,
     "schema_version": 3,
     "solution": false
    }
   },
   "source": [
    "### Vraag 6\n",
    "\n",
    "Als je naar _deze_ ruimte kijkt, welke films denk je _dan_ dat het meest op elkaar lijken?"
   ]
  },
  {
   "cell_type": "markdown",
   "metadata": {
    "deletable": false,
    "nbgrader": {
     "cell_type": "markdown",
     "checksum": "502f9dfe3228f970e24416eff465fad8",
     "grade": true,
     "grade_id": "cell-49170281175384c0",
     "locked": false,
     "points": 1,
     "schema_version": 3,
     "solution": true
    }
   },
   "source": [
    "The Matrix en The Blair Witch Project"
   ]
  },
  {
   "cell_type": "markdown",
   "metadata": {
    "deletable": false,
    "editable": false,
    "nbgrader": {
     "cell_type": "markdown",
     "checksum": "07c7dc23124fcb9c82578e480cb31847",
     "grade": false,
     "grade_id": "cell-f53be32869f32fdb",
     "locked": true,
     "schema_version": 3,
     "solution": false
    }
   },
   "source": [
    "Door de ratings voor te stellen als een ruimte (een feature space) kan je kijken of twee films fysiek dicht bij elkaar zitten. En dat kan wat zeggen over of de films wellicht op elkaar lijken. Met andere woorden, als veel gebruikers die The Matrix goed vonden ook een positieve beoordeling gegeven aan The Blair Witch Project, dan lijken die films wellicht op elkaar. Een recommender system kan dan kiezen om iemand die The Matrix goed vond ook The Blair Witch Project aan te bevelen.\n",
    "\n",
    "In de bovenstaande voorbeelden gebruikten we steeds een 2D-ruimte, een gebruiker per as. Zoals je zag kan de uitkomst flink verschillen per ruimte. Normaal gesproken gebruik je geen 2D-feature space, maar is het aantal dimensies gelijk aan het aantal features in de tabel. In ons voorbeeld zijn dat vijf dimensies (namelijk de ranking van de vijf gebruikers, Ada, Nicolai, Isaac, Gotlob en Carl). \n",
    "\n",
    "Helaas is een hoog-dimensionale feature space lastig te plotten. Met een beetje moeite kan je nog 3 dimensies plotten:"
   ]
  },
  {
   "cell_type": "code",
   "execution_count": 11,
   "metadata": {
    "deletable": false,
    "editable": false,
    "nbgrader": {
     "cell_type": "code",
     "checksum": "c58a18c9ec4872ad45adee79ed6eecda",
     "grade": false,
     "grade_id": "cell-2edee7cd3c7e945d",
     "locked": true,
     "schema_version": 3,
     "solution": false
    }
   },
   "outputs": [
    {
     "data": {
      "image/png": "[encoded data removed]",
      "text/plain": [
       "<Figure size 432x288 with 1 Axes>"
      ]
     },
     "metadata": {
      "needs_background": "light"
     },
     "output_type": "display_data"
    },
    {
     "data": {
      "text/html": [
       "<div>\n",
       "<style scoped>\n",
       "    .dataframe tbody tr th:only-of-type {\n",
       "        vertical-align: middle;\n",
       "    }\n",
       "\n",
       "    .dataframe tbody tr th {\n",
       "        vertical-align: top;\n",
       "    }\n",
       "\n",
       "    .dataframe thead th {\n",
       "        text-align: right;\n",
       "    }\n",
       "</style>\n",
       "<table border=\"1\" class=\"dataframe\">\n",
       "  <thead>\n",
       "    <tr style=\"text-align: right;\">\n",
       "      <th></th>\n",
       "      <th>movieId</th>\n",
       "    </tr>\n",
       "    <tr>\n",
       "      <th>userId</th>\n",
       "      <th></th>\n",
       "    </tr>\n",
       "  </thead>\n",
       "  <tbody>\n",
       "    <tr>\n",
       "      <th>195</th>\n",
       "      <td>Ada</td>\n",
       "    </tr>\n",
       "    <tr>\n",
       "      <th>542</th>\n",
       "      <td>Nicolai</td>\n",
       "    </tr>\n",
       "    <tr>\n",
       "      <th>204</th>\n",
       "      <td>Isaac</td>\n",
       "    </tr>\n",
       "    <tr>\n",
       "      <th>182</th>\n",
       "      <td>Gotlob</td>\n",
       "    </tr>\n",
       "    <tr>\n",
       "      <th>376</th>\n",
       "      <td>Carl</td>\n",
       "    </tr>\n",
       "  </tbody>\n",
       "</table>\n",
       "</div>"
      ],
      "text/plain": [
       "        movieId\n",
       "userId         \n",
       "195         Ada\n",
       "542     Nicolai\n",
       "204       Isaac\n",
       "182      Gotlob\n",
       "376        Carl"
      ]
     },
     "metadata": {},
     "output_type": "display_data"
    }
   ],
   "source": [
    "def plot3d(matrix, feature1, feature2, feature3, colors = ['#e41a1c', '#377eb8', '#4eae4b', '#994fa1', '#ff8101']):  \n",
    "    # setup 3d plot\n",
    "    fig = plt.figure()\n",
    "    ax = Axes3D(fig, auto_add_to_figure=False)\n",
    "    fig.add_axes(ax)\n",
    "    \n",
    "    # enter data\n",
    "    for i, ind in enumerate(matrix.index):\n",
    "        scatter = ax.scatter(matrix.loc[ind, feature1], matrix.loc[ind, feature2], matrix.loc[ind, feature3], c = colors[i])\n",
    "\n",
    "    # plot settings\n",
    "    ax.legend([mpatches.Circle((0,0), 1, fc=c) for c in colors], matrix.index, loc = 'lower right', title = 'movieId')\n",
    "    ax.set_xlabel('rating for userId {}'.format(feature1))\n",
    "    ax.set_ylabel('rating for userId {}'.format(feature2))\n",
    "    ax.set_zlabel('rating for userId {}'.format(feature3))\n",
    "    \n",
    "    plt.show()\n",
    "\n",
    "plot3d(utility_matrix, 376, 182, 542)\n",
    "display(users)"
   ]
  },
  {
   "cell_type": "markdown",
   "metadata": {
    "deletable": false,
    "editable": false,
    "nbgrader": {
     "cell_type": "markdown",
     "checksum": "2987fe2405f9496e56b8851b7d7cf8b1",
     "grade": false,
     "grade_id": "cell-24d5a22aab695a9d",
     "locked": true,
     "schema_version": 3,
     "solution": false
    }
   },
   "source": [
    "Helaas is zo'n 3D-plot lastig te lezen. Hoe ver liggen de films nou uit elkaar in de bovenstaande plot? Bovendien, we hebben nog meer dimensies die we willen laten zien. Een gebruikelijke manier om zo'n hoger dimensionale ruimte te plotten is een _scatter plot matrix_. Hierin maken we alle scatterplots van alle combinaties van dimensies. Dit werkt al een stuk beter:"
   ]
  },
  {
   "cell_type": "code",
   "execution_count": 12,
   "metadata": {
    "deletable": false,
    "editable": false,
    "nbgrader": {
     "cell_type": "code",
     "checksum": "720f47cb11b1f11d726ea56e3f20cbfc",
     "grade": false,
     "grade_id": "cell-618648f4c6a50519",
     "locked": true,
     "schema_version": 3,
     "solution": false
    }
   },
   "outputs": [
    {
     "data": {
      "image/png": "[encoded data removed]",
      "text/plain": [
       "<Figure size 576x576 with 25 Axes>"
      ]
     },
     "metadata": {
      "needs_background": "light"
     },
     "output_type": "display_data"
    }
   ],
   "source": [
    "def plot_scatter_matrix(matrix, colors = ['#e41a1c', '#377eb8', '#4eae4b', '#994fa1', '#ff8101', '#000000', '#999999'], figsize = (8,8)):\n",
    "    # setup plot\n",
    "    max_val = matrix.max(axis = 1).max()\n",
    "    min_val = matrix.min(axis = 1).min()\n",
    "    fmatrix = matrix.fillna(min_val - 1)\n",
    "    elements = fmatrix.shape[0]\n",
    "    axarr = pd.plotting.scatter_matrix(fmatrix, s = 180.0, c = colors[:elements], figsize=figsize, alpha = 1.0, diagonal = '')\n",
    "    m = fmatrix.shape[1]\n",
    "    max_val = matrix.max(axis = 1).max()\n",
    "    min_val = matrix.min(axis = 1).min()\n",
    "    \n",
    "    # set axes for all subplots\n",
    "    for i in range(m):\n",
    "        for j in range(m):\n",
    "            axarr[i,j].set_xlim(min_val - 0.5, max_val + 0.5)\n",
    "            axarr[i,j].set_ylim(min_val - 0.5, max_val + 0.5)\n",
    "\n",
    "    # set labels for subplots\n",
    "    labels = fmatrix.index \n",
    "    axarr[0,0].legend([mpatches.Circle((0,0),1,fc=c) for c in colors], labels, loc = 'lower left');\n",
    "\n",
    "plot_scatter_matrix(utility_matrix)"
   ]
  },
  {
   "cell_type": "markdown",
   "metadata": {
    "deletable": false,
    "editable": false,
    "nbgrader": {
     "cell_type": "markdown",
     "checksum": "2bc1f883daf607bdc91ce2a4cfc61e33",
     "grade": false,
     "grade_id": "cell-b84774492b93b865",
     "locked": true,
     "schema_version": 3,
     "solution": false
    }
   },
   "source": [
    "### Vraag 7\n",
    "\n",
    "a) Als je naar de bovenstaande scatterplot matrix kijkt, welke twee films denk je dat het meest op elkaar lijken? Beargumenteer.\n",
    "\n",
    "b) Waarom zijn er geen plots getekend op de diagonaal?\n",
    "\n",
    "c) Waarom bevatten sommige plots 3 punten en andere 2?"
   ]
  },
  {
   "cell_type": "markdown",
   "metadata": {
    "deletable": false,
    "nbgrader": {
     "cell_type": "markdown",
     "checksum": "a1daf9fe652dfdb192903763865d3bb8",
     "grade": true,
     "grade_id": "cell-7ec0afc3c0949366",
     "locked": false,
     "points": 2,
     "schema_version": 3,
     "solution": true
    }
   },
   "source": [
    "A) The Matrix en Shrek, voor bijna all punten is de afstand tussen Shrek en Matrix het kleinst in vergelijking tot The Blair witch Project\n",
    "\n",
    "B) Er is geen plot getekend op de diagonaal, omdat ze anders tegen elkaar zouden plotten.\n",
    "\n",
    "C) Sommige mensen hebben niet alle films gezien."
   ]
  },
  {
   "cell_type": "markdown",
   "metadata": {
    "deletable": false,
    "editable": false,
    "nbgrader": {
     "cell_type": "markdown",
     "checksum": "212206a2b91c19d7e9a1e670c09071bc",
     "grade": false,
     "grade_id": "cell-7afb9ae36db057db",
     "locked": true,
     "schema_version": 3,
     "solution": false
    }
   },
   "source": [
    "### Similarity\n",
    "\n",
    "In het vorige deel hebben we gekeken of we aan de hand van de plots van de data konden zien welke films het meest op elkaar lijken. Nu gaan we kijken of we die intuïties iets verder kunnen formaliseren. \n",
    "\n",
    "Uiteindelijk willen we een functie maken die, aan de hand van de gegeven data, kan uitrekenen in welke mate twee films op elkaar lijken.\n",
    "\n",
    "Eerst moeten we een goede definitie van afstand hebben. De eenvoudigste manier is door te kijken naar de verschillen in de ratings van de gebruikers.\n",
    "\n",
    "<table><thead><tr style=\"text-align: center;\"><th></th><th>2571</th><th></th><th>2710</th><th></th><th>difference</th><th></th></tr></thead>\n",
    "<tbody><tr><th>182</th><td>5.0</td><td>-</td><td>4.5</td><td>=</td><td>0.5</td><td>(Gotlob vindt The Matrix beter dan The Blair Witch Project)</td></tr>\n",
    "<tr><th>195</th><td>3.0</td><td>-</td><td>1.0</td><td>=</td><td>2.0</td><td>(Ada vindt beide films even goed)</td></tr>\n",
    "<tr><th>204</th><td>4.5</td><td>-</td><td>5.0</td><td>=</td><td>-0.5</td><td>(Isaac vindt The Matrix een klein beetje slechter)</td></tr>\n",
    "<tr><th>376</th><td>3.5</td><td>-</td><td>1.5</td><td>=</td><td>2.0</td><td>(Carl vindt The Blair Witch Project een stuk slechter)</td></tr>\n",
    "<tr><th>542</th><td>5.0</td><td>-</td><td>0.5</td><td>=</td><td>4.5</td><td>(Nicolai vindt The Blair Witch Project heel veel slechter dan The Matrix)</td></tr>\n",
    "</tbody></table>\n",
    "\n",
    "Vervolgens berekenen we de afstand tussen de twee films door de som van de absolute waarde van deze verschillen te nemen:\n",
    "\n",
    "$$\n",
    "d = {\\rm abs}(0.5) + {\\rm abs}(2.0) + {\\rm abs}(-0.5) + {\\rm abs}(2.0) + {\\rm abs}(4.5) = 10.5\n",
    "$$\n",
    "\n",
    "Deze afstandsmaat noemen we de **manhattan distance** (kijk [hier](https://en.wikipedia.org/wiki/Taxicab_geometry) als je wil weten waarom dit zo heet). Let wel, dit is een afstandsmaat: de waarde wordt _groter_ naarmate de films _minder_ op elkaar lijken. In de praktijk willen we een gelijkheidsmaat: een waarde die groter wordt naarmate de films _meer_ op elkaar lijken. Een afstandsmaat is vrij eenvoudig om te zetten naar een gelijkheidsmaat. Er zijn meerdere manieren waarop dit kan, maar een veelgebruikte functie is:\n",
    "\n",
    "$$\n",
    "s = 1/(1 + d)\n",
    "$$\n",
    "\n",
    "Waarbij $s$ staat voor _similarity_ en $d$ voor de _distance_. In het geval van dit voorbeeld is de similarity dus:\n",
    "\n",
    "$$\n",
    "1 / (1 + 10.5) = 0.087\n",
    "$$\n",
    "\n",
    "Voor de volledigheid geven we ook de formele definitie van de manhattan distance. Gegeven item (film) $x$ en item $y$ met $n$ features (user ratings) definiëren we de manhattan distance $d(x, y)$ als volgt:\n",
    "\n",
    "$$\n",
    "d(x, y) = \\Sigma_{i=1}^{n}|x_{i} - y_{i}|\n",
    "$$ \n",
    "\n",
    "$$\n",
    "s(x, y) = 1/(1 + d(x, y))\n",
    "$$\n",
    "\n",
    "\n",
    "Hier volgt de implementatie van de manhattan distance:"
   ]
  },
  {
   "cell_type": "markdown",
   "metadata": {
    "deletable": false,
    "editable": false,
    "nbgrader": {
     "cell_type": "markdown",
     "checksum": "c989ae7b1a183ac92e6168e57ac9beb8",
     "grade": false,
     "grade_id": "cell-892875243097576e",
     "locked": true,
     "schema_version": 3,
     "solution": false,
     "task": false
    }
   },
   "source": [
    "### Missing values\n",
    "\n",
    "Laten we kijken wat er gebeurt als we Shrek met The Matrix gaan vergelijken:\n",
    "\n",
    "\n",
    "<table><thead><tr style=\"text-align: center;\"><th></th><th>2571</th><th></th><th>4306</th><th></th><th>difference</th><th></th></tr></thead>\n",
    "<tbody><tr><th>182</th><td>5.0</td><td>-</td><td>4.0</td><td>=</td><td>1.0</td><td>(Gotlob vindt The Matrix beter dan Shrek)</td></tr>\n",
    "<tr><th>195</th><td>3.0</td><td>-</td><td>3.0</td><td>=</td><td>0.0</td><td>(Ada vindt beide films even goed)</td></tr>\n",
    "    <tr><th>204</th><td>4.5</td><td>-</td><td><b>NaN</b></td><td>=</td><td><b>NaN</b></td><td>???</td></tr>\n",
    "<tr><th>376</th><td>3.5</td><td>-</td><td>4.0</td><td>=</td><td>-0.5</td><td>(Carl vindt Shrek een klein beetje beter)</td></tr>\n",
    "<tr><th>542</th><td>5.0</td><td>-</td><td>5.0</td><td>=</td><td>0.0</td><td>(Nicolai vindt beide films even goed)</td></tr>\n",
    "</tbody></table>\n",
    "\n",
    "\n",
    "$$\n",
    "d = {\\rm abs}(1.0) + {\\rm abs}(0.0) + {\\rm abs}({\\bf NaN}) + {\\rm abs}(-0.5) + {\\rm abs}(0.0) = {\\bf NaN}\n",
    "$$\n",
    "\n",
    "$$\n",
    "s = 1/(1 + d) = 1/(1 + {\\bf NaN}) = {\\bf NaN}\n",
    "$$\n",
    "\n",
    "...\n",
    "\n",
    "Omdat Shrek een NaN-waarde bevat komt er overal NaN uit. Dit is een probleem. Dit betekent dat we niet kunnen bepalen wat de similarity tussen The Matrix en Shrek is. Dat, terwijl er maar één waarde mist. Dus, als we in de dataset een film hebben die één gebruiker niet heeft gezien, kunnen we daar al geen similarity voor bepalen. Als je naar grotere datasets gaat kijken wordt dit probleem groter: er is altijd wel iemand die een bepaalde film niet gezien heeft.\n",
    "\n",
    "De oplossing is om vóór je de similiarity gaat bepalen, hier iets voor in te vullen. Je zou bijvoorbeeld alle NaN's voor $0$ kunnen vervangen. Dit is eenvoudig, maar niet heel handig. Dan neem je eigenlijk aan dat als iemand de film niet gezien heeft, dat deze persoon de film waardeloos vindt. Dat is waarschijnlijk geen terechte aanname.\n",
    "\n",
    "Een betere oplossing is de gemiddelde rating voor de film te berekenen en die in te vullen voor alle NaN waardes. Voor bijvoorbeeld Shrek nemen we het gemiddelde van alle waardes die we wel kennen: \n",
    "\n",
    "$$\\frac{4.0 + 3.0 + 4.0 + 5.0}{4} = {\\bf 4.0}$$\n",
    "\n",
    "En die vullen we in voor de NaN waarde:\n",
    "\n",
    "<table border=\"1\" class=\"dataframe\"><thead><tr style=\"text-align: right;\"><th></th><th>182</th><th>195</th><th>204</th><th>376</th><th>542</th></tr></thead><tbody><tr><th>2571</th><td>5.0</td><td>3.0</td><td>4.5</td><td>3.5</td><td>5.0</td></tr><tr><th>2710</th><td>4.5</td><td>1.0</td><td>5.0</td><td>1.5</td><td>0.5</td></tr><tr><th>4306</th><td>4.0</td><td>3.0</td><td><b>4.0</b></td><td>4.0</td><td>5.0</td></tr></tbody></table>"
   ]
  },
  {
   "cell_type": "markdown",
   "metadata": {
    "deletable": false,
    "editable": false,
    "nbgrader": {
     "cell_type": "markdown",
     "checksum": "581c13034cf9495a21bc313387ce7644",
     "grade": false,
     "grade_id": "cell-0154cd4e3817f9d2",
     "locked": true,
     "schema_version": 3,
     "solution": false,
     "task": false
    }
   },
   "source": [
    "De functie `fillna_mean()` hieronder vervangt de NaN waardes voor het gemiddelde van de betreffende rij."
   ]
  },
  {
   "cell_type": "code",
   "execution_count": 13,
   "metadata": {
    "deletable": false,
    "editable": false,
    "nbgrader": {
     "cell_type": "code",
     "checksum": "72b1fb81aaf5fcca8e7a95833757a9bf",
     "grade": false,
     "grade_id": "cell-7f7ba1b7996ca4b5",
     "locked": true,
     "schema_version": 3,
     "solution": false,
     "task": false
    }
   },
   "outputs": [
    {
     "data": {
      "text/html": [
       "<div>\n",
       "<style scoped>\n",
       "    .dataframe tbody tr th:only-of-type {\n",
       "        vertical-align: middle;\n",
       "    }\n",
       "\n",
       "    .dataframe tbody tr th {\n",
       "        vertical-align: top;\n",
       "    }\n",
       "\n",
       "    .dataframe thead th {\n",
       "        text-align: right;\n",
       "    }\n",
       "</style>\n",
       "<table border=\"1\" class=\"dataframe\">\n",
       "  <thead>\n",
       "    <tr style=\"text-align: right;\">\n",
       "      <th>userId</th>\n",
       "      <th>182</th>\n",
       "      <th>195</th>\n",
       "      <th>204</th>\n",
       "      <th>376</th>\n",
       "      <th>542</th>\n",
       "    </tr>\n",
       "    <tr>\n",
       "      <th>movieId</th>\n",
       "      <th></th>\n",
       "      <th></th>\n",
       "      <th></th>\n",
       "      <th></th>\n",
       "      <th></th>\n",
       "    </tr>\n",
       "  </thead>\n",
       "  <tbody>\n",
       "    <tr>\n",
       "      <th>2571</th>\n",
       "      <td>5.0</td>\n",
       "      <td>3.0</td>\n",
       "      <td>4.5</td>\n",
       "      <td>3.5</td>\n",
       "      <td>5.0</td>\n",
       "    </tr>\n",
       "    <tr>\n",
       "      <th>2710</th>\n",
       "      <td>4.5</td>\n",
       "      <td>1.0</td>\n",
       "      <td>5.0</td>\n",
       "      <td>1.5</td>\n",
       "      <td>0.5</td>\n",
       "    </tr>\n",
       "    <tr>\n",
       "      <th>4306</th>\n",
       "      <td>4.0</td>\n",
       "      <td>3.0</td>\n",
       "      <td>4.0</td>\n",
       "      <td>4.0</td>\n",
       "      <td>5.0</td>\n",
       "    </tr>\n",
       "  </tbody>\n",
       "</table>\n",
       "</div>"
      ],
      "text/plain": [
       "userId   182  195  204  376  542\n",
       "movieId                         \n",
       "2571     5.0  3.0  4.5  3.5  5.0\n",
       "2710     4.5  1.0  5.0  1.5  0.5\n",
       "4306     4.0  3.0  4.0  4.0  5.0"
      ]
     },
     "metadata": {},
     "output_type": "display_data"
    }
   ],
   "source": [
    "def fill_nan_mean(matrix):\n",
    "    # get the mean for each row\n",
    "    meanv = matrix.mean(axis = 1, skipna=True)\n",
    "    \n",
    "    # fill all nan values with mean \n",
    "    # (fillna only works for collumns, so the matrix is transposed twice)\n",
    "    filled1 = matrix.T.fillna(meanv).T\n",
    "    \n",
    "    # if there's still nan's left, it means the entire row is nan, so\n",
    "    # no mean could be computed. fill with 0 in that case\n",
    "    filled2 = filled1.fillna(0)\n",
    "    return filled2\n",
    "    \n",
    "utility_matrix_filled = fill_nan_mean(utility_matrix)\n",
    "display(utility_matrix_filled)"
   ]
  },
  {
   "cell_type": "code",
   "execution_count": 14,
   "metadata": {
    "deletable": false,
    "editable": false,
    "nbgrader": {
     "cell_type": "code",
     "checksum": "5b3b4202e5f7dd892b5d8dc6e459566e",
     "grade": false,
     "grade_id": "cell-92d646592388428d",
     "locked": true,
     "schema_version": 3,
     "solution": false
    }
   },
   "outputs": [
    {
     "name": "stdout",
     "output_type": "stream",
     "text": [
      "Similarity between The Matrix and Shrek: 0.40\n"
     ]
    }
   ],
   "source": [
    "def manhattan_distance(series1, series2):\n",
    "    \"\"\" Compute manhattan distance between two datapoints. \"\"\"     \n",
    "    # compute the distances for the features\n",
    "    distances = series1 - series2\n",
    "    \n",
    "    # return the absolute sum\n",
    "    return distances.abs().sum()\n",
    "\n",
    "def manhattan_similarity(matrix, id1, id2):\n",
    "    \"\"\" Compute manhattan similarity between two datapoints. Can return a nan-value when there are no shared features. \"\"\"\n",
    "    # compute distance\n",
    "    distance = manhattan_distance(matrix.loc[id1], matrix.loc[id2])\n",
    "    \n",
    "    # else return similarity\n",
    "    return 1 / (1 + distance)\n",
    "\n",
    "similarity = manhattan_similarity(utility_matrix, 2571, 4306)\n",
    "print(f'Similarity between The Matrix and Shrek: {similarity:.2f}')"
   ]
  },
  {
   "cell_type": "markdown",
   "metadata": {
    "deletable": false,
    "editable": false,
    "nbgrader": {
     "cell_type": "markdown",
     "checksum": "426f6746e02767c13494c394bf74e90b",
     "grade": false,
     "grade_id": "cell-f140fcbefe3225d6",
     "locked": true,
     "schema_version": 3,
     "solution": false
    }
   },
   "source": [
    "Net als we eerder de utility matrix hadden gemaakt om gemakkelijk ratings op te kunnen zoeken, zo gaan we nu een matrix maken om makkelijk te kunnen zoeken naar similarity:\n",
    "\n",
    "<table border=\"1\" class=\"dataframe\"><thead><tr style=\"text-align: right;\"><th></th><th>2571</th><th>2710</th><th>4306</th></tr></thead><tbody><tr><th>2571</th><td>1.000000</td><td>0.095238</td><td>0.400000</td></tr><tr><th>2710</th><td>0.095238</td><td>1.000000</td><td>0.095238</td></tr><tr><th>4306</th><td>0.400000</td><td>0.095238</td><td>1.000000</td></tr></tbody></table>\n",
    "\n",
    "### Vraag 8\n",
    "\n",
    "De functie `create_similarity_matrix_manhattan()` hieronder is nog niet af. Er wordt al een matrix met de juiste dimensies gegenereerd, maar de rest is aan jou. Vul de matrix met de juiste similarities:"
   ]
  },
  {
   "cell_type": "code",
   "execution_count": 15,
   "metadata": {
    "deletable": false,
    "nbgrader": {
     "cell_type": "code",
     "checksum": "09dd6a13555c2f8a0a744d8a76d13cd2",
     "grade": false,
     "grade_id": "cell-5bc7ad4513542246",
     "locked": false,
     "schema_version": 3,
     "solution": true
    }
   },
   "outputs": [
    {
     "name": "stdout",
     "output_type": "stream",
     "text": [
      "movieId      2571      2710      4306\n",
      "movieId                              \n",
      "2571     1.000000  0.095238  0.400000\n",
      "2710     0.095238  1.000000  0.095238\n",
      "4306     0.400000  0.095238  1.000000\n"
     ]
    },
    {
     "data": {
      "text/html": [
       "<div>\n",
       "<style scoped>\n",
       "    .dataframe tbody tr th:only-of-type {\n",
       "        vertical-align: middle;\n",
       "    }\n",
       "\n",
       "    .dataframe tbody tr th {\n",
       "        vertical-align: top;\n",
       "    }\n",
       "\n",
       "    .dataframe thead th {\n",
       "        text-align: right;\n",
       "    }\n",
       "</style>\n",
       "<table border=\"1\" class=\"dataframe\">\n",
       "  <thead>\n",
       "    <tr style=\"text-align: right;\">\n",
       "      <th>movieId</th>\n",
       "      <th>2571</th>\n",
       "      <th>2710</th>\n",
       "      <th>4306</th>\n",
       "    </tr>\n",
       "    <tr>\n",
       "      <th>movieId</th>\n",
       "      <th></th>\n",
       "      <th></th>\n",
       "      <th></th>\n",
       "    </tr>\n",
       "  </thead>\n",
       "  <tbody>\n",
       "    <tr>\n",
       "      <th>2571</th>\n",
       "      <td>1.000000</td>\n",
       "      <td>0.095238</td>\n",
       "      <td>0.400000</td>\n",
       "    </tr>\n",
       "    <tr>\n",
       "      <th>2710</th>\n",
       "      <td>0.095238</td>\n",
       "      <td>1.000000</td>\n",
       "      <td>0.095238</td>\n",
       "    </tr>\n",
       "    <tr>\n",
       "      <th>4306</th>\n",
       "      <td>0.400000</td>\n",
       "      <td>0.095238</td>\n",
       "      <td>1.000000</td>\n",
       "    </tr>\n",
       "  </tbody>\n",
       "</table>\n",
       "</div>"
      ],
      "text/plain": [
       "movieId      2571      2710      4306\n",
       "movieId                              \n",
       "2571     1.000000  0.095238  0.400000\n",
       "2710     0.095238  1.000000  0.095238\n",
       "4306     0.400000  0.095238  1.000000"
      ]
     },
     "metadata": {},
     "output_type": "display_data"
    }
   ],
   "source": [
    "def create_similarity_matrix_manhattan(matrix):\n",
    "    \"\"\" Creates the similarity matrix based on manhattan distance. \"\"\"\n",
    "    \n",
    "    similarity_matrix = pd.DataFrame(data=0, index=matrix.index, columns=matrix.index, dtype=float)\n",
    "    for i in range(len(matrix)):\n",
    "        for j in range(len(matrix)):\n",
    "           similarity_matrix.iloc[i,j] = manhattan_similarity(matrix, similarity_matrix.columns[i] , similarity_matrix.columns[j])\n",
    "        \n",
    "    \n",
    "    print(similarity_matrix)\n",
    "    # TODO\n",
    "    \n",
    "    \n",
    "    return similarity_matrix\n",
    "           \n",
    "similarity_matrix_manhattan = create_similarity_matrix_manhattan(utility_matrix)\n",
    "display(similarity_matrix_manhattan)"
   ]
  },
  {
   "cell_type": "markdown",
   "metadata": {
    "deletable": false,
    "editable": false,
    "nbgrader": {
     "cell_type": "markdown",
     "checksum": "1d21a5fc8ee66e1c74e4eb6aae2285f9",
     "grade": false,
     "grade_id": "cell-4683faaef22e7dc0",
     "locked": true,
     "schema_version": 3,
     "solution": false,
     "task": false
    }
   },
   "source": [
    "### Check"
   ]
  },
  {
   "cell_type": "code",
   "execution_count": 16,
   "metadata": {
    "deletable": false,
    "editable": false,
    "nbgrader": {
     "cell_type": "code",
     "checksum": "19dbd4924cc2a7615c665da203760772",
     "grade": true,
     "grade_id": "test_8",
     "locked": true,
     "points": 1,
     "schema_version": 3,
     "solution": false
    }
   },
   "outputs": [
    {
     "name": "stdout",
     "output_type": "stream",
     "text": [
      "Check output type: movieId      2571      2710      4306\n",
      "movieId                              \n",
      "2571     1.000000  0.095238  0.400000\n",
      "2710     0.095238  1.000000  0.095238\n",
      "4306     0.400000  0.095238  1.000000\n",
      "success!\n",
      "Testing create_similarity_matrix_manhattan on complete data set: movieId      2571      2710      4306\n",
      "movieId                              \n",
      "2571     1.000000  0.095238  0.400000\n",
      "2710     0.095238  1.000000  0.095238\n",
      "4306     0.400000  0.095238  1.000000\n",
      "success!\n",
      "Testing create_similarity_matrix_manhattan on incomplete data set:           2571      2710  4306\n",
      "2571  1.000000  0.153846   1.0\n",
      "2710  0.153846  1.000000   1.0\n",
      "4306  1.000000  1.000000   1.0\n",
      "success!\n",
      "\n",
      "\n",
      "Output second test:\n",
      "          2571      2710  4306\n",
      "2571  1.000000  0.153846   1.0\n",
      "2710  0.153846  1.000000   1.0\n",
      "4306  1.000000  1.000000   1.0\n"
     ]
    }
   ],
   "source": [
    "answers.test_8(create_similarity_matrix_manhattan, utility_matrix)"
   ]
  },
  {
   "cell_type": "markdown",
   "metadata": {
    "deletable": false,
    "editable": false,
    "nbgrader": {
     "cell_type": "markdown",
     "checksum": "8d94a34702ebeda5e6bf74f6268ce1e1",
     "grade": false,
     "grade_id": "cell-1111cb0ed373bb7b",
     "locked": true,
     "schema_version": 3,
     "solution": false
    }
   },
   "source": [
    "### Vraag 9\n",
    "\n",
    "In de bovenstaande matrix bevatten alle cellen op de diagonaal de waarde 1.0. Waarom is dat?"
   ]
  },
  {
   "cell_type": "markdown",
   "metadata": {
    "deletable": false,
    "nbgrader": {
     "cell_type": "markdown",
     "checksum": "a79f891e403a4c618ea2167598e8e64d",
     "grade": true,
     "grade_id": "cell-581e34630c79900c",
     "locked": false,
     "points": 3,
     "schema_version": 3,
     "solution": true
    }
   },
   "source": [
    "Er is geen verschil in similarity tussen twee dezelfde films, daarom is de waarde altijd 1"
   ]
  },
  {
   "cell_type": "markdown",
   "metadata": {
    "deletable": false,
    "editable": false,
    "nbgrader": {
     "cell_type": "markdown",
     "checksum": "9ed246272bc262aa89960370c9cb8087",
     "grade": false,
     "grade_id": "cell-0c96a90802437ee2",
     "locked": true,
     "schema_version": 3,
     "solution": false
    }
   },
   "source": [
    "### Euclidean similarity\n",
    "\n",
    "Manhattan distance is een makkelijke maat om te gebruiken, maar wordt in de praktijk weinig gebruikt. Want stel, je hebt twee films met soortgelijke ratings, maar telkens met een klein verschil. Dan tel je bij de Manhattan distance alle verschillen in elke dimensie, hoe klein ze ook zijn, bij elkaar op. Daardoor lijkt het alsof de films toch veel verschillen.\n",
    "\n",
    "Een populairdere maat is daarom de **Euclidische afstand**. Dit is de afstand die je krijgt als je de feature-space als een gewone fysieke ruimte beschouwd en de stelling van Pythagoras gebruikt om de afstand tussen twee punten (films) te bepalen. Door het gebruik van machten in de berekening van deze afstand worden kleine verschillen vrijwel genegeerd.\n",
    "\n",
    "Net als bij de Manhattan distance kijken we eerst naar de verschillen in afstand.\n",
    "\n",
    "<table><thead><tr style=\"text-align: center;\"><th></th><th>2571</th><th></th><th>4306</th><th></th><th>difference</th><th></th></tr></thead>\n",
    "<tbody><tr><th>182</th><td>5.0</td><td>-</td><td>4.0</td><td>=</td><td>1.0</td><td>(Gotlob vindt The Matrix beter dan Shrek)</td></tr>\n",
    "<tr><th>195</th><td>3.0</td><td>-</td><td>3.0</td><td>=</td><td>0.0</td><td>(Ada vindt beide films even goed)</td></tr>\n",
    "<tr><th>204</th><td>4.5</td><td>-</td><td>4.0</td><td>=</td><td>0.5</td><td>(Isaac vindt The Matrix een klein beetje beter)</td></tr>\n",
    "<tr><th>376</th><td>3.5</td><td>-</td><td>4.0</td><td>=</td><td>-0.5</td><td>(Carl vindt Shrek een klein beetje beter)</td></tr>\n",
    "<tr><th>542</th><td>5.0</td><td>-</td><td>5.0</td><td>=</td><td>0.0</td><td>(Nicolai vindt beide films even goed)</td></tr>\n",
    "</tbody></table>\n",
    "\n",
    "Vervolgens gebruiken we de stelling van Pythagoras voor het bereken van de euclidische afstand. In een 2D-ruimte is de stelling $d^2 = x^2 + y^2$ of, herschreven: $d = \\sqrt{x^2 + y^2}$. In het 3D-geval is $d = \\sqrt{x^2 + y^2 + z^2}$. In het algemeen is de stelling voor $n$ features $f_{1}$ t/m $f_{n}$:\n",
    "\n",
    "$$\n",
    "d = \\sqrt{f_{1}^2 + f_{2}^2 + \\ldots + f_{n}^2}\n",
    "$$\n",
    "\n",
    "In ons voorbeeld is de afstand $d$ dus:\n",
    "\n",
    "$$\n",
    "d = \\sqrt{1.0^2 + 0.0^2 + 0.5^2 + -0.5^2 + 0.0^2} \\approx 1.22\n",
    "$$\n",
    "\n",
    "Als we deze afstand omrekenen naar similarities:\n",
    "\n",
    "$$\n",
    "1 / (1 + 1.22) \\approx 0.45\n",
    "$$\n",
    "\n",
    "De formele definitie:\n",
    "\n",
    "$$\n",
    "d(x, y) = \\sqrt{\\Sigma_{i=1}^{n}(x_{i} - y_{i})^2}\n",
    "$$\n",
    "\n",
    "$$\n",
    "s(x, y) = 1/(1 + d(x, y))\n",
    "$$\n",
    "\n",
    "### Vraag 10\n",
    "\n",
    "Implementeer hieronder de functie `create_similarity_matrix_euclid()`:"
   ]
  },
  {
   "cell_type": "code",
   "execution_count": 17,
   "metadata": {
    "deletable": false,
    "nbgrader": {
     "cell_type": "code",
     "checksum": "2c35e9678a04514d9acda70490ea5b66",
     "grade": false,
     "grade_id": "cell-1346b3f62951d34e",
     "locked": false,
     "schema_version": 3,
     "solution": true
    }
   },
   "outputs": [
    {
     "name": "stdout",
     "output_type": "stream",
     "text": [
      "movieId      2571      2710      4306\n",
      "movieId                              \n",
      "2571     1.000000  0.157186  0.449490\n",
      "2710     0.157186  1.000000  0.150722\n",
      "4306     0.449490  0.150722  1.000000\n"
     ]
    },
    {
     "data": {
      "text/html": [
       "<div>\n",
       "<style scoped>\n",
       "    .dataframe tbody tr th:only-of-type {\n",
       "        vertical-align: middle;\n",
       "    }\n",
       "\n",
       "    .dataframe tbody tr th {\n",
       "        vertical-align: top;\n",
       "    }\n",
       "\n",
       "    .dataframe thead th {\n",
       "        text-align: right;\n",
       "    }\n",
       "</style>\n",
       "<table border=\"1\" class=\"dataframe\">\n",
       "  <thead>\n",
       "    <tr style=\"text-align: right;\">\n",
       "      <th>movieId</th>\n",
       "      <th>2571</th>\n",
       "      <th>2710</th>\n",
       "      <th>4306</th>\n",
       "    </tr>\n",
       "    <tr>\n",
       "      <th>movieId</th>\n",
       "      <th></th>\n",
       "      <th></th>\n",
       "      <th></th>\n",
       "    </tr>\n",
       "  </thead>\n",
       "  <tbody>\n",
       "    <tr>\n",
       "      <th>2571</th>\n",
       "      <td>1.000000</td>\n",
       "      <td>0.157186</td>\n",
       "      <td>0.449490</td>\n",
       "    </tr>\n",
       "    <tr>\n",
       "      <th>2710</th>\n",
       "      <td>0.157186</td>\n",
       "      <td>1.000000</td>\n",
       "      <td>0.150722</td>\n",
       "    </tr>\n",
       "    <tr>\n",
       "      <th>4306</th>\n",
       "      <td>0.449490</td>\n",
       "      <td>0.150722</td>\n",
       "      <td>1.000000</td>\n",
       "    </tr>\n",
       "  </tbody>\n",
       "</table>\n",
       "</div>"
      ],
      "text/plain": [
       "movieId      2571      2710      4306\n",
       "movieId                              \n",
       "2571     1.000000  0.157186  0.449490\n",
       "2710     0.157186  1.000000  0.150722\n",
       "4306     0.449490  0.150722  1.000000"
      ]
     },
     "metadata": {},
     "output_type": "display_data"
    }
   ],
   "source": [
    "# TODO\n",
    "def euclid_distance(series1, series2):\n",
    "    \"\"\" Compute manhattan distance between two datapoints. \"\"\"     \n",
    "    # compute the distances for the features\n",
    "    distances = (series1 - series2)**2\n",
    "    \n",
    "    # return the absolute sum\n",
    "    return np.sqrt(distances.sum())\n",
    "\n",
    "def euclid_similarity(matrix, id1, id2):\n",
    "    \"\"\" Compute manhattan similarity between two datapoints. Can return a nan-value when there are no shared features. \"\"\"\n",
    "    # compute distance\n",
    "    distance = euclid_distance(matrix.loc[id1], matrix.loc[id2])\n",
    "    \n",
    "    # else return similarity\n",
    "    return 1 / (1 + distance)\n",
    "\n",
    "\n",
    "def create_similarity_matrix_euclidean(matrix):\n",
    "    \"\"\" Creates the similarity matrix based on eucledian distance. \"\"\"\n",
    "    \n",
    "    \"\"\" Creates the similarity matrix based on manhattan distance. \"\"\"\n",
    "    \n",
    "    similarity_matrix = pd.DataFrame(data=0, index=matrix.index, columns=matrix.index, dtype=float)\n",
    "    for i in range(len(matrix)):\n",
    "        for j in range(len(matrix)):\n",
    "           similarity_matrix.iloc[i,j] = euclid_similarity(matrix, similarity_matrix.columns[i] , similarity_matrix.columns[j])\n",
    "        \n",
    "    \n",
    "    print(similarity_matrix)\n",
    "    # TODO\n",
    "    \n",
    "    \n",
    "    return similarity_matrix\n",
    "\n",
    "similarity_matrix_euclidean = create_similarity_matrix_euclidean(utility_matrix_filled)\n",
    "display(similarity_matrix_euclidean)"
   ]
  },
  {
   "cell_type": "markdown",
   "metadata": {
    "deletable": false,
    "editable": false,
    "nbgrader": {
     "cell_type": "markdown",
     "checksum": "d4c52e2ba7917b903ec8cad6021b3e25",
     "grade": false,
     "grade_id": "cell-adce1ac2cafe8db4",
     "locked": true,
     "schema_version": 3,
     "solution": false
    }
   },
   "source": [
    "### Check"
   ]
  },
  {
   "cell_type": "code",
   "execution_count": 18,
   "metadata": {
    "deletable": false,
    "editable": false,
    "nbgrader": {
     "cell_type": "code",
     "checksum": "ff153a2d00dc7f9dfe61764fb7f83866",
     "grade": true,
     "grade_id": "test_10",
     "locked": true,
     "points": 1,
     "schema_version": 3,
     "solution": false
    }
   },
   "outputs": [
    {
     "name": "stdout",
     "output_type": "stream",
     "text": [
      "Check output type: movieId      2571      2710      4306\n",
      "movieId                              \n",
      "2571     1.000000  0.157186  0.472136\n",
      "2710     0.157186  1.000000  0.152782\n",
      "4306     0.472136  0.152782  1.000000\n",
      "success!\n",
      "Testing create_similarity_matrix_euclid on complete data set: movieId      2571      2710      4306\n",
      "movieId                              \n",
      "2571     1.000000  0.157186  0.472136\n",
      "2710     0.157186  1.000000  0.152782\n",
      "4306     0.472136  0.152782  1.000000\n",
      "success!\n",
      "Testing create_similarity_matrix_euclid on incomplete data set:           2571      2710  4306\n",
      "2571  1.000000  0.180011   1.0\n",
      "2710  0.180011  1.000000   1.0\n",
      "4306  1.000000  1.000000   1.0\n",
      "success!\n"
     ]
    }
   ],
   "source": [
    "answers.test_10(create_similarity_matrix_euclidean, utility_matrix)"
   ]
  },
  {
   "cell_type": "markdown",
   "metadata": {
    "deletable": false,
    "editable": false,
    "nbgrader": {
     "cell_type": "markdown",
     "checksum": "7a5266af95986e25359eabb6e5ede231",
     "grade": false,
     "grade_id": "cell-2a0f9c7b51544976",
     "locked": true,
     "schema_version": 3,
     "solution": false
    }
   },
   "source": [
    "### Cosine similarity\n",
    "\n",
    "Voor het vergelijken van verschillende items wordt in de praktijk veel van de _cosine similarity_ gebruik gemaakt. Voor het bepalen hiervan trekken we twee denkbeeldige lijnen van de oorsprong naar de data punten die we willen vergelijken en nemen we de hoek tussen die twee lijnen: \n",
    "\n",
    "<img src = './include/cosine similarity.png'>\n",
    "\n",
    "In het bovenstaande voorbeeld bepalen we de cosine similarity voor film 2571 en 2710 en kijken we even alleen naar de ratings van gebruiker 195 en 542. De hoek tussen de twee lijnen voor beide films $\\Theta$ is $0.57^{\\circ}$ rad. De cosine similarity is gedefinieerd als de cosinus van deze hoek. In dit voorbeeld is de similarity dus cos$(0.57) \\approx 0.84$.\n",
    "\n",
    "In het geval van de cosine similarity doet de afstand van een punt tot oorsprong er niet toe. Waarom zou dit een voordeel kunnen zijn?\n",
    "\n",
    "Het bereken van de cosine similarity is eenvoudiger dan het voorbeeld doet vermoeden voor twee punten $A = (a_1, a_2)$ en $B = (b_1, b_2)$ is de cosine similarity:\n",
    "$$\n",
    "\\textrm{cos}(A, B) = \\frac{a_1*b_1 + a_2*b_2}{\\sqrt{a_1^2 + a_2^2}*\\sqrt{b_1^2 + b_2^2}}\n",
    "$$\n",
    "\n",
    "In ons geval is dat dus:\n",
    "$$\n",
    "\\textrm{cos}(2571, 2710) = \\frac{3.0*1.0 + 5.0*0.5}{\\sqrt{3.0^2 + 5.0^2} * \\sqrt{1.0^2 + 0.5^2}} \\approx 0.84\n",
    "$$\n",
    "\n",
    "In de bovenstaande berekening hebben we voor het gemak aangenomen dat er maar twee features zijn (de ratings van gebruiker 195 en 542). In werkelijkheid hebben we natuurlijk niet twee features, maar veel meer. In ons geval hebben we er vijf. De algemene formule voor de cosinus van items met $n$ features $A = (a_1, a_2, \\ldots, a_n)$ en $B = (b_1, b_2, \\ldots, b_n)$ is:\n",
    "\n",
    "$$\n",
    "\\textrm{cos}(A, B) = \\frac{a_1*b_1 + a_2*b_2 + \\ldots + a_n*b_n}{\\sqrt{a_1^2 + a_2^2 + \\ldots + a_n^2}*\\sqrt{b_1^2 + b_2^2 + \\ldots b_n^2}}\n",
    "$$\n",
    "\n",
    "In ons geval is dat dus:\n",
    "$$\n",
    "\\textrm{cos}(2571, 2710) = \\frac{5.0*4.5  + 3.0*1.0 + 4.5*5.0 + 3.5*1.5 + 5.0*0.5}{\\sqrt{5.0^2 + 3.0^2 + 4.5^2 + 3.5^2 + 5.0^2} * \\sqrt{4.5 ^ 2  + 1.0^2 + 5.0^2 + 1.5^2 + 0.5^2}} \\approx 0.83\n",
    "$$\n",
    "\n",
    "De formele definitie:\n",
    "$$\n",
    "\\textrm{cos}(A, B) = \\frac{\\sum_{i = 1}^n a_i * b_i}{\\sqrt{\\sum_{i = 1}^n a_i^2}{\\sqrt{\\sum_{i = 1}^n b_i^2}}}\n",
    "$$\n",
    "\n",
    "### Vraag 11\n",
    "\n",
    "Gebruik de bovenstaande formule voor het implementeren van de functie `create_similarity_matrix_cosine_temp()` hieronder. Er is een belangrijk randgeval waar je rekening mee moet houden:\n",
    "- Als een rij alleen maar `0`-en bevat (alle ratings voor een film waren `0`), er een deling door nul kan plaatsvinden. Detecteer waar dit gebeurt, en vang het af door hier een nul te plaatsen in de nieuwe similarity matrix."
   ]
  },
  {
   "cell_type": "code",
   "execution_count": 19,
   "metadata": {
    "deletable": false,
    "nbgrader": {
     "cell_type": "code",
     "checksum": "2aae35d5c196cedfc65bc0f5beb6c0f2",
     "grade": false,
     "grade_id": "cell-fb71c3f6b39398cc",
     "locked": false,
     "schema_version": 3,
     "solution": true,
     "task": false
    }
   },
   "outputs": [
    {
     "data": {
      "text/html": [
       "<div>\n",
       "<style scoped>\n",
       "    .dataframe tbody tr th:only-of-type {\n",
       "        vertical-align: middle;\n",
       "    }\n",
       "\n",
       "    .dataframe tbody tr th {\n",
       "        vertical-align: top;\n",
       "    }\n",
       "\n",
       "    .dataframe thead th {\n",
       "        text-align: right;\n",
       "    }\n",
       "</style>\n",
       "<table border=\"1\" class=\"dataframe\">\n",
       "  <thead>\n",
       "    <tr style=\"text-align: right;\">\n",
       "      <th>movieId</th>\n",
       "      <th>2571</th>\n",
       "      <th>2710</th>\n",
       "      <th>4306</th>\n",
       "    </tr>\n",
       "    <tr>\n",
       "      <th>movieId</th>\n",
       "      <th></th>\n",
       "      <th></th>\n",
       "      <th></th>\n",
       "    </tr>\n",
       "  </thead>\n",
       "  <tbody>\n",
       "    <tr>\n",
       "      <th>2571</th>\n",
       "      <td>1.000000</td>\n",
       "      <td>0.834732</td>\n",
       "      <td>0.992844</td>\n",
       "    </tr>\n",
       "    <tr>\n",
       "      <th>2710</th>\n",
       "      <td>0.834732</td>\n",
       "      <td>1.000000</td>\n",
       "      <td>0.782908</td>\n",
       "    </tr>\n",
       "    <tr>\n",
       "      <th>4306</th>\n",
       "      <td>0.992844</td>\n",
       "      <td>0.782908</td>\n",
       "      <td>1.000000</td>\n",
       "    </tr>\n",
       "  </tbody>\n",
       "</table>\n",
       "</div>"
      ],
      "text/plain": [
       "movieId      2571      2710      4306\n",
       "movieId                              \n",
       "2571     1.000000  0.834732  0.992844\n",
       "2710     0.834732  1.000000  0.782908\n",
       "4306     0.992844  0.782908  1.000000"
      ]
     },
     "metadata": {},
     "output_type": "display_data"
    },
    {
     "data": {
      "text/html": [
       "<div>\n",
       "<style scoped>\n",
       "    .dataframe tbody tr th:only-of-type {\n",
       "        vertical-align: middle;\n",
       "    }\n",
       "\n",
       "    .dataframe tbody tr th {\n",
       "        vertical-align: top;\n",
       "    }\n",
       "\n",
       "    .dataframe thead th {\n",
       "        text-align: right;\n",
       "    }\n",
       "</style>\n",
       "<table border=\"1\" class=\"dataframe\">\n",
       "  <thead>\n",
       "    <tr style=\"text-align: right;\">\n",
       "      <th></th>\n",
       "      <th>2571</th>\n",
       "      <th>2710</th>\n",
       "      <th>4306</th>\n",
       "    </tr>\n",
       "  </thead>\n",
       "  <tbody>\n",
       "    <tr>\n",
       "      <th>2571</th>\n",
       "      <td>1.000000</td>\n",
       "      <td>0.820132</td>\n",
       "      <td>0.0</td>\n",
       "    </tr>\n",
       "    <tr>\n",
       "      <th>2710</th>\n",
       "      <td>0.820132</td>\n",
       "      <td>1.000000</td>\n",
       "      <td>0.0</td>\n",
       "    </tr>\n",
       "    <tr>\n",
       "      <th>4306</th>\n",
       "      <td>0.000000</td>\n",
       "      <td>0.000000</td>\n",
       "      <td>1.0</td>\n",
       "    </tr>\n",
       "  </tbody>\n",
       "</table>\n",
       "</div>"
      ],
      "text/plain": [
       "          2571      2710  4306\n",
       "2571  1.000000  0.820132   0.0\n",
       "2710  0.820132  1.000000   0.0\n",
       "4306  0.000000  0.000000   1.0"
      ]
     },
     "metadata": {},
     "output_type": "display_data"
    }
   ],
   "source": [
    "# TODO\n",
    "# TODO\n",
    "from scipy.special import logsumexp\n",
    "def cosine_temp_distance(series1, series2):\n",
    "    \"\"\" Compute manhattan distance between two datapoints. \"\"\"     \n",
    "    # compute the distances for the features\n",
    "    distances = series1 * series2\n",
    "    a1 = series1**2\n",
    "    b1 = series2**2\n",
    "    \n",
    "    # return the absolute sum\n",
    "    return distances.sum()/(np.sqrt(a1.sum())*np.sqrt(b1.sum()))\n",
    "\n",
    "def cosine_temp_similarity(matrix, id1, id2):\n",
    "    \"\"\" Compute manhattan similarity between two datapoints. Can return a nan-value when there are no shared features. \"\"\"\n",
    "    # compute distance\n",
    "    matrix = matrix.replace(np.nan,0.0)\n",
    "    distance = cosine_temp_distance(matrix.loc[id1], matrix.loc[id2])\n",
    "\n",
    "    # else return similarity\n",
    "    return distance\n",
    "\n",
    "\n",
    "def create_similarity_matrix_cosine_temp(matrix):\n",
    "    \n",
    "    \n",
    "    similarity_matrix = pd.DataFrame(data=0, index=matrix.index, columns=matrix.index, dtype=float)\n",
    "    for i in range(len(matrix)):\n",
    "        for j in range(len(matrix)):\n",
    "           similarity_matrix.iloc[i,j] = cosine_temp_similarity(matrix, similarity_matrix.columns[i] , similarity_matrix.columns[j])\n",
    "        \n",
    "\n",
    "    # TODO\n",
    "    \n",
    "    \n",
    "    return similarity_matrix\n",
    "\n",
    "\n",
    "similarity_matrix_cosine = create_similarity_matrix_cosine_temp(utility_matrix_filled)\n",
    "display(similarity_matrix_cosine)\n",
    "\n",
    "u3tility_matrix = DataFrame(\n",
    "        [[5.0, np.nan, 4.5, np.nan, 5.0], [4.5, np.nan, 5.0, 1.5, 0.5],\n",
    "         [np.nan, 3.0, np.nan, np.nan, np.nan]], columns=[182, 195, 204, 376, 542],\n",
    "        index=[2571, 2710, 4306])\n",
    "similarity_matrix_cosine = create_similarity_matrix_cosine_temp(u3tility_matrix)\n",
    "display(similarity_matrix_cosine)\n"
   ]
  },
  {
   "cell_type": "markdown",
   "metadata": {},
   "source": [
    "### Check"
   ]
  },
  {
   "cell_type": "code",
   "execution_count": 20,
   "metadata": {
    "deletable": false,
    "editable": false,
    "nbgrader": {
     "cell_type": "code",
     "checksum": "730fda9e079d493ed4ef14a047ba2d8a",
     "grade": true,
     "grade_id": "test_11",
     "locked": true,
     "points": 1,
     "schema_version": 3,
     "solution": false
    }
   },
   "outputs": [
    {
     "name": "stdout",
     "output_type": "stream",
     "text": [
      "Check output type: success!\n",
      "Testing create_similarity_matrix_cosine on complete data set: success!\n",
      "Testing create_similarity_matrix_cosine on incomplete data set: success!\n",
      "Testing create_similarity_matrix_cosine on a dataset with a movie that has only been rated with 0: "
     ]
    },
    {
     "ename": "FloatingPointError",
     "evalue": "invalid value encountered in double_scalars",
     "output_type": "error",
     "traceback": [
      "\u001b[0;31m---------------------------------------------------------------------------\u001b[0m",
      "\u001b[0;31mFloatingPointError\u001b[0m                        Traceback (most recent call last)",
      "Input \u001b[0;32mIn [20]\u001b[0m, in \u001b[0;36m<cell line: 1>\u001b[0;34m()\u001b[0m\n\u001b[0;32m----> 1\u001b[0m \u001b[43manswers\u001b[49m\u001b[38;5;241;43m.\u001b[39;49m\u001b[43mtest_11\u001b[49m\u001b[43m(\u001b[49m\u001b[43mcreate_similarity_matrix_cosine_temp\u001b[49m\u001b[43m,\u001b[49m\u001b[43m \u001b[49m\u001b[43mutility_matrix\u001b[49m\u001b[43m)\u001b[49m\n",
      "File \u001b[0;32m~/Documents/Informatiekunde/CI/Module 2/answers.py:200\u001b[0m, in \u001b[0;36mtest_11\u001b[0;34m(create_similarity_matrix_cosine, utility_matrix)\u001b[0m\n\u001b[1;32m    190\u001b[0m _utility_matrix \u001b[38;5;241m=\u001b[39m DataFrame(\n\u001b[1;32m    191\u001b[0m     [[\u001b[38;5;241m5.0\u001b[39m, nan, \u001b[38;5;241m4.5\u001b[39m, nan, \u001b[38;5;241m5.0\u001b[39m], [\u001b[38;5;241m4.5\u001b[39m, nan, \u001b[38;5;241m5.0\u001b[39m, \u001b[38;5;241m1.5\u001b[39m, \u001b[38;5;241m0.5\u001b[39m],\n\u001b[1;32m    192\u001b[0m      [\u001b[38;5;241m0.0\u001b[39m, \u001b[38;5;241m0.0\u001b[39m, \u001b[38;5;241m0.0\u001b[39m, \u001b[38;5;241m0.0\u001b[39m, \u001b[38;5;241m0.0\u001b[39m]], columns\u001b[38;5;241m=\u001b[39m[\u001b[38;5;241m182\u001b[39m, \u001b[38;5;241m195\u001b[39m, \u001b[38;5;241m204\u001b[39m, \u001b[38;5;241m376\u001b[39m, \u001b[38;5;241m542\u001b[39m],\n\u001b[1;32m    193\u001b[0m     index\u001b[38;5;241m=\u001b[39m[\u001b[38;5;241m2571\u001b[39m, \u001b[38;5;241m2710\u001b[39m, \u001b[38;5;241m4306\u001b[39m])\n\u001b[1;32m    195\u001b[0m _solution \u001b[38;5;241m=\u001b[39m DataFrame([[\u001b[38;5;241m1.0000000000\u001b[39m, \u001b[38;5;241m0.8480436727\u001b[39m, \u001b[38;5;241m0.000000000\u001b[39m],\n\u001b[1;32m    196\u001b[0m                        [\u001b[38;5;241m0.8480436727\u001b[39m, \u001b[38;5;241m1.0000000000\u001b[39m, \u001b[38;5;241m0.0000000000\u001b[39m], \n\u001b[1;32m    197\u001b[0m                        [\u001b[38;5;241m0.0000000000\u001b[39m, \u001b[38;5;241m0.0000000000\u001b[39m, \u001b[38;5;241m0.0000000000\u001b[39m]],\n\u001b[1;32m    198\u001b[0m                       columns\u001b[38;5;241m=\u001b[39m[\u001b[38;5;241m2571\u001b[39m, \u001b[38;5;241m2710\u001b[39m, \u001b[38;5;241m4306\u001b[39m], index\u001b[38;5;241m=\u001b[39m[\u001b[38;5;241m2571\u001b[39m, \u001b[38;5;241m2710\u001b[39m, \u001b[38;5;241m4306\u001b[39m])\n\u001b[0;32m--> 200\u001b[0m _student_answer \u001b[38;5;241m=\u001b[39m \u001b[43mcreate_similarity_matrix_cosine\u001b[49m\u001b[43m(\u001b[49m\u001b[43m_utility_matrix\u001b[49m\u001b[43m)\u001b[49m\n\u001b[1;32m    202\u001b[0m np\u001b[38;5;241m.\u001b[39mtesting\u001b[38;5;241m.\u001b[39massert_allclose(_student_answer, _solution, rtol\u001b[38;5;241m=\u001b[39m\u001b[38;5;241m1e-1\u001b[39m)\n\u001b[1;32m    203\u001b[0m \u001b[38;5;28mprint\u001b[39m(\u001b[38;5;124m'\u001b[39m\u001b[38;5;124msuccess!\u001b[39m\u001b[38;5;124m'\u001b[39m)\n",
      "Input \u001b[0;32mIn [19]\u001b[0m, in \u001b[0;36mcreate_similarity_matrix_cosine_temp\u001b[0;34m(matrix)\u001b[0m\n\u001b[1;32m     28\u001b[0m \u001b[38;5;28;01mfor\u001b[39;00m i \u001b[38;5;129;01min\u001b[39;00m \u001b[38;5;28mrange\u001b[39m(\u001b[38;5;28mlen\u001b[39m(matrix)):\n\u001b[1;32m     29\u001b[0m     \u001b[38;5;28;01mfor\u001b[39;00m j \u001b[38;5;129;01min\u001b[39;00m \u001b[38;5;28mrange\u001b[39m(\u001b[38;5;28mlen\u001b[39m(matrix)):\n\u001b[0;32m---> 30\u001b[0m        similarity_matrix\u001b[38;5;241m.\u001b[39miloc[i,j] \u001b[38;5;241m=\u001b[39m \u001b[43mcosine_temp_similarity\u001b[49m\u001b[43m(\u001b[49m\u001b[43mmatrix\u001b[49m\u001b[43m,\u001b[49m\u001b[43m \u001b[49m\u001b[43msimilarity_matrix\u001b[49m\u001b[38;5;241;43m.\u001b[39;49m\u001b[43mcolumns\u001b[49m\u001b[43m[\u001b[49m\u001b[43mi\u001b[49m\u001b[43m]\u001b[49m\u001b[43m \u001b[49m\u001b[43m,\u001b[49m\u001b[43m \u001b[49m\u001b[43msimilarity_matrix\u001b[49m\u001b[38;5;241;43m.\u001b[39;49m\u001b[43mcolumns\u001b[49m\u001b[43m[\u001b[49m\u001b[43mj\u001b[49m\u001b[43m]\u001b[49m\u001b[43m)\u001b[49m\n\u001b[1;32m     33\u001b[0m \u001b[38;5;66;03m# TODO\u001b[39;00m\n\u001b[1;32m     36\u001b[0m \u001b[38;5;28;01mreturn\u001b[39;00m similarity_matrix\n",
      "Input \u001b[0;32mIn [19]\u001b[0m, in \u001b[0;36mcosine_temp_similarity\u001b[0;34m(matrix, id1, id2)\u001b[0m\n\u001b[1;32m     16\u001b[0m \u001b[38;5;66;03m# compute distance\u001b[39;00m\n\u001b[1;32m     17\u001b[0m matrix \u001b[38;5;241m=\u001b[39m matrix\u001b[38;5;241m.\u001b[39mreplace(np\u001b[38;5;241m.\u001b[39mnan,\u001b[38;5;241m0.0\u001b[39m)\n\u001b[0;32m---> 18\u001b[0m distance \u001b[38;5;241m=\u001b[39m \u001b[43mcosine_temp_distance\u001b[49m\u001b[43m(\u001b[49m\u001b[43mmatrix\u001b[49m\u001b[38;5;241;43m.\u001b[39;49m\u001b[43mloc\u001b[49m\u001b[43m[\u001b[49m\u001b[43mid1\u001b[49m\u001b[43m]\u001b[49m\u001b[43m,\u001b[49m\u001b[43m \u001b[49m\u001b[43mmatrix\u001b[49m\u001b[38;5;241;43m.\u001b[39;49m\u001b[43mloc\u001b[49m\u001b[43m[\u001b[49m\u001b[43mid2\u001b[49m\u001b[43m]\u001b[49m\u001b[43m)\u001b[49m\n\u001b[1;32m     20\u001b[0m \u001b[38;5;66;03m# else return similarity\u001b[39;00m\n\u001b[1;32m     21\u001b[0m \u001b[38;5;28;01mreturn\u001b[39;00m distance\n",
      "Input \u001b[0;32mIn [19]\u001b[0m, in \u001b[0;36mcosine_temp_distance\u001b[0;34m(series1, series2)\u001b[0m\n\u001b[1;32m      9\u001b[0m b1 \u001b[38;5;241m=\u001b[39m series2\u001b[38;5;241m*\u001b[39m\u001b[38;5;241m*\u001b[39m\u001b[38;5;241m2\u001b[39m\n\u001b[1;32m     11\u001b[0m \u001b[38;5;66;03m# return the absolute sum\u001b[39;00m\n\u001b[0;32m---> 12\u001b[0m \u001b[38;5;28;01mreturn\u001b[39;00m \u001b[43mdistances\u001b[49m\u001b[38;5;241;43m.\u001b[39;49m\u001b[43msum\u001b[49m\u001b[43m(\u001b[49m\u001b[43m)\u001b[49m\u001b[38;5;241;43m/\u001b[39;49m\u001b[43m(\u001b[49m\u001b[43mnp\u001b[49m\u001b[38;5;241;43m.\u001b[39;49m\u001b[43msqrt\u001b[49m\u001b[43m(\u001b[49m\u001b[43ma1\u001b[49m\u001b[38;5;241;43m.\u001b[39;49m\u001b[43msum\u001b[49m\u001b[43m(\u001b[49m\u001b[43m)\u001b[49m\u001b[43m)\u001b[49m\u001b[38;5;241;43m*\u001b[39;49m\u001b[43mnp\u001b[49m\u001b[38;5;241;43m.\u001b[39;49m\u001b[43msqrt\u001b[49m\u001b[43m(\u001b[49m\u001b[43mb1\u001b[49m\u001b[38;5;241;43m.\u001b[39;49m\u001b[43msum\u001b[49m\u001b[43m(\u001b[49m\u001b[43m)\u001b[49m\u001b[43m)\u001b[49m\u001b[43m)\u001b[49m\n",
      "\u001b[0;31mFloatingPointError\u001b[0m: invalid value encountered in double_scalars"
     ]
    }
   ],
   "source": [
    "answers.test_11(create_similarity_matrix_cosine_temp, utility_matrix)"
   ]
  },
  {
   "cell_type": "markdown",
   "metadata": {},
   "source": [
    "### Checkpoint - Cosine Similarity from sklearn\n",
    "Voor de geïmplementeerde cosinus functie geldt hetzelfde als voor de pivot functie. We kunnen deze beter vervangen door een functie uit een library. Hieronder wordt gedemonstreerd hoe je gebruik kunt maken van de cosine_similarity functie uit de `sklearn` library.\n",
    "\n",
    "Dit betekent ook dat je vanaf hier verder kunt werken mocht het implementeren van deze functie niet gelukt zijn."
   ]
  },
  {
   "cell_type": "code",
   "execution_count": 21,
   "metadata": {},
   "outputs": [
    {
     "data": {
      "text/html": [
       "<div>\n",
       "<style scoped>\n",
       "    .dataframe tbody tr th:only-of-type {\n",
       "        vertical-align: middle;\n",
       "    }\n",
       "\n",
       "    .dataframe tbody tr th {\n",
       "        vertical-align: top;\n",
       "    }\n",
       "\n",
       "    .dataframe thead th {\n",
       "        text-align: right;\n",
       "    }\n",
       "</style>\n",
       "<table border=\"1\" class=\"dataframe\">\n",
       "  <thead>\n",
       "    <tr style=\"text-align: right;\">\n",
       "      <th>movieId</th>\n",
       "      <th>2571</th>\n",
       "      <th>2710</th>\n",
       "      <th>4306</th>\n",
       "    </tr>\n",
       "    <tr>\n",
       "      <th>movieId</th>\n",
       "      <th></th>\n",
       "      <th></th>\n",
       "      <th></th>\n",
       "    </tr>\n",
       "  </thead>\n",
       "  <tbody>\n",
       "    <tr>\n",
       "      <th>2571</th>\n",
       "      <td>1.000000</td>\n",
       "      <td>0.834732</td>\n",
       "      <td>0.992844</td>\n",
       "    </tr>\n",
       "    <tr>\n",
       "      <th>2710</th>\n",
       "      <td>0.834732</td>\n",
       "      <td>1.000000</td>\n",
       "      <td>0.782908</td>\n",
       "    </tr>\n",
       "    <tr>\n",
       "      <th>4306</th>\n",
       "      <td>0.992844</td>\n",
       "      <td>0.782908</td>\n",
       "      <td>1.000000</td>\n",
       "    </tr>\n",
       "  </tbody>\n",
       "</table>\n",
       "</div>"
      ],
      "text/plain": [
       "movieId      2571      2710      4306\n",
       "movieId                              \n",
       "2571     1.000000  0.834732  0.992844\n",
       "2710     0.834732  1.000000  0.782908\n",
       "4306     0.992844  0.782908  1.000000"
      ]
     },
     "metadata": {},
     "output_type": "display_data"
    }
   ],
   "source": [
    "from sklearn.metrics.pairwise import cosine_similarity as cosine_similarity_sklearn\n",
    "\n",
    "def create_similarity_matrix_cosine(utility_matrix):\n",
    "    \"\"\" Creates similarity matrix from the utility matrix. The function from sklearn\n",
    "        does not take NaN values so we temporarily fill them with the mean rating\n",
    "        from a movie. \"\"\"    \n",
    "    # sklearn needs a numpy ndarray as input, so convert the matrix\n",
    "    matrix = np.array(utility_matrix)\n",
    "    \n",
    "    similarities = cosine_similarity_sklearn(matrix)\n",
    "    \n",
    "    # convert the output back to a pandas dataframe\n",
    "    similarity_matrix = pd.DataFrame(data=similarities[0:,0:],\n",
    "                                    index=utility_matrix.index,\n",
    "                                    columns=utility_matrix.index)\n",
    "\n",
    "    return similarity_matrix\n",
    "\n",
    "similarity_matrix_cosine = create_similarity_matrix_cosine(utility_matrix_filled)\n",
    "display(similarity_matrix_cosine)"
   ]
  },
  {
   "cell_type": "markdown",
   "metadata": {
    "deletable": false,
    "editable": false,
    "nbgrader": {
     "cell_type": "markdown",
     "checksum": "f2a1f7aa458b79f00a90c6872b07fda1",
     "grade": false,
     "grade_id": "cell-86334f701e21c106",
     "locked": true,
     "schema_version": 3,
     "solution": false,
     "task": false
    }
   },
   "source": [
    "#### Intermezzo - Verschil in computation time\n",
    "We kunnen natuurlijk wel zeggen dat een functie uit een library sneller is, maar het is goed om dat even te testen. Hieronder wordt dit gedaan, gebruikmakend van een van de `cellmagic` [commands](https://ipython.readthedocs.io/en/stable/interactive/magics.html) in jupyter notebook: `%%timeit`."
   ]
  },
  {
   "cell_type": "code",
   "execution_count": 22,
   "metadata": {
    "deletable": false,
    "editable": false,
    "nbgrader": {
     "cell_type": "code",
     "checksum": "1f8096bc791d9feb96828dd82b594639",
     "grade": false,
     "grade_id": "cell-0c4315927ac6204c",
     "locked": true,
     "schema_version": 3,
     "solution": false,
     "task": false
    }
   },
   "outputs": [
    {
     "name": "stdout",
     "output_type": "stream",
     "text": [
      "3.22 ms ± 90.2 µs per loop (mean ± std. dev. of 10 runs, 100 loops each)\n"
     ]
    }
   ],
   "source": [
    "%%timeit -r 10\n",
    "similarity_matrix_cosine = create_similarity_matrix_cosine_temp(utility_matrix_filled)"
   ]
  },
  {
   "cell_type": "code",
   "execution_count": 23,
   "metadata": {
    "deletable": false,
    "editable": false,
    "nbgrader": {
     "cell_type": "code",
     "checksum": "38e5392aa31fb3f2d767e426871c2e78",
     "grade": false,
     "grade_id": "cell-fed587c1d86f64e4",
     "locked": true,
     "schema_version": 3,
     "solution": false,
     "task": false
    }
   },
   "outputs": [
    {
     "name": "stdout",
     "output_type": "stream",
     "text": [
      "73.6 µs ± 1.91 µs per loop (mean ± std. dev. of 10 runs, 10,000 loops each)\n"
     ]
    }
   ],
   "source": [
    "%%timeit -r 10\n",
    "similarity_matrix_cosine = create_similarity_matrix_cosine(utility_matrix_filled)"
   ]
  },
  {
   "cell_type": "markdown",
   "metadata": {
    "deletable": false,
    "editable": false,
    "nbgrader": {
     "cell_type": "markdown",
     "checksum": "883a4a418fd678046e753efde59f5746",
     "grade": false,
     "grade_id": "cell-41868eb98fe60d01",
     "locked": true,
     "schema_version": 3,
     "solution": false
    }
   },
   "source": [
    "### Mean centering\n",
    "\n",
    "Het probleem met de cosine similarity is dat het erg gevoelig is voor bias. Dat wil in dit geval zeggen, als de gemiddelde waarde van een feature geen 0 is, dan geeft de cosine similarity geen goede scores. In ons geval is dit een probleem. De gemiddelde rating per gebruiker is zeker geen 0.\n",
    "\n",
    "De oplossing hiervoor is **mean centering**. Hierbij is het idee om elke rating van een gebruiker te verminderen met de gemiddelde rating _van diezelfde_ gebruiker. Aangezien we in de utility matrix elke kolom de ratings van één gebruiker staan komt het er dus op neer elke kolom te verminderen met het gemiddelde van die kolom.\n",
    "\n",
    "Hieronder zie je het effect hiervan. In Figuur 1 zien we de cosine similarity zonder mean centering, in Figuur 2 de cosine similairty van dezelfde twee punten, maar met centering. De cosine similarity toegepast op een mean centered utility matrix wordt ook wel de **adjusted cosine** genoemd. \n",
    "\n",
    "<table>\n",
    "    <tr style =\"background-color: #ffffff\"><td style=\"text-align:center\">Figuur 1</td><td style=\"text-align:center\">Figuur 2</td></tr>\n",
    "    <tr><td><img src = './include/cosine similarity.png'></td><td><img src = './include/adjusted cosine similarity.png'></td></tr>\n",
    "</table>\n",
    "\n",
    "### Vraag 12\n",
    "\n",
    "Implementeer hieronder de functie `mean_center_columns()`:"
   ]
  },
  {
   "cell_type": "code",
   "execution_count": 24,
   "metadata": {
    "deletable": false,
    "nbgrader": {
     "cell_type": "code",
     "checksum": "f8b6b2f87ea4c90fcbe2c46457fb8558",
     "grade": false,
     "grade_id": "cell-3c777218f021955b",
     "locked": false,
     "schema_version": 3,
     "solution": true
    }
   },
   "outputs": [
    {
     "name": "stdout",
     "output_type": "stream",
     "text": [
      "[4.5        2.33333333 4.5        3.         3.5       ]\n",
      "The original utility matrix:\n"
     ]
    },
    {
     "data": {
      "text/html": [
       "<div>\n",
       "<style scoped>\n",
       "    .dataframe tbody tr th:only-of-type {\n",
       "        vertical-align: middle;\n",
       "    }\n",
       "\n",
       "    .dataframe tbody tr th {\n",
       "        vertical-align: top;\n",
       "    }\n",
       "\n",
       "    .dataframe thead th {\n",
       "        text-align: right;\n",
       "    }\n",
       "</style>\n",
       "<table border=\"1\" class=\"dataframe\">\n",
       "  <thead>\n",
       "    <tr style=\"text-align: right;\">\n",
       "      <th>userId</th>\n",
       "      <th>182</th>\n",
       "      <th>195</th>\n",
       "      <th>204</th>\n",
       "      <th>376</th>\n",
       "      <th>542</th>\n",
       "    </tr>\n",
       "    <tr>\n",
       "      <th>movieId</th>\n",
       "      <th></th>\n",
       "      <th></th>\n",
       "      <th></th>\n",
       "      <th></th>\n",
       "      <th></th>\n",
       "    </tr>\n",
       "  </thead>\n",
       "  <tbody>\n",
       "    <tr>\n",
       "      <th>2571</th>\n",
       "      <td>5.0</td>\n",
       "      <td>3.0</td>\n",
       "      <td>4.5</td>\n",
       "      <td>3.5</td>\n",
       "      <td>5.0</td>\n",
       "    </tr>\n",
       "    <tr>\n",
       "      <th>2710</th>\n",
       "      <td>4.5</td>\n",
       "      <td>1.0</td>\n",
       "      <td>5.0</td>\n",
       "      <td>1.5</td>\n",
       "      <td>0.5</td>\n",
       "    </tr>\n",
       "    <tr>\n",
       "      <th>4306</th>\n",
       "      <td>4.0</td>\n",
       "      <td>3.0</td>\n",
       "      <td>NaN</td>\n",
       "      <td>4.0</td>\n",
       "      <td>5.0</td>\n",
       "    </tr>\n",
       "  </tbody>\n",
       "</table>\n",
       "</div>"
      ],
      "text/plain": [
       "userId   182  195  204  376  542\n",
       "movieId                         \n",
       "2571     5.0  3.0  4.5  3.5  5.0\n",
       "2710     4.5  1.0  5.0  1.5  0.5\n",
       "4306     4.0  3.0  NaN  4.0  5.0"
      ]
     },
     "metadata": {},
     "output_type": "display_data"
    },
    {
     "name": "stdout",
     "output_type": "stream",
     "text": [
      "The matrix with filled NaN values:\n"
     ]
    },
    {
     "data": {
      "text/html": [
       "<div>\n",
       "<style scoped>\n",
       "    .dataframe tbody tr th:only-of-type {\n",
       "        vertical-align: middle;\n",
       "    }\n",
       "\n",
       "    .dataframe tbody tr th {\n",
       "        vertical-align: top;\n",
       "    }\n",
       "\n",
       "    .dataframe thead th {\n",
       "        text-align: right;\n",
       "    }\n",
       "</style>\n",
       "<table border=\"1\" class=\"dataframe\">\n",
       "  <thead>\n",
       "    <tr style=\"text-align: right;\">\n",
       "      <th>userId</th>\n",
       "      <th>182</th>\n",
       "      <th>195</th>\n",
       "      <th>204</th>\n",
       "      <th>376</th>\n",
       "      <th>542</th>\n",
       "    </tr>\n",
       "    <tr>\n",
       "      <th>movieId</th>\n",
       "      <th></th>\n",
       "      <th></th>\n",
       "      <th></th>\n",
       "      <th></th>\n",
       "      <th></th>\n",
       "    </tr>\n",
       "  </thead>\n",
       "  <tbody>\n",
       "    <tr>\n",
       "      <th>2571</th>\n",
       "      <td>0.5</td>\n",
       "      <td>0.666667</td>\n",
       "      <td>0.0</td>\n",
       "      <td>0.5</td>\n",
       "      <td>1.5</td>\n",
       "    </tr>\n",
       "    <tr>\n",
       "      <th>2710</th>\n",
       "      <td>0.0</td>\n",
       "      <td>-1.333333</td>\n",
       "      <td>0.5</td>\n",
       "      <td>-1.5</td>\n",
       "      <td>-3.0</td>\n",
       "    </tr>\n",
       "    <tr>\n",
       "      <th>4306</th>\n",
       "      <td>-0.5</td>\n",
       "      <td>0.666667</td>\n",
       "      <td>-0.5</td>\n",
       "      <td>1.0</td>\n",
       "      <td>1.5</td>\n",
       "    </tr>\n",
       "  </tbody>\n",
       "</table>\n",
       "</div>"
      ],
      "text/plain": [
       "userId   182       195  204  376  542\n",
       "movieId                              \n",
       "2571     0.5  0.666667  0.0  0.5  1.5\n",
       "2710     0.0 -1.333333  0.5 -1.5 -3.0\n",
       "4306    -0.5  0.666667 -0.5  1.0  1.5"
      ]
     },
     "metadata": {},
     "output_type": "display_data"
    },
    {
     "name": "stdout",
     "output_type": "stream",
     "text": [
      "The filled matrix mean centered:\n"
     ]
    },
    {
     "data": {
      "text/html": [
       "<div>\n",
       "<style scoped>\n",
       "    .dataframe tbody tr th:only-of-type {\n",
       "        vertical-align: middle;\n",
       "    }\n",
       "\n",
       "    .dataframe tbody tr th {\n",
       "        vertical-align: top;\n",
       "    }\n",
       "\n",
       "    .dataframe thead th {\n",
       "        text-align: right;\n",
       "    }\n",
       "</style>\n",
       "<table border=\"1\" class=\"dataframe\">\n",
       "  <thead>\n",
       "    <tr style=\"text-align: right;\">\n",
       "      <th>userId</th>\n",
       "      <th>182</th>\n",
       "      <th>195</th>\n",
       "      <th>204</th>\n",
       "      <th>376</th>\n",
       "      <th>542</th>\n",
       "    </tr>\n",
       "    <tr>\n",
       "      <th>movieId</th>\n",
       "      <th></th>\n",
       "      <th></th>\n",
       "      <th></th>\n",
       "      <th></th>\n",
       "      <th></th>\n",
       "    </tr>\n",
       "  </thead>\n",
       "  <tbody>\n",
       "    <tr>\n",
       "      <th>2571</th>\n",
       "      <td>0.5</td>\n",
       "      <td>0.666667</td>\n",
       "      <td>0.0</td>\n",
       "      <td>0.5</td>\n",
       "      <td>1.5</td>\n",
       "    </tr>\n",
       "    <tr>\n",
       "      <th>2710</th>\n",
       "      <td>0.0</td>\n",
       "      <td>-1.333333</td>\n",
       "      <td>0.5</td>\n",
       "      <td>-1.5</td>\n",
       "      <td>-3.0</td>\n",
       "    </tr>\n",
       "    <tr>\n",
       "      <th>4306</th>\n",
       "      <td>-0.5</td>\n",
       "      <td>0.666667</td>\n",
       "      <td>-0.5</td>\n",
       "      <td>1.0</td>\n",
       "      <td>1.5</td>\n",
       "    </tr>\n",
       "  </tbody>\n",
       "</table>\n",
       "</div>"
      ],
      "text/plain": [
       "userId   182       195  204  376  542\n",
       "movieId                              \n",
       "2571     0.5  0.666667  0.0  0.5  1.5\n",
       "2710     0.0 -1.333333  0.5 -1.5 -3.0\n",
       "4306    -0.5  0.666667 -0.5  1.0  1.5"
      ]
     },
     "metadata": {},
     "output_type": "display_data"
    },
    {
     "name": "stdout",
     "output_type": "stream",
     "text": [
      "The similarity matrix based on the mean centered utility matrix:\n"
     ]
    },
    {
     "data": {
      "text/html": [
       "<div>\n",
       "<style scoped>\n",
       "    .dataframe tbody tr th:only-of-type {\n",
       "        vertical-align: middle;\n",
       "    }\n",
       "\n",
       "    .dataframe tbody tr th {\n",
       "        vertical-align: top;\n",
       "    }\n",
       "\n",
       "    .dataframe thead th {\n",
       "        text-align: right;\n",
       "    }\n",
       "</style>\n",
       "<table border=\"1\" class=\"dataframe\">\n",
       "  <thead>\n",
       "    <tr style=\"text-align: right;\">\n",
       "      <th>movieId</th>\n",
       "      <th>2571</th>\n",
       "      <th>2710</th>\n",
       "      <th>4306</th>\n",
       "    </tr>\n",
       "    <tr>\n",
       "      <th>movieId</th>\n",
       "      <th></th>\n",
       "      <th></th>\n",
       "      <th></th>\n",
       "    </tr>\n",
       "  </thead>\n",
       "  <tbody>\n",
       "    <tr>\n",
       "      <th>2571</th>\n",
       "      <td>1.000000</td>\n",
       "      <td>-0.942604</td>\n",
       "      <td>0.804393</td>\n",
       "    </tr>\n",
       "    <tr>\n",
       "      <th>2710</th>\n",
       "      <td>-0.942604</td>\n",
       "      <td>1.000000</td>\n",
       "      <td>-0.956601</td>\n",
       "    </tr>\n",
       "    <tr>\n",
       "      <th>4306</th>\n",
       "      <td>0.804393</td>\n",
       "      <td>-0.956601</td>\n",
       "      <td>1.000000</td>\n",
       "    </tr>\n",
       "  </tbody>\n",
       "</table>\n",
       "</div>"
      ],
      "text/plain": [
       "movieId      2571      2710      4306\n",
       "movieId                              \n",
       "2571     1.000000 -0.942604  0.804393\n",
       "2710    -0.942604  1.000000 -0.956601\n",
       "4306     0.804393 -0.956601  1.000000"
      ]
     },
     "metadata": {},
     "output_type": "display_data"
    }
   ],
   "source": [
    "def mean_center_columns(matrix):\n",
    "    \n",
    "    meanmatrix = matrix.mean(axis = 0)\n",
    "    meanmatrix = np.array(meanmatrix)\n",
    "    print(meanmatrix)\n",
    "    for i in range(len(matrix)):\n",
    "        for j in range(len(matrix.columns)):\n",
    "             matrix.iloc[i,j]=  matrix.iloc[i,j] - meanmatrix[j]\n",
    "    \n",
    "    return matrix\n",
    "    # TODO\n",
    "    \n",
    "    \n",
    "centered_utility_matrix = mean_center_columns(utility_matrix_filled)\n",
    "similarity = create_similarity_matrix_cosine(centered_utility_matrix)\n",
    "\n",
    "print(\"The original utility matrix:\")    \n",
    "display(utility_matrix)\n",
    "\n",
    "print(\"The matrix with filled NaN values:\")\n",
    "display(utility_matrix_filled)\n",
    "\n",
    "print(\"The filled matrix mean centered:\")\n",
    "display(centered_utility_matrix)\n",
    "\n",
    "print(\"The similarity matrix based on the mean centered utility matrix:\")\n",
    "display(similarity)"
   ]
  },
  {
   "cell_type": "markdown",
   "metadata": {
    "deletable": false,
    "editable": false,
    "nbgrader": {
     "cell_type": "markdown",
     "checksum": "cd5a21e3b59f03788ccdfc1292f9dce6",
     "grade": false,
     "grade_id": "cell-f808f2f7b85b9148",
     "locked": true,
     "schema_version": 3,
     "solution": false,
     "task": false
    }
   },
   "source": [
    "### Check"
   ]
  },
  {
   "cell_type": "code",
   "execution_count": 25,
   "metadata": {
    "deletable": false,
    "editable": false,
    "nbgrader": {
     "cell_type": "code",
     "checksum": "2f84be009646f465a3305bea028acd2f",
     "grade": true,
     "grade_id": "test_12",
     "locked": true,
     "points": 1,
     "schema_version": 3,
     "solution": false
    }
   },
   "outputs": [
    {
     "name": "stdout",
     "output_type": "stream",
     "text": [
      "Check output type: [ 0.00000000e+00 -1.48029737e-16  0.00000000e+00  0.00000000e+00\n",
      "  0.00000000e+00]\n",
      "success!\n",
      "Testing mean_center_columns on complete data set: [0. 0. 0. 0. 0.]\n",
      "success!\n",
      "Testing create_similarity_matrix_cosine on complete data set: success!\n",
      "Testing mean_center_columns on incomplete data set: [4.75 3.   4.75 1.5  2.75]\n",
      "success!\n"
     ]
    }
   ],
   "source": [
    "answers.test_12(mean_center_columns, utility_matrix_filled, create_similarity_matrix_cosine)"
   ]
  },
  {
   "cell_type": "markdown",
   "metadata": {
    "deletable": false,
    "editable": false,
    "nbgrader": {
     "cell_type": "markdown",
     "checksum": "81a94d2abdff6d423cf05a6095488b1c",
     "grade": false,
     "grade_id": "cell-034a7ba79c46d7c8",
     "locked": true,
     "schema_version": 3,
     "solution": false
    }
   },
   "source": [
    "### Voorspellingen (K-nearest neighbor)\n",
    "\n",
    "We hebben nu meerdere maten voor het vergelijken van films. Hoe kunnen we de similarity functies gebruiken voor het aanbevelen van films. Dit probleem kunnen we herformuleren: Gegeven een gebruiker (de *target user*) die een bepaalde film (de *target film*) nog niet heeft gezien, hoe zou deze gebruiker de film raten na het zien?\n",
    "\n",
    "De kern van het probleem is dus het voorspellen van een \"missende\" rating.\n",
    "\n",
    "Er zijn veel mogelijke aanpakken, maar een veelgebruikte manier voor het aanbevelen van items is **K-nearest neighbor (KNN) regression**. Dat is een hele mondvol, maar de intuïtie is eenvoudig: We spreken een getal _K_ af (bijvoorbeeld 5). Vervolgens, voor de *target film*, kijken we welke _K_ (5) films er het meeste op lijken. Dit is de *neighborhood*. Tot slot kijk je wat de *target user* gemiddeld vond van de films in de neigborhood. \n",
    "\n",
    "Het algoritme bestaat dus uit twee stappen:\n",
    "\n",
    "1. Selecteer de *neighborhood* van de *target film*. Selecteer alle films waarvoor geldt dat:\n",
    "    - de *target user* de film gezien heeft\n",
    "    - de film zeer vergelijkbaar is met de *target film*\n",
    "    \n",
    "    \n",
    "2. Neem het gewogen gemiddelde van de geselecteerde films. Dat wil zeggen dat een film die meer vergelijkbaar is met de *target film* ook meer bijdraagt aan het gemiddelde.\n",
    "\n",
    "Om deze stappen uit te werken hebben we iets meer data nodig. Voor het uitproberen van het algoritme voegen we handmatig wat data toe. We introduceren 2 extra gebruikers (123 en 456) en een extra film (4444):"
   ]
  },
  {
   "cell_type": "code",
   "execution_count": 26,
   "metadata": {
    "deletable": false,
    "editable": false,
    "nbgrader": {
     "cell_type": "code",
     "checksum": "ef59c47644eaaa58379be597fea58a2f",
     "grade": false,
     "grade_id": "cell-5cfcb40a44093279",
     "locked": true,
     "schema_version": 3,
     "solution": false
    }
   },
   "outputs": [
    {
     "data": {
      "text/html": [
       "<div>\n",
       "<style scoped>\n",
       "    .dataframe tbody tr th:only-of-type {\n",
       "        vertical-align: middle;\n",
       "    }\n",
       "\n",
       "    .dataframe tbody tr th {\n",
       "        vertical-align: top;\n",
       "    }\n",
       "\n",
       "    .dataframe thead th {\n",
       "        text-align: right;\n",
       "    }\n",
       "</style>\n",
       "<table border=\"1\" class=\"dataframe\">\n",
       "  <thead>\n",
       "    <tr style=\"text-align: right;\">\n",
       "      <th></th>\n",
       "      <th>userId</th>\n",
       "      <th>movieId</th>\n",
       "      <th>rating</th>\n",
       "      <th>timestamp</th>\n",
       "    </tr>\n",
       "  </thead>\n",
       "  <tbody>\n",
       "    <tr>\n",
       "      <th>0</th>\n",
       "      <td>182</td>\n",
       "      <td>2571</td>\n",
       "      <td>5.0</td>\n",
       "      <td>1054779786</td>\n",
       "    </tr>\n",
       "    <tr>\n",
       "      <th>1</th>\n",
       "      <td>182</td>\n",
       "      <td>2710</td>\n",
       "      <td>4.5</td>\n",
       "      <td>1063284735</td>\n",
       "    </tr>\n",
       "    <tr>\n",
       "      <th>2</th>\n",
       "      <td>182</td>\n",
       "      <td>4306</td>\n",
       "      <td>4.0</td>\n",
       "      <td>1054780155</td>\n",
       "    </tr>\n",
       "    <tr>\n",
       "      <th>3</th>\n",
       "      <td>195</td>\n",
       "      <td>2571</td>\n",
       "      <td>3.0</td>\n",
       "      <td>974705726</td>\n",
       "    </tr>\n",
       "    <tr>\n",
       "      <th>4</th>\n",
       "      <td>195</td>\n",
       "      <td>2710</td>\n",
       "      <td>1.0</td>\n",
       "      <td>974706758</td>\n",
       "    </tr>\n",
       "    <tr>\n",
       "      <th>5</th>\n",
       "      <td>195</td>\n",
       "      <td>4306</td>\n",
       "      <td>3.0</td>\n",
       "      <td>994032742</td>\n",
       "    </tr>\n",
       "    <tr>\n",
       "      <th>6</th>\n",
       "      <td>204</td>\n",
       "      <td>2571</td>\n",
       "      <td>4.5</td>\n",
       "      <td>1327183462</td>\n",
       "    </tr>\n",
       "    <tr>\n",
       "      <th>7</th>\n",
       "      <td>204</td>\n",
       "      <td>2710</td>\n",
       "      <td>5.0</td>\n",
       "      <td>1327185697</td>\n",
       "    </tr>\n",
       "    <tr>\n",
       "      <th>8</th>\n",
       "      <td>376</td>\n",
       "      <td>2571</td>\n",
       "      <td>3.5</td>\n",
       "      <td>1364994024</td>\n",
       "    </tr>\n",
       "    <tr>\n",
       "      <th>9</th>\n",
       "      <td>376</td>\n",
       "      <td>2710</td>\n",
       "      <td>1.5</td>\n",
       "      <td>1364994544</td>\n",
       "    </tr>\n",
       "    <tr>\n",
       "      <th>10</th>\n",
       "      <td>376</td>\n",
       "      <td>4306</td>\n",
       "      <td>4.0</td>\n",
       "      <td>1364994164</td>\n",
       "    </tr>\n",
       "    <tr>\n",
       "      <th>11</th>\n",
       "      <td>542</td>\n",
       "      <td>2571</td>\n",
       "      <td>5.0</td>\n",
       "      <td>1163386800</td>\n",
       "    </tr>\n",
       "    <tr>\n",
       "      <th>12</th>\n",
       "      <td>542</td>\n",
       "      <td>2710</td>\n",
       "      <td>0.5</td>\n",
       "      <td>1163387159</td>\n",
       "    </tr>\n",
       "    <tr>\n",
       "      <th>13</th>\n",
       "      <td>542</td>\n",
       "      <td>4306</td>\n",
       "      <td>5.0</td>\n",
       "      <td>1163387194</td>\n",
       "    </tr>\n",
       "    <tr>\n",
       "      <th>14</th>\n",
       "      <td>123</td>\n",
       "      <td>2571</td>\n",
       "      <td>5.0</td>\n",
       "      <td>0</td>\n",
       "    </tr>\n",
       "    <tr>\n",
       "      <th>15</th>\n",
       "      <td>123</td>\n",
       "      <td>2710</td>\n",
       "      <td>1.5</td>\n",
       "      <td>0</td>\n",
       "    </tr>\n",
       "    <tr>\n",
       "      <th>16</th>\n",
       "      <td>123</td>\n",
       "      <td>4444</td>\n",
       "      <td>4.0</td>\n",
       "      <td>0</td>\n",
       "    </tr>\n",
       "    <tr>\n",
       "      <th>17</th>\n",
       "      <td>456</td>\n",
       "      <td>2571</td>\n",
       "      <td>1.5</td>\n",
       "      <td>0</td>\n",
       "    </tr>\n",
       "    <tr>\n",
       "      <th>18</th>\n",
       "      <td>456</td>\n",
       "      <td>2710</td>\n",
       "      <td>5.0</td>\n",
       "      <td>0</td>\n",
       "    </tr>\n",
       "    <tr>\n",
       "      <th>19</th>\n",
       "      <td>456</td>\n",
       "      <td>4444</td>\n",
       "      <td>1.0</td>\n",
       "      <td>0</td>\n",
       "    </tr>\n",
       "    <tr>\n",
       "      <th>20</th>\n",
       "      <td>182</td>\n",
       "      <td>4444</td>\n",
       "      <td>3.0</td>\n",
       "      <td>0</td>\n",
       "    </tr>\n",
       "    <tr>\n",
       "      <th>21</th>\n",
       "      <td>195</td>\n",
       "      <td>4444</td>\n",
       "      <td>2.0</td>\n",
       "      <td>0</td>\n",
       "    </tr>\n",
       "    <tr>\n",
       "      <th>22</th>\n",
       "      <td>204</td>\n",
       "      <td>4444</td>\n",
       "      <td>4.0</td>\n",
       "      <td>0</td>\n",
       "    </tr>\n",
       "    <tr>\n",
       "      <th>23</th>\n",
       "      <td>376</td>\n",
       "      <td>4444</td>\n",
       "      <td>4.5</td>\n",
       "      <td>0</td>\n",
       "    </tr>\n",
       "    <tr>\n",
       "      <th>24</th>\n",
       "      <td>542</td>\n",
       "      <td>4444</td>\n",
       "      <td>4.5</td>\n",
       "      <td>0</td>\n",
       "    </tr>\n",
       "    <tr>\n",
       "      <th>25</th>\n",
       "      <td>123</td>\n",
       "      <td>5555</td>\n",
       "      <td>3.5</td>\n",
       "      <td>0</td>\n",
       "    </tr>\n",
       "    <tr>\n",
       "      <th>26</th>\n",
       "      <td>456</td>\n",
       "      <td>5555</td>\n",
       "      <td>3.5</td>\n",
       "      <td>0</td>\n",
       "    </tr>\n",
       "  </tbody>\n",
       "</table>\n",
       "</div>"
      ],
      "text/plain": [
       "    userId  movieId  rating   timestamp\n",
       "0      182     2571     5.0  1054779786\n",
       "1      182     2710     4.5  1063284735\n",
       "2      182     4306     4.0  1054780155\n",
       "3      195     2571     3.0   974705726\n",
       "4      195     2710     1.0   974706758\n",
       "5      195     4306     3.0   994032742\n",
       "6      204     2571     4.5  1327183462\n",
       "7      204     2710     5.0  1327185697\n",
       "8      376     2571     3.5  1364994024\n",
       "9      376     2710     1.5  1364994544\n",
       "10     376     4306     4.0  1364994164\n",
       "11     542     2571     5.0  1163386800\n",
       "12     542     2710     0.5  1163387159\n",
       "13     542     4306     5.0  1163387194\n",
       "14     123     2571     5.0           0\n",
       "15     123     2710     1.5           0\n",
       "16     123     4444     4.0           0\n",
       "17     456     2571     1.5           0\n",
       "18     456     2710     5.0           0\n",
       "19     456     4444     1.0           0\n",
       "20     182     4444     3.0           0\n",
       "21     195     4444     2.0           0\n",
       "22     204     4444     4.0           0\n",
       "23     376     4444     4.5           0\n",
       "24     542     4444     4.5           0\n",
       "25     123     5555     3.5           0\n",
       "26     456     5555     3.5           0"
      ]
     },
     "metadata": {},
     "output_type": "display_data"
    },
    {
     "data": {
      "text/html": [
       "<div>\n",
       "<style scoped>\n",
       "    .dataframe tbody tr th:only-of-type {\n",
       "        vertical-align: middle;\n",
       "    }\n",
       "\n",
       "    .dataframe tbody tr th {\n",
       "        vertical-align: top;\n",
       "    }\n",
       "\n",
       "    .dataframe thead th {\n",
       "        text-align: right;\n",
       "    }\n",
       "</style>\n",
       "<table border=\"1\" class=\"dataframe\">\n",
       "  <thead>\n",
       "    <tr style=\"text-align: right;\">\n",
       "      <th>userId</th>\n",
       "      <th>123</th>\n",
       "      <th>182</th>\n",
       "      <th>195</th>\n",
       "      <th>204</th>\n",
       "      <th>376</th>\n",
       "      <th>456</th>\n",
       "      <th>542</th>\n",
       "    </tr>\n",
       "    <tr>\n",
       "      <th>movieId</th>\n",
       "      <th></th>\n",
       "      <th></th>\n",
       "      <th></th>\n",
       "      <th></th>\n",
       "      <th></th>\n",
       "      <th></th>\n",
       "      <th></th>\n",
       "    </tr>\n",
       "  </thead>\n",
       "  <tbody>\n",
       "    <tr>\n",
       "      <th>2571</th>\n",
       "      <td>5.0</td>\n",
       "      <td>5.0</td>\n",
       "      <td>3.0</td>\n",
       "      <td>4.5</td>\n",
       "      <td>3.5</td>\n",
       "      <td>1.5</td>\n",
       "      <td>5.0</td>\n",
       "    </tr>\n",
       "    <tr>\n",
       "      <th>2710</th>\n",
       "      <td>1.5</td>\n",
       "      <td>4.5</td>\n",
       "      <td>1.0</td>\n",
       "      <td>5.0</td>\n",
       "      <td>1.5</td>\n",
       "      <td>5.0</td>\n",
       "      <td>0.5</td>\n",
       "    </tr>\n",
       "    <tr>\n",
       "      <th>4306</th>\n",
       "      <td>NaN</td>\n",
       "      <td>4.0</td>\n",
       "      <td>3.0</td>\n",
       "      <td>NaN</td>\n",
       "      <td>4.0</td>\n",
       "      <td>NaN</td>\n",
       "      <td>5.0</td>\n",
       "    </tr>\n",
       "    <tr>\n",
       "      <th>4444</th>\n",
       "      <td>4.0</td>\n",
       "      <td>3.0</td>\n",
       "      <td>2.0</td>\n",
       "      <td>4.0</td>\n",
       "      <td>4.5</td>\n",
       "      <td>1.0</td>\n",
       "      <td>4.5</td>\n",
       "    </tr>\n",
       "    <tr>\n",
       "      <th>5555</th>\n",
       "      <td>3.5</td>\n",
       "      <td>NaN</td>\n",
       "      <td>NaN</td>\n",
       "      <td>NaN</td>\n",
       "      <td>NaN</td>\n",
       "      <td>3.5</td>\n",
       "      <td>NaN</td>\n",
       "    </tr>\n",
       "  </tbody>\n",
       "</table>\n",
       "</div>"
      ],
      "text/plain": [
       "userId   123  182  195  204  376  456  542\n",
       "movieId                                   \n",
       "2571     5.0  5.0  3.0  4.5  3.5  1.5  5.0\n",
       "2710     1.5  4.5  1.0  5.0  1.5  5.0  0.5\n",
       "4306     NaN  4.0  3.0  NaN  4.0  NaN  5.0\n",
       "4444     4.0  3.0  2.0  4.0  4.5  1.0  4.5\n",
       "5555     3.5  NaN  NaN  NaN  NaN  3.5  NaN"
      ]
     },
     "metadata": {},
     "output_type": "display_data"
    },
    {
     "name": "stdout",
     "output_type": "stream",
     "text": [
      "[3.6 4.  2.5 4.2 3.4 3.  3.7]\n"
     ]
    },
    {
     "data": {
      "text/html": [
       "<div>\n",
       "<style scoped>\n",
       "    .dataframe tbody tr th:only-of-type {\n",
       "        vertical-align: middle;\n",
       "    }\n",
       "\n",
       "    .dataframe tbody tr th {\n",
       "        vertical-align: top;\n",
       "    }\n",
       "\n",
       "    .dataframe thead th {\n",
       "        text-align: right;\n",
       "    }\n",
       "</style>\n",
       "<table border=\"1\" class=\"dataframe\">\n",
       "  <thead>\n",
       "    <tr style=\"text-align: right;\">\n",
       "      <th>movieId</th>\n",
       "      <th>2571</th>\n",
       "      <th>2710</th>\n",
       "      <th>4306</th>\n",
       "      <th>4444</th>\n",
       "      <th>5555</th>\n",
       "    </tr>\n",
       "    <tr>\n",
       "      <th>movieId</th>\n",
       "      <th></th>\n",
       "      <th></th>\n",
       "      <th></th>\n",
       "      <th></th>\n",
       "      <th></th>\n",
       "    </tr>\n",
       "  </thead>\n",
       "  <tbody>\n",
       "    <tr>\n",
       "      <th>2571</th>\n",
       "      <td>1.000000</td>\n",
       "      <td>-0.759017</td>\n",
       "      <td>0.198517</td>\n",
       "      <td>0.467357</td>\n",
       "      <td>-0.350177</td>\n",
       "    </tr>\n",
       "    <tr>\n",
       "      <th>2710</th>\n",
       "      <td>-0.759017</td>\n",
       "      <td>1.000000</td>\n",
       "      <td>-0.535600</td>\n",
       "      <td>-0.690319</td>\n",
       "      <td>-0.090078</td>\n",
       "    </tr>\n",
       "    <tr>\n",
       "      <th>4306</th>\n",
       "      <td>0.198517</td>\n",
       "      <td>-0.535600</td>\n",
       "      <td>1.000000</td>\n",
       "      <td>-0.069242</td>\n",
       "      <td>0.335994</td>\n",
       "    </tr>\n",
       "    <tr>\n",
       "      <th>4444</th>\n",
       "      <td>0.467357</td>\n",
       "      <td>-0.690319</td>\n",
       "      <td>-0.069242</td>\n",
       "      <td>1.000000</td>\n",
       "      <td>-0.245576</td>\n",
       "    </tr>\n",
       "    <tr>\n",
       "      <th>5555</th>\n",
       "      <td>-0.350177</td>\n",
       "      <td>-0.090078</td>\n",
       "      <td>0.335994</td>\n",
       "      <td>-0.245576</td>\n",
       "      <td>1.000000</td>\n",
       "    </tr>\n",
       "  </tbody>\n",
       "</table>\n",
       "</div>"
      ],
      "text/plain": [
       "movieId      2571      2710      4306      4444      5555\n",
       "movieId                                                  \n",
       "2571     1.000000 -0.759017  0.198517  0.467357 -0.350177\n",
       "2710    -0.759017  1.000000 -0.535600 -0.690319 -0.090078\n",
       "4306     0.198517 -0.535600  1.000000 -0.069242  0.335994\n",
       "4444     0.467357 -0.690319 -0.069242  1.000000 -0.245576\n",
       "5555    -0.350177 -0.090078  0.335994 -0.245576  1.000000"
      ]
     },
     "metadata": {},
     "output_type": "display_data"
    }
   ],
   "source": [
    "# create some mock data\n",
    "l = [[123, 2571, 5.0, 0], [123, 2710, 1.5, 0], [123, 4444, 4.0, 0], [456, 2571, 1.5, 0], \n",
    "     [456, 2710, 5.0, 0], [456, 4444, 1.0, 0], [182, 4444, 3.0, 0], [195, 4444, 2.0, 0], \n",
    "     [204, 4444, 4.0, 0], [376, 4444, 4.5, 0], [542, 4444, 4.5, 0], [123, 5555, 3.5, 0], \n",
    "     [456, 5555, 3.5, 0]]\n",
    "extra_data = pd.DataFrame(data=l, columns = ratings.columns)\n",
    "more_ratings = pd.concat([ratings, extra_data]).reset_index(drop=True)\n",
    "\n",
    "display(more_ratings)\n",
    "\n",
    "# recompute utility matrix\n",
    "utility_matrix2 = pivot_ratings(more_ratings)\n",
    "display(utility_matrix2)\n",
    "\n",
    "utility_matrix2_filled = fill_nan_mean(utility_matrix2)\n",
    "\n",
    "# recompute similarity matrix\n",
    "centered_matrix = mean_center_columns(utility_matrix2_filled)\n",
    "similarity = create_similarity_matrix_cosine(centered_matrix)\n",
    "display(similarity)"
   ]
  },
  {
   "cell_type": "markdown",
   "metadata": {
    "deletable": false,
    "editable": false,
    "nbgrader": {
     "cell_type": "markdown",
     "checksum": "6a95fb3426b2947995ddac48f40cdb97",
     "grade": false,
     "grade_id": "cell-99b0d485e6d4dded",
     "locked": true,
     "schema_version": 3,
     "solution": false
    }
   },
   "source": [
    "Zoals je ziet in de utility matrix hebben de nieuwe gebruikers (123 en 456) geen rating voor de film Shrek (4306). Deze hebben we voor het uitrekenen van de cosine similarity ingevuld met de gemiddelde beoordeling van de film, maar we gaan ze nu proberen op een betere manier te voorspellen.\n",
    "\n",
    "Om een beeld te krijgen van deze nieuwe data maken we weer een plot:"
   ]
  },
  {
   "cell_type": "code",
   "execution_count": 27,
   "metadata": {
    "deletable": false,
    "editable": false,
    "nbgrader": {
     "cell_type": "code",
     "checksum": "c14b2660d5d566ca829ff3fd5bc187b7",
     "grade": false,
     "grade_id": "cell-9a57e916a3039ce4",
     "locked": true,
     "schema_version": 3,
     "solution": false,
     "task": false
    }
   },
   "outputs": [
    {
     "data": {
      "image/png": "[encoded data removed]",
      "text/plain": [
       "<Figure size 576x576 with 49 Axes>"
      ]
     },
     "metadata": {
      "needs_background": "light"
     },
     "output_type": "display_data"
    }
   ],
   "source": [
    "# to see the difference\n",
    "# plot_scatter_matrix(utility_matrix2.T.fillna(utility_matrix2.mean(axis=1)).T)\n",
    "plot_scatter_matrix(utility_matrix2)"
   ]
  },
  {
   "cell_type": "markdown",
   "metadata": {
    "deletable": false,
    "editable": false,
    "nbgrader": {
     "cell_type": "markdown",
     "checksum": "db6396884d4207f14fd4fd78c00e1727",
     "grade": false,
     "grade_id": "cell-58ee482d8cfa87da",
     "locked": true,
     "schema_version": 3,
     "solution": false
    }
   },
   "source": [
    "### Vraag 13\n",
    "\n",
    "Als je naar de bovenstaande plots kijkt, welke film zou je aanbevelen aan gebruiker 123? En aan gebruiker 456? Beargumenteer."
   ]
  },
  {
   "cell_type": "markdown",
   "metadata": {
    "deletable": false,
    "nbgrader": {
     "cell_type": "markdown",
     "checksum": "6fca3ec074d30516fae8f1e32d4b0cba",
     "grade": true,
     "grade_id": "cell-0b80c9ce3e49e852",
     "locked": false,
     "points": 3,
     "schema_version": 3,
     "solution": true
    }
   },
   "source": [
    "gebruiker 123 zal film Shrek aangeraden worden en gebruiker 456 The Matrix. Bij gebruiker 123 en 456 is gekeken naar andere gebruikers met soort gelijke film rating."
   ]
  },
  {
   "cell_type": "markdown",
   "metadata": {
    "deletable": false,
    "editable": false,
    "nbgrader": {
     "cell_type": "markdown",
     "checksum": "2ce413aa19e9ffb7ad8eaf543f9b5dd4",
     "grade": false,
     "grade_id": "cell-0093075937b1f6a2",
     "locked": true,
     "schema_version": 3,
     "solution": false
    }
   },
   "source": [
    "### Vraag 14\n",
    "\n",
    "We gaan eerst Stap 1 van het algoritme uitwerken:\n",
    "\n",
    "1. Selecteer de neighborhood van de target film. Selecteer alle films waarvoor geldt dat:\n",
    "    - de target user de film gezien heeft\n",
    "    - de film zeer vergelijkbaar is met de target film\n",
    "\n",
    "We moeten alleen een definitie geven van \"zeer vergelijkbaar\". Hiervoor kunnen we vele keuzes maken. Vaak worden de top $k$ meest vergelijkbare items genomen. Waarbij de beste waarde voor $k$ proefondervindelijk wordt vastgesteld. Bovendien is het belangrijk om alleen items te nemen waarvan de _cosine similarity_ groter is dan 0.\n",
    "\n",
    "Implementeer hieronder de functie `select_neighborhood()`. Deze functie krijgt als input een `Series` met de similarities, een `Series` met ratings en de parameter `k` en geeft een `Series` terug met de top `k` `movieId`'s en de bijbehorende similarities. Voor bijvoorbeeld gebruiker 123, film 4306 en k = 10 geeft de functie de volgende `Series` terug:\n",
    "\n",
    "    movieId\n",
    "    2571    0.198517\n",
    "    5555    0.335994\n",
    "    Name: 4306, dtype: float64\n",
    "    \n",
    "Let op: deze output bevat niet de films 2710, 4306. De films 2710 en 4444 missen omdat de similarity kleiner is dan 0, en 4306 mist omdat gebruiker 123 deze nog niet heeft gezien. De output bevat bovendien maar 2 items, in plaats van 10. Dit komt omdat er in totaal maar 2 films zijn die een similarity groter dan 0 hebben met film 4306.\n",
    "\n",
    "> Tip: Als je naar de aanroep van de functie `select_neighborhood` kijkt, zie je dat we daar de `utility_matrix2` gebruiken en niet `utility_matrix2_filled`. Waarom is dat?"
   ]
  },
  {
   "cell_type": "code",
   "execution_count": 28,
   "metadata": {
    "deletable": false,
    "nbgrader": {
     "cell_type": "code",
     "checksum": "b5777e6aef2399f3b0ebf83d8e83ac62",
     "grade": false,
     "grade_id": "cell-bc604a78a71584c8",
     "locked": false,
     "schema_version": 3,
     "solution": true
    }
   },
   "outputs": [
    {
     "data": {
      "text/plain": [
       "movieId\n",
       "2571    0.198517\n",
       "5555    0.335994\n",
       "Name: 4306, dtype: float64"
      ]
     },
     "metadata": {},
     "output_type": "display_data"
    }
   ],
   "source": [
    "def select_neighborhood(similarities, ratings, k):\n",
    "    \"\"\" selects the k items all items with similarity > 0  \"\"\"\n",
    "    \n",
    "    # Filter out items with a similarity score of 0 or less\n",
    "    rslt_df = similarities[similarities > 0]\n",
    "    if len(rslt_df) == 1:\n",
    "        return rslt_df\n",
    "        \n",
    "    elif(len(rslt_df) > 1):\n",
    "        rslt_df = rslt_df[rslt_df<1]\n",
    "        return rslt_df[:k,]\n",
    "    \n",
    "    elif(rslt_df.empty == True):\n",
    "        return rslt_df\n",
    "    \n",
    "\n",
    "neighborhood = select_neighborhood(similarity[4306], utility_matrix2[123], 2)\n",
    "display(neighborhood)"
   ]
  },
  {
   "cell_type": "markdown",
   "metadata": {
    "deletable": false,
    "editable": false,
    "nbgrader": {
     "cell_type": "markdown",
     "checksum": "0e1632ec811d2cd3e402ded5bee65b22",
     "grade": false,
     "grade_id": "cell-9b23f9c3192883bd",
     "locked": true,
     "schema_version": 3,
     "solution": false
    }
   },
   "source": [
    "### Check"
   ]
  },
  {
   "cell_type": "code",
   "execution_count": 29,
   "metadata": {
    "deletable": false,
    "editable": false,
    "nbgrader": {
     "cell_type": "code",
     "checksum": "739158e9344d111bb682b3b782868bd0",
     "grade": true,
     "grade_id": "test_14",
     "locked": true,
     "points": 1,
     "schema_version": 3,
     "solution": false
    }
   },
   "outputs": [
    {
     "name": "stdout",
     "output_type": "stream",
     "text": [
      "Check output type: success!\n",
      "Check select_neighborhood for user 123: success!\n",
      "Check select_neighborhood for user 456: success!\n",
      "Check select_neighborhood for movie 2710 and user 195: success!\n",
      "Check empty neighborhood: success!\n",
      "Check only zero similarity: success!\n"
     ]
    },
    {
     "name": "stderr",
     "output_type": "stream",
     "text": [
      "/Users/padmadhuney/Documents/Informatiekunde/CI/Module 2/answers.py:295: FutureWarning: The default dtype for empty Series will be 'object' instead of 'float64' in a future version. Specify a dtype explicitly to silence this warning.\n",
      "  _solution = pd.Series([], index=[])\n",
      "/Users/padmadhuney/Documents/Informatiekunde/CI/Module 2/answers.py:304: FutureWarning: The default dtype for empty Series will be 'object' instead of 'float64' in a future version. Specify a dtype explicitly to silence this warning.\n",
      "  _solution = pd.Series([], index=[])\n"
     ]
    }
   ],
   "source": [
    "answers.test_14(select_neighborhood, similarity, utility_matrix2)"
   ]
  },
  {
   "cell_type": "markdown",
   "metadata": {
    "deletable": false,
    "editable": false,
    "nbgrader": {
     "cell_type": "markdown",
     "checksum": "85e79613799d42f53ec39be41cdc7299",
     "grade": false,
     "grade_id": "cell-1d8f2b9359d7f80e",
     "locked": true,
     "schema_version": 3,
     "solution": false,
     "task": false
    }
   },
   "source": [
    "### Vraag 15\n",
    "\n",
    "Nu rest nog stap 2 van het algoritme:\n",
    "\n",
    "2. Neem het gewogen gemiddelde van de geselecteerde films. Dat wil zeggen dat een film die meer vergelijkbaar is met de _target film_ ook meer bijdraagt aan het gemiddelde.\n",
    "\n",
    "In het voorbeeld hierboven bevat de neighborhood de similarities $0.73$ en $0.58$ voor respectievelijk de films 2571 en 4444. De ratings die gebruiker 123 voor deze films heeft gegeven zijn $5.0$ en $4.0$. Het gewogen gemiddelde is dan:\n",
    "$$\n",
    "\\textrm{predicted rating} = \\frac{5.0 * 0.73+4.0 * 0.58}{0.73 + 0.58} \\approx 4.56\n",
    "$$\n",
    "\n",
    "De formele definitie (met $r_i$ de rating en $s_i$ de similarity voor film $i$):\n",
    "$$\n",
    "\\textrm{predicted rating} = \\frac{\\sum_{\\textrm{i in neighborhood}} r_i * s_i}{\\sum_{\\textrm{i in neighborhood}}s_i}\n",
    "$$\n",
    "\n",
    "Implementeer hieronder de laatste stap van het item based collaborative filtering algoritme. Implementeer de functie `weighted_mean()`."
   ]
  },
  {
   "cell_type": "code",
   "execution_count": 30,
   "metadata": {
    "deletable": false,
    "nbgrader": {
     "cell_type": "code",
     "checksum": "b0443b8ee2a4a2f2e15ab393aa049d0b",
     "grade": false,
     "grade_id": "cell-81f44a2931819d17",
     "locked": false,
     "schema_version": 3,
     "solution": true
    }
   },
   "outputs": [
    {
     "name": "stdout",
     "output_type": "stream",
     "text": [
      "User 123 predicted rating for Shrek 4.06\n",
      "User 456 predicted rating for Shrek 2.76\n"
     ]
    }
   ],
   "source": [
    "def weighted_mean(neighborhood, ratings):  \n",
    "    k =  neighborhood*ratings\n",
    "    ratingInNeighbourHood = (ratings/ratings) *neighborhood\n",
    "    ratingInNeighbourHood = ratingInNeighbourHood.dropna() \n",
    "    k = k.dropna() \n",
    "    if k.empty == True:\n",
    "        return np.nan\n",
    "    \n",
    "    else:\n",
    "        return k.sum()/ratingInNeighbourHood.sum()\n",
    "    \n",
    "    # TODO\n",
    "    \n",
    "neighborhood1 = select_neighborhood(similarity[4306], utility_matrix2[123], 10)\n",
    "neighborhood2 = select_neighborhood(similarity[4306], utility_matrix2[456], 10)\n",
    "\"\"\"\n",
    "print(neighborhood1)\n",
    "print(neighborhood2)\n",
    "print(utility_matrix2[123])\n",
    "print(utility_matrix2[456])\n",
    "\"\"\"\n",
    "prediction1 = weighted_mean(neighborhood1, utility_matrix2[123])\n",
    "prediction2 = weighted_mean(neighborhood2, utility_matrix2[456])\n",
    "\n",
    "print(f'User 123 predicted rating for Shrek {prediction1:.2f}')\n",
    "print(f'User 456 predicted rating for Shrek {prediction2:.2f}')  "
   ]
  },
  {
   "cell_type": "markdown",
   "metadata": {
    "deletable": false,
    "editable": false,
    "nbgrader": {
     "cell_type": "markdown",
     "checksum": "476cda8fb9d85a358164cbfdc2b1baca",
     "grade": false,
     "grade_id": "cell-d273926835be987d",
     "locked": true,
     "schema_version": 3,
     "solution": false
    }
   },
   "source": [
    "### Check"
   ]
  },
  {
   "cell_type": "code",
   "execution_count": 31,
   "metadata": {
    "deletable": false,
    "editable": false,
    "nbgrader": {
     "cell_type": "code",
     "checksum": "5461c70c4979fd274d18db13619d3546",
     "grade": true,
     "grade_id": "test_15",
     "locked": true,
     "points": 1,
     "schema_version": 3,
     "solution": false
    }
   },
   "outputs": [
    {
     "name": "stdout",
     "output_type": "stream",
     "text": [
      "Check output type: success!\n",
      "Testing predictions: success!\n",
      "Testing prediction for empty neighborhood: success!\n"
     ]
    }
   ],
   "source": [
    "answers.test_15(select_neighborhood, similarity, utility_matrix2, weighted_mean)"
   ]
  },
  {
   "cell_type": "markdown",
   "metadata": {
    "deletable": false,
    "editable": false,
    "nbgrader": {
     "cell_type": "markdown",
     "checksum": "7d2442b89184baa6c7a9d0979b0c2de0",
     "grade": false,
     "grade_id": "cell-d4b9edc876b3216f",
     "locked": true,
     "schema_version": 3,
     "solution": false
    }
   },
   "source": [
    "### Vraag 16\n",
    "\n",
    "Conclusie: Zou je gebruiker 123 Shrek aanraden? En gebruiker 456?"
   ]
  },
  {
   "cell_type": "markdown",
   "metadata": {
    "deletable": false,
    "nbgrader": {
     "cell_type": "markdown",
     "checksum": "4b1e36de9c907650824b7c1926582773",
     "grade": true,
     "grade_id": "cell-2ea27efd75a52848",
     "locked": false,
     "points": 1,
     "schema_version": 3,
     "solution": true
    }
   },
   "source": [
    "Gebruiker 123 zou je Shrek wel aanraden want de prediction is 4.06, want dat ligt aan de hoge kant. Gerbuiker 456 zou je Shrek niet aanraden, omdat de prediction 2.76 is en dat is aan de lage kant."
   ]
  },
  {
   "cell_type": "markdown",
   "metadata": {
    "deletable": false,
    "editable": false,
    "nbgrader": {
     "cell_type": "markdown",
     "checksum": "1a02a099061e97c9bee1181c90f1e64c",
     "grade": false,
     "grade_id": "cell-83438ce60dc016be",
     "locked": true,
     "schema_version": 3,
     "solution": false
    }
   },
   "source": [
    "# Deel 2: User based filtering\n",
    "\n",
    "Tot nu toe keken we naar item based filtering. Hier voorspellen we ratings aan de hand van vergelijkbaarheid van de items (films). De voornaamste tegenhanger van item based filtering is *user based filtering*. Dit is het collaborative filtering equivalent van iemand met dezelfde filmsmaak om advies vragen. \n",
    "\n",
    "Het proces van user based filtering is vrijwel identiek aan item based filtering. We draaien alleen de rollen om:\n",
    "\n",
    "- in plaats van een utility matrix met horizontaal de gebruikers en verticaal de films, wisselen we de assen om  \n",
    "- in plaats van een similarity matrix voor films maken we een similarity matrix voor gebruikers\n",
    "- in plaats van een neighborhood van de _target film_ selecteren we een neighborhood van de _target user_.\n",
    "- in plaats van een gewogen gemiddelde van de ratings van vergelijkbare films nemen we een gewogen gemiddelde van de ratings van vergelijkbare users.\n",
    "\n",
    "Voor de onderstaande vragen gaan we weer van de _uitgebreide ratings data_ uit.\n",
    "\n",
    "Tip: Voor de onderstaande vragen hoef je maar weinig code te schrijven. **Maak zoveel mogelijk gebruik van de functies die je hierboven geschreven hebt.** Als je in een cel meer dan een paar regels code moet schrijven maak je het waarschijnlijk te ingewikkeld."
   ]
  },
  {
   "cell_type": "code",
   "execution_count": 32,
   "metadata": {
    "deletable": false,
    "editable": false,
    "nbgrader": {
     "cell_type": "code",
     "checksum": "668cc73b304c9c37f20519abef288a24",
     "grade": false,
     "grade_id": "cell-2b878119d0788b78",
     "locked": true,
     "schema_version": 3,
     "solution": false
    }
   },
   "outputs": [
    {
     "data": {
      "text/html": [
       "<div>\n",
       "<style scoped>\n",
       "    .dataframe tbody tr th:only-of-type {\n",
       "        vertical-align: middle;\n",
       "    }\n",
       "\n",
       "    .dataframe tbody tr th {\n",
       "        vertical-align: top;\n",
       "    }\n",
       "\n",
       "    .dataframe thead th {\n",
       "        text-align: right;\n",
       "    }\n",
       "</style>\n",
       "<table border=\"1\" class=\"dataframe\">\n",
       "  <thead>\n",
       "    <tr style=\"text-align: right;\">\n",
       "      <th></th>\n",
       "      <th>userId</th>\n",
       "      <th>movieId</th>\n",
       "      <th>rating</th>\n",
       "      <th>timestamp</th>\n",
       "    </tr>\n",
       "  </thead>\n",
       "  <tbody>\n",
       "    <tr>\n",
       "      <th>0</th>\n",
       "      <td>182</td>\n",
       "      <td>2571</td>\n",
       "      <td>5.0</td>\n",
       "      <td>1054779786</td>\n",
       "    </tr>\n",
       "    <tr>\n",
       "      <th>1</th>\n",
       "      <td>182</td>\n",
       "      <td>2710</td>\n",
       "      <td>4.5</td>\n",
       "      <td>1063284735</td>\n",
       "    </tr>\n",
       "    <tr>\n",
       "      <th>2</th>\n",
       "      <td>182</td>\n",
       "      <td>4306</td>\n",
       "      <td>4.0</td>\n",
       "      <td>1054780155</td>\n",
       "    </tr>\n",
       "    <tr>\n",
       "      <th>3</th>\n",
       "      <td>195</td>\n",
       "      <td>2571</td>\n",
       "      <td>3.0</td>\n",
       "      <td>974705726</td>\n",
       "    </tr>\n",
       "    <tr>\n",
       "      <th>4</th>\n",
       "      <td>195</td>\n",
       "      <td>2710</td>\n",
       "      <td>1.0</td>\n",
       "      <td>974706758</td>\n",
       "    </tr>\n",
       "    <tr>\n",
       "      <th>5</th>\n",
       "      <td>195</td>\n",
       "      <td>4306</td>\n",
       "      <td>3.0</td>\n",
       "      <td>994032742</td>\n",
       "    </tr>\n",
       "    <tr>\n",
       "      <th>6</th>\n",
       "      <td>204</td>\n",
       "      <td>2571</td>\n",
       "      <td>4.5</td>\n",
       "      <td>1327183462</td>\n",
       "    </tr>\n",
       "    <tr>\n",
       "      <th>7</th>\n",
       "      <td>204</td>\n",
       "      <td>2710</td>\n",
       "      <td>5.0</td>\n",
       "      <td>1327185697</td>\n",
       "    </tr>\n",
       "    <tr>\n",
       "      <th>8</th>\n",
       "      <td>376</td>\n",
       "      <td>2571</td>\n",
       "      <td>3.5</td>\n",
       "      <td>1364994024</td>\n",
       "    </tr>\n",
       "    <tr>\n",
       "      <th>9</th>\n",
       "      <td>376</td>\n",
       "      <td>2710</td>\n",
       "      <td>1.5</td>\n",
       "      <td>1364994544</td>\n",
       "    </tr>\n",
       "    <tr>\n",
       "      <th>10</th>\n",
       "      <td>376</td>\n",
       "      <td>4306</td>\n",
       "      <td>4.0</td>\n",
       "      <td>1364994164</td>\n",
       "    </tr>\n",
       "    <tr>\n",
       "      <th>11</th>\n",
       "      <td>542</td>\n",
       "      <td>2571</td>\n",
       "      <td>5.0</td>\n",
       "      <td>1163386800</td>\n",
       "    </tr>\n",
       "    <tr>\n",
       "      <th>12</th>\n",
       "      <td>542</td>\n",
       "      <td>2710</td>\n",
       "      <td>0.5</td>\n",
       "      <td>1163387159</td>\n",
       "    </tr>\n",
       "    <tr>\n",
       "      <th>13</th>\n",
       "      <td>542</td>\n",
       "      <td>4306</td>\n",
       "      <td>5.0</td>\n",
       "      <td>1163387194</td>\n",
       "    </tr>\n",
       "    <tr>\n",
       "      <th>14</th>\n",
       "      <td>123</td>\n",
       "      <td>2571</td>\n",
       "      <td>5.0</td>\n",
       "      <td>0</td>\n",
       "    </tr>\n",
       "    <tr>\n",
       "      <th>15</th>\n",
       "      <td>123</td>\n",
       "      <td>2710</td>\n",
       "      <td>1.5</td>\n",
       "      <td>0</td>\n",
       "    </tr>\n",
       "    <tr>\n",
       "      <th>16</th>\n",
       "      <td>123</td>\n",
       "      <td>4444</td>\n",
       "      <td>4.0</td>\n",
       "      <td>0</td>\n",
       "    </tr>\n",
       "    <tr>\n",
       "      <th>17</th>\n",
       "      <td>456</td>\n",
       "      <td>2571</td>\n",
       "      <td>1.5</td>\n",
       "      <td>0</td>\n",
       "    </tr>\n",
       "    <tr>\n",
       "      <th>18</th>\n",
       "      <td>456</td>\n",
       "      <td>2710</td>\n",
       "      <td>5.0</td>\n",
       "      <td>0</td>\n",
       "    </tr>\n",
       "    <tr>\n",
       "      <th>19</th>\n",
       "      <td>456</td>\n",
       "      <td>4444</td>\n",
       "      <td>1.0</td>\n",
       "      <td>0</td>\n",
       "    </tr>\n",
       "    <tr>\n",
       "      <th>20</th>\n",
       "      <td>182</td>\n",
       "      <td>4444</td>\n",
       "      <td>3.0</td>\n",
       "      <td>0</td>\n",
       "    </tr>\n",
       "    <tr>\n",
       "      <th>21</th>\n",
       "      <td>195</td>\n",
       "      <td>4444</td>\n",
       "      <td>2.0</td>\n",
       "      <td>0</td>\n",
       "    </tr>\n",
       "    <tr>\n",
       "      <th>22</th>\n",
       "      <td>204</td>\n",
       "      <td>4444</td>\n",
       "      <td>4.0</td>\n",
       "      <td>0</td>\n",
       "    </tr>\n",
       "    <tr>\n",
       "      <th>23</th>\n",
       "      <td>376</td>\n",
       "      <td>4444</td>\n",
       "      <td>4.5</td>\n",
       "      <td>0</td>\n",
       "    </tr>\n",
       "    <tr>\n",
       "      <th>24</th>\n",
       "      <td>542</td>\n",
       "      <td>4444</td>\n",
       "      <td>4.5</td>\n",
       "      <td>0</td>\n",
       "    </tr>\n",
       "    <tr>\n",
       "      <th>25</th>\n",
       "      <td>123</td>\n",
       "      <td>5555</td>\n",
       "      <td>3.5</td>\n",
       "      <td>0</td>\n",
       "    </tr>\n",
       "    <tr>\n",
       "      <th>26</th>\n",
       "      <td>456</td>\n",
       "      <td>5555</td>\n",
       "      <td>3.5</td>\n",
       "      <td>0</td>\n",
       "    </tr>\n",
       "  </tbody>\n",
       "</table>\n",
       "</div>"
      ],
      "text/plain": [
       "    userId  movieId  rating   timestamp\n",
       "0      182     2571     5.0  1054779786\n",
       "1      182     2710     4.5  1063284735\n",
       "2      182     4306     4.0  1054780155\n",
       "3      195     2571     3.0   974705726\n",
       "4      195     2710     1.0   974706758\n",
       "5      195     4306     3.0   994032742\n",
       "6      204     2571     4.5  1327183462\n",
       "7      204     2710     5.0  1327185697\n",
       "8      376     2571     3.5  1364994024\n",
       "9      376     2710     1.5  1364994544\n",
       "10     376     4306     4.0  1364994164\n",
       "11     542     2571     5.0  1163386800\n",
       "12     542     2710     0.5  1163387159\n",
       "13     542     4306     5.0  1163387194\n",
       "14     123     2571     5.0           0\n",
       "15     123     2710     1.5           0\n",
       "16     123     4444     4.0           0\n",
       "17     456     2571     1.5           0\n",
       "18     456     2710     5.0           0\n",
       "19     456     4444     1.0           0\n",
       "20     182     4444     3.0           0\n",
       "21     195     4444     2.0           0\n",
       "22     204     4444     4.0           0\n",
       "23     376     4444     4.5           0\n",
       "24     542     4444     4.5           0\n",
       "25     123     5555     3.5           0\n",
       "26     456     5555     3.5           0"
      ]
     },
     "metadata": {},
     "output_type": "display_data"
    }
   ],
   "source": [
    "display(more_ratings)"
   ]
  },
  {
   "cell_type": "markdown",
   "metadata": {
    "deletable": false,
    "editable": false,
    "nbgrader": {
     "cell_type": "markdown",
     "checksum": "ddea4d91fa3fbd555fa4c0e06abee4c8",
     "grade": false,
     "grade_id": "cell-78672d745a5d7b05",
     "locked": true,
     "schema_version": 3,
     "solution": false
    }
   },
   "source": [
    "### Vraag 17\n",
    "\n",
    "Maak een nieuwe utility matrix en sla deze op als `utility_matrix3`, maar nu met de gebruikers als rijen en de films als kolommen.\n",
    "\n",
    "Maak ook een versie van `utility_matrix3` met ingevulde NaN waardes en noem deze `utility_matrix3_filled`. Let er op dat je hier de gemiddelde rating _van de film_ invult.\n",
    "\n",
    "Tip: met `df.T` kan je de rijen en kolommen van dataframe `df` omwisselen."
   ]
  },
  {
   "cell_type": "code",
   "execution_count": 33,
   "metadata": {
    "deletable": false,
    "nbgrader": {
     "cell_type": "code",
     "checksum": "6ad096ee9fe4e1d9c6f293891e334a92",
     "grade": false,
     "grade_id": "cell-d8b62ed1126d158c",
     "locked": false,
     "schema_version": 3,
     "solution": true
    }
   },
   "outputs": [
    {
     "data": {
      "text/html": [
       "<div>\n",
       "<style scoped>\n",
       "    .dataframe tbody tr th:only-of-type {\n",
       "        vertical-align: middle;\n",
       "    }\n",
       "\n",
       "    .dataframe tbody tr th {\n",
       "        vertical-align: top;\n",
       "    }\n",
       "\n",
       "    .dataframe thead th {\n",
       "        text-align: right;\n",
       "    }\n",
       "</style>\n",
       "<table border=\"1\" class=\"dataframe\">\n",
       "  <thead>\n",
       "    <tr style=\"text-align: right;\">\n",
       "      <th>movieId</th>\n",
       "      <th>2571</th>\n",
       "      <th>2710</th>\n",
       "      <th>4306</th>\n",
       "      <th>4444</th>\n",
       "      <th>5555</th>\n",
       "    </tr>\n",
       "    <tr>\n",
       "      <th>userId</th>\n",
       "      <th></th>\n",
       "      <th></th>\n",
       "      <th></th>\n",
       "      <th></th>\n",
       "      <th></th>\n",
       "    </tr>\n",
       "  </thead>\n",
       "  <tbody>\n",
       "    <tr>\n",
       "      <th>123</th>\n",
       "      <td>5.0</td>\n",
       "      <td>1.5</td>\n",
       "      <td>NaN</td>\n",
       "      <td>4.0</td>\n",
       "      <td>3.5</td>\n",
       "    </tr>\n",
       "    <tr>\n",
       "      <th>182</th>\n",
       "      <td>5.0</td>\n",
       "      <td>4.5</td>\n",
       "      <td>4.0</td>\n",
       "      <td>3.0</td>\n",
       "      <td>NaN</td>\n",
       "    </tr>\n",
       "    <tr>\n",
       "      <th>195</th>\n",
       "      <td>3.0</td>\n",
       "      <td>1.0</td>\n",
       "      <td>3.0</td>\n",
       "      <td>2.0</td>\n",
       "      <td>NaN</td>\n",
       "    </tr>\n",
       "    <tr>\n",
       "      <th>204</th>\n",
       "      <td>4.5</td>\n",
       "      <td>5.0</td>\n",
       "      <td>NaN</td>\n",
       "      <td>4.0</td>\n",
       "      <td>NaN</td>\n",
       "    </tr>\n",
       "    <tr>\n",
       "      <th>376</th>\n",
       "      <td>3.5</td>\n",
       "      <td>1.5</td>\n",
       "      <td>4.0</td>\n",
       "      <td>4.5</td>\n",
       "      <td>NaN</td>\n",
       "    </tr>\n",
       "    <tr>\n",
       "      <th>456</th>\n",
       "      <td>1.5</td>\n",
       "      <td>5.0</td>\n",
       "      <td>NaN</td>\n",
       "      <td>1.0</td>\n",
       "      <td>3.5</td>\n",
       "    </tr>\n",
       "    <tr>\n",
       "      <th>542</th>\n",
       "      <td>5.0</td>\n",
       "      <td>0.5</td>\n",
       "      <td>5.0</td>\n",
       "      <td>4.5</td>\n",
       "      <td>NaN</td>\n",
       "    </tr>\n",
       "  </tbody>\n",
       "</table>\n",
       "</div>"
      ],
      "text/plain": [
       "movieId  2571  2710  4306  4444  5555\n",
       "userId                               \n",
       "123       5.0   1.5   NaN   4.0   3.5\n",
       "182       5.0   4.5   4.0   3.0   NaN\n",
       "195       3.0   1.0   3.0   2.0   NaN\n",
       "204       4.5   5.0   NaN   4.0   NaN\n",
       "376       3.5   1.5   4.0   4.5   NaN\n",
       "456       1.5   5.0   NaN   1.0   3.5\n",
       "542       5.0   0.5   5.0   4.5   NaN"
      ]
     },
     "metadata": {},
     "output_type": "display_data"
    },
    {
     "data": {
      "text/html": [
       "<div>\n",
       "<style scoped>\n",
       "    .dataframe tbody tr th:only-of-type {\n",
       "        vertical-align: middle;\n",
       "    }\n",
       "\n",
       "    .dataframe tbody tr th {\n",
       "        vertical-align: top;\n",
       "    }\n",
       "\n",
       "    .dataframe thead th {\n",
       "        text-align: right;\n",
       "    }\n",
       "</style>\n",
       "<table border=\"1\" class=\"dataframe\">\n",
       "  <thead>\n",
       "    <tr style=\"text-align: right;\">\n",
       "      <th>movieId</th>\n",
       "      <th>2571</th>\n",
       "      <th>2710</th>\n",
       "      <th>4306</th>\n",
       "      <th>4444</th>\n",
       "      <th>5555</th>\n",
       "    </tr>\n",
       "    <tr>\n",
       "      <th>userId</th>\n",
       "      <th></th>\n",
       "      <th></th>\n",
       "      <th></th>\n",
       "      <th></th>\n",
       "      <th></th>\n",
       "    </tr>\n",
       "  </thead>\n",
       "  <tbody>\n",
       "    <tr>\n",
       "      <th>123</th>\n",
       "      <td>1.4</td>\n",
       "      <td>-2.1</td>\n",
       "      <td>0.4</td>\n",
       "      <td>0.4</td>\n",
       "      <td>-0.1</td>\n",
       "    </tr>\n",
       "    <tr>\n",
       "      <th>182</th>\n",
       "      <td>1.0</td>\n",
       "      <td>0.5</td>\n",
       "      <td>0.0</td>\n",
       "      <td>-1.0</td>\n",
       "      <td>-0.5</td>\n",
       "    </tr>\n",
       "    <tr>\n",
       "      <th>195</th>\n",
       "      <td>0.5</td>\n",
       "      <td>-1.5</td>\n",
       "      <td>0.5</td>\n",
       "      <td>-0.5</td>\n",
       "      <td>1.0</td>\n",
       "    </tr>\n",
       "    <tr>\n",
       "      <th>204</th>\n",
       "      <td>0.3</td>\n",
       "      <td>0.8</td>\n",
       "      <td>-0.2</td>\n",
       "      <td>-0.2</td>\n",
       "      <td>-0.7</td>\n",
       "    </tr>\n",
       "    <tr>\n",
       "      <th>376</th>\n",
       "      <td>0.1</td>\n",
       "      <td>-1.9</td>\n",
       "      <td>0.6</td>\n",
       "      <td>1.1</td>\n",
       "      <td>0.1</td>\n",
       "    </tr>\n",
       "    <tr>\n",
       "      <th>456</th>\n",
       "      <td>-1.5</td>\n",
       "      <td>2.0</td>\n",
       "      <td>1.0</td>\n",
       "      <td>-2.0</td>\n",
       "      <td>0.5</td>\n",
       "    </tr>\n",
       "    <tr>\n",
       "      <th>542</th>\n",
       "      <td>1.3</td>\n",
       "      <td>-3.2</td>\n",
       "      <td>1.3</td>\n",
       "      <td>0.8</td>\n",
       "      <td>-0.2</td>\n",
       "    </tr>\n",
       "  </tbody>\n",
       "</table>\n",
       "</div>"
      ],
      "text/plain": [
       "movieId  2571  2710  4306  4444  5555\n",
       "userId                               \n",
       "123       1.4  -2.1   0.4   0.4  -0.1\n",
       "182       1.0   0.5   0.0  -1.0  -0.5\n",
       "195       0.5  -1.5   0.5  -0.5   1.0\n",
       "204       0.3   0.8  -0.2  -0.2  -0.7\n",
       "376       0.1  -1.9   0.6   1.1   0.1\n",
       "456      -1.5   2.0   1.0  -2.0   0.5\n",
       "542       1.3  -3.2   1.3   0.8  -0.2"
      ]
     },
     "metadata": {},
     "output_type": "display_data"
    }
   ],
   "source": [
    "# TODO\n",
    "utility_matrix3 = utility_matrix2.T\n",
    "utility_matrix3_filled = utility_matrix2_filled.T\n",
    "\n",
    "display(utility_matrix3)\n",
    "\n",
    "display(utility_matrix3_filled)"
   ]
  },
  {
   "cell_type": "markdown",
   "metadata": {
    "deletable": false,
    "editable": false,
    "nbgrader": {
     "cell_type": "markdown",
     "checksum": "1ec0112d4436b3486a6fcf078573d980",
     "grade": false,
     "grade_id": "cell-5e9568106874e1d3",
     "locked": true,
     "schema_version": 3,
     "solution": false
    }
   },
   "source": [
    "### Check"
   ]
  },
  {
   "cell_type": "code",
   "execution_count": 34,
   "metadata": {
    "deletable": false,
    "editable": false,
    "nbgrader": {
     "cell_type": "code",
     "checksum": "1bb7b213df5bffafec69c3b738a80318",
     "grade": true,
     "grade_id": "test_17",
     "locked": true,
     "points": 1,
     "schema_version": 3,
     "solution": false
    }
   },
   "outputs": [
    {
     "name": "stdout",
     "output_type": "stream",
     "text": [
      "Check output type: success!\n",
      "Check select_neighborhood for user 123: success!\n"
     ]
    }
   ],
   "source": [
    "answers.test_17(utility_matrix3)"
   ]
  },
  {
   "cell_type": "markdown",
   "metadata": {
    "deletable": false,
    "editable": false,
    "nbgrader": {
     "cell_type": "markdown",
     "checksum": "3b2be73751a79f8900a1cbddc8dd734c",
     "grade": false,
     "grade_id": "cell-614c4ecee8cc2927",
     "locked": true,
     "schema_version": 3,
     "solution": false
    }
   },
   "source": [
    "### Vraag 18\n",
    "\n",
    "Maak een scatter plot matrix van de utility matrix."
   ]
  },
  {
   "cell_type": "code",
   "execution_count": 35,
   "metadata": {
    "deletable": false,
    "nbgrader": {
     "cell_type": "code",
     "checksum": "54231da0064ac84a8ba19c96c23bfe4f",
     "grade": true,
     "grade_id": "cell-1b4a6c165b17fecd",
     "locked": false,
     "points": 1,
     "schema_version": 3,
     "solution": true
    }
   },
   "outputs": [
    {
     "data": {
      "image/png": "[encoded data removed]",
      "text/plain": [
       "<Figure size 576x576 with 25 Axes>"
      ]
     },
     "metadata": {
      "needs_background": "light"
     },
     "output_type": "display_data"
    }
   ],
   "source": [
    "# TODO\n",
    "plot_scatter_matrix(utility_matrix3)"
   ]
  },
  {
   "cell_type": "markdown",
   "metadata": {
    "deletable": false,
    "editable": false,
    "nbgrader": {
     "cell_type": "markdown",
     "checksum": "50a871747c918196e0d0c4d5b9fbaf82",
     "grade": false,
     "grade_id": "cell-4f883b946564e419",
     "locked": true,
     "schema_version": 3,
     "solution": false
    }
   },
   "source": [
    "### Vraag 19\n",
    "\n",
    "Maak een mean centered utility matrix genaamd `centered_utility_matrix`. Let hierbij op: Dit is het enige waarbij de rollen niet zijn omgedraaid. We willen nog steeds de gemiddelde rating van de _gebruikers_ als offset gebruiken, niet die van de films. Het gaat er namelijk niet om hoe een gebruiker afwijkt van het gemiddelde rating van een film, maar wel hoe de gebruiker afwijkt van zijn gemiddelde rating bij een film. Met ander woorden, je moet hier de rijen centeren in plaats van de kolommen."
   ]
  },
  {
   "cell_type": "code",
   "execution_count": 36,
   "metadata": {
    "deletable": false,
    "nbgrader": {
     "cell_type": "code",
     "checksum": "7ce9ba82a7e328dc0ba9b00063089c5c",
     "grade": false,
     "grade_id": "cell-7ec202204eb1be93",
     "locked": false,
     "schema_version": 3,
     "solution": true
    }
   },
   "outputs": [
    {
     "data": {
      "text/html": [
       "<div>\n",
       "<style scoped>\n",
       "    .dataframe tbody tr th:only-of-type {\n",
       "        vertical-align: middle;\n",
       "    }\n",
       "\n",
       "    .dataframe tbody tr th {\n",
       "        vertical-align: top;\n",
       "    }\n",
       "\n",
       "    .dataframe thead th {\n",
       "        text-align: right;\n",
       "    }\n",
       "</style>\n",
       "<table border=\"1\" class=\"dataframe\">\n",
       "  <thead>\n",
       "    <tr style=\"text-align: right;\">\n",
       "      <th>movieId</th>\n",
       "      <th>2571</th>\n",
       "      <th>2710</th>\n",
       "      <th>4306</th>\n",
       "      <th>4444</th>\n",
       "      <th>5555</th>\n",
       "    </tr>\n",
       "    <tr>\n",
       "      <th>userId</th>\n",
       "      <th></th>\n",
       "      <th></th>\n",
       "      <th></th>\n",
       "      <th></th>\n",
       "      <th></th>\n",
       "    </tr>\n",
       "  </thead>\n",
       "  <tbody>\n",
       "    <tr>\n",
       "      <th>123</th>\n",
       "      <td>1.4</td>\n",
       "      <td>-2.1</td>\n",
       "      <td>0.4</td>\n",
       "      <td>0.4</td>\n",
       "      <td>-0.1</td>\n",
       "    </tr>\n",
       "    <tr>\n",
       "      <th>182</th>\n",
       "      <td>1.0</td>\n",
       "      <td>0.5</td>\n",
       "      <td>0.0</td>\n",
       "      <td>-1.0</td>\n",
       "      <td>-0.5</td>\n",
       "    </tr>\n",
       "    <tr>\n",
       "      <th>195</th>\n",
       "      <td>0.5</td>\n",
       "      <td>-1.5</td>\n",
       "      <td>0.5</td>\n",
       "      <td>-0.5</td>\n",
       "      <td>1.0</td>\n",
       "    </tr>\n",
       "    <tr>\n",
       "      <th>204</th>\n",
       "      <td>0.3</td>\n",
       "      <td>0.8</td>\n",
       "      <td>-0.2</td>\n",
       "      <td>-0.2</td>\n",
       "      <td>-0.7</td>\n",
       "    </tr>\n",
       "    <tr>\n",
       "      <th>376</th>\n",
       "      <td>0.1</td>\n",
       "      <td>-1.9</td>\n",
       "      <td>0.6</td>\n",
       "      <td>1.1</td>\n",
       "      <td>0.1</td>\n",
       "    </tr>\n",
       "    <tr>\n",
       "      <th>456</th>\n",
       "      <td>-1.5</td>\n",
       "      <td>2.0</td>\n",
       "      <td>1.0</td>\n",
       "      <td>-2.0</td>\n",
       "      <td>0.5</td>\n",
       "    </tr>\n",
       "    <tr>\n",
       "      <th>542</th>\n",
       "      <td>1.3</td>\n",
       "      <td>-3.2</td>\n",
       "      <td>1.3</td>\n",
       "      <td>0.8</td>\n",
       "      <td>-0.2</td>\n",
       "    </tr>\n",
       "  </tbody>\n",
       "</table>\n",
       "</div>"
      ],
      "text/plain": [
       "movieId  2571  2710  4306  4444  5555\n",
       "userId                               \n",
       "123       1.4  -2.1   0.4   0.4  -0.1\n",
       "182       1.0   0.5   0.0  -1.0  -0.5\n",
       "195       0.5  -1.5   0.5  -0.5   1.0\n",
       "204       0.3   0.8  -0.2  -0.2  -0.7\n",
       "376       0.1  -1.9   0.6   1.1   0.1\n",
       "456      -1.5   2.0   1.0  -2.0   0.5\n",
       "542       1.3  -3.2   1.3   0.8  -0.2"
      ]
     },
     "metadata": {},
     "output_type": "display_data"
    }
   ],
   "source": [
    "\n",
    "centered_utility_matrix = utility_matrix2_filled.T\n",
    "display(centered_utility_matrix)"
   ]
  },
  {
   "cell_type": "markdown",
   "metadata": {},
   "source": [
    "### Check"
   ]
  },
  {
   "cell_type": "code",
   "execution_count": 37,
   "metadata": {
    "deletable": false,
    "editable": false,
    "nbgrader": {
     "cell_type": "code",
     "checksum": "2d08a0ff98e52818b4ffe7f7b6a0836a",
     "grade": true,
     "grade_id": "test_19",
     "locked": true,
     "points": 1,
     "schema_version": 3,
     "solution": false
    }
   },
   "outputs": [
    {
     "name": "stdout",
     "output_type": "stream",
     "text": [
      "Check output type: success!\n",
      "Testing mean centered matrix on complete data set: success!\n"
     ]
    }
   ],
   "source": [
    "answers.test_19(centered_utility_matrix)"
   ]
  },
  {
   "cell_type": "markdown",
   "metadata": {
    "deletable": false,
    "editable": false,
    "nbgrader": {
     "cell_type": "markdown",
     "checksum": "36915a688820220d186c33659e7f36ea",
     "grade": false,
     "grade_id": "cell-bdaa15cddf176d7c",
     "locked": true,
     "schema_version": 3,
     "solution": false
    }
   },
   "source": [
    "### Vraag 20\n",
    "\n",
    "Bereken de adjusted cosine similarity matrix voor de gebruikers en sla deze op in een variabele genaamd `similarity`."
   ]
  },
  {
   "cell_type": "code",
   "execution_count": 38,
   "metadata": {
    "deletable": false,
    "nbgrader": {
     "cell_type": "code",
     "checksum": "eb7d3ff814c257634a1c4f71753a71c4",
     "grade": false,
     "grade_id": "cell-0e19811b2a3d9573",
     "locked": false,
     "schema_version": 3,
     "solution": true
    }
   },
   "outputs": [
    {
     "data": {
      "text/html": [
       "<div>\n",
       "<style scoped>\n",
       "    .dataframe tbody tr th:only-of-type {\n",
       "        vertical-align: middle;\n",
       "    }\n",
       "\n",
       "    .dataframe tbody tr th {\n",
       "        vertical-align: top;\n",
       "    }\n",
       "\n",
       "    .dataframe thead th {\n",
       "        text-align: right;\n",
       "    }\n",
       "</style>\n",
       "<table border=\"1\" class=\"dataframe\">\n",
       "  <thead>\n",
       "    <tr style=\"text-align: right;\">\n",
       "      <th>userId</th>\n",
       "      <th>123</th>\n",
       "      <th>182</th>\n",
       "      <th>195</th>\n",
       "      <th>204</th>\n",
       "      <th>376</th>\n",
       "      <th>456</th>\n",
       "      <th>542</th>\n",
       "    </tr>\n",
       "    <tr>\n",
       "      <th>userId</th>\n",
       "      <th></th>\n",
       "      <th></th>\n",
       "      <th></th>\n",
       "      <th></th>\n",
       "      <th></th>\n",
       "      <th></th>\n",
       "      <th></th>\n",
       "    </tr>\n",
       "  </thead>\n",
       "  <tbody>\n",
       "    <tr>\n",
       "      <th>123</th>\n",
       "      <td>1.000000e+00</td>\n",
       "      <td>-1.908196e-17</td>\n",
       "      <td>0.724376</td>\n",
       "      <td>-0.457430</td>\n",
       "      <td>0.813209</td>\n",
       "      <td>-0.768984</td>\n",
       "      <td>0.960334</td>\n",
       "    </tr>\n",
       "    <tr>\n",
       "      <th>182</th>\n",
       "      <td>-1.908196e-17</td>\n",
       "      <td>1.000000e+00</td>\n",
       "      <td>-0.079057</td>\n",
       "      <td>0.693375</td>\n",
       "      <td>-0.554700</td>\n",
       "      <td>0.233126</td>\n",
       "      <td>-0.167248</td>\n",
       "    </tr>\n",
       "    <tr>\n",
       "      <th>195</th>\n",
       "      <td>7.243757e-01</td>\n",
       "      <td>-7.905694e-02</td>\n",
       "      <td>1.000000</td>\n",
       "      <td>-0.767426</td>\n",
       "      <td>0.602977</td>\n",
       "      <td>-0.258023</td>\n",
       "      <td>0.727218</td>\n",
       "    </tr>\n",
       "    <tr>\n",
       "      <th>204</th>\n",
       "      <td>-4.574300e-01</td>\n",
       "      <td>6.933752e-01</td>\n",
       "      <td>-0.767426</td>\n",
       "      <td>1.000000</td>\n",
       "      <td>-0.730769</td>\n",
       "      <td>0.258630</td>\n",
       "      <td>-0.568233</td>\n",
       "    </tr>\n",
       "    <tr>\n",
       "      <th>376</th>\n",
       "      <td>8.132090e-01</td>\n",
       "      <td>-5.547002e-01</td>\n",
       "      <td>0.602977</td>\n",
       "      <td>-0.730769</td>\n",
       "      <td>1.000000</td>\n",
       "      <td>-0.711233</td>\n",
       "      <td>0.910332</td>\n",
       "    </tr>\n",
       "    <tr>\n",
       "      <th>456</th>\n",
       "      <td>-7.689843e-01</td>\n",
       "      <td>2.331262e-01</td>\n",
       "      <td>-0.258023</td>\n",
       "      <td>0.258630</td>\n",
       "      <td>-0.711233</td>\n",
       "      <td>1.000000</td>\n",
       "      <td>-0.682325</td>\n",
       "    </tr>\n",
       "    <tr>\n",
       "      <th>542</th>\n",
       "      <td>9.603343e-01</td>\n",
       "      <td>-1.672484e-01</td>\n",
       "      <td>0.727218</td>\n",
       "      <td>-0.568233</td>\n",
       "      <td>0.910332</td>\n",
       "      <td>-0.682325</td>\n",
       "      <td>1.000000</td>\n",
       "    </tr>\n",
       "  </tbody>\n",
       "</table>\n",
       "</div>"
      ],
      "text/plain": [
       "userId           123           182       195       204       376       456  \\\n",
       "userId                                                                       \n",
       "123     1.000000e+00 -1.908196e-17  0.724376 -0.457430  0.813209 -0.768984   \n",
       "182    -1.908196e-17  1.000000e+00 -0.079057  0.693375 -0.554700  0.233126   \n",
       "195     7.243757e-01 -7.905694e-02  1.000000 -0.767426  0.602977 -0.258023   \n",
       "204    -4.574300e-01  6.933752e-01 -0.767426  1.000000 -0.730769  0.258630   \n",
       "376     8.132090e-01 -5.547002e-01  0.602977 -0.730769  1.000000 -0.711233   \n",
       "456    -7.689843e-01  2.331262e-01 -0.258023  0.258630 -0.711233  1.000000   \n",
       "542     9.603343e-01 -1.672484e-01  0.727218 -0.568233  0.910332 -0.682325   \n",
       "\n",
       "userId       542  \n",
       "userId            \n",
       "123     0.960334  \n",
       "182    -0.167248  \n",
       "195     0.727218  \n",
       "204    -0.568233  \n",
       "376     0.910332  \n",
       "456    -0.682325  \n",
       "542     1.000000  "
      ]
     },
     "metadata": {},
     "output_type": "display_data"
    }
   ],
   "source": [
    "# TODO\n",
    "similarity = create_similarity_matrix_cosine(centered_utility_matrix)\n",
    "\n",
    "\n",
    "display(similarity)"
   ]
  },
  {
   "cell_type": "markdown",
   "metadata": {
    "deletable": false,
    "editable": false,
    "nbgrader": {
     "cell_type": "markdown",
     "checksum": "87637f5811e661d8a5ae927667fb42fe",
     "grade": false,
     "grade_id": "cell-4381c59d3fa1716e",
     "locked": true,
     "schema_version": 3,
     "solution": false
    }
   },
   "source": [
    "### Check"
   ]
  },
  {
   "cell_type": "code",
   "execution_count": null,
   "metadata": {
    "deletable": false,
    "editable": false,
    "nbgrader": {
     "cell_type": "code",
     "checksum": "7b73a957963ba208c2aebcae230792a7",
     "grade": true,
     "grade_id": "test_20",
     "locked": true,
     "points": 1,
     "schema_version": 3,
     "solution": false
    }
   },
   "outputs": [],
   "source": [
    "answers.test_20(similarity)"
   ]
  },
  {
   "cell_type": "markdown",
   "metadata": {
    "deletable": false,
    "editable": false,
    "nbgrader": {
     "cell_type": "markdown",
     "checksum": "30770c0e448043abc1dcf1f12e74bef8",
     "grade": false,
     "grade_id": "cell-e1157f6898f026c0",
     "locked": true,
     "schema_version": 3,
     "solution": false
    }
   },
   "source": [
    "### Vraag 21\n",
    "\n",
    "Bereken de neighborhood voor gebruiker 123 en 456 ten opzichte van film 4306. Sla de neighborhood van gebruiker 123 op in een variabele genaamd `neighborhood1` en voor gebruiker 456 in een variabele genaamd `neighborhood2`."
   ]
  },
  {
   "cell_type": "code",
   "execution_count": null,
   "metadata": {
    "deletable": false,
    "nbgrader": {
     "cell_type": "code",
     "checksum": "c78da7e053d7b53d2d7f5cd87d9c328e",
     "grade": false,
     "grade_id": "cell-8232cb78518548a6",
     "locked": false,
     "schema_version": 3,
     "solution": true
    }
   },
   "outputs": [],
   "source": [
    "# TODO\n",
    "\n",
    "neighborhood1 = select_neighborhood(similarity[123], utility_matrix3[4306], 4)\n",
    "neighborhood2 = select_neighborhood(similarity[456], utility_matrix3[4306],1)\n",
    "\n",
    "print(neighborhood1) # print the neighborhood for user 123\n",
    "print(neighborhood2) # print the neighborhood for user 456"
   ]
  },
  {
   "cell_type": "markdown",
   "metadata": {
    "deletable": false,
    "editable": false,
    "nbgrader": {
     "cell_type": "markdown",
     "checksum": "3f6c3fce78b92421113f0447066b3eac",
     "grade": false,
     "grade_id": "cell-155d573e02864b37",
     "locked": true,
     "schema_version": 3,
     "solution": false
    }
   },
   "source": [
    "### Check"
   ]
  },
  {
   "cell_type": "code",
   "execution_count": null,
   "metadata": {
    "deletable": false,
    "editable": false,
    "nbgrader": {
     "cell_type": "code",
     "checksum": "1c367133d6cef71d199412c64fad0da4",
     "grade": true,
     "grade_id": "test_21",
     "locked": true,
     "points": 1,
     "schema_version": 3,
     "solution": false
    }
   },
   "outputs": [],
   "source": [
    "answers.test_21(neighborhood1, neighborhood2)"
   ]
  },
  {
   "cell_type": "markdown",
   "metadata": {
    "deletable": false,
    "editable": false,
    "nbgrader": {
     "cell_type": "markdown",
     "checksum": "31f132cf9925f06ee361cb8ac4288970",
     "grade": false,
     "grade_id": "cell-9cbc2d9c5c91a271",
     "locked": true,
     "schema_version": 3,
     "solution": false
    }
   },
   "source": [
    "### Vraag 22\n",
    "\n",
    "Bereken het gewogen gemiddelde voor de neighborhoods van user 123 en 456 (met de ratings voor film 4306)."
   ]
  },
  {
   "cell_type": "code",
   "execution_count": null,
   "metadata": {
    "deletable": false,
    "nbgrader": {
     "cell_type": "code",
     "checksum": "6e79173a18c62391255f0f2b130d678e",
     "grade": false,
     "grade_id": "cell-a899b0019b7d5fc2",
     "locked": false,
     "schema_version": 3,
     "solution": true
    }
   },
   "outputs": [],
   "source": [
    "# TODO\n",
    "\n",
    "prediction1 = weighted_mean(neighborhood1, utility_matrix3[4306])\n",
    "prediction2 = weighted_mean(neighborhood2, utility_matrix3[4306])\n",
    "\n",
    "print(f'User 123 predicted rating for Shrek {prediction1:.2f}')\n",
    "print(f'User 456 predicted rating for Shrek {prediction2:.2f}') "
   ]
  },
  {
   "cell_type": "markdown",
   "metadata": {
    "deletable": false,
    "editable": false,
    "nbgrader": {
     "cell_type": "markdown",
     "checksum": "fe0bd8770ed2199a86bdc6c89dda24f6",
     "grade": false,
     "grade_id": "cell-2a41ea141a99239a",
     "locked": true,
     "schema_version": 3,
     "solution": false
    }
   },
   "source": [
    "### Check"
   ]
  },
  {
   "cell_type": "code",
   "execution_count": null,
   "metadata": {
    "deletable": false,
    "editable": false,
    "nbgrader": {
     "cell_type": "code",
     "checksum": "a9b6e653721b0b8f655dac3c7fb43625",
     "grade": true,
     "grade_id": "test_22",
     "locked": true,
     "points": 1,
     "schema_version": 3,
     "solution": false
    }
   },
   "outputs": [],
   "source": [
    "answers.test_22(prediction1, prediction2)"
   ]
  },
  {
   "cell_type": "markdown",
   "metadata": {
    "deletable": false,
    "editable": false,
    "nbgrader": {
     "cell_type": "markdown",
     "checksum": "81d6603ded668c355a146469fa16c1e6",
     "grade": false,
     "grade_id": "cell-8c66eb22718bf572",
     "locked": true,
     "schema_version": 3,
     "solution": false
    }
   },
   "source": [
    "### Vraag 23\n",
    "\n",
    "Als je deze user based voorspelling vergelijkt met de item based voorspelling, welke lijkt je dan beter? Beargumenteer in een paar korte zinnen. (In het volgende deel gaan we kijken hoe je de kwaliteit van de aanpak kan evalueren.)   "
   ]
  },
  {
   "cell_type": "markdown",
   "metadata": {
    "deletable": false,
    "nbgrader": {
     "cell_type": "markdown",
     "checksum": "456c88c18a5dd3b56317f6c380599382",
     "grade": true,
     "grade_id": "cell-2cd27fcc91e1a726",
     "locked": false,
     "points": 3,
     "schema_version": 3,
     "solution": true
    }
   },
   "source": [
    "item-based voorspelling. Bij item-based voorspelling richt zich op de overeenkomsten tussen items zelf. Ze bevelen items aan die vergelijkbaar zijn met items waarin de gebruiker al interesse hebben getoond. Deze aanpak werkt goed wanneer er veel items zijn en gebruikers verschillende voorkeuren hebben."
   ]
  },
  {
   "cell_type": "markdown",
   "metadata": {},
   "source": [
    "Welk algoritme is nou beter? Misschien dat je daar voor deze speicifieke data set zo op het oog een uitspraak over kan doen. Maar in het algemeen, hoe goed is een specifiek recommender system? Hoe definiëren we überhaupt \"goed\"? Hier gaan we in de volgende module naar kijken."
   ]
  }
 ],
 "metadata": {
  "hide_input": false,
  "kernelspec": {
   "display_name": "Python 3 (ipykernel)",
   "language": "python",
   "name": "python3"
  },
  "language_info": {
   "codemirror_mode": {
    "name": "ipython",
    "version": 3
   },
   "file_extension": ".py",
   "mimetype": "text/x-python",
   "name": "python",
   "nbconvert_exporter": "python",
   "pygments_lexer": "ipython3",
   "version": "3.9.12"
  },
  "varInspector": {
   "cols": {
    "lenName": 16,
    "lenType": 16,
    "lenVar": 40
   },
   "kernels_config": {
    "python": {
     "delete_cmd_postfix": "",
     "delete_cmd_prefix": "del ",
     "library": "var_list.py",
     "varRefreshCmd": "print(var_dic_list())"
    },
    "r": {
     "delete_cmd_postfix": ") ",
     "delete_cmd_prefix": "rm(",
     "library": "var_list.r",
     "varRefreshCmd": "cat(var_dic_list()) "
    }
   },
   "types_to_exclude": [
    "module",
    "function",
    "builtin_function_or_method",
    "instance",
    "_Feature"
   ],
   "window_display": false
  }
 },
 "nbformat": 4,
 "nbformat_minor": 2
}
