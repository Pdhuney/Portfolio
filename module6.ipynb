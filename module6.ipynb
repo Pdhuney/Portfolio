{
 "cells": [
  {
   "cell_type": "markdown",
   "id": "0b7bb638",
   "metadata": {
    "deletable": false,
    "editable": false,
    "nbgrader": {
     "cell_type": "markdown",
     "checksum": "082b0a6706dcdf1e75c51d4e483b1fc3",
     "grade": false,
     "grade_id": "cell-4b53bea5b4431ea1",
     "locked": true,
     "schema_version": 3,
     "solution": false,
     "task": false
    }
   },
   "source": [
    "# Module 6: Matrixfactorisatie\n",
    "\n",
    "Je hebt in de vorige module een utility matrix berekend met voorspelde ratings, gegeven een gebruikersmatrix en een filmmatrix met scores voor bepaalde genres.\n",
    "\n",
    "Wat we nu gaan doen is het omgekeerde. We gaan de gebruikersmatrix en een filmmatrix bepalen, aan de hand van de gegeven ratings (de `target` matrix van het vorige deel). Dit heet _matrixfactorisatie_ (_matrix factorization_). \n",
    "\n",
    "Matrixfactorisatie is heel vergelijkbaar met factorisatie van integers. Een vraag die je vast wel eens tegen bent gekomen: Als $a \\times b = c$ en we weten dat $c = 9$ wat zijn $a$ en $b$? \n",
    "\n",
    "Een antwoord vinden op deze vraag noemen het factoriseren van $c$. Dit is heel vergelijkbaar met het factoriseren van matrices. In ons geval is de vraag: Gegeven $M \\cdot U^T = R$ en we weten wat $R$ is (de `target`-matrix), wat zijn de factoren $M$ en $U$?\n",
    "\n",
    "Een groot verschil (met het factoriseren van integers) is dat er bij het factoriseren van matrices vaak geen exact antwoord is. Dus de vraag wordt: Gegeven $M \\cdot U^T = \\hat{R}$ wat zijn de waardes voor $M$ en $U$ zodat $\\hat{R}$ zo dicht mogelijk $R$ benadert. In dit geval gebruiken we de MSE om te bepalen hoe dicht bij het juiste antwoord we zitten. \n",
    "\n",
    "Er zijn meerdere manieren waarop je matrices kan factoriseren. Sommige van deze manieren vergen behoorlijk wat kennis van lineaire algebra. Die aanpakken gaan we nu niet bekijken. Maar, het blijkt dat het algoritmische werkpaard van de machine learning, _gradient descent_, heel geschikt is voor het vinden van de matrixfactoren. Het voordeel van gradient descent is dat het vrij intuïtief is (en te begrijpen is zonder al te diep in de lineaire algebra te duiken). Bovendien is gradient descent een zeer breed toepasbaar algoritme dat sowieso heel nuttig is om te kennen.\n",
    "\n",
    "Het in één keer wiskundig berekenen van de optimale $M$ en $U$ blijk heel lastig te zijn. Er zitten veel haken en ogen aan, en het is in sommige gevallen stomweg niet mogelijk. Maar het blijkt relatief eenvoudig te zijn om een wiskundige manier te vinden om $M$ en $U$ een heel klein beetje aan te passen zodat de voorspelling $\\hat{R}$ een klein beetje beter is dan voor die aanpassing.\n",
    "\n",
    "Hier maakt gradient descent dankbaar gebruik van. Het algoritme werkt ongeveer zo: Begin met domweg willekeurige waardes invullen voor alle velden in matrices $M$ en $U$. Probeer daarna in kleine stapjes (updates) de $M$ en $U$ zodanig aan te passen dat we steeds dichter bij het antwoord komen.\n",
    "\n",
    "Deze module bestaat uit drie delen.\n",
    "- Deel 1: _gradient descent_\n",
    "- Deel 2: _alternating least squares_\n",
    "- Deel 3: evaluatie\n",
    "\n",
    "Dit laatste deel bevat een open opdracht, en om deze goed te doen zal je meer tijd nodig hebben dan voor de andere opdrachten. Houd hier rekening mee in je planning."
   ]
  },
  {
   "cell_type": "markdown",
   "id": "a7d63295",
   "metadata": {
    "deletable": false,
    "editable": false,
    "nbgrader": {
     "cell_type": "markdown",
     "checksum": "59fbc2f82d82e76b0fcc37a7f6fc75bd",
     "grade": false,
     "grade_id": "cell-2b6fc79f12d4b51c",
     "locked": true,
     "schema_version": 3,
     "solution": false,
     "task": false
    }
   },
   "source": [
    "Voor je aan begint met gradient descent, laad hieronder eerst de benodigde packages en de data van de vorige module:"
   ]
  },
  {
   "cell_type": "code",
   "execution_count": null,
   "id": "7e2c519c",
   "metadata": {
    "deletable": false,
    "editable": false,
    "nbgrader": {
     "cell_type": "code",
     "checksum": "1b415f40509479e0e70d09d8d573f0ab",
     "grade": false,
     "grade_id": "cell-c2f27227284c85c8",
     "locked": true,
     "schema_version": 3,
     "solution": false,
     "task": false
    }
   },
   "outputs": [],
   "source": [
    "import pandas as pd\n",
    "import numpy as np\n",
    "import matplotlib.pyplot as plt\n",
    "from tqdm import tqdm\n",
    "\n",
    "from helpers import nice, random_df, display_side_by_side\n",
    "import answers\n",
    "\n",
    "data_folder = './data/'\n",
    "pre_defined_items = pd.read_csv(f'{data_folder}three_genres_movies.csv', index_col = 'movieName')\n",
    "pre_defined_users = pd.read_csv(f'{data_folder}three_genres_users.csv', index_col = 'userId')\n",
    "predicted = pre_defined_items @ pre_defined_users.T\n",
    "ratings = pd.read_csv(f'{data_folder}three_genres_ratings.csv', index_col = 'movieName', dtype={'userId': np.int64})\n",
    "target = ratings.pivot(columns = 'userId', values = 'value').loc[predicted.index, predicted.columns]\n",
    "\n",
    "# display data\n",
    "# display(nice(pre_defined_items))\n",
    "# display(nice(target.iloc[:15,:15], nan = '&middot;'))"
   ]
  },
  {
   "cell_type": "markdown",
   "id": "229230c0",
   "metadata": {
    "deletable": false,
    "editable": false,
    "nbgrader": {
     "cell_type": "markdown",
     "checksum": "6f7f02ffe73989bb7c208e84d3fab895",
     "grade": false,
     "grade_id": "cell-f7f18585e05728fb",
     "locked": true,
     "schema_version": 3,
     "solution": false,
     "task": false
    }
   },
   "source": [
    "# Deel 1: Gradient descent\n",
    "\n",
    "\n",
    "## Eerst alleen de gebruikersmatrix leren\n",
    "\n",
    "Om het probleem iets overzichtelijker te houden, is het makkelijk om nog even gebruik te maken van de gegeven filmmatrix en eerst alleen de gebruikersmatrix $U$ te berekenen (leren). Daarna zullen we pas kijken hoe je beide matrices tegelijk kan leren.\n",
    "\n",
    "Het is best redelijk om aan te nemen dat we de filmmatrix wel weten, maar de gebruikersmatrix niet: We nemen dan even aan dat we weten tot welke genres de films horen, maar we weten niet welke genrevoorkeuren de gebruikers hebben. Dit laatste moeten we uit de data leren. Dit is een situatie die je in de praktijk prima tegen zou kunnen komen.\n",
    "\n",
    "We willen dus weten hoe we de gebruikersmatrix moeten aanpassen om ervoor te zorgen dat onze voorspellingen beter worden. Dit houdt in dat we de voorspelde ratings, $\\hat{R} = M \\cdot U^T$, hebben en we willen weten hoe we $U$ moeten aanpassen om de voorspelde ratings, $\\hat{R}$, iets te verbeteren. Het blijkt dat je dit wiskundig kan uitwerken. De afleiding vergt wat calculus en gaat voorbij de stof van deze opdracht. Maar hieronder geven we de vergelijkingen waar je op uitkomt als je de wiskunde helemaal zou uitwerken.\n",
    "\n",
    "De uitwerking bestaat uit twee stappen:\n",
    "\n",
    "1. We moeten eerst bepalen hoe ver we er eigenlijk naast zitten. We moeten het verschil weten tussen de voorspelde rating en de target:\n",
    "\n",
    "    $$\n",
    "    D = R - \\hat{R}\n",
    "    $$\n",
    "\n",
    "    <table style= \"width:100%\"><tr><td style=\"border:1px solid black\">\n",
    "\n",
    "    **Waarbij je er rekening mee moet houden dat $R$ `nan`-waardes bevat.** Als dit zo is, komt er met deze berekening in Pandas op die plek van de uitkomst $D$ ook een `nan`-waarde te staan. Dit zou problemen geven in de berekening hieronder. Dus alle `nan`'s in $D$ moeten worden vervangen voor een `0`.\n",
    "    \n",
    "    </td></tr></table>\n",
    "\n",
    "2. Vervolgens willen we weten hoe we $U$ kunnen updaten om dat verschil $D$ iets kleiner te maken. De update (een stapje) voor de usermatrix ziet er zo uit:\n",
    "\n",
    "    $$\n",
    "    U := U + \\alpha \\cdot D^T \\cdot M\n",
    "    $$\n",
    "\n",
    "    Hier is $\\alpha$ geen matrix, maar gewoon een getal. Dit is de _learning rate_, een kleine waarde die bepaalt hoe groot de stappen zijn die je neemt bij het updaten van de matrices. Als de $\\alpha$ te groot kiest, dan werkt het leren niet goed. Als je hem te klein kiest dan gaat het leren erg traag. Vaak is het een kwestie van uitproberen om hier een goede waarde voor te vinden. Voor deze opdrachten beginnen we met de waarde van $\\alpha$ op $0.04$ te zetten.\n",
    "\n",
    "    De update van de filmmatrix $U$ bevat de het matrix inproduct $D^T \\cdot M$. Je hebt dus de gebruikersmatrix $M$ nodig om de nieuwe $U$ te berekenen.\n",
    "\n",
    "**Als we deze update zouden gebruiken en we berekenen na de update opnieuw de $\\hat{R} = M \\cdot U^T$ dan is de mean squared error (dus, $\\textrm{MSE}(R, \\hat{R})$) na de update, als het goed is, net iets lager dan voor de update.**\n",
    "\n",
    "## Gradient descent in pseudocode\n",
    "\n",
    "De bovenstaande twee vergelijkingen zijn genoeg voor gradient descent. Gegeven de target $R$ en de gegeven filmmatrix $M$, ziet het algoritme er zo uit:\n",
    "\n",
    "- Genereer een random gebruikersmatrix, $U$.\n",
    "- Herhaal $N$ iteraties:\n",
    "    1. Bereken de utility matrix (voorspel ratings), $\\hat{R} = M \\cdot U^T$\n",
    "    2. Bepaal de mse gegeven de huidige voorspelling (de _cost_): $\\textrm{cost} = \\textrm{mse}(R, \\hat{R})$\n",
    "    3. Update de gebruikersmatrix:\n",
    "    $$\n",
    "    D = R - \\hat{R} \\\\\n",
    "    U := U + \\alpha \\cdot D^T \\cdot M\n",
    "    $$\n",
    "\n",
    "Wat goede waardes zijn voor $\\alpha$ en $N$ ga je experimenteel vaststellen."
   ]
  },
  {
   "cell_type": "markdown",
   "id": "0949a209",
   "metadata": {
    "deletable": false,
    "editable": false,
    "nbgrader": {
     "cell_type": "markdown",
     "checksum": "370ed28635a58340ec78edd04fa8b0de",
     "grade": false,
     "grade_id": "cell-d7fcbe4479139afb",
     "locked": true,
     "schema_version": 3,
     "solution": false,
     "task": false
    }
   },
   "source": [
    "### Vraag 1\n",
    "\n",
    "\\[2 pt.\\]\n",
    "\n",
    "Het grootste gedeelte van het algoritme is hieronder al geïmplementeerd. Het enige wat mist is de wiskunde uit stap 3 voor het updaten van de gebruikersmatrix. \n",
    "\n",
    "Implementeer hieronder de functie `update_users`. Deze functie heeft als input de filmmatrix (`movies`), de huidige gebruikersmatrix (`users`) de voorspelling zoals berekend in stap 1 van het algoritme (`prediction`), de target matrix ( `target`) en de learning rate (`alpha`). De functie moet de nieuwe gebruikersmatrix berekenen met de vergelijkingen zoals gegeven in stap 3 van het algoritme.\n",
    "\n",
    "\n",
    "<table style= \"width:100%\"><tr><td style=\"border:1px solid black\">\n",
    "\n",
    "Tip: Vergeet niet dat $R$ een hoop `nan`-waardes bevat. Dit betekent dat $D$ in de vergelijkingen hierboven ook een hoop `nan`-waardes zal bevatten. Deze waardes zijn problematisch voor de rest van het algoritme. Het is dus belangrijk dat je de `nan`-waardes uit $D$ vervangt voor $0$.\n",
    "    \n",
    "</td></tr></table>"
   ]
  },
  {
   "cell_type": "code",
   "execution_count": null,
   "id": "65e8cf2c",
   "metadata": {
    "deletable": false,
    "nbgrader": {
     "cell_type": "code",
     "checksum": "75ba902def71e37675bab69f3655ac6c",
     "grade": false,
     "grade_id": "cell-c0bb0130cb3ff13e",
     "locked": false,
     "schema_version": 3,
     "solution": true,
     "task": false
    }
   },
   "outputs": [],
   "source": [
    "def MSE(m1, m2):\n",
    "    se = (m2 - m1)**2\n",
    "    return se.mean().mean()\n",
    "\n",
    "def update_users(movies, users, prediction, target, alpha):\n",
    "    # TODO\n",
    "    \n",
    "\n",
    "\n",
    "def fit_user(target, movies, iterations = 200, alpha = 0.04):\n",
    "    # compute random user matrix\n",
    "    users = random_df(target.columns, movies.columns)\n",
    "\n",
    "    costs = []\n",
    "\n",
    "    # repeat N times\n",
    "    for i in tqdm(range(iterations)):\n",
    "        # 1. predict utility\n",
    "        prediction = movies @ users.T\n",
    "\n",
    "        # 2. compute cost (mse)\n",
    "        cost = MSE(target, prediction)\n",
    "\n",
    "        # 3. update user matrix\n",
    "        users = update_users(movies, users, prediction, target, alpha)\n",
    "\n",
    "        costs.append(cost)\n",
    "    \n",
    "    \n",
    "    return users, costs\n",
    "    \n",
    "users, costs = fit_user(target, pre_defined_items, iterations = 100, alpha = 0.04)\n",
    "    \n",
    "print(f'The mse of the final prediction is {costs[-1]:.5f}')\n",
    "plt.semilogy(costs)\n",
    "plt.xlabel('iteration')\n",
    "plt.ylabel('cost (mse)')\n",
    "plt.show()"
   ]
  },
  {
   "cell_type": "markdown",
   "id": "c8f85340",
   "metadata": {
    "deletable": false,
    "editable": false,
    "nbgrader": {
     "cell_type": "markdown",
     "checksum": "55ec4beab798f750131c1309d7cae5ea",
     "grade": false,
     "grade_id": "cell-3511d6c7beed0287",
     "locked": true,
     "schema_version": 3,
     "solution": false,
     "task": false
    }
   },
   "source": [
    "Als je de functie correct hebt geïmplementeerd zou je in de plot moeten zien dat de mse elke iteratie wat kleiner wordt.\n",
    "\n",
    "Check of je antwoord correct lijkt:"
   ]
  },
  {
   "cell_type": "code",
   "execution_count": null,
   "id": "9d9654d2",
   "metadata": {
    "deletable": false,
    "editable": false,
    "nbgrader": {
     "cell_type": "code",
     "checksum": "8d7f0846d4df1e13379c60223b7546dd",
     "grade": true,
     "grade_id": "cell-72b87067259a09df",
     "locked": true,
     "points": 2,
     "schema_version": 3,
     "solution": false,
     "task": false
    }
   },
   "outputs": [],
   "source": [
    "answers.test_1(costs)"
   ]
  },
  {
   "cell_type": "markdown",
   "id": "bb447c5a",
   "metadata": {
    "deletable": false,
    "editable": false,
    "nbgrader": {
     "cell_type": "markdown",
     "checksum": "105c1819b2313a72ba754de16fe451d4",
     "grade": false,
     "grade_id": "cell-a77b5ae8323db884",
     "locked": true,
     "schema_version": 3,
     "solution": false,
     "task": false
    }
   },
   "source": [
    "Met de code hieronder kan je delen van de $R$ en $\\hat{R}$ naast elkaar bekijken. Komen de voorspelde waardes uit $\\hat{R}$ overeen met de gegeven waardes uit $R$? \n",
    "\n",
    "Je ziet dat er een hoop `nan`-waardes zijn in $R$, waar $\\hat{R}$ wel voorspellingen voor doet. Dat zijn precies de voorspellingen die we uiteindelijk kunnen gebruiken voor het doen van nieuwe aanbevelingen."
   ]
  },
  {
   "cell_type": "code",
   "execution_count": null,
   "id": "a3bf7a52",
   "metadata": {
    "deletable": false,
    "editable": false,
    "nbgrader": {
     "cell_type": "code",
     "checksum": "ba43fcde1c79834635a5505576bc9999",
     "grade": false,
     "grade_id": "cell-a86f732153ad8da6",
     "locked": true,
     "schema_version": 3,
     "solution": false,
     "task": false
    }
   },
   "outputs": [],
   "source": [
    "display_side_by_side(nice(target.iloc[:16,:4], nan = '&middot;'), \n",
    "                     nice((pre_defined_items @ users.T).iloc[:16,:4]), \n",
    "                     titles = [\"target\", \"learned\"])"
   ]
  },
  {
   "cell_type": "markdown",
   "id": "287ac640",
   "metadata": {
    "deletable": false,
    "editable": false,
    "nbgrader": {
     "cell_type": "markdown",
     "checksum": "7dd6a1bef0836d943c459ed693aab8b8",
     "grade": false,
     "grade_id": "cell-c4f413f3b08a6eca",
     "locked": true,
     "schema_version": 3,
     "solution": false,
     "task": false
    }
   },
   "source": [
    "Je kan het algoritme meer iteraties laten draaien om ervoor te zorgen dat de mse nog kleiner wordt. Door de learning rate $\\alpha$ groter te maken kan je ervoor zorgen dat het leren sneller gaat, waardoor je minder iteraties nodig hebt om op een lagere mse score uit te komen. Maar, daar is een grens aan, als je de learning rate te hoog instelt werkt het algoritme niet meer.\n",
    "\n",
    "### Vraag 2\n",
    "\n",
    "\\[1 pt.\\]\n",
    "\n",
    "Experimenteer hieronder met de parameters (`iterations` en `alpha`) in de aanroep van `fit_user`. Zorg ervoor dat de mse uiteindelijk onder de $0.005$ komt te liggen. \n",
    "\n",
    "<table style= \"width:100%\"><tr><td style=\"border:1px solid black\">\n",
    "\n",
    "Tip: Elke keer dat je het algoritme draait kan de uitkomst een beetje anders zijn. Zodra je goede waardes voor de parameters hebt gevonden, draai het algoritme nog een aantal keer met dezelfde waardes om zeker te zijn dat het altijd een mse onder de $0.005$ geeft.\n",
    "  \n",
    "</td></tr></table>"
   ]
  },
  {
   "cell_type": "code",
   "execution_count": null,
   "id": "210844f0",
   "metadata": {
    "deletable": false,
    "nbgrader": {
     "cell_type": "code",
     "checksum": "1c366d3338adf74b84e2d3b3ded8b9d9",
     "grade": true,
     "grade_id": "cell-9d9a0861a8631f66",
     "locked": false,
     "points": 1,
     "schema_version": 3,
     "solution": true,
     "task": false
    }
   },
   "outputs": [],
   "source": [
    "# TODO\n",
    "\n",
    "\n",
    "# users, costs = fit_user(target, pre_defined_items, iterations = ???, alpha = ???)\n",
    "\n",
    "print(f'The mse of the final prediction is {costs[-1]:.5f}')\n",
    "plt.semilogy(costs)\n",
    "plt.xlabel('iteration')\n",
    "plt.ylabel('cost (mse)')\n",
    "plt.show()"
   ]
  },
  {
   "cell_type": "markdown",
   "id": "23f575e0",
   "metadata": {
    "deletable": false,
    "editable": false,
    "nbgrader": {
     "cell_type": "markdown",
     "checksum": "8f2a11dc4ba87abfa7c40e6f727babc9",
     "grade": false,
     "grade_id": "cell-f28cca79dab8d56d",
     "locked": true,
     "schema_version": 3,
     "solution": false,
     "task": false
    }
   },
   "source": [
    "Bekijk hieronder weer delen van de $R$ en $\\hat{R}$ naast elkaar. Ziet de $\\hat{R}$ er zo op het oog beter uit dan dezelfde matrix in vraag 1?"
   ]
  },
  {
   "cell_type": "code",
   "execution_count": null,
   "id": "fda1a4f7",
   "metadata": {
    "deletable": false,
    "editable": false,
    "nbgrader": {
     "cell_type": "code",
     "checksum": "431978ce89f5a5a920d3979774ddca5f",
     "grade": false,
     "grade_id": "cell-a3e0f833a26e9f0b",
     "locked": true,
     "schema_version": 3,
     "solution": false,
     "task": false
    }
   },
   "outputs": [],
   "source": [
    "display_side_by_side(nice(target.iloc[:16,:4], nan = '&middot;'), \n",
    "                     nice((pre_defined_items @ users.T).iloc[:16,:4]), \n",
    "                     titles = [\"target\", \"learned\"])"
   ]
  },
  {
   "cell_type": "markdown",
   "id": "64d9f878",
   "metadata": {
    "deletable": false,
    "editable": false,
    "nbgrader": {
     "cell_type": "markdown",
     "checksum": "83ddef78664d71a69b1e10b10f13cc19",
     "grade": false,
     "grade_id": "cell-35c8e59e77e7a93a",
     "locked": true,
     "schema_version": 3,
     "solution": false,
     "task": false
    }
   },
   "source": [
    "Test je antwoord:"
   ]
  },
  {
   "cell_type": "code",
   "execution_count": null,
   "id": "556c5681",
   "metadata": {
    "deletable": false,
    "editable": false,
    "nbgrader": {
     "cell_type": "code",
     "checksum": "86a09b9e19df1e749347528fad3544da",
     "grade": true,
     "grade_id": "cell-5fa0e45c973ec488",
     "locked": true,
     "points": 1,
     "schema_version": 3,
     "solution": false,
     "task": false
    }
   },
   "outputs": [],
   "source": [
    "answers.test_2(costs)"
   ]
  },
  {
   "cell_type": "markdown",
   "id": "c9fd1835",
   "metadata": {
    "deletable": false,
    "editable": false,
    "nbgrader": {
     "cell_type": "markdown",
     "checksum": "443ff218d75639d12d6b5ae609209079",
     "grade": false,
     "grade_id": "cell-cbf3c92ae1ec3be7",
     "locked": true,
     "schema_version": 3,
     "solution": false,
     "task": false
    }
   },
   "source": [
    "### Vraag 3\n",
    "\n",
    "\\[1 pt.\\]\n",
    "\n",
    "Wat is de maximale waarde voor de learning rate $\\alpha$, waarbij het algoritme nog correct werkt?"
   ]
  },
  {
   "cell_type": "markdown",
   "id": "3b6aabcb",
   "metadata": {
    "deletable": false,
    "nbgrader": {
     "cell_type": "markdown",
     "checksum": "d9c849e698dbd1cd0b35374a62bff9a6",
     "grade": true,
     "grade_id": "cell-edceaafb3847c919",
     "locked": false,
     "points": 1,
     "schema_version": 3,
     "solution": true,
     "task": false
    }
   },
   "source": [
    "YOUR ANSWER HERE"
   ]
  },
  {
   "cell_type": "markdown",
   "id": "be94afae",
   "metadata": {
    "deletable": false,
    "editable": false,
    "nbgrader": {
     "cell_type": "markdown",
     "checksum": "1f0aa687f25ccc500b97c94d0c95edf6",
     "grade": false,
     "grade_id": "cell-4f6856f679864394",
     "locked": true,
     "schema_version": 3,
     "solution": false,
     "task": false
    }
   },
   "source": [
    "# Deel 2: Alternating least squares\n",
    "\n",
    "In het vorige algoritme zijn we ervan uitgegaan dat we de genrescores weten voor alle films. Dat soort informatie hebben we alleen lang niet altijd. Bovendien is dat niet altijd een optimale categorisatie van de films: Het is zeer onwaarschijnlijk dat het gebruiken van de genres `drama`, `thriller` en `comedy` de beste manier zou zijn om filmsmaak te karakteriseren. \n",
    "\n",
    "Dit kunnen we allemaal oplossen door niet alleen de gebruikersmatrix, maar ook de filmmatrix te leren. Daarvoor kunnen we bijna hetzelfde algoritme gebruiken als hierboven. De voornaamste aanpassing zit hem in de update. Naast een update voor $U$ hebben we ook een update voor $M$ nodig. De update (een stapje) voor de matrices ziet er zo uit:\n",
    "\n",
    "$$\n",
    "M := M + \\alpha \\cdot D \\cdot U\\\\\n",
    "U := U + \\alpha \\cdot D^T \\cdot M\n",
    "$$\n",
    "\n",
    "We hebben hier een update voor $M$ toegevoegd. De update van $U$ is hetzelfde als voorheen. \n",
    "\n",
    "Er is hier alleen wel een kleine extra moeilijkheid: De update van de gebruikersmatrix is afhankelijk van de filmmatrix en vice versa. Dat maakt dat we ze niet zomaar tegelijk kunnen updaten.\n",
    "\n",
    "De truc is om ze niet _tegelijk_ te updaten, maar dit _beurtelings_ te doen: We nemen eerst even aan dat de filmmatrix niet verandert en we updaten alleen de gebruikersmatrix (zoals we ook in de vorige opdracht deden). Vervolgens draaien we de rollen om we nemen aan dat de gebruikersmatrix niet verandert en updaten we de filmmatrix.\n",
    "\n",
    "Het algoritme ziet er dan zo uit (gegeven de target $R$):\n",
    "\n",
    "- Genereer een random gebruikersmatrix, $U$ en een random filmmatrix $M$.\n",
    "- Herhaal N iteraties:\n",
    "    - fase 1 (update gebruikersmatrix)\n",
    "        1. Bereken de utility matrix (voorspel ratings), $\\hat{R} = M \\cdot U^T$\n",
    "        2. Bepaal de mse gegeven de huidige voorspelling (de _cost_): $\\textrm{cost} = \\textrm{mse}(R, \\hat{R})$\n",
    "        3. Update de user matrix:\n",
    "        $$\n",
    "        D = R - \\hat{R} \\\\\n",
    "        U := U + \\alpha \\cdot D^T \\cdot M\n",
    "        $$\n",
    "    - fase 2 (update filmmatrix)\n",
    "        4. Bereken de utility matrix (voorspel ratings), $\\hat{R} = M \\cdot U^T$\n",
    "        5. Bepaal de mse gegeven de huidige voorspelling (de _cost_): $\\textrm{cost} = \\textrm{mse}(R, \\hat{R})$\n",
    "        6. Update de film matrix:\n",
    "        $$\n",
    "        D = R - \\hat{R} \\\\\n",
    "        M := M + \\alpha \\cdot D \\cdot U\n",
    "        $$\n",
    "\n",
    "Vanwege het afwisselen van de rollen van de gebruikers- en filmmatrix, noemen we dit een *alternating least squares* (ALS) algoritme.\n",
    "\n",
    "Het is belangrijk om je te beseffen dat we hiermee ook het idee van filmgenres hebben losgelaten. We leren zowel de gebruikers- als de filmmatrix. Omdat we beide random waardes geven in het begin, ligt hier geen specifieke informatie over filmgenres in besloten.\n",
    "\n",
    "Wat betekenen de scores dan wel? Dat is moeilijk te zeggen. Het is een categorisering die het beste de data voorspelt. Het kan zijn dat een bepaalde categorie vooral hoge scores oplevert voor films met actiefilms, of voor films met Brad Pitt, of films die korter duren dan 100 minuten, of het kan een veel abstractere categorisering zijn die we niet goed semantisch kunnen duiden. Het maakt ook niet uit, zolang het maar goede voorspellingen oplevert. \n",
    "\n",
    "Het enige wat we nog kunnen zeggen is dat twee films die vergelijkbare scores voor de verschillende categorieën hebben op elkaar lijken. Ze lijken op elkaar in die zin dat als een gebruiker de ene film goed vindt, de kans groot is de andere ook goed te zullen vinden.\n",
    "\n",
    "We leren hier dus niet alleen wat de best scores zijn voor de filmcategorieen, maar ook wat beste categorieen zijn om een film mee te beschrijven!"
   ]
  },
  {
   "cell_type": "markdown",
   "id": "1d7e9452",
   "metadata": {
    "deletable": false,
    "editable": false,
    "nbgrader": {
     "cell_type": "markdown",
     "checksum": "66153b0a5e4d20a318a8742eb69b4d0a",
     "grade": false,
     "grade_id": "cell-f895977845c3b759",
     "locked": true,
     "schema_version": 3,
     "solution": false,
     "task": false
    }
   },
   "source": [
    "### Vraag 4\n",
    "\n",
    "\\[3 pt.\\]\n",
    "\n",
    "Het alternating least squares algoritme is hieronder al deels geïmplementeerd. Fase 2 van het algoritme is nog niet ingevuld en de functie `update_movies` is nog niet af. Implementeer deze missende onderdelen."
   ]
  },
  {
   "cell_type": "code",
   "execution_count": null,
   "id": "5b3ab782",
   "metadata": {
    "deletable": false,
    "nbgrader": {
     "cell_type": "code",
     "checksum": "986e4ef76581235a123258c13470cf6f",
     "grade": false,
     "grade_id": "cell-40277f81f237a3af",
     "locked": false,
     "schema_version": 3,
     "solution": true,
     "task": false
    }
   },
   "outputs": [],
   "source": [
    "def update_movies(movies, users, prediction, target, alpha):\n",
    "    # TODO\n",
    "    \n",
    "\n",
    "\n",
    "def fit(target, iterations = 200, alpha = 0.04, number_of_categories = 3):\n",
    "    # compute random matrices\n",
    "    users = random_df(target.columns, list(range(number_of_categories))).copy()\n",
    "    movies = random_df(target.index, list(range(number_of_categories))).copy()\n",
    "\n",
    "    costs = []\n",
    "\n",
    "    # repeat N times\n",
    "    for i in tqdm(range(iterations//2)):\n",
    "        # phase 1 (update user matrix)\n",
    "        \n",
    "        # 1. predict utility\n",
    "        prediction = movies @ users.T\n",
    "\n",
    "        # 2. compute cost (mse)\n",
    "        cost = MSE(target, prediction)\n",
    "        costs.append(cost)\n",
    "\n",
    "        # 3. update user matrix\n",
    "        users = update_users(movies, users, prediction, target, alpha)\n",
    "\n",
    "        # phase 2 (update item matrix)\n",
    " \n",
    "        # TODO\n",
    "        \n",
    "    \n",
    "    return users, movies, costs\n",
    "    \n",
    "users, movies, costs = fit(target, iterations = 100, alpha = 0.04)\n",
    "    \n",
    "print(f'The mse of the final prediction is {costs[-1]:.5f}')\n",
    "plt.semilogy(costs)\n",
    "plt.xlabel('iteration')\n",
    "plt.ylabel('cost (mse)')\n",
    "plt.show()"
   ]
  },
  {
   "cell_type": "markdown",
   "id": "25af7e8a",
   "metadata": {
    "deletable": false,
    "editable": false,
    "nbgrader": {
     "cell_type": "markdown",
     "checksum": "d6f3e65cbb80af3bfd68cb85d3988972",
     "grade": false,
     "grade_id": "cell-32cfa0c3d867efcc",
     "locked": true,
     "schema_version": 3,
     "solution": false,
     "task": false
    }
   },
   "source": [
    "Check je uitkomst:"
   ]
  },
  {
   "cell_type": "code",
   "execution_count": null,
   "id": "19bf0898",
   "metadata": {
    "deletable": false,
    "editable": false,
    "nbgrader": {
     "cell_type": "code",
     "checksum": "90801ae3f5bdf3f0859572488e6352aa",
     "grade": true,
     "grade_id": "cell-475ed592faf4c936",
     "locked": true,
     "points": 3,
     "schema_version": 3,
     "solution": false,
     "task": false
    }
   },
   "outputs": [],
   "source": [
    "answers.test_4(costs)"
   ]
  },
  {
   "cell_type": "markdown",
   "id": "703209e7",
   "metadata": {
    "deletable": false,
    "editable": false,
    "nbgrader": {
     "cell_type": "markdown",
     "checksum": "2d63ae48d8cbd8950302523712f75943",
     "grade": false,
     "grade_id": "cell-3428210c7356bd40",
     "locked": true,
     "schema_version": 3,
     "solution": false,
     "task": false
    }
   },
   "source": [
    "### Vraag 5\n",
    "\n",
    "\\[1 pt.\\]\n",
    "\n",
    "Experimenteer hieronder met de parameters (`iterations` en `alpha`). Zorg ervoor dat de mse uiteindelijk onder de $0.001$ komt te liggen."
   ]
  },
  {
   "cell_type": "code",
   "execution_count": null,
   "id": "ff07eeae",
   "metadata": {
    "deletable": false,
    "nbgrader": {
     "cell_type": "code",
     "checksum": "0c78d9de951b53cc82986ccbf1c517fd",
     "grade": false,
     "grade_id": "cell-ca2d5066f00b00b9",
     "locked": false,
     "schema_version": 3,
     "solution": true,
     "task": false
    }
   },
   "outputs": [],
   "source": [
    "# TODO\n",
    "\n",
    "\n",
    "\n",
    "print(f'The mse of the final prediction is {costs[-1]:.5f}')\n",
    "plt.semilogy(costs)\n",
    "plt.xlabel('iteration')\n",
    "plt.ylabel('cost (mse)')\n",
    "plt.show()"
   ]
  },
  {
   "cell_type": "markdown",
   "id": "cbc6d482",
   "metadata": {
    "deletable": false,
    "editable": false,
    "nbgrader": {
     "cell_type": "markdown",
     "checksum": "27c251a5e0108745bcdde58496b1e8a7",
     "grade": false,
     "grade_id": "cell-a10655e1981920ae",
     "locked": true,
     "schema_version": 3,
     "solution": false,
     "task": false
    }
   },
   "source": [
    "Check de uitkomst:"
   ]
  },
  {
   "cell_type": "code",
   "execution_count": null,
   "id": "f35e3e40",
   "metadata": {
    "deletable": false,
    "editable": false,
    "nbgrader": {
     "cell_type": "code",
     "checksum": "3f78c8376dcdfbce4a7cad4acadd5d42",
     "grade": true,
     "grade_id": "cell-e77a4a4532912095",
     "locked": true,
     "points": 1,
     "schema_version": 3,
     "solution": false,
     "task": false
    }
   },
   "outputs": [],
   "source": [
    "answers.test_5(costs)"
   ]
  },
  {
   "cell_type": "markdown",
   "id": "890b59b7",
   "metadata": {
    "deletable": false,
    "editable": false,
    "nbgrader": {
     "cell_type": "markdown",
     "checksum": "2d3b80a824bb809b69f43fbb904a972a",
     "grade": false,
     "grade_id": "cell-a5c8cea2cc013d0b",
     "locked": true,
     "schema_version": 3,
     "solution": false,
     "task": false
    }
   },
   "source": [
    "Zoals gezegd komen de kolommen in de gebruikers- en filmmatrices niet meer overeen met specifieke genres, zoals in het eerst deel van deze module. Er is ook geen duidelijke reden meer om specifiek 3 categorieën (kolommen) te hanteren. We kunnen de matrices net zo goed 4 categorieën geven, of 2, of 10. Zolang het aantal kolommen voor beide matrices maar gelijk is. Hoe meer categorieën we toevoegen, hoe meer informatie we kunnen coderen. (Het is overigens niet zo dat meer categorieën ook altijd betere voorspellingen geeft.)\n",
    "\n",
    "### Vraag 6\n",
    "\n",
    "\\[2 pt.\\]\n",
    "\n",
    "De functie `fit` genereert standaard matrices met 3 categorieën, maar de functie heeft een parameter, `number_of_categories`, waarmee je dit aantal kan aanpassen. Run hieronder de `fit`-functie voor 2, 3 en 4 categorieën met `iterations = 300` en `alpha = 0.1`. \n",
    "\n",
    "Plot de `costs` van alle drie de runs in 1 grafiek. Zorg ervoor dat de grafiek duidelijk gelabeld is (gebruik een legenda)."
   ]
  },
  {
   "cell_type": "code",
   "execution_count": null,
   "id": "e1495b9d",
   "metadata": {
    "deletable": false,
    "nbgrader": {
     "cell_type": "code",
     "checksum": "169c37ee776e04555d4c44225cbefdd5",
     "grade": true,
     "grade_id": "cell-8a8efa6d53fd678e",
     "locked": false,
     "points": 2,
     "schema_version": 3,
     "solution": true,
     "task": false
    }
   },
   "outputs": [],
   "source": [
    "# TODO\n"
   ]
  },
  {
   "cell_type": "markdown",
   "id": "86c9f0df",
   "metadata": {
    "deletable": false,
    "editable": false,
    "nbgrader": {
     "cell_type": "markdown",
     "checksum": "d161ed66df2c0151fef9316b3dc5a6e1",
     "grade": false,
     "grade_id": "cell-63cf5a29cac4209d",
     "locked": true,
     "schema_version": 3,
     "solution": false,
     "task": false
    }
   },
   "source": [
    "Je weet nu hoe je een matrix kan factoriseren met het alternating least squares algoritme. Dit is een universele techniek die je voor veel meer dan alleen recommender systems kan gebruiken. Elke keer dat je een matrix hebt met missende waardes (nan waardes), kan je in theorie matrixfactorisatie gebruiken om deze waardes te voorspellen. \n",
    "\n",
    "We hebben in deze opdracht nog één belangrijk aspect niet behandeld: We hebben de resultaten van deze matrixfactorisatie nog niet geëvalueerd. Je hebt weliswaar de MSE berekend, maar dat hebben we niet gedaan voor een aparte testset. Zoals je in eerder opdrachten hebt gezien moeten we voor de evaluatie echt gebruik maken van zo'n testset. Het gebruik van de MSE in deze opdracht was dus **niet** voor de evaluatie van het algoritme. Deze werd alleen gebruikt voor het updaten van de matrices en het monitoren van de voortgang van dit algoritme.\n",
    "\n",
    "Maar je kan dezelfde evaluatietechnieken als in de vorige modules natuurlijk ook hier weer gebruiken. Je voorspelt net als in de vorige modules ratings voor films en gebruiker. Je kan hiermee net als in de vorige modules films aanbevelen (door bijvoorbeeld weer een threshold-waarde te kiezen). En deze aanbevelingen kan je weer gebruiken voor het evalueren, met bijvoorbeeld *precision* en *recall*."
   ]
  },
  {
   "cell_type": "markdown",
   "id": "7f12176f",
   "metadata": {
    "deletable": false,
    "editable": false,
    "nbgrader": {
     "cell_type": "markdown",
     "checksum": "c78d1fab80b68e985bd728dd098fdda4",
     "grade": false,
     "grade_id": "cell-206bfba42c86b8eb",
     "locked": true,
     "schema_version": 3,
     "solution": false,
     "task": false
    }
   },
   "source": [
    "### Vraag 7\n",
    "\n",
    "\\[4 pt.\\] (uitvoering: 2pt, conclusie 2pt.)\n",
    "\n",
    "Voor deze opdracht ga je werken met de dataset van module 2. Je kan de volgende commando's gebruiken om de data te laden: \n",
    "\n",
    "    training_data = pd.read_pickle(f'./mini-movielens/ratings_t80_training.pkl')\n",
    "    test_data = pd.read_pickle(f'./mini-movielens/ratings_t80_test.pkl')\n",
    "    \n",
    "Wat we willen weten: Wat is _voor deze data_ het beste aantal categoriën? Je kan hiervoor de MSE van de voorspellingen ten opzichte van de _test data_ gebruiken. Dus, concreter, de vraag die je moet beantwoorden: \n",
    "\n",
    "**Welk aantal categoriën geeft de laagste MSE voor de test data?** Maak plots om je antwoord te onderbouwen.\n",
    "\n",
    "Het is aan jou om uit te vogelen hoe je dit gaat doen. Wat ga je plotten? Hoe ga je de data transformeren? Hoe ga je bepalen wat een goede learning rate is? Hoeveel iteraties ga je doen? Schrijf je conclusie in de volgende cel. Schrijf je code in de cel eronder.\n",
    "\n",
    "In je conclusie vermeld je wat het beste aantal categoriën is en beschrijf je hoe je dat kan afleiden uit de plots die je hebt gemaakt. In de code die je gaat schrijven genereer je de plots die je helpen je argument te onderbouwen. Het kan zijn dat je de `fit` functie een beetje wilt aanpassen. _Doe dat niet in de code hierboven_. Als je de `fit` functie (of een andere functie die je hierboven hebt geschreven) wilt aanpassen, kopieer deze dan in de codecel hieronder en pas het daar aan."
   ]
  },
  {
   "cell_type": "markdown",
   "id": "1e102db1",
   "metadata": {
    "deletable": false,
    "nbgrader": {
     "cell_type": "markdown",
     "checksum": "2f26cd08ce92dd27ad68dba55008c2be",
     "grade": true,
     "grade_id": "cell-636895c8c7ebcd3a",
     "locked": false,
     "points": 2,
     "schema_version": 3,
     "solution": true,
     "task": false
    }
   },
   "source": [
    "YOUR ANSWER HERE"
   ]
  },
  {
   "cell_type": "code",
   "execution_count": null,
   "id": "d5557c88",
   "metadata": {
    "deletable": false,
    "nbgrader": {
     "cell_type": "code",
     "checksum": "4038a3c3562859e04a7ca92d37adc72a",
     "grade": true,
     "grade_id": "cell-7451c4162e608be4",
     "locked": false,
     "points": 2,
     "schema_version": 3,
     "solution": true,
     "task": false
    }
   },
   "outputs": [],
   "source": [
    "# TODO\n"
   ]
  }
 ],
 "metadata": {
  "hide_input": false,
  "kernelspec": {
   "display_name": "Python 3 (ipykernel)",
   "language": "python",
   "name": "python3"
  },
  "language_info": {
   "codemirror_mode": {
    "name": "ipython",
    "version": 3
   },
   "file_extension": ".py",
   "mimetype": "text/x-python",
   "name": "python",
   "nbconvert_exporter": "python",
   "pygments_lexer": "ipython3",
   "version": "3.9.12"
  }
 },
 "nbformat": 4,
 "nbformat_minor": 5
}
