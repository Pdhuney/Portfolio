{
 "cells": [
  {
   "cell_type": "markdown",
   "metadata": {},
   "source": [
    "# Assignment Netwerkanalyse"
   ]
  },
  {
   "cell_type": "markdown",
   "metadata": {
    "nbgrader": {
     "grade": false,
     "grade_id": "privacy",
     "locked": false,
     "schema_version": 3,
     "solution": false
    }
   },
   "source": [
    "## Notebook made by\n",
    "\n",
    "**Gebruik graag dit formaat**\n",
    "\n",
    "* Voor de namen:  voornaam rest van je naam, voornaam rest van je naam,....\n",
    "* je studentnummers: hetzelfde: scheidt met `,`\n",
    "* je emails: hetzelfde: scheidt met `,`\n",
    "* voor je groep: alleen de hoofdletter (dus voor de groep van Marx zou je `A` kiezen)\n",
    "\n",
    "__Namen__: Padma Dhuney, Mouad, \n",
    "\n",
    "__Emails__: \n",
    "\n",
    "__Student ids__ : 14531003,\n",
    "\n",
    "__Groep__ : VervangMijDoorEenHoofdletter"
   ]
  },
  {
   "cell_type": "markdown",
   "metadata": {},
   "source": [
    "## Toelichting\n",
    "\n",
    "* De meeste opgaven worden automatisch nagekeken. Bij vrijwel alle opdrachten staan er een paar tests onder de opdracht, dit is voornamelijk om te zorgen dat je de juiste type output geeft. Dit zijn dus *NIET* alle tests, die komen er bij het graden nog bij.\n",
    "* Elke vraag is 1 punt waard, tenzij anders aangegeven. Soms is die punt onderverdeeld in deelpunten, maar niet altijd. \n",
    "\n",
    "## Voor het inleveren!\n",
    "\n",
    "* Pas niet de cellen aan, vooral niet die je niet kunt editen. Dit levert problemen op bij nakijken. Twijfel je of je per ongeluk iets hebt gewijzigd, kopieer dan bij inleveren je antwoorden naar een nieuw bestand, zodat het niet fout kan gaan.\n",
    "\n",
    "* Zorg dat de code goed runt van boven naar beneden, verifieer dat door boven in Kernel -> Restart & Run All uit te voeren\n",
    "\n",
    "## Na het inleveren!\n",
    "\n",
    "* Het gebeurt erg vaak dat mensen een \"leeg bestand\" inleveren. Vaak een andere versie van de opgave die nog ergens op je computer rondslingerde. Zonde van al je werk toch!\n",
    "* Dus, lever **minstens een half uur voor tijd in**. Download dan wat je hebt ingeleverd op Canvas. Geef het een andere naam om verwarring te voorkomen. En draai alle cellen, en bekijk het. Geen syntax fouten? Alle vragen gemaakt? Dan zit het vast wel goed, en hoef je niet in de zenuwen te zitten."
   ]
  },
  {
   "cell_type": "markdown",
   "metadata": {
    "deletable": false,
    "editable": false,
    "nbgrader": {
     "cell_type": "markdown",
     "checksum": "4eddd8795f2cf05755727bf9661d3279",
     "grade": false,
     "grade_id": "cell-2f53b0d44f5944c8",
     "locked": true,
     "schema_version": 3,
     "solution": false
    }
   },
   "source": [
    "# Week 1"
   ]
  },
  {
   "cell_type": "markdown",
   "metadata": {
    "deletable": false,
    "editable": false,
    "nbgrader": {
     "cell_type": "markdown",
     "checksum": "9cfcdb6ce9cb7ddcfe2f05b5b14f33df",
     "grade": false,
     "grade_id": "cell-57401e015f004af7",
     "locked": true,
     "schema_version": 3,
     "solution": false
    }
   },
   "source": [
    "# Deel 1: Programmeren\n",
    "\n",
    "Voor deze opdrachten maken we gebruik van Networkx, de documentatie daarvan is te vinden via [deze link](https://networkx.github.io/documentation/stable/). Kijk vooral naar welke functies zij bieden, zodat je niet dingen doet die zij al voor je doen (tenzij dat natuurlijk de opdracht is).\n",
    "\n",
    "Staat er `ModuleNotFoundError: No module named X`, doe dan in een cell `!pip install X` (natuurlijk is X hier iets van `matplotlib`, `networkx`, `scipy` of `nose`) en run de cell dan opnieuw.\n",
    "\n",
    "Mocht dat niet werken, probeer dan `!pip3 install X` (werkt alleen bij Mac) of restart de kernel en probeer opnieuw! Mocht dat allemaal ook niet werken, roep dan even een TA!"
   ]
  },
  {
   "cell_type": "code",
   "execution_count": 14,
   "metadata": {
    "ExecuteTime": {
     "end_time": "2020-11-03T13:49:55.679402Z",
     "start_time": "2020-11-03T13:49:52.882192Z"
    },
    "deletable": false,
    "editable": false,
    "nbgrader": {
     "cell_type": "code",
     "checksum": "5c2f6050820fc18ad48bb39b5fced2b4",
     "grade": false,
     "grade_id": "cell-a6202143af23bfa6",
     "locked": true,
     "schema_version": 3,
     "solution": false
    }
   },
   "outputs": [],
   "source": [
    "# Installeer benodigde packages\n",
    "%matplotlib inline\n",
    "import networkx as nx\n",
    "import matplotlib.pyplot as plt\n",
    "import numpy as np\n",
    "import scipy\n",
    "from nose.tools import assert_equal\n",
    "from numpy.testing import assert_almost_equal, assert_array_almost_equal"
   ]
  },
  {
   "cell_type": "markdown",
   "metadata": {
    "deletable": false,
    "editable": false,
    "nbgrader": {
     "cell_type": "markdown",
     "checksum": "d7abe2355c5baf20c26efa314140d6fc",
     "grade": false,
     "grade_id": "cell-48f4ba3545c0d50b",
     "locked": true,
     "schema_version": 3,
     "solution": false
    }
   },
   "source": [
    "## Vraag 1\n",
    "<p>Maak een networkx ongerichte graaf `G` met de volgende knopen en lijnen:</p>\n",
    "<center>\n",
    "    V = {1, 2, 3, 4, 5} en \n",
    "    E = { (1, 2) , (1, 4) , (2, 3) , (2, 4) , (2, 5) , (3, 4) , (3, 5) }\n",
    "</center>\n"
   ]
  },
  {
   "cell_type": "code",
   "execution_count": 17,
   "metadata": {
    "ExecuteTime": {
     "end_time": "2020-11-03T13:49:56.082514Z",
     "start_time": "2020-11-03T13:49:55.682395Z"
    },
    "deletable": false,
    "nbgrader": {
     "cell_type": "code",
     "checksum": "b5cd600414856eeb40e381efb280f431",
     "grade": false,
     "grade_id": "Vraag1",
     "locked": false,
     "schema_version": 3,
     "solution": true
    }
   },
   "outputs": [
    {
     "data": {
      "image/png": "[encoded data removed]",
      "text/plain": [
       "<Figure size 432x288 with 1 Axes>"
      ]
     },
     "metadata": {},
     "output_type": "display_data"
    }
   ],
   "source": [
    "G = None\n",
    "\n",
    "G = nx.Graph()\n",
    "G.add_nodes_from([1,2,3,4,5])\n",
    "G.add_edges_from([(1, 2) , (1, 4) , (2, 3) , (2, 4) , (2, 5) , (3, 4) , (3, 5)])\n",
    "\n",
    "\n",
    "\n",
    "nx.draw(G, with_labels=True)"
   ]
  },
  {
   "cell_type": "code",
   "execution_count": 18,
   "metadata": {
    "deletable": false,
    "editable": false,
    "nbgrader": {
     "cell_type": "code",
     "checksum": "3beb23ca23eaba628be84f7d739982fe",
     "grade": true,
     "grade_id": "Vraag1_antwoord",
     "locked": true,
     "points": 1,
     "schema_version": 3,
     "solution": false
    }
   },
   "outputs": [],
   "source": [
    "assert_equal(nx.is_directed(G), False)"
   ]
  },
  {
   "cell_type": "markdown",
   "metadata": {
    "deletable": false,
    "editable": false,
    "nbgrader": {
     "cell_type": "markdown",
     "checksum": "208c59c2355800b0945531438a7a8d4a",
     "grade": false,
     "grade_id": "cell-af905db2c0399b45",
     "locked": true,
     "schema_version": 3,
     "solution": false
    }
   },
   "source": [
    "## Vraag 2\n",
    "Maak op basis van het netwerk `G` een dictionary genaamd `neighborDict` met als key een node en als value de verzameling  met alle buren van die knoop.\n",
    "Gebruik dict comprehensie.\n",
    "\n",
    "Bijvoorbeeld: `neighborDict[5] = {2, 3}`"
   ]
  },
  {
   "cell_type": "code",
   "execution_count": 25,
   "metadata": {
    "deletable": false,
    "nbgrader": {
     "cell_type": "code",
     "checksum": "bec7adbfcb8f9c89b72cfa8112e81aa9",
     "grade": false,
     "grade_id": "Vraag2",
     "locked": false,
     "schema_version": 3,
     "solution": true
    }
   },
   "outputs": [
    {
     "data": {
      "text/plain": [
       "{1: {2, 4}, 2: {1, 3, 4, 5}, 3: {2, 4, 5}, 4: {1, 2, 3}, 5: {2, 3}}"
      ]
     },
     "execution_count": 25,
     "metadata": {},
     "output_type": "execute_result"
    }
   ],
   "source": [
    "neighborDict = None\n",
    "\n",
    "neighborDict= {i: set(G.neighbors(i)) for i in G.nodes}\n",
    "\n",
    "#for i in G.nodes: \n",
    "    #neighborDict[i]= set(G.neighbors(i))\n",
    "                      \n",
    "\n",
    "neighborDict"
   ]
  },
  {
   "cell_type": "code",
   "execution_count": 7,
   "metadata": {
    "deletable": false,
    "editable": false,
    "nbgrader": {
     "cell_type": "code",
     "checksum": "d254e29b63b534b463b546873756eadf",
     "grade": true,
     "grade_id": "Vraag2_antwoord",
     "locked": true,
     "points": 1,
     "schema_version": 3,
     "solution": false
    }
   },
   "outputs": [],
   "source": [
    "assert_equal(type(neighborDict), dict)\n"
   ]
  },
  {
   "cell_type": "markdown",
   "metadata": {
    "deletable": false,
    "editable": false,
    "nbgrader": {
     "cell_type": "markdown",
     "checksum": "8268a29220be8349b72ef23e3c56bb35",
     "grade": false,
     "grade_id": "cell-397906d371adcacc",
     "locked": true,
     "schema_version": 3,
     "solution": false
    }
   },
   "source": [
    "## Vraag 3\n",
    "Maak een functie `make_complete(G)` die teruggeeft hoeveel lijnen toegevoegd moeten worden aan een willekeurig  ongericht netwerk `G` (die misschien al lijnen bevat) om er een volledige graaf van te maken. Zorg dat het resultaat een integer is.\n"
   ]
  },
  {
   "cell_type": "code",
   "execution_count": 74,
   "metadata": {
    "deletable": false,
    "nbgrader": {
     "cell_type": "code",
     "checksum": "30b0d510f2b302f936ad4a3d3bc9edfc",
     "grade": false,
     "grade_id": "Vraag3",
     "locked": false,
     "schema_version": 3,
     "solution": true
    }
   },
   "outputs": [
    {
     "name": "stdout",
     "output_type": "stream",
     "text": [
      "5\n"
     ]
    },
    {
     "data": {
      "text/plain": [
       "4799"
      ]
     },
     "execution_count": 74,
     "metadata": {},
     "output_type": "execute_result"
    },
    {
     "data": {
      "image/png": "[encoded data removed]",
      "text/plain": [
       "<Figure size 432x288 with 1 Axes>"
      ]
     },
     "metadata": {},
     "output_type": "display_data"
    }
   ],
   "source": [
    "def make_complete(G):\n",
    "    n= G.number_of_nodes()\n",
    "    complete_graaf= ((n*n-1)/2)\n",
    "    m = G.number_of_edges()\n",
    "    return int(complete_graaf - m)\n",
    "\n",
    "# test 1\n",
    "print(make_complete(G))\n",
    "# test 2\n",
    "ER = nx.gnm_random_graph(100, 200) # Zie https://networkx.github.io/documentation/stable/auto_examples/graph/plot_erdos_renyi.html\n",
    "nx.draw(ER, with_labels=True);\n",
    "make_complete(ER)"
   ]
  },
  {
   "cell_type": "code",
   "execution_count": 30,
   "metadata": {
    "deletable": false,
    "editable": false,
    "nbgrader": {
     "cell_type": "code",
     "checksum": "f43568b6d227a2b15897f204089bbcde",
     "grade": true,
     "grade_id": "Vraag3_antwoord",
     "locked": true,
     "points": 1,
     "schema_version": 3,
     "solution": false
    }
   },
   "outputs": [],
   "source": [
    "assert_equal(type(make_complete(G)), int)"
   ]
  },
  {
   "cell_type": "code",
   "execution_count": null,
   "metadata": {},
   "outputs": [],
   "source": []
  },
  {
   "cell_type": "markdown",
   "metadata": {
    "deletable": false,
    "editable": false,
    "nbgrader": {
     "cell_type": "markdown",
     "checksum": "93343a7f621628428045bf5fc13a0f60",
     "grade": false,
     "grade_id": "cell-d87520b5c6b1fcf7",
     "locked": true,
     "schema_version": 3,
     "solution": false
    }
   },
   "source": [
    "## Vraag 4\n",
    "Maak een functie `my_degree(G)` die een dictionary maakt met als sleutels alle knopen van `G`    en als value de degree van de sleutel in `G`. Het resultaat is hetzelfde als `dict(G.degree())`.\n",
    "\n",
    "* Gebruik een dict comprehensie!\n",
    "* Je mag alleen de networkx functie `G.has_edge()` gebruiken. \n",
    "\n",
    "Zie: https://en.wikipedia.org/wiki/Degree_(graph_theory)\n",
    "\n",
    "Voorbeeld resultaat op ons eigen netwerk `G`: `{1: 2, 2: 4...}`"
   ]
  },
  {
   "cell_type": "code",
   "execution_count": 56,
   "metadata": {
    "deletable": false,
    "nbgrader": {
     "cell_type": "code",
     "checksum": "a844d7fe1b7fa46fe06eceeccb030129",
     "grade": false,
     "grade_id": "Vraag4",
     "locked": false,
     "schema_version": 3,
     "solution": true
    }
   },
   "outputs": [
    {
     "name": "stdout",
     "output_type": "stream",
     "text": [
      "G: {1: 2, 2: 4, 3: 3, 4: 3, 5: 2}\n"
     ]
    },
    {
     "data": {
      "text/plain": [
       "{0: 4, 1: 4, 2: 6, 3: 4, 4: 4, 5: 3, 6: 7, 7: 3, 8: 3, 9: 2}"
      ]
     },
     "execution_count": 56,
     "metadata": {},
     "output_type": "execute_result"
    },
    {
     "data": {
      "image/png": "[encoded data removed]",
      "text/plain": [
       "<Figure size 432x288 with 1 Axes>"
      ]
     },
     "metadata": {},
     "output_type": "display_data"
    }
   ],
   "source": [
    "def my_degree(G):\n",
    "    '''\n",
    "    emptydict= {}\n",
    "    for u in G.nodes: \n",
    "        count= 0\n",
    "        for v in G.nodes:\n",
    "            if G.has_edge(u,v) is True:\n",
    "                count= count +1\n",
    "        emptydict[u]= count\n",
    "    return emptydict\n",
    "    '''\n",
    "\n",
    "    my_degrees = {u:  sum(1 for v in G.nodes() if G.has_edge(u, v)) for u in G.nodes()}\n",
    "    return my_degrees\n",
    "\n",
    "\n",
    "# test 1\n",
    "print('G:', my_degree(G))\n",
    "\n",
    "# test 2\n",
    "ER = nx.gnm_random_graph(10, 20) # Zie https://networkx.github.io/documentation/stable/auto_examples/graph/plot_erdos_renyi.html\n",
    "nx.draw(ER, with_labels=True);\n",
    "my_degree(ER)"
   ]
  },
  {
   "cell_type": "code",
   "execution_count": 57,
   "metadata": {
    "deletable": false,
    "editable": false,
    "nbgrader": {
     "cell_type": "code",
     "checksum": "30f88fe605bc7f104b2377a5eb29876e",
     "grade": true,
     "grade_id": "Vraag4_antwoord",
     "locked": true,
     "points": 1,
     "schema_version": 3,
     "solution": false
    }
   },
   "outputs": [],
   "source": [
    "assert_equal(my_degree(G), dict(G.degree()))"
   ]
  },
  {
   "cell_type": "markdown",
   "metadata": {
    "deletable": false,
    "editable": false,
    "nbgrader": {
     "cell_type": "markdown",
     "checksum": "90e50ebc453742e790a83e725ef6b319",
     "grade": false,
     "grade_id": "cell-758bd776f998402a",
     "locked": true,
     "schema_version": 3,
     "solution": false
    }
   },
   "source": [
    "## Vraag 5\n",
    "Teken de subgraven van `G` geinduceerd door {1,2,3} en {2,5,3} en {5,4} en geef deze graven de namen respectievelijk `I`, `J` en `K`"
   ]
  },
  {
   "cell_type": "code",
   "execution_count": 75,
   "metadata": {
    "deletable": false,
    "nbgrader": {
     "cell_type": "code",
     "checksum": "dbcccf74cf0aed1d1528971b7c07443d",
     "grade": false,
     "grade_id": "Vraag5",
     "locked": false,
     "schema_version": 3,
     "solution": true
    }
   },
   "outputs": [
    {
     "name": "stdout",
     "output_type": "stream",
     "text": [
      "{(2, 3), (1, 2)}\n"
     ]
    },
    {
     "data": {
      "image/png": "[encoded data removed]",
      "text/plain": [
       "<Figure size 432x288 with 1 Axes>"
      ]
     },
     "metadata": {},
     "output_type": "display_data"
    },
    {
     "data": {
      "image/png": "[encoded data removed]",
      "text/plain": [
       "<Figure size 432x288 with 1 Axes>"
      ]
     },
     "metadata": {},
     "output_type": "display_data"
    },
    {
     "data": {
      "image/png": "[encoded data removed]",
      "text/plain": [
       "<Figure size 432x288 with 1 Axes>"
      ]
     },
     "metadata": {},
     "output_type": "display_data"
    }
   ],
   "source": [
    "I = None\n",
    "J = None\n",
    "K = None\n",
    "\n",
    "def subgraph(G,N):\n",
    "    '''return the subgraph of G induced by the set of nodes N'''\n",
    "    return  {(s,t) for (s,t) in G if s in N  and  t in N}\n",
    "\n",
    "I = nx.Graph()\n",
    "J = nx.Graph()\n",
    "K = nx.Graph()\n",
    "\n",
    "print(subgraph(G.edges(),{1,2,3}))\n",
    "I.add_nodes_from([1,2,3])\n",
    "J.add_nodes_from([2,5,3])\n",
    "K.add_nodes_from([5,4])\n",
    "I.add_edges_from((subgraph(G.edges(),{1,2,3})))\n",
    "J.add_edges_from((subgraph(G.edges(),{2,5,3})))\n",
    "K.add_edges_from((subgraph(G.edges(),{5,4})))\n",
    "plt.figure(1)\n",
    "nx.draw(I)\n",
    "plt.figure(2)\n",
    "nx.draw(J)\n",
    "plt.figure(3)\n",
    "nx.draw(K)\n",
    "plt.show()"
   ]
  },
  {
   "cell_type": "code",
   "execution_count": 59,
   "metadata": {
    "deletable": false,
    "editable": false,
    "nbgrader": {
     "cell_type": "code",
     "checksum": "401c27b02e6aa7d591823408c3252095",
     "grade": true,
     "grade_id": "Vraag5_antwoord",
     "locked": true,
     "points": 1,
     "schema_version": 3,
     "solution": false
    }
   },
   "outputs": [],
   "source": [
    "assert_equal(sorted(list(I.nodes())), [1, 2, 3])\n",
    "assert_equal(sorted(list(J.nodes())), [2, 3, 5])\n",
    "assert_equal(sorted(list(K.nodes())), [4, 5])"
   ]
  },
  {
   "cell_type": "markdown",
   "metadata": {
    "deletable": false,
    "editable": false,
    "nbgrader": {
     "cell_type": "markdown",
     "checksum": "1341a3c300bd784bbc67c2d377d15d77",
     "grade": false,
     "grade_id": "cell-d4a2702cbe026966",
     "locked": true,
     "schema_version": 3,
     "solution": false
    }
   },
   "source": [
    "## Vraag 6\n",
    "Maak de functie `adj_matrix(G)`  en `adj_matrix2(G)` die allebei een adjacency matrix maken. In het geval van de graaf `G` die je hebt gemaakt bij vraag 1, heeft de matrix van deze  vorm (alleen dan in de vorm van een lijst van lijsten):\n",
    "    <pre>\n",
    "        1 2 3 4 5\n",
    "      1 0 1 0 1 0\n",
    "      2\n",
    "      3\n",
    "      4\n",
    "      5\n",
    "    </pre>\n",
    "    \n",
    "Een aantal eisen:\n",
    "* Zorg dat de functies werken voor elk netwerk, niet alleen `G`. (We kijken de functies ook na met andere netwerken dan `G`.\n",
    "* Gebruik enkel list comprehensies.\n",
    "* Je mag in beide functies niet de networkx functie `nx.adjacency_matrix` gebruiken.\n",
    "* Bij `adj_matrix(G)` moet je de networkx functie `G.has_edge` gebruiken en  geen enkele andere networkx functie.\n",
    "* Bij `adj_matrix2(G)` moet je de networkx functie `G.neighbors` (dit is niet hetzelfde als `nx.neighbors`!) gebruiken en  geen enkele andere networkx functie.\n",
    "* Zorg dat de nodes altijd gesorteerd zijn, zodat de matrix op volgorde is\n",
    "* Hint:`int(True)==1` en `int(False)==0`, en dus ook `int(5==4)==0`.\n",
    "    \n",
    "Je antwoord voor netwerk `G` zal er zo uit zien:\n",
    "\n",
    "```\n",
    "[[0, 1, 0, 1, 0],\n",
    "       ....\n",
    "       ] \n",
    "```"
   ]
  },
  {
   "cell_type": "code",
   "execution_count": 97,
   "metadata": {
    "deletable": false,
    "nbgrader": {
     "cell_type": "code",
     "checksum": "9f419c7b8c86ca6a0a01ff2fb53c20d8",
     "grade": false,
     "grade_id": "Vraag6",
     "locked": false,
     "schema_version": 3,
     "solution": true
    }
   },
   "outputs": [
    {
     "data": {
      "text/plain": [
       "([[0, 1, 0, 1, 0],\n",
       "  [1, 0, 1, 1, 1],\n",
       "  [0, 1, 0, 1, 1],\n",
       "  [1, 1, 1, 0, 0],\n",
       "  [0, 1, 1, 0, 0]],\n",
       " [[0, 1, 0, 1, 0],\n",
       "  [1, 0, 1, 1, 1],\n",
       "  [0, 1, 0, 1, 1],\n",
       "  [1, 1, 1, 0, 0],\n",
       "  [0, 1, 1, 0, 0]],\n",
       " True)"
      ]
     },
     "execution_count": 97,
     "metadata": {},
     "output_type": "execute_result"
    }
   ],
   "source": [
    "def adj_matrix(G):\n",
    "    #WRITE YOUR CODE HERE\n",
    "    return [[int(G.has_edge(vertex, edges)) for edges in G.nodes] for vertex in G.nodes]\n",
    "\n",
    "def adj_matrix2(G):\n",
    "    #WRITE YOUR CODE HERE\n",
    "    return [[int(edges in G.neighbors(vertex)) for edges in G.nodes] for vertex in G.nodes]\n",
    "        \n",
    "adj_matrix(G), adj_matrix2(G), adj_matrix(G)==adj_matrix2(G)\n",
    "\n",
    "# test het zelf ook met de ER graaf."
   ]
  },
  {
   "cell_type": "code",
   "execution_count": null,
   "metadata": {
    "deletable": false,
    "editable": false,
    "nbgrader": {
     "cell_type": "code",
     "checksum": "7dbff52b2dd0db74f510344b8dd3483e",
     "grade": true,
     "grade_id": "Vraag6_test",
     "locked": true,
     "points": 1,
     "schema_version": 3,
     "solution": false
    }
   },
   "outputs": [],
   "source": [
    "assert_equal(type(adj_matrix(G)), list)\n",
    "assert_equal(type(adj_matrix(G)[0]), list)\n",
    "assert_equal(type(adj_matrix(G)[0][0]), int)\n",
    "assert_equal(type(adj_matrix2(G)), list)\n",
    "assert_equal(type(adj_matrix2(G)[0]), list)\n",
    "assert_equal(type(adj_matrix2(G)[0][0]), int)\n",
    "assert_equal(type(adj_matrix2(G)[0][0]), int)\n",
    "assert_array_almost_equal(adj_matrix(G), adj_matrix2(G))\n"
   ]
  },
  {
   "cell_type": "markdown",
   "metadata": {
    "deletable": false,
    "editable": false,
    "nbgrader": {
     "cell_type": "markdown",
     "checksum": "f6a5e6dd2e682dffc48cd542610e68dc",
     "grade": false,
     "grade_id": "FC",
     "locked": true,
     "schema_version": 3,
     "solution": false
    }
   },
   "source": [
    "# Opgaven uit First Course\n",
    "\n",
    "1. Alles uit Hfd 0\n",
    "2. Hfd 1: alles tot en met 21.\n",
    "3. Maak opgave 21 in `networkx`\n",
    "        * maak het netwerk, met `G.add_edges`\n",
    "        * print het\n",
    "        * maak ook de adjecency matrix als een lijst van lijsten\n",
    "        * check dat deze adjencency matrix hetzelfde is als een adjececy matrix die networkx maakt.\n",
    "4. Schrijf nu ook checks voor alle vragen 1.17-1.20 in Python en controleer je antwoord."
   ]
  },
  {
   "cell_type": "markdown",
   "metadata": {
    "deletable": false,
    "nbgrader": {
     "cell_type": "markdown",
     "checksum": "265462dc9ac5967a7bef8d79bdc27119",
     "grade": true,
     "grade_id": "FCa",
     "locked": false,
     "points": 1,
     "schema_version": 3,
     "solution": true
    }
   },
   "source": [
    "YOUR ANSWER HERE"
   ]
  },
  {
   "cell_type": "markdown",
   "metadata": {
    "deletable": false,
    "editable": false,
    "nbgrader": {
     "cell_type": "markdown",
     "checksum": "20af09af35926a7a1fb03a46c3014de9",
     "grade": false,
     "grade_id": "fc113",
     "locked": true,
     "schema_version": 3,
     "solution": false
    }
   },
   "source": [
    "# FC vraag 1.13\n",
    "\n",
    "* Maak deze vraag ook in networkx.\n",
    "    * Maak een functie `Q113(N1,N2)` die een network teruggeeft zoals gevraagd\n",
    "    * Met welke check check je dat het \"volledig\" (voor een bipartiet netwerk natuurlijk) is?\n",
    "    \n",
    "* **Hint** Google eens wat."
   ]
  },
  {
   "cell_type": "code",
   "execution_count": null,
   "metadata": {
    "deletable": false,
    "nbgrader": {
     "cell_type": "code",
     "checksum": "f9f3e124c1b40038c9d23e79854547a5",
     "grade": false,
     "grade_id": "fc113a",
     "locked": false,
     "schema_version": 3,
     "solution": true
    }
   },
   "outputs": [],
   "source": [
    "def Q113(N1,N2):\n",
    "    '''Return a maximal bipartite network with N1 nodes on one side and N2 on the other.'''\n",
    "    #WRITE YOUR CODE HERE\n",
    "    \n",
    "def maximaal_bipartiet(BG):\n",
    "    '''Return True if BG is a maximal bipartite network. False in all other cases.'''\n",
    "    #WRITE YOUR CODE HERE\n",
    "    \n",
    "#test\n",
    "maximaal_bipartiet(Q113(5,10))"
   ]
  },
  {
   "cell_type": "code",
   "execution_count": null,
   "metadata": {
    "deletable": false,
    "editable": false,
    "nbgrader": {
     "cell_type": "code",
     "checksum": "f9c553f4e2d6b24ec3c44b5d27ebc874",
     "grade": true,
     "grade_id": "fc113t",
     "locked": true,
     "points": 1,
     "schema_version": 3,
     "solution": false
    }
   },
   "outputs": [],
   "source": [
    "assert isinstance(Q113(5,10),nx.Graph)\n",
    "assert isinstance(maximaal_bipartiet(Q113(5,10)), bool)\n",
    "\n",
    "\n",
    "    \n",
    " "
   ]
  },
  {
   "cell_type": "code",
   "execution_count": null,
   "metadata": {
    "deletable": false,
    "nbgrader": {
     "cell_type": "code",
     "checksum": "d6848ddf7abe19df1622e4c01b95d567",
     "grade": true,
     "grade_id": "adjmatrixchecksd",
     "locked": false,
     "points": 1,
     "schema_version": 3,
     "solution": true
    }
   },
   "outputs": [],
   "source": [
    "#WRITE YOUR CODE HERE"
   ]
  },
  {
   "cell_type": "code",
   "execution_count": null,
   "metadata": {
    "deletable": false,
    "nbgrader": {
     "cell_type": "code",
     "checksum": "57c0cd30f820f23743303abee629bc86",
     "grade": true,
     "grade_id": "FCa21",
     "locked": false,
     "points": 1,
     "schema_version": 3,
     "solution": true
    }
   },
   "outputs": [],
   "source": [
    "#WRITE YOUR CODE HERE"
   ]
  },
  {
   "cell_type": "markdown",
   "metadata": {},
   "source": [
    "# Verzamelingen\n",
    "\n",
    "* Dubbel klik eens op deze cel zodat je de code ziet.\n",
    "* Leer dan de latex codes voor de mooie symbolen, en zorg dat je zelf nu ook netjes antwoord kunt geven.\n",
    "* Formules zet je altijd tussen dollartekens.\n",
    "    * Als je het in het midden van de regel wil tussen dubbele dolalartekens\n",
    "* Elk commando begint altijd met `\\`. Spaties maken niks uit. Latex regelt hoe het er netjes uit komt te zien.\n",
    "\n",
    "### Opgaven\n",
    "\n",
    "1. $\\{1,2,3\\}\\cap\\{2,3,4\\}=\\{2,3\\}$\n",
    "1. $\\{1,2,3\\}\\cup\\{2,3,4\\}=\\{1,2,3,4\\}$\n",
    "1. $\\{1,2,3\\}\\setminus\\{2,3,4\\}=\\{1,4\\}$\n",
    "1. $\\emptyset\\setminus\\{2,3,4\\}=\\emptyset$\n",
    "2. $\\{1,2,3\\}\\times\\{2,3,4\\}=\\{(1,2),(1,3),(1,4),(2,2),(2,3),(2,4),(3,2),(3,3),(3,4)\\}$\n",
    "3. De machtsverzameling van $\\{1,2,3,4\\}= \\mathcal{P}(\\{1,2,3,4\\}) = \\{\\emptyset, \\{1\\}, \\{2\\}, \\{3\\}, \\{4\\}, \\{1,2\\}, \\{1,3\\}, \\{1,4\\}, \\{2,3\\}, \\{2,4\\}, \\{3,4\\}, \\{1,2,3\\}, \\{1,2,4\\}, \\{1,3,4\\}, \\{2,3,4\\}, \\{1,2,3,4\\}\\}$ \n",
    "     * Check dat je echt $2^4$ veel deelverzamelingen hebt gevonden.\n",
    "     * het heet niet voor niks *machts* verzameling ;-)\n",
    "\n",
    "#### Teken ook netjes de Venn diagrammen\n",
    "#### Check je antwoorden ook in Python\n",
    "#### Maak zelf opgaven en leg die aan je groepsleden voor"
   ]
  },
  {
   "cell_type": "markdown",
   "metadata": {},
   "source": [
    "# Comprehensies\n",
    "\n",
    "* Zorg dat je list, set en dict comprehensies echt goed in je vingers krijgt!\n",
    "* Het is heerlijk als je het kunt.\n",
    "\n",
    "### Goede uitleg\n",
    "\n",
    "Ik [Googlede op python comprehension tutorial](https://www.google.com/search?q=python+comprehension+tutorial) en de [video](https://www.youtube.com/watch?v=3dt4OGnU5sM) is prima, maar ook de [datacamp tutorial](https://www.datacamp.com/community/tutorials/python-list-comprehension) of de [real python](https://realpython.com/list-comprehension-python/) tutorial.\n",
    "\n",
    "### Wat opgaven\n",
    "\n",
    "Je gaat allemaal comprehensies doen op een gedicht van annie MG Schmidt. Het staat in de cel hieronder als string in de variabele `AMGS` en daarna als lijst van woorden in `t`.\n",
    "\n",
    "In je tests gebruik je allemaal string functies, en ook `in`. \n",
    "\n",
    "#### list comprehensies\n",
    "\n",
    "1. de lijst van alle woorden in `AMGS` beginnend met een `i`. (antwoord beneden)\n",
    "2. zelfde maar dan beginnend met `i` of `I`. (antwoord beneden)\n",
    "3. de lijst van alle woorden in `AMGS` van lengte meer dan 3\n",
    "4. de lijst van alle woorden in `AMGS` waar een `a` in zit\n",
    "5. nu waar juist geen `a` in zit\n",
    "6. nu waar als er een `a` in zit ook een `b` in zit (wat betekent dit precies he?)\n",
    "7. alle woorden zonder klinker.\n",
    "8. Voor elk woord zijn lengte.\n",
    "9. De lijst met het hele gedicht maar nu waar elk woord met een hoofdletter begint.\n",
    "10. De lijst die net zo lang is als het gedicht (dus `t`), maar dan op elke positie of het woord op die positie gelijk is aan `ik`. Dus de waardes zijn alleen maar `True` en `False`.\n",
    "    * Gebruik `sum` om te berekenen hoe vaak het woord `ik` voorkomt.\n",
    "11. Verzien er zelf 10 bij, en maak die ook, en geef ze aan je groepsgenoeten.\n",
    "\n",
    "#### set comprehensies\n",
    "\n",
    "1. De verzameling van alle unieke woorden in `AMGS`.\n",
    "2. De verzameling van alle unieke woorden in `AMGS` met `ch` er in.\n",
    "3. De verzameling van alle unieke woorden in `AMGS`, maar dan geschreven in hoofdletters.\n",
    "4. Alle woordlengtes die in `AMGS` voorkomen.\n",
    "\n",
    "\n",
    "### Dict comprehensies\n",
    "\n",
    "1. De dict met voor elk uniek \"woord\" in `AMGS` zijn lengte. Dus het woord is de key en de lengte de waarde. Let op , woorden zijn dus de elementen in `t`. (antwoord beneden)\n",
    "2. De dict met voor elk uniek \"woord\" in `AMGS` de verzameling karakters in dat woord.\n",
    "3. De dict met voor elk uniek \"woord\" in `AMGS`  de \"schoongemaakte\" versie van dat woord (zonder leestekens, etc, gebruik een lange lijst als `a.replace(':','').replace(',','')`. Zet het woord ook in klein eletters.\n",
    "\n",
    "    \n",
    "### Nesting\n",
    "\n",
    "3. De dict met voor elk uniek woord, de verzameling klinkers in dat  woord. \n",
    "    *   (antwoord beneden, probeer eerst minstens een half uur zelf)\n",
    "4.  De dict met voor elke positie in `AMGS`, de verzameling met het woord voor die positie  en het woord erna.\n",
    "    (antwoord ook beneden, niet meteen gan kijken.)\n",
    "5. DE dict met voor elk woord de verzameling posities waar het voorkomt. Tricky maar leuk!   Hint loop over de posities. \n",
    "6. Na de vorige is deze heel makkelijk: DE dict met voor elk woord  hoe vaak het voorkomt. \n"
   ]
  },
  {
   "cell_type": "code",
   "execution_count": 78,
   "metadata": {
    "deletable": false,
    "editable": false,
    "nbgrader": {
     "cell_type": "code",
     "checksum": "a6ad497baa01dc58ba1e15a92af5c3aa",
     "grade": false,
     "grade_id": "amgs",
     "locked": true,
     "schema_version": 3,
     "solution": false
    }
   },
   "outputs": [
    {
     "data": {
      "text/plain": [
       "(168,\n",
       " ['Ik', 'wil', 'niet', 'meer,', 'ik', 'wil', 'niet', 'meer!', 'Ik', 'wil'])"
      ]
     },
     "execution_count": 78,
     "metadata": {},
     "output_type": "execute_result"
    }
   ],
   "source": [
    "AMGS='''\n",
    "Ik wil niet meer, ik wil niet meer!\n",
    "Ik wil geen handjes geven!\n",
    "Ik wil niet zeggen elke keer:\n",
    "Jawel mevrouw, jawel meneer...\n",
    "nee, nooit meer in m'n leven!\n",
    "Ik hou m'n handen op m'n rug\n",
    "en ik zeg lekker niks terug!\n",
    "\n",
    "Ik wil geen vieze havermout,\n",
    "ik wil geen tandjes poetsen!\n",
    "Ik wil lekker knoeien met het zout,\n",
    "ik wil niet aardig zijn, maar stout\n",
    "en van de leuning roetsen\n",
    "en schipbreuk spelen in de teil\n",
    "en ik wil spugen op het zeil!\n",
    "\n",
    "En heel hard stampen in een plas\n",
    "en dan m'n tong uitsteken\n",
    "en morsen op m'n nieuwe jas\n",
    "en ik wil overmorgen pas\n",
    "weer met twee woorden spreken!\n",
    "En ik wil alles wat niet mag,\n",
    "de hele dag, de hele dag!\n",
    "\n",
    "En ik wil op de kanapee\n",
    "met hele vuile schoenen\n",
    "en ik wil aldoor gillen: nee!\n",
    "En ik wil met de melkboer mee\n",
    "en dan het paardje zoenen.\n",
    "En dat is alles wat ik wil\n",
    "en als ze kwaad zijn, zeg ik: Bil!'''\n",
    "\n",
    "t=AMGS.split()\n",
    "len(t),t[:10]"
   ]
  },
  {
   "cell_type": "code",
   "execution_count": 79,
   "metadata": {},
   "outputs": [
    {
     "data": {
      "text/plain": [
       "False"
      ]
     },
     "execution_count": 79,
     "metadata": {},
     "output_type": "execute_result"
    }
   ],
   "source": [
    "# probeer eens alleen t[0]. en dan shift return, en probeer eens wat van de suggesties\n",
    "# om erachter te komen wat iets doet typ je t[0].isupper? en dan shift enter.\n",
    "# Ideaal he! Dat kan bij elk object. t[0] is natuurlijk een string, dus je krijgt string functies te zien. \n",
    "t[0].isupper()"
   ]
  },
  {
   "cell_type": "code",
   "execution_count": 80,
   "metadata": {},
   "outputs": [
    {
     "name": "stdout",
     "output_type": "stream",
     "text": [
      "wil\n"
     ]
    },
    {
     "data": {
      "text/plain": [
       "(True, False, True)"
      ]
     },
     "execution_count": 80,
     "metadata": {},
     "output_type": "execute_result"
    }
   ],
   "source": [
    "# \"in\" is ook heel handig in Python\n",
    "\n",
    "print(t[1])\n",
    "'i' in t[1], 'W' in t[1], 'W' in t[1].upper()"
   ]
  },
  {
   "cell_type": "code",
   "execution_count": 81,
   "metadata": {},
   "outputs": [
    {
     "data": {
      "text/plain": [
       "['ik',\n",
       " 'in',\n",
       " 'ik',\n",
       " 'ik',\n",
       " 'ik',\n",
       " 'in',\n",
       " 'ik',\n",
       " 'in',\n",
       " 'ik',\n",
       " 'ik',\n",
       " 'ik',\n",
       " 'ik',\n",
       " 'ik',\n",
       " 'is',\n",
       " 'ik',\n",
       " 'ik:']"
      ]
     },
     "execution_count": 81,
     "metadata": {},
     "output_type": "execute_result"
    }
   ],
   "source": [
    "#de lijst van alle woorden in `AMGS` beginnend met een `i`. (antwoord beneden)\n",
    "[w for w in t if w.startswith('i')]"
   ]
  },
  {
   "cell_type": "code",
   "execution_count": 88,
   "metadata": {},
   "outputs": [
    {
     "data": {
      "text/plain": [
       "['Ik',\n",
       " 'ik',\n",
       " 'Ik',\n",
       " 'Ik',\n",
       " 'in',\n",
       " 'Ik',\n",
       " 'ik',\n",
       " 'Ik',\n",
       " 'ik',\n",
       " 'Ik',\n",
       " 'ik',\n",
       " 'in',\n",
       " 'ik',\n",
       " 'in',\n",
       " 'ik',\n",
       " 'ik',\n",
       " 'ik',\n",
       " 'ik',\n",
       " 'ik',\n",
       " 'is',\n",
       " 'ik',\n",
       " 'ik:']"
      ]
     },
     "execution_count": 88,
     "metadata": {},
     "output_type": "execute_result"
    }
   ],
   "source": [
    "#2. zelfde maar dan beginnend met `i` of `I`. (antwoord beneden)\n",
    "# Verzin minstens 2 andere manieren om exact hetzelfde te krijgen\n",
    "[w for w in t if w.startswith('i') or w.startswith('I')]\n",
    "[w for w in t if w.startswith('i')] or [w for w in t if w.startswith(\"I\")]\n",
    "[w for w in t if w[0].lower() == 'i' or w[0].upper() == \"I\"]\n",
    "[w for w in t if w[0] in 'iI']\n",
    "[w for w in t if w[0] == 'i' or w[0] == \"I\"]"
   ]
  },
  {
   "cell_type": "code",
   "execution_count": 48,
   "metadata": {},
   "outputs": [
    {
     "data": {
      "text/plain": [
       "{'Ik': 2,\n",
       " 'wil': 3,\n",
       " 'niet': 4,\n",
       " 'meer,': 5,\n",
       " 'ik': 2,\n",
       " 'meer!': 5,\n",
       " 'geen': 4,\n",
       " 'handjes': 7,\n",
       " 'geven!': 6,\n",
       " 'zeggen': 6,\n",
       " 'elke': 4,\n",
       " 'keer:': 5,\n",
       " 'Jawel': 5,\n",
       " 'mevrouw,': 8,\n",
       " 'jawel': 5,\n",
       " 'meneer...': 9,\n",
       " 'nee,': 4,\n",
       " 'nooit': 5,\n",
       " 'meer': 4,\n",
       " 'in': 2,\n",
       " \"m'n\": 3,\n",
       " 'leven!': 6,\n",
       " 'hou': 3,\n",
       " 'handen': 6,\n",
       " 'op': 2,\n",
       " 'rug': 3,\n",
       " 'en': 2,\n",
       " 'zeg': 3,\n",
       " 'lekker': 6,\n",
       " 'niks': 4,\n",
       " 'terug!': 6,\n",
       " 'vieze': 5,\n",
       " 'havermout,': 10,\n",
       " 'tandjes': 7,\n",
       " 'poetsen!': 8,\n",
       " 'knoeien': 7,\n",
       " 'met': 3,\n",
       " 'het': 3,\n",
       " 'zout,': 5,\n",
       " 'aardig': 6,\n",
       " 'zijn,': 5,\n",
       " 'maar': 4,\n",
       " 'stout': 5,\n",
       " 'van': 3,\n",
       " 'de': 2,\n",
       " 'leuning': 7,\n",
       " 'roetsen': 7,\n",
       " 'schipbreuk': 10,\n",
       " 'spelen': 6,\n",
       " 'teil': 4,\n",
       " 'spugen': 6,\n",
       " 'zeil!': 5,\n",
       " 'En': 2,\n",
       " 'heel': 4,\n",
       " 'hard': 4,\n",
       " 'stampen': 7,\n",
       " 'een': 3,\n",
       " 'plas': 4,\n",
       " 'dan': 3,\n",
       " 'tong': 4,\n",
       " 'uitsteken': 9,\n",
       " 'morsen': 6,\n",
       " 'nieuwe': 6,\n",
       " 'jas': 3,\n",
       " 'overmorgen': 10,\n",
       " 'pas': 3,\n",
       " 'weer': 4,\n",
       " 'twee': 4,\n",
       " 'woorden': 7,\n",
       " 'spreken!': 8,\n",
       " 'alles': 5,\n",
       " 'wat': 3,\n",
       " 'mag,': 4,\n",
       " 'hele': 4,\n",
       " 'dag,': 4,\n",
       " 'dag!': 4,\n",
       " 'kanapee': 7,\n",
       " 'vuile': 5,\n",
       " 'schoenen': 8,\n",
       " 'aldoor': 6,\n",
       " 'gillen:': 7,\n",
       " 'nee!': 4,\n",
       " 'melkboer': 8,\n",
       " 'mee': 3,\n",
       " 'paardje': 7,\n",
       " 'zoenen.': 7,\n",
       " 'dat': 3,\n",
       " 'is': 2,\n",
       " 'als': 3,\n",
       " 'ze': 2,\n",
       " 'kwaad': 5,\n",
       " 'ik:': 3,\n",
       " 'Bil!': 4}"
      ]
     },
     "execution_count": 48,
     "metadata": {},
     "output_type": "execute_result"
    }
   ],
   "source": [
    "#  De dict met voor elk uniek woord in `AMGS` zijn lengte.\n",
    "set(t)#De verzameling van alle unieke woorden in `AMGS`.\n",
    "{w:len(w) for w in t}"
   ]
  },
  {
   "cell_type": "code",
   "execution_count": 94,
   "metadata": {},
   "outputs": [
    {
     "data": {
      "text/plain": [
       "{'nee,': {'e'},\n",
       " 'ze': {'e'},\n",
       " 'vieze': {'e', 'i'},\n",
       " 'pas': {'a'},\n",
       " \"m'n\": set(),\n",
       " 'nooit': {'i', 'o'},\n",
       " 'hele': {'e'},\n",
       " 'met': {'e'},\n",
       " 'melkboer': {'e', 'o'},\n",
       " 'dat': {'a'},\n",
       " 'elke': {'e'},\n",
       " 'leven!': {'e'},\n",
       " 'stampen': {'a', 'e'},\n",
       " 'hou': {'o', 'u'},\n",
       " 'paardje': {'a', 'e'},\n",
       " 'tong': {'o'},\n",
       " 'jas': {'a'},\n",
       " 'ik': {'i'},\n",
       " 'meneer...': {'e'},\n",
       " 'kanapee': {'a', 'e'},\n",
       " 'handjes': {'a', 'e'},\n",
       " 'tandjes': {'a', 'e'},\n",
       " 'teil': {'e', 'i'},\n",
       " 'handen': {'a', 'e'},\n",
       " 'zijn,': {'i'},\n",
       " 'poetsen!': {'e', 'o'},\n",
       " 'nee!': {'e'},\n",
       " 'lekker': {'e'},\n",
       " 'de': {'e'},\n",
       " 'hard': {'a'},\n",
       " 'nieuwe': {'e', 'i', 'u'},\n",
       " 'uitsteken': {'e', 'i', 'u'},\n",
       " 'meer,': {'e'},\n",
       " 'op': {'o'},\n",
       " 'meer': {'e'},\n",
       " 'dan': {'a'},\n",
       " 'aldoor': {'a', 'o'},\n",
       " 'aardig': {'a', 'i'},\n",
       " 'zeg': {'e'},\n",
       " 'havermout,': {'a', 'e', 'o', 'u'},\n",
       " 'niet': {'e', 'i'},\n",
       " 'meer!': {'e'},\n",
       " 'mee': {'e'},\n",
       " 'alles': {'a', 'e'},\n",
       " 'wil': {'i'},\n",
       " 'morsen': {'e', 'o'},\n",
       " 'schipbreuk': {'e', 'i', 'u'},\n",
       " 'Bil!': {'i'},\n",
       " 'heel': {'e'},\n",
       " 'geen': {'e'},\n",
       " 'niks': {'i'},\n",
       " 'rug': {'u'},\n",
       " 'stout': {'o', 'u'},\n",
       " 'roetsen': {'e', 'o'},\n",
       " 'als': {'a'},\n",
       " 'het': {'e'},\n",
       " 'keer:': {'e'},\n",
       " 'knoeien': {'e', 'i', 'o'},\n",
       " 'En': {'E'},\n",
       " 'jawel': {'a', 'e'},\n",
       " 'leuning': {'e', 'i', 'u'},\n",
       " 'gillen:': {'e', 'i'},\n",
       " 'en': {'e'},\n",
       " 'spelen': {'e'},\n",
       " 'in': {'i'},\n",
       " 'maar': {'a'},\n",
       " 'Ik': {'I'},\n",
       " 'dag!': {'a'},\n",
       " 'plas': {'a'},\n",
       " 'zout,': {'o', 'u'},\n",
       " 'schoenen': {'e', 'o'},\n",
       " 'zeggen': {'e'},\n",
       " 'Jawel': {'a', 'e'},\n",
       " 'overmorgen': {'e', 'o'},\n",
       " 'zeil!': {'e', 'i'},\n",
       " 'twee': {'e'},\n",
       " 'weer': {'e'},\n",
       " 'vuile': {'e', 'i', 'u'},\n",
       " 'van': {'a'},\n",
       " 'zoenen.': {'e', 'o'},\n",
       " 'spugen': {'e', 'u'},\n",
       " 'spreken!': {'e'},\n",
       " 'dag,': {'a'},\n",
       " 'mevrouw,': {'e', 'o', 'u'},\n",
       " 'terug!': {'e', 'u'},\n",
       " 'ik:': {'i'},\n",
       " 'wat': {'a'},\n",
       " 'mag,': {'a'},\n",
       " 'is': {'i'},\n",
       " 'kwaad': {'a'},\n",
       " 'geven!': {'e'},\n",
       " 'een': {'e'},\n",
       " 'woorden': {'e', 'o'}}"
      ]
     },
     "execution_count": 94,
     "metadata": {},
     "output_type": "execute_result"
    }
   ],
   "source": [
    "# De dict met voor elk uniek woord, de verzameling klinkers in dat  woord.\n",
    "\n",
    "{w:{l for l in w if l in 'aeiou' or l in 'AEIOU' } \n",
    "    for w in set(t)} # verbeter hem zelf zodat hoofdletters ook mee worden genomen\n"
   ]
  },
  {
   "cell_type": "code",
   "execution_count": 95,
   "metadata": {},
   "outputs": [
    {
     "data": {
      "text/plain": [
       "{1: {'Ik', 'niet'},\n",
       " 2: {'meer,', 'wil'},\n",
       " 3: {'ik', 'niet'},\n",
       " 4: {'meer,', 'wil'},\n",
       " 5: {'ik', 'niet'},\n",
       " 6: {'meer!', 'wil'},\n",
       " 7: {'Ik', 'niet'},\n",
       " 8: {'meer!', 'wil'},\n",
       " 9: {'Ik', 'geen'},\n",
       " 10: {'handjes', 'wil'},\n",
       " 11: {'geen', 'geven!'},\n",
       " 12: {'Ik', 'handjes'},\n",
       " 13: {'geven!', 'wil'},\n",
       " 14: {'Ik', 'niet'},\n",
       " 15: {'wil', 'zeggen'},\n",
       " 16: {'elke', 'niet'},\n",
       " 17: {'keer:', 'zeggen'},\n",
       " 18: {'Jawel', 'elke'},\n",
       " 19: {'keer:', 'mevrouw,'},\n",
       " 20: {'Jawel', 'jawel'},\n",
       " 21: {'meneer...', 'mevrouw,'},\n",
       " 22: {'jawel', 'nee,'},\n",
       " 23: {'meneer...', 'nooit'},\n",
       " 24: {'meer', 'nee,'},\n",
       " 25: {'in', 'nooit'},\n",
       " 26: {\"m'n\", 'meer'},\n",
       " 27: {'in', 'leven!'},\n",
       " 28: {'Ik', \"m'n\"},\n",
       " 29: {'hou', 'leven!'},\n",
       " 30: {'Ik', \"m'n\"},\n",
       " 31: {'handen', 'hou'},\n",
       " 32: {\"m'n\", 'op'},\n",
       " 33: {'handen', \"m'n\"},\n",
       " 34: {'op', 'rug'},\n",
       " 35: {'en', \"m'n\"},\n",
       " 36: {'ik', 'rug'},\n",
       " 37: {'en', 'zeg'},\n",
       " 38: {'ik', 'lekker'},\n",
       " 39: {'niks', 'zeg'},\n",
       " 40: {'lekker', 'terug!'},\n",
       " 41: {'Ik', 'niks'},\n",
       " 42: {'terug!', 'wil'},\n",
       " 43: {'Ik', 'geen'},\n",
       " 44: {'vieze', 'wil'},\n",
       " 45: {'geen', 'havermout,'},\n",
       " 46: {'ik', 'vieze'},\n",
       " 47: {'havermout,', 'wil'},\n",
       " 48: {'geen', 'ik'},\n",
       " 49: {'tandjes', 'wil'},\n",
       " 50: {'geen', 'poetsen!'},\n",
       " 51: {'Ik', 'tandjes'},\n",
       " 52: {'poetsen!', 'wil'},\n",
       " 53: {'Ik', 'lekker'},\n",
       " 54: {'knoeien', 'wil'},\n",
       " 55: {'lekker', 'met'},\n",
       " 56: {'het', 'knoeien'},\n",
       " 57: {'met', 'zout,'},\n",
       " 58: {'het', 'ik'},\n",
       " 59: {'wil', 'zout,'},\n",
       " 60: {'ik', 'niet'},\n",
       " 61: {'aardig', 'wil'},\n",
       " 62: {'niet', 'zijn,'},\n",
       " 63: {'aardig', 'maar'},\n",
       " 64: {'stout', 'zijn,'},\n",
       " 65: {'en', 'maar'},\n",
       " 66: {'stout', 'van'},\n",
       " 67: {'de', 'en'},\n",
       " 68: {'leuning', 'van'},\n",
       " 69: {'de', 'roetsen'},\n",
       " 70: {'en', 'leuning'},\n",
       " 71: {'roetsen', 'schipbreuk'},\n",
       " 72: {'en', 'spelen'},\n",
       " 73: {'in', 'schipbreuk'},\n",
       " 74: {'de', 'spelen'},\n",
       " 75: {'in', 'teil'},\n",
       " 76: {'de', 'en'},\n",
       " 77: {'ik', 'teil'},\n",
       " 78: {'en', 'wil'},\n",
       " 79: {'ik', 'spugen'},\n",
       " 80: {'op', 'wil'},\n",
       " 81: {'het', 'spugen'},\n",
       " 82: {'op', 'zeil!'},\n",
       " 83: {'En', 'het'},\n",
       " 84: {'heel', 'zeil!'},\n",
       " 85: {'En', 'hard'},\n",
       " 86: {'heel', 'stampen'},\n",
       " 87: {'hard', 'in'},\n",
       " 88: {'een', 'stampen'},\n",
       " 89: {'in', 'plas'},\n",
       " 90: {'een', 'en'},\n",
       " 91: {'dan', 'plas'},\n",
       " 92: {'en', \"m'n\"},\n",
       " 93: {'dan', 'tong'},\n",
       " 94: {\"m'n\", 'uitsteken'},\n",
       " 95: {'en', 'tong'},\n",
       " 96: {'morsen', 'uitsteken'},\n",
       " 97: {'en', 'op'},\n",
       " 98: {\"m'n\", 'morsen'},\n",
       " 99: {'nieuwe', 'op'},\n",
       " 100: {'jas', \"m'n\"},\n",
       " 101: {'en', 'nieuwe'},\n",
       " 102: {'ik', 'jas'},\n",
       " 103: {'en', 'wil'},\n",
       " 104: {'ik', 'overmorgen'},\n",
       " 105: {'pas', 'wil'},\n",
       " 106: {'overmorgen', 'weer'},\n",
       " 107: {'met', 'pas'},\n",
       " 108: {'twee', 'weer'},\n",
       " 109: {'met', 'woorden'},\n",
       " 110: {'spreken!', 'twee'},\n",
       " 111: {'En', 'woorden'},\n",
       " 112: {'ik', 'spreken!'},\n",
       " 113: {'En', 'wil'},\n",
       " 114: {'alles', 'ik'},\n",
       " 115: {'wat', 'wil'},\n",
       " 116: {'alles', 'niet'},\n",
       " 117: {'mag,', 'wat'},\n",
       " 118: {'de', 'niet'},\n",
       " 119: {'hele', 'mag,'},\n",
       " 120: {'dag,', 'de'},\n",
       " 121: {'de', 'hele'},\n",
       " 122: {'dag,', 'hele'},\n",
       " 123: {'dag!', 'de'},\n",
       " 124: {'En', 'hele'},\n",
       " 125: {'dag!', 'ik'},\n",
       " 126: {'En', 'wil'},\n",
       " 127: {'ik', 'op'},\n",
       " 128: {'de', 'wil'},\n",
       " 129: {'kanapee', 'op'},\n",
       " 130: {'de', 'met'},\n",
       " 131: {'hele', 'kanapee'},\n",
       " 132: {'met', 'vuile'},\n",
       " 133: {'hele', 'schoenen'},\n",
       " 134: {'en', 'vuile'},\n",
       " 135: {'ik', 'schoenen'},\n",
       " 136: {'en', 'wil'},\n",
       " 137: {'aldoor', 'ik'},\n",
       " 138: {'gillen:', 'wil'},\n",
       " 139: {'aldoor', 'nee!'},\n",
       " 140: {'En', 'gillen:'},\n",
       " 141: {'ik', 'nee!'},\n",
       " 142: {'En', 'wil'},\n",
       " 143: {'ik', 'met'},\n",
       " 144: {'de', 'wil'},\n",
       " 145: {'melkboer', 'met'},\n",
       " 146: {'de', 'mee'},\n",
       " 147: {'en', 'melkboer'},\n",
       " 148: {'dan', 'mee'},\n",
       " 149: {'en', 'het'},\n",
       " 150: {'dan', 'paardje'},\n",
       " 151: {'het', 'zoenen.'},\n",
       " 152: {'En', 'paardje'},\n",
       " 153: {'dat', 'zoenen.'},\n",
       " 154: {'En', 'is'},\n",
       " 155: {'alles', 'dat'},\n",
       " 156: {'is', 'wat'},\n",
       " 157: {'alles', 'ik'},\n",
       " 158: {'wat', 'wil'},\n",
       " 159: {'en', 'ik'},\n",
       " 160: {'als', 'wil'},\n",
       " 161: {'en', 'ze'},\n",
       " 162: {'als', 'kwaad'},\n",
       " 163: {'ze', 'zijn,'},\n",
       " 164: {'kwaad', 'zeg'},\n",
       " 165: {'ik:', 'zijn,'},\n",
       " 166: {'Bil!', 'zeg'}}"
      ]
     },
     "execution_count": 95,
     "metadata": {},
     "output_type": "execute_result"
    }
   ],
   "source": [
    "#  De dict met voor elke positie in `AMGS`, de verzameling met het woord voor die positie  en het woord erna.\n",
    "\n",
    "{i:{t[i-1],t[i+1]} for i in range(1,len(t)-1)}"
   ]
  },
  {
   "cell_type": "code",
   "execution_count": 96,
   "metadata": {
    "deletable": false,
    "nbgrader": {
     "cell_type": "code",
     "checksum": "845a6ef560597deb9641ed04569e6737",
     "grade": false,
     "grade_id": "TRICKY",
     "locked": false,
     "schema_version": 3,
     "solution": true
    }
   },
   "outputs": [],
   "source": [
    "#  DE dict met voor elk woord de verzameling posities waar het voorkomt. Tricky maar leuk!    \n",
    "l=dict()\n"
   ]
  },
  {
   "cell_type": "code",
   "execution_count": null,
   "metadata": {},
   "outputs": [],
   "source": []
  }
 ],
 "metadata": {
  "anaconda-cloud": {},
  "hide_input": false,
  "kernelspec": {
   "display_name": "Python 3 (ipykernel)",
   "language": "python",
   "name": "python3"
  },
  "language_info": {
   "codemirror_mode": {
    "name": "ipython",
    "version": 3
   },
   "file_extension": ".py",
   "mimetype": "text/x-python",
   "name": "python",
   "nbconvert_exporter": "python",
   "pygments_lexer": "ipython3",
   "version": "3.9.12"
  },
  "toc": {
   "nav_menu": {},
   "number_sections": true,
   "sideBar": true,
   "skip_h1_title": false,
   "title_cell": "Table of Contents",
   "title_sidebar": "Contents",
   "toc_cell": false,
   "toc_position": {},
   "toc_section_display": true,
   "toc_window_display": false
  },
  "varInspector": {
   "cols": {
    "lenName": 16,
    "lenType": 16,
    "lenVar": 40
   },
   "kernels_config": {
    "python": {
     "delete_cmd_postfix": "",
     "delete_cmd_prefix": "del ",
     "library": "var_list.py",
     "varRefreshCmd": "print(var_dic_list())"
    },
    "r": {
     "delete_cmd_postfix": ") ",
     "delete_cmd_prefix": "rm(",
     "library": "var_list.r",
     "varRefreshCmd": "cat(var_dic_list()) "
    }
   },
   "types_to_exclude": [
    "module",
    "function",
    "builtin_function_or_method",
    "instance",
    "_Feature"
   ],
   "window_display": false
  }
 },
 "nbformat": 4,
 "nbformat_minor": 1
}
